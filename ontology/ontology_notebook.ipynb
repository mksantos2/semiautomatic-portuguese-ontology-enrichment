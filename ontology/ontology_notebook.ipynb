{
 "cells": [
  {
   "cell_type": "code",
   "metadata": {
    "tags": [],
    "cell_id": "00000-0136fcb8-cf04-4c08-ab64-89fb14480e9e",
    "deepnote_to_be_reexecuted": false,
    "source_hash": "6cdebf7c",
    "execution_start": 1620920509308,
    "execution_millis": 2858,
    "deepnote_cell_type": "code"
   },
   "source": "!pip install pronto",
   "execution_count": null,
   "outputs": [
    {
     "name": "stdout",
     "text": "Requirement already satisfied: pronto in /root/venv/lib/python3.7/site-packages (2.4.1)\nRequirement already satisfied: networkx~=2.3 in /root/venv/lib/python3.7/site-packages (from pronto) (2.5.1)\nRequirement already satisfied: fastobo~=0.10.0 in /root/venv/lib/python3.7/site-packages (from pronto) (0.10.1)\nRequirement already satisfied: python-dateutil~=2.8 in /shared-libs/python3.7/py-core/lib/python3.7/site-packages (from pronto) (2.8.1)\nRequirement already satisfied: chardet~=3.0 in /shared-libs/python3.7/py/lib/python3.7/site-packages (from pronto) (3.0.4)\nCollecting decorator<5,>=4.3\n  Using cached decorator-4.4.2-py2.py3-none-any.whl (9.2 kB)\nRequirement already satisfied: six>=1.5 in /shared-libs/python3.7/py-core/lib/python3.7/site-packages (from python-dateutil~=2.8->pronto) (1.16.0)\nInstalling collected packages: decorator\n  Attempting uninstall: decorator\n    Found existing installation: decorator 5.0.7\n    Not uninstalling decorator at /shared-libs/python3.7/py-core/lib/python3.7/site-packages, outside environment /root/venv\n    Can't uninstall 'decorator'. No files were found to uninstall.\nSuccessfully installed decorator-4.4.2\n",
     "output_type": "stream"
    }
   ]
  },
  {
   "cell_type": "code",
   "metadata": {
    "tags": [],
    "cell_id": "00001-bb29d2fc-a931-4ed3-9a76-0157f564d16e",
    "deepnote_to_be_reexecuted": false,
    "source_hash": "1bfb450a",
    "execution_start": 1620920512167,
    "execution_millis": 44,
    "deepnote_cell_type": "code"
   },
   "source": "from pronto import Ontology, Metadata, Term",
   "execution_count": null,
   "outputs": []
  },
  {
   "cell_type": "code",
   "metadata": {
    "tags": [],
    "cell_id": "00003-a85a542a-99a4-482d-a79a-1ee82c20bc23",
    "deepnote_to_be_reexecuted": false,
    "source_hash": "224bb71c",
    "execution_start": 1620920512211,
    "execution_millis": 147,
    "output_cleared": false,
    "deepnote_cell_type": "code"
   },
   "source": "stato = Ontology(\"/work/undergrad-thesis-project/ontology/ontology_pt.owl\")\nwith open(\"hoteis.obo\", \"wb\") as f:\n    stato.dump(f, format=\"obo\")",
   "execution_count": null,
   "outputs": [
    {
     "name": "stderr",
     "text": "/root/venv/lib/python3.7/site-packages/pronto/parsers/rdfxml.py:113: SyntaxWarning: unknown element in `owl:ObjectProperty`: <Element '{http://www.w3.org/2000/01/rdf-schema#}range' at 0x7f130756b8f0>\n  self._extract_object_property(prop, curies)\n/root/venv/lib/python3.7/site-packages/pronto/parsers/rdfxml.py:117: SyntaxWarning: several names found for 'http://www.semanticweb.org/ontologies/2010/3/hotel-15072010.owl#Accommodation', using 'Acomodação'\n  self._extract_term(class_, curies)\n/root/venv/lib/python3.7/site-packages/pronto/parsers/rdfxml.py:117: SyntaxWarning: several names found for 'http://www.semanticweb.org/ontologies/2010/3/hotel-15072010.owl#Address', using 'Endereço'\n  self._extract_term(class_, curies)\n/root/venv/lib/python3.7/site-packages/pronto/parsers/rdfxml.py:117: SyntaxWarning: several names found for 'http://www.semanticweb.org/ontologies/2010/3/hotel-15072010.owl#Ballroom', using 'Salão de Baile'\n  self._extract_term(class_, curies)\n/root/venv/lib/python3.7/site-packages/pronto/parsers/rdfxml.py:117: SyntaxWarning: several names found for 'http://www.semanticweb.org/ontologies/2010/3/hotel-15072010.owl#BathRobes', using 'Roupão'\n  self._extract_term(class_, curies)\n/root/venv/lib/python3.7/site-packages/pronto/parsers/rdfxml.py:117: SyntaxWarning: several names found for 'http://www.semanticweb.org/ontologies/2010/3/hotel-15072010.owl#BathRoomFacility', using 'Facilidades da Casa de Banho'\n  self._extract_term(class_, curies)\n/root/venv/lib/python3.7/site-packages/pronto/parsers/rdfxml.py:117: SyntaxWarning: several names found for 'http://www.semanticweb.org/ontologies/2010/3/hotel-15072010.owl#Bathroom', using 'Banheiro'\n  self._extract_term(class_, curies)\n/root/venv/lib/python3.7/site-packages/pronto/parsers/rdfxml.py:117: SyntaxWarning: several names found for 'http://www.semanticweb.org/ontologies/2010/3/hotel-15072010.owl#BicycleRental', using 'Aluguel de Bicicletas'\n  self._extract_term(class_, curies)\n/root/venv/lib/python3.7/site-packages/pronto/parsers/rdfxml.py:117: SyntaxWarning: several names found for 'http://www.semanticweb.org/ontologies/2010/3/hotel-15072010.owl#Breakfast', using 'Café da Manhã'\n  self._extract_term(class_, curies)\n/root/venv/lib/python3.7/site-packages/pronto/parsers/rdfxml.py:117: SyntaxWarning: several names found for 'http://www.semanticweb.org/ontologies/2010/3/hotel-15072010.owl#BreakfastPrice', using 'Preço do Café da Manhã'\n  self._extract_term(class_, curies)\n/root/venv/lib/python3.7/site-packages/pronto/parsers/rdfxml.py:117: SyntaxWarning: several names found for 'http://www.semanticweb.org/ontologies/2010/3/hotel-15072010.owl#BusStation', using 'Estação de Autocarros'\n  self._extract_term(class_, curies)\n/root/venv/lib/python3.7/site-packages/pronto/parsers/rdfxml.py:117: SyntaxWarning: several names found for 'http://www.semanticweb.org/ontologies/2010/3/hotel-15072010.owl#BusStop', using 'Parada de Ônibus'\n  self._extract_term(class_, curies)\n/root/venv/lib/python3.7/site-packages/pronto/parsers/rdfxml.py:117: SyntaxWarning: several names found for 'http://www.semanticweb.org/ontologies/2010/3/hotel-15072010.owl#CarRental', using 'Aluguel de Veículos'\n  self._extract_term(class_, curies)\n/root/venv/lib/python3.7/site-packages/pronto/parsers/rdfxml.py:117: SyntaxWarning: several names found for 'http://www.semanticweb.org/ontologies/2010/3/hotel-15072010.owl#Carpet', using 'Alcatifa'\n  self._extract_term(class_, curies)\n/root/venv/lib/python3.7/site-packages/pronto/parsers/rdfxml.py:117: SyntaxWarning: several names found for 'http://www.semanticweb.org/ontologies/2010/3/hotel-15072010.owl#CheckinService', using 'Recepção'\n  self._extract_term(class_, curies)\n/root/venv/lib/python3.7/site-packages/pronto/parsers/rdfxml.py:117: SyntaxWarning: several names found for 'http://www.semanticweb.org/ontologies/2010/3/hotel-15072010.owl#Facility', using 'Facilidade'\n  self._extract_term(class_, curies)\n/root/venv/lib/python3.7/site-packages/pronto/parsers/rdfxml.py:117: SyntaxWarning: several names found for 'http://www.semanticweb.org/ontologies/2010/3/hotel-15072010.owl#FamilyRoomWithBalcony', using 'Quarto Familiar Com Sacada'\n  self._extract_term(class_, curies)\n/root/venv/lib/python3.7/site-packages/pronto/parsers/rdfxml.py:117: SyntaxWarning: several names found for 'http://www.semanticweb.org/ontologies/2010/3/hotel-15072010.owl#FitnessCenter', using 'Gimnasio'\n  self._extract_term(class_, curies)\n/root/venv/lib/python3.7/site-packages/pronto/parsers/rdfxml.py:117: SyntaxWarning: several names found for 'http://www.semanticweb.org/ontologies/2010/3/hotel-15072010.owl#Gym', using 'Ginásio'\n  self._extract_term(class_, curies)\n/root/venv/lib/python3.7/site-packages/pronto/parsers/rdfxml.py:117: SyntaxWarning: several names found for 'http://www.semanticweb.org/ontologies/2010/3/hotel-15072010.owl#HydromassageJacuzzi', using 'Baño remolino'\n  self._extract_term(class_, curies)\n/root/venv/lib/python3.7/site-packages/pronto/parsers/rdfxml.py:117: SyntaxWarning: several names found for 'http://www.semanticweb.org/ontologies/2010/3/hotel-15072010.owl#Iron', using 'Ferro de Engomar'\n  self._extract_term(class_, curies)\n/root/venv/lib/python3.7/site-packages/pronto/parsers/rdfxml.py:117: SyntaxWarning: several names found for 'http://www.semanticweb.org/ontologies/2010/3/hotel-15072010.owl#IroningBoard', using 'Mesa de Passar Roupa'\n  self._extract_term(class_, curies)\n/root/venv/lib/python3.7/site-packages/pronto/parsers/rdfxml.py:117: SyntaxWarning: several names found for 'http://www.semanticweb.org/ontologies/2010/3/hotel-15072010.owl#LaundryRoom', using 'Cuarto de lavado'\n  self._extract_term(class_, curies)\n/root/venv/lib/python3.7/site-packages/pronto/parsers/rdfxml.py:117: SyntaxWarning: several names found for 'http://www.semanticweb.org/ontologies/2010/3/hotel-15072010.owl#LaundryService', using 'Servicios de lavandería'\n  self._extract_term(class_, curies)\n/root/venv/lib/python3.7/site-packages/pronto/parsers/rdfxml.py:117: SyntaxWarning: several names found for 'http://www.semanticweb.org/ontologies/2010/3/hotel-15072010.owl#Location', using 'Endereço'\n  self._extract_term(class_, curies)\n/root/venv/lib/python3.7/site-packages/pronto/parsers/rdfxml.py:117: SyntaxWarning: several names found for 'http://www.semanticweb.org/ontologies/2010/3/hotel-15072010.owl#Massage', using 'Masaje'\n  self._extract_term(class_, curies)\n/root/venv/lib/python3.7/site-packages/pronto/parsers/rdfxml.py:117: SyntaxWarning: several names found for 'http://www.semanticweb.org/ontologies/2010/3/hotel-15072010.owl#MeetingLounge', using 'Sala de reuniones'\n  self._extract_term(class_, curies)\n/root/venv/lib/python3.7/site-packages/pronto/parsers/rdfxml.py:117: SyntaxWarning: several names found for 'http://www.semanticweb.org/ontologies/2010/3/hotel-15072010.owl#Parking', using 'Estacionamento'\n  self._extract_term(class_, curies)\n/root/venv/lib/python3.7/site-packages/pronto/parsers/rdfxml.py:117: SyntaxWarning: several names found for 'http://www.semanticweb.org/ontologies/2010/3/hotel-15072010.owl#ParkingPrice', using 'Preço do Estacionamento'\n  self._extract_term(class_, curies)\n/root/venv/lib/python3.7/site-packages/pronto/parsers/rdfxml.py:117: SyntaxWarning: several names found for 'http://www.semanticweb.org/ontologies/2010/3/hotel-15072010.owl#Playground', using 'Parque Infantil'\n  self._extract_term(class_, curies)\n/root/venv/lib/python3.7/site-packages/pronto/parsers/rdfxml.py:117: SyntaxWarning: several names found for 'http://www.semanticweb.org/ontologies/2010/3/hotel-15072010.owl#Refrigerator', using 'Frigobar'\n  self._extract_term(class_, curies)\n/root/venv/lib/python3.7/site-packages/pronto/parsers/rdfxml.py:117: SyntaxWarning: several names found for 'http://www.semanticweb.org/ontologies/2010/3/hotel-15072010.owl#Sauna', using 'Sauna'\n  self._extract_term(class_, curies)\n/root/venv/lib/python3.7/site-packages/pronto/parsers/rdfxml.py:117: SyntaxWarning: several names found for 'http://www.semanticweb.org/ontologies/2010/3/hotel-15072010.owl#ShowerBath', using 'Chuveiro'\n  self._extract_term(class_, curies)\n/root/venv/lib/python3.7/site-packages/pronto/parsers/rdfxml.py:117: SyntaxWarning: several names found for 'http://www.semanticweb.org/ontologies/2010/3/hotel-15072010.owl#Sink', using 'Lavatório'\n  self._extract_term(class_, curies)\n/root/venv/lib/python3.7/site-packages/pronto/parsers/rdfxml.py:117: SyntaxWarning: several names found for 'http://www.semanticweb.org/ontologies/2010/3/hotel-15072010.owl#SmokingArea', using 'Área de Fumadores'\n  self._extract_term(class_, curies)\n/root/venv/lib/python3.7/site-packages/pronto/parsers/rdfxml.py:117: SyntaxWarning: several names found for 'http://www.semanticweb.org/ontologies/2010/3/hotel-15072010.owl#SoccerSquare', using 'Campo de fútbol'\n  self._extract_term(class_, curies)\n/root/venv/lib/python3.7/site-packages/pronto/parsers/rdfxml.py:117: SyntaxWarning: several names found for 'http://www.semanticweb.org/ontologies/2010/3/hotel-15072010.owl#SpaCentre', using 'Centro de spa'\n  self._extract_term(class_, curies)\n/root/venv/lib/python3.7/site-packages/pronto/parsers/rdfxml.py:117: SyntaxWarning: several names found for 'http://www.semanticweb.org/ontologies/2010/3/hotel-15072010.owl#Stair', using 'Escada'\n  self._extract_term(class_, curies)\n/root/venv/lib/python3.7/site-packages/pronto/parsers/rdfxml.py:117: SyntaxWarning: several names found for 'http://www.semanticweb.org/ontologies/2010/3/hotel-15072010.owl#SteamIron', using 'Ferro a Vapor'\n  self._extract_term(class_, curies)\n/root/venv/lib/python3.7/site-packages/pronto/parsers/rdfxml.py:117: SyntaxWarning: several names found for 'http://www.semanticweb.org/ontologies/2010/3/hotel-15072010.owl#TennisSquare', using 'Pista de tenis'\n  self._extract_term(class_, curies)\n/root/venv/lib/python3.7/site-packages/pronto/parsers/rdfxml.py:117: SyntaxWarning: several names found for 'http://www.semanticweb.org/ontologies/2010/3/hotel-15072010.owl#Terrace', using 'Sacada'\n  self._extract_term(class_, curies)\n/root/venv/lib/python3.7/site-packages/pronto/parsers/rdfxml.py:117: SyntaxWarning: several names found for 'http://www.semanticweb.org/ontologies/2010/3/hotel-15072010.owl#Toilet', using 'Casa de Banho'\n  self._extract_term(class_, curies)\n/root/venv/lib/python3.7/site-packages/pronto/parsers/rdfxml.py:117: SyntaxWarning: several names found for 'http://www.semanticweb.org/ontologies/2010/3/hotel-15072010.owl#TurkishBath', using 'Banho Turco'\n  self._extract_term(class_, curies)\n/root/venv/lib/python3.7/site-packages/pronto/parsers/rdfxml.py:117: SyntaxWarning: several names found for 'http://www.semanticweb.org/ontologies/2010/3/hotel-15072010.owl#TwinPrivateSharedBathroom', using 'Twin Privado com Banheiro Compartilhado'\n  self._extract_term(class_, curies)\n/root/venv/lib/python3.7/site-packages/pronto/parsers/rdfxml.py:117: SyntaxWarning: several names found for 'http://www.semanticweb.org/ontologies/2010/3/hotel-15072010.owl#Wardrobe', using 'Guarda-roupa'\n  self._extract_term(class_, curies)\n/root/venv/lib/python3.7/site-packages/pronto/parsers/rdfxml.py:117: SyntaxWarning: several names found for 'http://www.semanticweb.org/ontologies/2010/3/hotel-15072010.owl#Wi-FiZone', using 'Rede Sem Fio'\n  self._extract_term(class_, curies)\n",
     "output_type": "stream"
    }
   ]
  },
  {
   "cell_type": "code",
   "metadata": {
    "tags": [],
    "cell_id": "00004-44a3a2fc-d779-4058-be89-2a7b539a8bc2",
    "deepnote_to_be_reexecuted": false,
    "source_hash": "a543851f",
    "execution_start": 1620920512356,
    "execution_millis": 243,
    "deepnote_cell_type": "code"
   },
   "source": "obo = Ontology(\"/work/hoteis.obo\")",
   "execution_count": null,
   "outputs": [
    {
     "name": "stderr",
     "text": "/shared-libs/python3.7/py-core/lib/python3.7/site-packages/ipykernel_launcher.py:1: UnicodeWarning: unsound encoding, assuming utf-8 (99% confidence)\n  \"\"\"Entry point for launching an IPython kernel.\n",
     "output_type": "stream"
    }
   ]
  },
  {
   "cell_type": "markdown",
   "source": "## Relations",
   "metadata": {
    "tags": [],
    "cell_id": "00004-beaa715c-1b44-4059-b074-902fb2cdd7e6",
    "deepnote_cell_type": "text-cell-h2"
   }
  },
  {
   "cell_type": "code",
   "metadata": {
    "tags": [],
    "cell_id": "00004-5c01a235-119d-40f9-ae4e-7a7be939070d",
    "deepnote_to_be_reexecuted": false,
    "source_hash": "6f0add11",
    "execution_start": 1620920512597,
    "execution_millis": 19,
    "deepnote_cell_type": "code"
   },
   "source": "for relation in obo.relationships():\n    print(relation)",
   "execution_count": null,
   "outputs": [
    {
     "name": "stdout",
     "text": "Relationship('http://www.semanticweb.org/ontologies/2010/3/hotel-15072010.owl#belongsTo')\nRelationship('http://www.semanticweb.org/ontologies/2010/3/hotel-15072010.owl#hasCategory')\nRelationship('http://www.semanticweb.org/ontologies/2010/3/hotel-15072010.owl#hasCountryOfOrigin')\nRelationship('http://www.semanticweb.org/ontologies/2010/3/hotel-15072010.owl#hasDistanceTo')\nRelationship('http://www.semanticweb.org/ontologies/2010/3/hotel-15072010.owl#hasLaundry')\nRelationship('http://www.semanticweb.org/ontologies/2010/3/hotel-15072010.owl#hasPostalAddress')\nRelationship('http://www.semanticweb.org/ontologies/2010/3/hotel-15072010.owl#hasRoom')\nRelationship('http://www.semanticweb.org/ontologies/2010/3/hotel-15072010.owl#offersMeetingFacility')\n",
     "output_type": "stream"
    }
   ]
  },
  {
   "cell_type": "code",
   "metadata": {
    "tags": [],
    "cell_id": "00005-63f4d163-bc63-49f7-85a7-d6696a57ac8c",
    "deepnote_to_be_reexecuted": false,
    "source_hash": "221f686f",
    "execution_start": 1620920512607,
    "execution_millis": 9,
    "output_cleared": false,
    "deepnote_cell_type": "code"
   },
   "source": "print('numero de items(tudo): ', len(obo.items()))\nprint('numero de classes(tirando as do primeirop galho):', len(obo.terms()))",
   "execution_count": null,
   "outputs": [
    {
     "name": "stdout",
     "text": "numero de items(tudo):  272\nnumero de classes(tirando as do primeirop galho): 264\n",
     "output_type": "stream"
    }
   ]
  },
  {
   "cell_type": "markdown",
   "source": "### is-a Relation extraction",
   "metadata": {
    "tags": [],
    "cell_id": "00007-33f279ed-a70e-404e-9260-00d12925eb2e",
    "deepnote_cell_type": "text-cell-h3"
   }
  },
  {
   "cell_type": "markdown",
   "source": "table :\n\nterm1 , term2, hypernym (where term1 is subclass of term2)",
   "metadata": {
    "tags": [],
    "cell_id": "00008-718b7691-7bd6-4b78-b6cc-01c7e7bbfa99",
    "deepnote_cell_type": "markdown"
   }
  },
  {
   "cell_type": "markdown",
   "source": "try to use https://pypi.org/project/obonet/",
   "metadata": {
    "tags": [],
    "cell_id": "00009-a31d4c42-9137-4ab9-9e67-9f9aa91e95e6",
    "deepnote_cell_type": "markdown"
   }
  },
  {
   "cell_type": "markdown",
   "source": "### Subclasses -&gt; hypernym relation",
   "metadata": {
    "tags": [],
    "cell_id": "00010-3facb470-f19c-4fdd-a256-06a6f73772e3",
    "deepnote_cell_type": "text-cell-h3"
   }
  },
  {
   "cell_type": "markdown",
   "source": "falta: subclasses Redes de hotéis",
   "metadata": {
    "tags": [],
    "cell_id": "00011-db0023f4-5e96-4aea-8c49-03f006b5e7d2",
    "deepnote_cell_type": "markdown"
   }
  },
  {
   "cell_type": "code",
   "metadata": {
    "tags": [],
    "cell_id": "00011-82b613f2-4679-4e02-8d8f-17274f9799e5",
    "deepnote_to_be_reexecuted": false,
    "source_hash": "b7dcc9c8",
    "execution_start": 1620920512613,
    "execution_millis": 3,
    "deepnote_cell_type": "code"
   },
   "source": "import numpy as np\nimport pandas as pd",
   "execution_count": null,
   "outputs": []
  },
  {
   "cell_type": "code",
   "metadata": {
    "tags": [],
    "cell_id": "00011-4d5c572f-c6da-4591-bb9c-96dd28e2c3da",
    "deepnote_to_be_reexecuted": false,
    "source_hash": "a470666f",
    "execution_start": 1620920512631,
    "execution_millis": 0,
    "deepnote_cell_type": "code"
   },
   "source": "## getting the terms of floor 1 DONE (menos rede de hoteis)\n\n#moni do futuro: nao perca tempo e faça tudo a mão!\n\nfirst_floor = ['http://www.semanticweb.org/ontologies/2010/3/hotel-15072010.owl#Accommodation', \n                'http://www.semanticweb.org/ontologies/2010/3/hotel-15072010.owl#Design', \n                'http://www.semanticweb.org/ontologies/2010/3/hotel-15072010.owl#Rating', \n                'http://www.semanticweb.org/ontologies/2010/3/hotel-15072010.owl#Address', \n                'http://www.semanticweb.org/ontologies/2010/3/hotel-15072010.owl#Location',\n                'http://www.semanticweb.org/ontologies/2010/3/hotel-15072010.owl#Facility', \n                'http://www.semanticweb.org/ontologies/2010/3/hotel-15072010.owl#Timetable', \n                'http://www.semanticweb.org/ontologies/2010/3/hotel-15072010.owl#Hospitality', \n                'http://www.semanticweb.org/ontologies/2010/3/hotel-15072010.owl#PointsOfInterest', \n                'http://www.semanticweb.org/ontologies/2010/3/hotel-15072010.owl#Price', \n                'http://www.semanticweb.org/ontologies/2010/3/hotel-15072010.owl#Staff', \n                'http://www.semanticweb.org/ontologies/2010/3/hotel-15072010.owl#Room', \n                'http://www.semanticweb.org/ontologies/2010/3/hotel-15072010.owl#HotelChain', \n                'http://www.semanticweb.org/ontologies/2010/3/hotel-15072010.owl#Meal', \n                'http://www.semanticweb.org/ontologies/2010/3/hotel-15072010.owl#Service', \n                'http://www.semanticweb.org/ontologies/2010/3/hotel-15072010.owl#GuestType']",
   "execution_count": null,
   "outputs": []
  },
  {
   "cell_type": "code",
   "metadata": {
    "tags": [],
    "cell_id": "00015-03902481-9bf5-46db-a52e-8f9e83d93a99",
    "deepnote_to_be_reexecuted": false,
    "source_hash": "df3c2e82",
    "execution_start": 1620920512631,
    "execution_millis": 1,
    "deepnote_cell_type": "code"
   },
   "source": "\n## getting the terms of floor 2 DONEEE\n#moni do futuro: nao perca tempo e faça tudo a mão!\n\nsecond_floor = ['http://www.semanticweb.org/ontologies/2010/3/hotel-15072010.owl#Hotel', \n                'http://www.semanticweb.org/ontologies/2010/3/hotel-15072010.owl#RoomFacility', \n                'http://www.semanticweb.org/ontologies/2010/3/hotel-15072010.owl#BathRoomFacility', \n                'http://www.semanticweb.org/ontologies/2010/3/hotel-15072010.owl#ExternalFacility', \n                'http://www.semanticweb.org/ontologies/2010/3/hotel-15072010.owl#InternalFacility',\n                'http://www.semanticweb.org/ontologies/2010/3/hotel-15072010.owl#HostelRoom', \n                'http://www.semanticweb.org/ontologies/2010/3/hotel-15072010.owl#HotelRoom', \n                'http://www.semanticweb.org/ontologies/2010/3/hotel-15072010.owl#ApartmentRoom', \n                'http://www.semanticweb.org/ontologies/2010/3/hotel-15072010.owl#Couple', \n                'http://www.semanticweb.org/ontologies/2010/3/hotel-15072010.owl#Family']",
   "execution_count": null,
   "outputs": []
  },
  {
   "cell_type": "code",
   "metadata": {
    "tags": [],
    "cell_id": "00016-ea782cb4-2dd1-48e6-a348-96c9ea45a0ec",
    "deepnote_to_be_reexecuted": false,
    "source_hash": "5f27df11",
    "execution_start": 1620920512632,
    "execution_millis": 2,
    "deepnote_cell_type": "code"
   },
   "source": "## getting the terms of floor 3\n\n#moni do futuro: nao perca tempo e faça tudo a mão!\n\nthird_floor = ['http://www.semanticweb.org/ontologies/2010/3/hotel-15072010.owl#Kettle', \n                'http://www.semanticweb.org/ontologies/2010/3/hotel-15072010.owl#Iron', \n                'http://www.semanticweb.org/ontologies/2010/3/hotel-15072010.owl#Square', \n                'http://www.semanticweb.org/ontologies/2010/3/hotel-15072010.owl#SpaCentre', \n                'http://www.semanticweb.org/ontologies/2010/3/hotel-15072010.owl#Laundry',\n                'http://www.semanticweb.org/ontologies/2010/3/hotel-15072010.owl#Meeting', \n                'http://www.semanticweb.org/ontologies/2010/3/hotel-15072010.owl#HotelCategory', \n                'http://www.semanticweb.org/ontologies/2010/3/hotel-15072010.owl#FamilyRoom'] ",
   "execution_count": null,
   "outputs": []
  },
  {
   "cell_type": "code",
   "metadata": {
    "tags": [],
    "cell_id": "00012-a0486db5-67b4-4fc0-a3d1-f7cb3647df76",
    "deepnote_to_be_reexecuted": false,
    "source_hash": "dc966986",
    "execution_start": 1620920512682,
    "execution_millis": 0,
    "deepnote_cell_type": "code"
   },
   "source": "labels =['term1', 'term2', 'relation']\n\n\n",
   "execution_count": null,
   "outputs": []
  },
  {
   "cell_type": "code",
   "metadata": {
    "tags": [],
    "cell_id": "00012-93c1acfe-3a48-465f-8f83-ed5f6e7e89c8",
    "deepnote_to_be_reexecuted": false,
    "source_hash": "48441524",
    "execution_start": 1620920512682,
    "execution_millis": 22,
    "deepnote_cell_type": "code"
   },
   "source": "df=  pd.DataFrame(columns = labels) #done\nterm = obo[third_floor[7]]\n\nif ((term.is_leaf()) == False):\n    instruments = term.subclasses(distance= 1).to_set()\n    for x in instruments:\n        #data.append(x.name)\n        #print(x.name)\n        series_obj = pd.Series( [x.name, 'Quarto Familiar', 'hypo'], index=df.columns )\n        # Add a series as a row to the dataframe  \n        df = df.append( series_obj, ignore_index=True)\n        \n\ndf.head()",
   "execution_count": null,
   "outputs": [
    {
     "output_type": "execute_result",
     "execution_count": 12,
     "data": {
      "application/vnd.deepnote.dataframe.v2+json": {
       "row_count": 4,
       "column_count": 3,
       "columns": [
        {
         "name": "term1",
         "dtype": "object",
         "stats": {
          "unique_count": 4,
          "nan_count": 0,
          "categories": [
           {
            "name": "Quarto Familiar",
            "count": 1
           },
           {
            "name": "Suite Familiar Júnior com Vista para o Mar",
            "count": 1
           },
           {
            "name": "2 others",
            "count": 2
           }
          ]
         }
        },
        {
         "name": "term2",
         "dtype": "object",
         "stats": {
          "unique_count": 1,
          "nan_count": 0,
          "categories": [
           {
            "name": "Quarto Familiar",
            "count": 4
           }
          ]
         }
        },
        {
         "name": "relation",
         "dtype": "object",
         "stats": {
          "unique_count": 1,
          "nan_count": 0,
          "categories": [
           {
            "name": "hypo",
            "count": 4
           }
          ]
         }
        },
        {
         "name": "_deepnote_index_column",
         "dtype": "int64"
        }
       ],
       "rows_top": [
        {
         "term1": "Quarto Familiar",
         "term2": "Quarto Familiar",
         "relation": "hypo",
         "_deepnote_index_column": 0
        },
        {
         "term1": "Suite Familiar Júnior com Vista para o Mar",
         "term2": "Quarto Familiar",
         "relation": "hypo",
         "_deepnote_index_column": 1
        },
        {
         "term1": "Quarto Familiar Com Sacada",
         "term2": "Quarto Familiar",
         "relation": "hypo",
         "_deepnote_index_column": 2
        },
        {
         "term1": "Suite Familiar com Vista para o Mar",
         "term2": "Quarto Familiar",
         "relation": "hypo",
         "_deepnote_index_column": 3
        }
       ],
       "rows_bottom": null
      },
      "text/plain": "                                        term1            term2 relation\n0                             Quarto Familiar  Quarto Familiar     hypo\n1  Suite Familiar Júnior com Vista para o Mar  Quarto Familiar     hypo\n2                  Quarto Familiar Com Sacada  Quarto Familiar     hypo\n3         Suite Familiar com Vista para o Mar  Quarto Familiar     hypo",
      "text/html": "<div>\n<style scoped>\n    .dataframe tbody tr th:only-of-type {\n        vertical-align: middle;\n    }\n\n    .dataframe tbody tr th {\n        vertical-align: top;\n    }\n\n    .dataframe thead th {\n        text-align: right;\n    }\n</style>\n<table border=\"1\" class=\"dataframe\">\n  <thead>\n    <tr style=\"text-align: right;\">\n      <th></th>\n      <th>term1</th>\n      <th>term2</th>\n      <th>relation</th>\n    </tr>\n  </thead>\n  <tbody>\n    <tr>\n      <th>0</th>\n      <td>Quarto Familiar</td>\n      <td>Quarto Familiar</td>\n      <td>hypo</td>\n    </tr>\n    <tr>\n      <th>1</th>\n      <td>Suite Familiar Júnior com Vista para o Mar</td>\n      <td>Quarto Familiar</td>\n      <td>hypo</td>\n    </tr>\n    <tr>\n      <th>2</th>\n      <td>Quarto Familiar Com Sacada</td>\n      <td>Quarto Familiar</td>\n      <td>hypo</td>\n    </tr>\n    <tr>\n      <th>3</th>\n      <td>Suite Familiar com Vista para o Mar</td>\n      <td>Quarto Familiar</td>\n      <td>hypo</td>\n    </tr>\n  </tbody>\n</table>\n</div>"
     },
     "metadata": {}
    }
   ]
  },
  {
   "cell_type": "code",
   "metadata": {
    "tags": [],
    "cell_id": "00015-2e07866f-eb12-4c45-9351-758ca05ea6cb",
    "deepnote_to_be_reexecuted": false,
    "source_hash": "2cf53494",
    "execution_start": 1620920512706,
    "execution_millis": 6,
    "deepnote_cell_type": "code"
   },
   "source": "ontologyDataset = pd.DataFrame(columns = labels) ",
   "execution_count": null,
   "outputs": []
  },
  {
   "cell_type": "code",
   "metadata": {
    "tags": [],
    "cell_id": "00015-173c9896-bf91-44ea-ab42-d735c3064681",
    "deepnote_to_be_reexecuted": false,
    "source_hash": "eaaf899",
    "execution_start": 1620920512718,
    "execution_millis": 1938470,
    "deepnote_cell_type": "code"
   },
   "source": "\nontologyDataset= pd.concat([ontologyDataset, df])\nontologyDataset.head()\n\nlen(ontologyDataset)",
   "execution_count": null,
   "outputs": [
    {
     "output_type": "execute_result",
     "execution_count": 14,
     "data": {
      "text/plain": "4"
     },
     "metadata": {}
    }
   ]
  },
  {
   "cell_type": "code",
   "metadata": {
    "tags": [],
    "cell_id": "00018-6dd7130d-13e2-48a1-9a6c-a22788e1a2a9",
    "deepnote_to_be_reexecuted": false,
    "source_hash": "7a0764bf",
    "execution_start": 1620920512778,
    "execution_millis": 1938434,
    "deepnote_cell_type": "code"
   },
   "source": "#ontologyDataset.to_csv (r'./ontology_dataset.csv', index = False, header=True)",
   "execution_count": null,
   "outputs": []
  },
  {
   "cell_type": "code",
   "metadata": {
    "tags": [],
    "cell_id": "00010-dfc23a13-40b3-4bfc-90b0-97f29d843d50",
    "deepnote_to_be_reexecuted": false,
    "source_hash": "452a75c3",
    "execution_start": 1620920512779,
    "execution_millis": 1304,
    "deepnote_cell_type": "code"
   },
   "source": "\nfor term in obo.terms():\n    data = list(obo[term.id].objects(obo.get_relationship('http://www.semanticweb.org/ontologies/2010/3/hotel-15072010.owl#belongsTo')))",
   "execution_count": null,
   "outputs": [
    {
     "name": "stderr",
     "text": "/shared-libs/python3.7/py-core/lib/python3.7/site-packages/ipykernel_launcher.py:2: NotImplementedWarning: `Term.objects` is not semantically correct, most of the logic rules have not been implemented. Consider using an actual reasoner instead.\n  \n",
     "output_type": "stream"
    }
   ]
  },
  {
   "cell_type": "code",
   "metadata": {
    "tags": [],
    "cell_id": "00022-2c7dc6bc-c88d-43ce-8202-52aada4344d7",
    "deepnote_to_be_reexecuted": false,
    "source_hash": "21c98fbc",
    "execution_start": 1620920514084,
    "execution_millis": 185,
    "deepnote_cell_type": "code"
   },
   "source": "data1 = pd.read_csv('/work/lvl1_ontology_dataset.csv')\n",
   "execution_count": null,
   "outputs": [
    {
     "output_type": "error",
     "ename": "FileNotFoundError",
     "evalue": "[Errno 2] No such file or directory: '/work/lvl1_ontology_dataset.csv'",
     "traceback": [
      "\u001b[0;31m---------------------------------------------------------------------------\u001b[0m",
      "\u001b[0;31mFileNotFoundError\u001b[0m                         Traceback (most recent call last)",
      "\u001b[0;32m<ipython-input-17-d6bc3ae1b707>\u001b[0m in \u001b[0;36m<module>\u001b[0;34m\u001b[0m\n\u001b[0;32m----> 1\u001b[0;31m \u001b[0mdata1\u001b[0m \u001b[0;34m=\u001b[0m \u001b[0mpd\u001b[0m\u001b[0;34m.\u001b[0m\u001b[0mread_csv\u001b[0m\u001b[0;34m(\u001b[0m\u001b[0;34m'/work/lvl1_ontology_dataset.csv'\u001b[0m\u001b[0;34m)\u001b[0m\u001b[0;34m\u001b[0m\u001b[0;34m\u001b[0m\u001b[0m\n\u001b[0m",
      "\u001b[0;32m/shared-libs/python3.7/py/lib/python3.7/site-packages/pandas/io/parsers.py\u001b[0m in \u001b[0;36mread_csv\u001b[0;34m(filepath_or_buffer, sep, delimiter, header, names, index_col, usecols, squeeze, prefix, mangle_dupe_cols, dtype, engine, converters, true_values, false_values, skipinitialspace, skiprows, skipfooter, nrows, na_values, keep_default_na, na_filter, verbose, skip_blank_lines, parse_dates, infer_datetime_format, keep_date_col, date_parser, dayfirst, cache_dates, iterator, chunksize, compression, thousands, decimal, lineterminator, quotechar, quoting, doublequote, escapechar, comment, encoding, dialect, error_bad_lines, warn_bad_lines, delim_whitespace, low_memory, memory_map, float_precision, storage_options)\u001b[0m\n\u001b[1;32m    608\u001b[0m     \u001b[0mkwds\u001b[0m\u001b[0;34m.\u001b[0m\u001b[0mupdate\u001b[0m\u001b[0;34m(\u001b[0m\u001b[0mkwds_defaults\u001b[0m\u001b[0;34m)\u001b[0m\u001b[0;34m\u001b[0m\u001b[0;34m\u001b[0m\u001b[0m\n\u001b[1;32m    609\u001b[0m \u001b[0;34m\u001b[0m\u001b[0m\n\u001b[0;32m--> 610\u001b[0;31m     \u001b[0;32mreturn\u001b[0m \u001b[0m_read\u001b[0m\u001b[0;34m(\u001b[0m\u001b[0mfilepath_or_buffer\u001b[0m\u001b[0;34m,\u001b[0m \u001b[0mkwds\u001b[0m\u001b[0;34m)\u001b[0m\u001b[0;34m\u001b[0m\u001b[0;34m\u001b[0m\u001b[0m\n\u001b[0m\u001b[1;32m    611\u001b[0m \u001b[0;34m\u001b[0m\u001b[0m\n\u001b[1;32m    612\u001b[0m \u001b[0;34m\u001b[0m\u001b[0m\n",
      "\u001b[0;32m/shared-libs/python3.7/py/lib/python3.7/site-packages/pandas/io/parsers.py\u001b[0m in \u001b[0;36m_read\u001b[0;34m(filepath_or_buffer, kwds)\u001b[0m\n\u001b[1;32m    460\u001b[0m \u001b[0;34m\u001b[0m\u001b[0m\n\u001b[1;32m    461\u001b[0m     \u001b[0;31m# Create the parser.\u001b[0m\u001b[0;34m\u001b[0m\u001b[0;34m\u001b[0m\u001b[0;34m\u001b[0m\u001b[0m\n\u001b[0;32m--> 462\u001b[0;31m     \u001b[0mparser\u001b[0m \u001b[0;34m=\u001b[0m \u001b[0mTextFileReader\u001b[0m\u001b[0;34m(\u001b[0m\u001b[0mfilepath_or_buffer\u001b[0m\u001b[0;34m,\u001b[0m \u001b[0;34m**\u001b[0m\u001b[0mkwds\u001b[0m\u001b[0;34m)\u001b[0m\u001b[0;34m\u001b[0m\u001b[0;34m\u001b[0m\u001b[0m\n\u001b[0m\u001b[1;32m    463\u001b[0m \u001b[0;34m\u001b[0m\u001b[0m\n\u001b[1;32m    464\u001b[0m     \u001b[0;32mif\u001b[0m \u001b[0mchunksize\u001b[0m \u001b[0;32mor\u001b[0m \u001b[0miterator\u001b[0m\u001b[0;34m:\u001b[0m\u001b[0;34m\u001b[0m\u001b[0;34m\u001b[0m\u001b[0m\n",
      "\u001b[0;32m/shared-libs/python3.7/py/lib/python3.7/site-packages/pandas/io/parsers.py\u001b[0m in \u001b[0;36m__init__\u001b[0;34m(self, f, engine, **kwds)\u001b[0m\n\u001b[1;32m    817\u001b[0m             \u001b[0mself\u001b[0m\u001b[0;34m.\u001b[0m\u001b[0moptions\u001b[0m\u001b[0;34m[\u001b[0m\u001b[0;34m\"has_index_names\"\u001b[0m\u001b[0;34m]\u001b[0m \u001b[0;34m=\u001b[0m \u001b[0mkwds\u001b[0m\u001b[0;34m[\u001b[0m\u001b[0;34m\"has_index_names\"\u001b[0m\u001b[0;34m]\u001b[0m\u001b[0;34m\u001b[0m\u001b[0;34m\u001b[0m\u001b[0m\n\u001b[1;32m    818\u001b[0m \u001b[0;34m\u001b[0m\u001b[0m\n\u001b[0;32m--> 819\u001b[0;31m         \u001b[0mself\u001b[0m\u001b[0;34m.\u001b[0m\u001b[0m_engine\u001b[0m \u001b[0;34m=\u001b[0m \u001b[0mself\u001b[0m\u001b[0;34m.\u001b[0m\u001b[0m_make_engine\u001b[0m\u001b[0;34m(\u001b[0m\u001b[0mself\u001b[0m\u001b[0;34m.\u001b[0m\u001b[0mengine\u001b[0m\u001b[0;34m)\u001b[0m\u001b[0;34m\u001b[0m\u001b[0;34m\u001b[0m\u001b[0m\n\u001b[0m\u001b[1;32m    820\u001b[0m \u001b[0;34m\u001b[0m\u001b[0m\n\u001b[1;32m    821\u001b[0m     \u001b[0;32mdef\u001b[0m \u001b[0mclose\u001b[0m\u001b[0;34m(\u001b[0m\u001b[0mself\u001b[0m\u001b[0;34m)\u001b[0m\u001b[0;34m:\u001b[0m\u001b[0;34m\u001b[0m\u001b[0;34m\u001b[0m\u001b[0m\n",
      "\u001b[0;32m/shared-libs/python3.7/py/lib/python3.7/site-packages/pandas/io/parsers.py\u001b[0m in \u001b[0;36m_make_engine\u001b[0;34m(self, engine)\u001b[0m\n\u001b[1;32m   1048\u001b[0m             )\n\u001b[1;32m   1049\u001b[0m         \u001b[0;31m# error: Too many arguments for \"ParserBase\"\u001b[0m\u001b[0;34m\u001b[0m\u001b[0;34m\u001b[0m\u001b[0;34m\u001b[0m\u001b[0m\n\u001b[0;32m-> 1050\u001b[0;31m         \u001b[0;32mreturn\u001b[0m \u001b[0mmapping\u001b[0m\u001b[0;34m[\u001b[0m\u001b[0mengine\u001b[0m\u001b[0;34m]\u001b[0m\u001b[0;34m(\u001b[0m\u001b[0mself\u001b[0m\u001b[0;34m.\u001b[0m\u001b[0mf\u001b[0m\u001b[0;34m,\u001b[0m \u001b[0;34m**\u001b[0m\u001b[0mself\u001b[0m\u001b[0;34m.\u001b[0m\u001b[0moptions\u001b[0m\u001b[0;34m)\u001b[0m  \u001b[0;31m# type: ignore[call-arg]\u001b[0m\u001b[0;34m\u001b[0m\u001b[0;34m\u001b[0m\u001b[0m\n\u001b[0m\u001b[1;32m   1051\u001b[0m \u001b[0;34m\u001b[0m\u001b[0m\n\u001b[1;32m   1052\u001b[0m     \u001b[0;32mdef\u001b[0m \u001b[0m_failover_to_python\u001b[0m\u001b[0;34m(\u001b[0m\u001b[0mself\u001b[0m\u001b[0;34m)\u001b[0m\u001b[0;34m:\u001b[0m\u001b[0;34m\u001b[0m\u001b[0;34m\u001b[0m\u001b[0m\n",
      "\u001b[0;32m/shared-libs/python3.7/py/lib/python3.7/site-packages/pandas/io/parsers.py\u001b[0m in \u001b[0;36m__init__\u001b[0;34m(self, src, **kwds)\u001b[0m\n\u001b[1;32m   1865\u001b[0m \u001b[0;34m\u001b[0m\u001b[0m\n\u001b[1;32m   1866\u001b[0m         \u001b[0;31m# open handles\u001b[0m\u001b[0;34m\u001b[0m\u001b[0;34m\u001b[0m\u001b[0;34m\u001b[0m\u001b[0m\n\u001b[0;32m-> 1867\u001b[0;31m         \u001b[0mself\u001b[0m\u001b[0;34m.\u001b[0m\u001b[0m_open_handles\u001b[0m\u001b[0;34m(\u001b[0m\u001b[0msrc\u001b[0m\u001b[0;34m,\u001b[0m \u001b[0mkwds\u001b[0m\u001b[0;34m)\u001b[0m\u001b[0;34m\u001b[0m\u001b[0;34m\u001b[0m\u001b[0m\n\u001b[0m\u001b[1;32m   1868\u001b[0m         \u001b[0;32massert\u001b[0m \u001b[0mself\u001b[0m\u001b[0;34m.\u001b[0m\u001b[0mhandles\u001b[0m \u001b[0;32mis\u001b[0m \u001b[0;32mnot\u001b[0m \u001b[0;32mNone\u001b[0m\u001b[0;34m\u001b[0m\u001b[0;34m\u001b[0m\u001b[0m\n\u001b[1;32m   1869\u001b[0m         \u001b[0;32mfor\u001b[0m \u001b[0mkey\u001b[0m \u001b[0;32min\u001b[0m \u001b[0;34m(\u001b[0m\u001b[0;34m\"storage_options\"\u001b[0m\u001b[0;34m,\u001b[0m \u001b[0;34m\"encoding\"\u001b[0m\u001b[0;34m,\u001b[0m \u001b[0;34m\"memory_map\"\u001b[0m\u001b[0;34m,\u001b[0m \u001b[0;34m\"compression\"\u001b[0m\u001b[0;34m)\u001b[0m\u001b[0;34m:\u001b[0m\u001b[0;34m\u001b[0m\u001b[0;34m\u001b[0m\u001b[0m\n",
      "\u001b[0;32m/shared-libs/python3.7/py/lib/python3.7/site-packages/pandas/io/parsers.py\u001b[0m in \u001b[0;36m_open_handles\u001b[0;34m(self, src, kwds)\u001b[0m\n\u001b[1;32m   1366\u001b[0m             \u001b[0mcompression\u001b[0m\u001b[0;34m=\u001b[0m\u001b[0mkwds\u001b[0m\u001b[0;34m.\u001b[0m\u001b[0mget\u001b[0m\u001b[0;34m(\u001b[0m\u001b[0;34m\"compression\"\u001b[0m\u001b[0;34m,\u001b[0m \u001b[0;32mNone\u001b[0m\u001b[0;34m)\u001b[0m\u001b[0;34m,\u001b[0m\u001b[0;34m\u001b[0m\u001b[0;34m\u001b[0m\u001b[0m\n\u001b[1;32m   1367\u001b[0m             \u001b[0mmemory_map\u001b[0m\u001b[0;34m=\u001b[0m\u001b[0mkwds\u001b[0m\u001b[0;34m.\u001b[0m\u001b[0mget\u001b[0m\u001b[0;34m(\u001b[0m\u001b[0;34m\"memory_map\"\u001b[0m\u001b[0;34m,\u001b[0m \u001b[0;32mFalse\u001b[0m\u001b[0;34m)\u001b[0m\u001b[0;34m,\u001b[0m\u001b[0;34m\u001b[0m\u001b[0;34m\u001b[0m\u001b[0m\n\u001b[0;32m-> 1368\u001b[0;31m             \u001b[0mstorage_options\u001b[0m\u001b[0;34m=\u001b[0m\u001b[0mkwds\u001b[0m\u001b[0;34m.\u001b[0m\u001b[0mget\u001b[0m\u001b[0;34m(\u001b[0m\u001b[0;34m\"storage_options\"\u001b[0m\u001b[0;34m,\u001b[0m \u001b[0;32mNone\u001b[0m\u001b[0;34m)\u001b[0m\u001b[0;34m,\u001b[0m\u001b[0;34m\u001b[0m\u001b[0;34m\u001b[0m\u001b[0m\n\u001b[0m\u001b[1;32m   1369\u001b[0m         )\n\u001b[1;32m   1370\u001b[0m \u001b[0;34m\u001b[0m\u001b[0m\n",
      "\u001b[0;32m/shared-libs/python3.7/py/lib/python3.7/site-packages/pandas/io/common.py\u001b[0m in \u001b[0;36mget_handle\u001b[0;34m(path_or_buf, mode, encoding, compression, memory_map, is_text, errors, storage_options)\u001b[0m\n\u001b[1;32m    645\u001b[0m                 \u001b[0mencoding\u001b[0m\u001b[0;34m=\u001b[0m\u001b[0mioargs\u001b[0m\u001b[0;34m.\u001b[0m\u001b[0mencoding\u001b[0m\u001b[0;34m,\u001b[0m\u001b[0;34m\u001b[0m\u001b[0;34m\u001b[0m\u001b[0m\n\u001b[1;32m    646\u001b[0m                 \u001b[0merrors\u001b[0m\u001b[0;34m=\u001b[0m\u001b[0merrors\u001b[0m\u001b[0;34m,\u001b[0m\u001b[0;34m\u001b[0m\u001b[0;34m\u001b[0m\u001b[0m\n\u001b[0;32m--> 647\u001b[0;31m                 \u001b[0mnewline\u001b[0m\u001b[0;34m=\u001b[0m\u001b[0;34m\"\"\u001b[0m\u001b[0;34m,\u001b[0m\u001b[0;34m\u001b[0m\u001b[0;34m\u001b[0m\u001b[0m\n\u001b[0m\u001b[1;32m    648\u001b[0m             )\n\u001b[1;32m    649\u001b[0m         \u001b[0;32melse\u001b[0m\u001b[0;34m:\u001b[0m\u001b[0;34m\u001b[0m\u001b[0;34m\u001b[0m\u001b[0m\n",
      "\u001b[0;31mFileNotFoundError\u001b[0m: [Errno 2] No such file or directory: '/work/lvl1_ontology_dataset.csv'"
     ]
    }
   ]
  },
  {
   "cell_type": "code",
   "metadata": {
    "tags": [],
    "cell_id": "00023-89af7c94-cee1-4bfb-9fb1-6800e20c4ee4",
    "deepnote_to_be_reexecuted": true,
    "source_hash": "9d495be9",
    "execution_start": 1620423903801,
    "execution_millis": 5,
    "deepnote_cell_type": "code"
   },
   "source": "data2 = pd.read_csv('/work/lvl2_ontology_dataset.csv')\n",
   "execution_count": null,
   "outputs": []
  },
  {
   "cell_type": "code",
   "metadata": {
    "tags": [],
    "cell_id": "00024-62c9fe1d-7650-450e-8702-ce90ed3a01cf",
    "deepnote_to_be_reexecuted": true,
    "source_hash": "797c74e0",
    "execution_start": 1620423919302,
    "execution_millis": 16,
    "deepnote_cell_type": "code"
   },
   "source": "data3 = pd.read_csv('/work/lvl3_ontology_dataset.csv')\n",
   "execution_count": null,
   "outputs": []
  },
  {
   "cell_type": "code",
   "metadata": {
    "tags": [],
    "cell_id": "00013-99f8c2b1-1ad0-4005-b381-950c43089e67",
    "deepnote_to_be_reexecuted": true,
    "source_hash": "e6e55db",
    "execution_start": 1620423945065,
    "execution_millis": 1,
    "deepnote_cell_type": "code"
   },
   "source": "finalOntologyDataset= pd.concat([data1,data2,data3])",
   "execution_count": null,
   "outputs": []
  },
  {
   "cell_type": "code",
   "metadata": {
    "tags": [],
    "cell_id": "00018-89e69129-79de-4b7b-8db0-9481cc331806",
    "deepnote_to_be_reexecuted": true,
    "source_hash": "f46586de",
    "execution_start": 1620423965346,
    "execution_millis": 6,
    "deepnote_cell_type": "code"
   },
   "source": "#finalOntologyDataset.to_csv (r'./final_ontology_dataset.csv', index = False, header=True)",
   "execution_count": null,
   "outputs": []
  },
  {
   "cell_type": "markdown",
   "source": "## &lt;next&gt;Relations -&gt; Objects properties",
   "metadata": {
    "tags": [],
    "cell_id": "00027-5b39c783-63fe-410a-9f20-1706967e80c4",
    "deepnote_cell_type": "text-cell-h2"
   }
  },
  {
   "cell_type": "code",
   "metadata": {
    "tags": [],
    "cell_id": "00019-790fbcd6-cb26-4514-ab3a-7951e416f2e6",
    "deepnote_to_be_reexecuted": false,
    "source_hash": "9d0cd76b",
    "execution_start": 1620920545087,
    "execution_millis": 2,
    "deepnote_cell_type": "code"
   },
   "source": "obj_properties=  pd.DataFrame(columns = labels) #done",
   "execution_count": null,
   "outputs": []
  },
  {
   "cell_type": "code",
   "metadata": {
    "tags": [],
    "cell_id": "00020-89a230e2-ceb7-4f08-9812-a028b847be91",
    "deepnote_to_be_reexecuted": false,
    "source_hash": "aff516d3",
    "execution_start": 1620920700954,
    "execution_millis": 0,
    "deepnote_cell_type": "code"
   },
   "source": "series_obj = pd.Series( ['Hotel', 'Reunião', 'ofereceLocalDeReunião'], index=obj_properties.columns )\nobj_properties = obj_properties.append( series_obj, ignore_index=True)",
   "execution_count": null,
   "outputs": []
  },
  {
   "cell_type": "code",
   "metadata": {
    "tags": [],
    "cell_id": "00021-53196397-165b-43be-9e03-a026e6d2a805",
    "deepnote_to_be_reexecuted": true,
    "source_hash": "e385adb4",
    "execution_start": 1620422630667,
    "execution_millis": 8452556,
    "deepnote_cell_type": "code"
   },
   "source": "pertenceA  Hotel Rede de hotéis\ntemPaísDeOrigem  Tipo de Hóspede -\ntemDistânciaA Hospitalidade Pontos de Interesse\ntemLavanderia Hospitalidade Lavanderia\ntemEndereçoPostal Hospitalidade Localização\ntemQuarto Hotel, Hospitalidade  Quarto de Hotel,\nHotel\nofereceLocalDeReunião Hotel Reunião",
   "execution_count": null,
   "outputs": []
  },
  {
   "cell_type": "code",
   "metadata": {
    "tags": [],
    "cell_id": "00031-117ab094-f4e8-4ad9-ae66-257335767166",
    "deepnote_to_be_reexecuted": false,
    "source_hash": "679743fa",
    "execution_start": 1620920755780,
    "execution_millis": 26,
    "deepnote_cell_type": "code"
   },
   "source": "obj_properties.to_csv (r'./obj_properties_ontology_dataset.csv', index = False, header=True)",
   "execution_count": null,
   "outputs": []
  },
  {
   "cell_type": "code",
   "metadata": {
    "tags": [],
    "cell_id": "00032-df8ac13d-c255-4a8d-bf73-df88ad0d4829",
    "deepnote_cell_type": "code"
   },
   "source": "",
   "execution_count": null,
   "outputs": []
  },
  {
   "cell_type": "markdown",
   "source": "<a style='text-decoration:none;line-height:16px;display:flex;color:#5B5B62;padding:10px;justify-content:end;' href='https://deepnote.com?utm_source=created-in-deepnote-cell&projectId=a5cf3ea2-750b-4fc7-8242-5eefd4212f21' target=\"_blank\">\n<img alt='Created in deepnote.com' style='display:inline;max-height:16px;margin:0px;margin-right:7.5px;' src='data:image/svg+xml;base64,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' > </img>\nCreated in <span style='font-weight:600;margin-left:4px;'>Deepnote</span></a>",
   "metadata": {
    "tags": [],
    "created_in_deepnote_cell": true,
    "deepnote_cell_type": "markdown"
   }
  }
 ],
 "nbformat": 4,
 "nbformat_minor": 2,
 "metadata": {
  "orig_nbformat": 2,
  "deepnote": {
   "is_reactive": false
  },
  "deepnote_notebook_id": "f23e0778-7e34-45b8-8186-77f71ec2cfa8",
  "deepnote_execution_queue": []
 }
}