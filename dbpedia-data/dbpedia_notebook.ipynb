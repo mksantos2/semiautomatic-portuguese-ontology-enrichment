{
 "cells": [
  {
   "cell_type": "markdown",
   "source": "# Searching new ontology concepts in DBPedia ",
   "metadata": {
    "tags": [],
    "cell_id": "00000-f536ec51-9c16-49fe-935e-814f42167c86",
    "deepnote_cell_type": "text-cell-h1"
   }
  },
  {
   "cell_type": "code",
   "metadata": {
    "tags": [],
    "cell_id": "00000-91876215-6ad5-46e6-af74-7ee4b7d7259e",
    "deepnote_to_be_reexecuted": false,
    "source_hash": "d97a5357",
    "execution_millis": 3725,
    "output_cleared": false,
    "execution_start": 1619716472190,
    "deepnote_cell_type": "code"
   },
   "source": "!pip install SPARQLWrapper\n\nfrom SPARQLWrapper import SPARQLWrapper, JSON\n\n# Specify the DBPedia endpoint\nsparql = SPARQLWrapper(\"http://pt.dbpedia.org/sparql\")",
   "execution_count": null,
   "outputs": [
    {
     "name": "stdout",
     "text": "Collecting SPARQLWrapper\n  Downloading SPARQLWrapper-1.8.5-py3-none-any.whl (26 kB)\nCollecting rdflib>=4.0\n  Downloading rdflib-5.0.0-py3-none-any.whl (231 kB)\n\u001b[K     |████████████████████████████████| 231 kB 12.5 MB/s \n\u001b[?25hRequirement already satisfied: pyparsing in /shared-libs/python3.7/py-core/lib/python3.7/site-packages (from rdflib>=4.0->SPARQLWrapper) (2.4.7)\nRequirement already satisfied: six in /shared-libs/python3.7/py-core/lib/python3.7/site-packages (from rdflib>=4.0->SPARQLWrapper) (1.15.0)\nRequirement already satisfied: isodate in /shared-libs/python3.7/py/lib/python3.7/site-packages (from rdflib>=4.0->SPARQLWrapper) (0.6.0)\nInstalling collected packages: rdflib, SPARQLWrapper\nSuccessfully installed SPARQLWrapper-1.8.5 rdflib-5.0.0\n\u001b[33mWARNING: You are using pip version 21.0.1; however, version 21.1 is available.\nYou should consider upgrading via the '/root/venv/bin/python -m pip install --upgrade pip' command.\u001b[0m\n",
     "output_type": "stream"
    }
   ]
  },
  {
   "cell_type": "markdown",
   "source": "## Searching by /resource/Category:",
   "metadata": {
    "tags": [],
    "cell_id": "00003-da27d357-4106-44cd-94ce-9ea75231ebb0",
    "is_code_hidden": true,
    "deepnote_cell_type": "text-cell-h2"
   }
  },
  {
   "cell_type": "markdown",
   "source": "### Hyponyms",
   "metadata": {
    "tags": [],
    "cell_id": "00003-23754fd4-b0b2-4a17-b851-ce86a408c359",
    "deepnote_cell_type": "text-cell-h3"
   }
  },
  {
   "cell_type": "markdown",
   "source": "skos:broader é a propriedade que delimita o que é mais amplo. É possível botar um \"+\" ou {1,n} tamanho de vezes para *recursão* * disclamer: Por algum motivo, a query interpreta o skos:broader como as subclasses, ao invés das superclasses *",
   "metadata": {
    "tags": [],
    "cell_id": "00004-449b85a7-248a-422d-97d7-1390139fa62d",
    "is_code_hidden": true,
    "deepnote_cell_type": "markdown"
   }
  },
  {
   "cell_type": "code",
   "metadata": {
    "tags": [],
    "cell_id": "00008-7891ae88-7c2f-4dbe-9c9a-f745af1ac974",
    "output_cleared": false,
    "deepnote_to_be_reexecuted": false,
    "source_hash": "1cd60eb0",
    "execution_millis": 408,
    "is_code_hidden": true,
    "is_output_hidden": true,
    "execution_start": 1619716475916,
    "deepnote_cell_type": "code"
   },
   "source": "# searching \nsparql.setQuery(\"\"\"\n    SELECT ?hyponyms\n    WHERE {\n        ?hyponyms skos:broader <http://pt.dbpedia.org/resource/Categoria:Hotéis> .\n\n    }   \n\"\"\")\n\n# Convert results to JSON format\nsparql.setReturnFormat(JSON)\nhypo = sparql.query().convert()\nhypo",
   "execution_count": null,
   "outputs": [
    {
     "output_type": "execute_result",
     "execution_count": 2,
     "data": {
      "text/plain": "{'head': {'link': [], 'vars': ['hyponyms']},\n 'results': {'distinct': False,\n  'ordered': True,\n  'bindings': [{'hyponyms': {'type': 'uri',\n     'value': 'http://pt.dbpedia.org/resource/Categoria:Hotéis_por_cidade'}},\n   {'hyponyms': {'type': 'uri',\n     'value': 'http://pt.dbpedia.org/resource/Categoria:Hotéis_fictícios'}},\n   {'hyponyms': {'type': 'uri',\n     'value': 'http://pt.dbpedia.org/resource/Categoria:Hotéis_por_país'}},\n   {'hyponyms': {'type': 'uri',\n     'value': 'http://pt.dbpedia.org/resource/Categoria:Redes_de_hotéis'}},\n   {'hyponyms': {'type': 'uri',\n     'value': 'http://pt.dbpedia.org/resource/Categoria:Tipos_de_hotéis'}},\n   {'hyponyms': {'type': 'uri',\n     'value': 'http://pt.dbpedia.org/resource/Categoria:Hoteleiros'}},\n   {'hyponyms': {'type': 'uri',\n     'value': 'http://pt.dbpedia.org/resource/Categoria:Hotéis_extintos'}}]}}"
     },
     "metadata": {}
    }
   ]
  },
  {
   "cell_type": "markdown",
   "source": "### Hypernyms",
   "metadata": {
    "tags": [],
    "cell_id": "00006-9f799929-c65a-47b9-a034-47171086be2d",
    "deepnote_cell_type": "text-cell-h3"
   }
  },
  {
   "cell_type": "markdown",
   "source": "Usando novamente o skos:broader, porém com o sentido de pegar as superclasses, ou categorias que estão acima na hierarquia. \n\nO operador \"^\" faz a função de 'subir' um nivel a cima da árvore.",
   "metadata": {
    "tags": [],
    "cell_id": "00007-23b118a2-9a6a-4791-9484-f39057c77696",
    "deepnote_cell_type": "markdown"
   }
  },
  {
   "cell_type": "code",
   "metadata": {
    "tags": [],
    "cell_id": "00003-1556c1d5-c21c-44c8-97da-52ec19bd3061",
    "output_cleared": false,
    "deepnote_to_be_reexecuted": false,
    "source_hash": "6ae6ebd9",
    "execution_millis": 369,
    "is_code_hidden": true,
    "is_output_hidden": true,
    "execution_start": 1619716476317,
    "deepnote_cell_type": "code"
   },
   "source": "sparql.setQuery(\"\"\"\n    SELECT ?hyponyms\n    WHERE {\n        ?hyponyms ^skos:broader <http://pt.dbpedia.org/resource/Categoria:Hotéis> .\n\n\n\n    } \n\"\"\")\n\n# Convert results to JSON format\nsparql.setReturnFormat(JSON)\nhyper = sparql.query().convert()\nhyper",
   "execution_count": null,
   "outputs": [
    {
     "output_type": "execute_result",
     "execution_count": 3,
     "data": {
      "text/plain": "{'head': {'link': [], 'vars': ['hyponyms']},\n 'results': {'distinct': False,\n  'ordered': True,\n  'bindings': [{'hyponyms': {'type': 'uri',\n     'value': 'http://pt.dbpedia.org/resource/Categoria:Construções'}},\n   {'hyponyms': {'type': 'uri',\n     'value': 'http://pt.dbpedia.org/resource/Categoria:Meios_de_hospedagem'}}]}}"
     },
     "metadata": {}
    }
   ]
  },
  {
   "cell_type": "markdown",
   "source": "## Searching by /resource",
   "metadata": {
    "tags": [],
    "cell_id": "00009-b488ddc9-e380-45d7-b664-ad513e3ce49b",
    "deepnote_cell_type": "text-cell-h2"
   }
  },
  {
   "cell_type": "code",
   "metadata": {
    "tags": [],
    "cell_id": "00010-ce630f5d-3200-45a9-8c14-bfc31c7176fa",
    "deepnote_to_be_reexecuted": false,
    "source_hash": "b7dcc9c8",
    "execution_millis": 1,
    "execution_start": 1620259887271,
    "deepnote_cell_type": "code"
   },
   "source": "import numpy as np\nimport pandas as pd",
   "execution_count": null,
   "outputs": []
  },
  {
   "cell_type": "code",
   "metadata": {
    "tags": [],
    "cell_id": "00011-9cccf6af-c4cb-4198-92d7-dd7eb4370f17",
    "deepnote_to_be_reexecuted": false,
    "source_hash": "f23b44cb",
    "execution_millis": 0,
    "execution_start": 1619716476726,
    "deepnote_cell_type": "code"
   },
   "source": "# dataframe creation\n\n\nlabels =['wikiPageLink', 'subject', 'isPrimaryTopicOf', 'wikiPageRedirects', 'is_wikiPageLink_of']\n\nmodify_wikiLink=  pd.DataFrame(columns = [labels[0], 'concept']) #done\nmodify_subject=  pd.DataFrame(columns = [labels[1], 'concept']) #done\nmodify_isPrimaryTopicOf =  pd.DataFrame(columns = [labels[2], 'concept']) #failed\nmodify_wikiPageRedirects =  pd.DataFrame(columns = [labels[3], 'concept']) #done\nmodify_is_wikiPageLink_of =  pd.DataFrame(columns = [labels[4], 'concept']) #done\n\n\n\n",
   "execution_count": null,
   "outputs": []
  },
  {
   "cell_type": "code",
   "metadata": {
    "tags": [],
    "cell_id": "00012-5e661013-f207-450f-a6a5-0fd064f85949",
    "deepnote_to_be_reexecuted": false,
    "source_hash": "276f0c9f",
    "execution_millis": 1,
    "execution_start": 1619716476726,
    "deepnote_cell_type": "code"
   },
   "source": "# reading the ontology's concepts file\n\nwith open('/work/concepts_hoteis.txt', \"r\") as file1:\n    conceptsList = file1.readlines()\n\nfor x in range(len(conceptsList)):\n    conceptsList[x] = (conceptsList[x].rstrip(\"\\n\"))\n\n",
   "execution_count": null,
   "outputs": []
  },
  {
   "cell_type": "code",
   "metadata": {
    "tags": [],
    "cell_id": "00013-da05a5df-0a7a-4bbe-9572-2c1881735893",
    "deepnote_to_be_reexecuted": false,
    "source_hash": "8d5e047b",
    "execution_millis": 39616,
    "execution_start": 1619716476727,
    "deepnote_cell_type": "code"
   },
   "source": "for concept in conceptsList:\n    \n    conceptWord = (concept).capitalize()\n\n    queryWord = \"_\".join(conceptWord.split(\" \"))\n\n    sparql.setQuery(\"\"\"\n        PREFIX dcterms: <http://purl.org/dc/terms/>\n        PREFIX foaf: <http://xmlns.com/foaf/0.1/>\n        SELECT ?is_wikiPageLink_of\n        WHERE {\n            ?is_wikiPageLink_of ^dbo:wikiPageRedirects <http://pt.dbpedia.org/resource/\"\"\" + conceptWord + \"\"\"> .\n\n\n\n        } \n    \"\"\")\n\n    # Convert results to JSON format\n    sparql.setReturnFormat(JSON)\n\n    try:\n        dbpedia = sparql.query().convert()\n\n        ptopic = dbpedia['results']['bindings']\n\n\n\n\n        #spliting to get the term \n        for data in ptopic:\n            #print(data)\n            url = data['is_wikiPageLink_of']['value']\n            concept_url = url.split(\"http://pt.dbpedia.org/resource/\")[1]\n            #print(concept_url)\n            series_obj = pd.Series( [concept_url, concept], index=modify_is_wikiPageLink_of.columns )\n            # Add a series as a row to the dataframe  \n            modify_is_wikiPageLink_of = modify_is_wikiPageLink_of.append( series_obj, ignore_index=True)\n            #print(\"conceito:\" + concept + \"; tem dbpedia? sim\")\n\n\n    except Exception as e:\n        conceptsList.remove(concept)\n        #print(\"conceito:\" + concept + \"; tem dbpedia? não\")\n",
   "execution_count": null,
   "outputs": []
  },
  {
   "cell_type": "code",
   "metadata": {
    "tags": [],
    "cell_id": "00014-5d6ef59a-0b0f-411b-b3a6-7de30862ef82",
    "deepnote_to_be_reexecuted": false,
    "source_hash": "ef08139a",
    "execution_millis": 51,
    "execution_start": 1619716516347,
    "deepnote_cell_type": "code"
   },
   "source": "print(\"Tamanho reduzido para : \", len(conceptsList) )\nconceptsList",
   "execution_count": null,
   "outputs": [
    {
     "name": "stdout",
     "text": "Tamanho reduzido para :  160\n",
     "output_type": "stream"
    },
    {
     "output_type": "execute_result",
     "execution_count": 8,
     "data": {
      "text/plain": "['aparência',\n 'atendimento',\n 'conforto',\n 'classe superior',\n 'hotéis luxo',\n 'hotéis padrão',\n 'primeira classe',\n 'turista',\n 'uma estrela',\n 'três estrelas',\n 'cinco estrelas',\n 'custo-benefício',\n 'albergue',\n 'apartamento',\n 'cama e café da manhã',\n 'hotel',\n 'hotel aquático',\n 'hotel casa da árvore',\n 'hotel cápsula',\n 'hotel fazenda',\n 'hotel histórico',\n 'motel',\n 'pousada',\n 'pensão',\n 'funcionários',\n 'babá',\n 'funcionário da lavanderia',\n 'funcionário da piscina',\n 'funcionário da área de lazer',\n 'garçom',\n 'gerente',\n 'manobrista',\n 'mensageiro',\n 'motorista',\n 'porteiro',\n 'recreacionista',\n 'horário',\n 'horário do estacionamento',\n 'horário do spa',\n 'acesso para deficientes',\n 'aquecedor de toalhas',\n 'balança',\n 'chuveiro',\n 'pia',\n 'roupão',\n 'torneira',\n 'hidromassagem',\n 'ar-condicionado',\n 'cama',\n 'chaleira',\n 'cortina',\n 'ferro de passar roupa',\n 'iluminação',\n 'isolamento acústico',\n 'móveis',\n 'guarda-roupa',\n 'televisão',\n 'tomada',\n 'tábua de passar roupa',\n 'ferro a vapor',\n 'mobílias',\n 'tevê',\n 'roupeiro',\n 'abajur',\n 'bar da piscina',\n 'jardim',\n 'piscina',\n 'hidromassagem ao ar livre',\n 'parque de estacionamento',\n 'rede sem fio',\n 'instalação interna',\n 'berço',\n 'cassino',\n 'corredor',\n 'danceteria',\n 'escadaria',\n 'guarda volumes',\n 'internet',\n 'lavanderia',\n 'polimento de sapatos',\n 'bar e restaurante',\n 'sala de jogos',\n 'salão de beleza',\n 'tabacaria',\n 'toalete',\n 'parque de estacionamento',\n 'acesso à internet',\n 'rede sem fio',\n 'zona de wifi',\n 'cabeleireiro',\n 'escada',\n 'clube para crianças',\n 'praça de brinquedos',\n 'aquecimento',\n 'localização',\n 'cidade',\n 'país',\n 'pontos de interesse',\n 'arena',\n 'centro histórico',\n 'danceteria',\n 'estádio',\n 'jardim',\n 'museu',\n 'parque',\n 'praça',\n 'shopping',\n 'teatro',\n 'bar e restaurante',\n 'ponto de ônibus',\n 'lojas',\n 'centro comercial',\n 'preço',\n 'preço da lavanderia',\n 'preço do café da manhã',\n 'preço do quarto',\n 'quarto de albergue',\n 'quarto masculino com 12 camas',\n 'quarto masculino com 6 camas',\n 'quarto feminino com 10 camas',\n 'quarto feminino com 4 camas',\n 'quarto feminino com 8 camas',\n 'quarto misto com 12 camas',\n 'quarto misto com 6 camas',\n 'quarto de apartamento',\n 'quarto de solteiro',\n 'quarto duplo',\n 'suíte',\n 'Accor HotelsAdagio',\n 'Accor HotelsEtapHotel',\n 'Accor HotelsHotelF1',\n 'Accor HotelsMercure',\n 'Accor HotelsNovotel',\n 'Accor HotelsPullman',\n 'Accor HotelsSuiteNovotel',\n 'Best Western Hotels',\n 'Domina Hotels',\n 'Hilton Hotels',\n 'Iberostar Hotels',\n 'Pestana Group Hotels',\n 'Radisson Hotels',\n 'Vila Galé Hotels',\n 'almoço',\n 'jantar',\n 'aluguel de bicicletas',\n 'câmbio',\n 'lavanderia',\n 'portaria',\n 'recepção',\n 'serviço de manobrista',\n 'serviço de quarto',\n 'entrega de jornal',\n 'transporte para o aeroporto',\n 'casal',\n 'casal maduro',\n 'família',\n 'família com filhos mais jovens',\n 'grupo de amigos',\n 'grupo maduro',\n 'viajante sozinho']"
     },
     "metadata": {}
    }
   ]
  },
  {
   "cell_type": "code",
   "metadata": {
    "tags": [],
    "cell_id": "00013-fe8b3448-9462-4008-a5c3-1c300aff321f",
    "deepnote_to_be_reexecuted": false,
    "source_hash": "86d09b0c",
    "execution_millis": 20,
    "execution_start": 1619716516378,
    "deepnote_cell_type": "code"
   },
   "source": "modify_wikiPageRedirects.head()",
   "execution_count": null,
   "outputs": [
    {
     "output_type": "execute_result",
     "execution_count": 9,
     "data": {
      "application/vnd.deepnote.dataframe.v2+json": {
       "row_count": 0,
       "column_count": 2,
       "columns": [
        {
         "name": "wikiPageRedirects",
         "dtype": "object",
         "stats": {
          "unique_count": 0,
          "nan_count": 0,
          "categories": []
         }
        },
        {
         "name": "concept",
         "dtype": "object",
         "stats": {
          "unique_count": 0,
          "nan_count": 0,
          "categories": []
         }
        },
        {
         "name": "_deepnote_index_column",
         "dtype": "object"
        }
       ],
       "rows_top": [],
       "rows_bottom": null
      },
      "text/plain": "Empty DataFrame\nColumns: [wikiPageRedirects, concept]\nIndex: []",
      "text/html": "<div>\n<style scoped>\n    .dataframe tbody tr th:only-of-type {\n        vertical-align: middle;\n    }\n\n    .dataframe tbody tr th {\n        vertical-align: top;\n    }\n\n    .dataframe thead th {\n        text-align: right;\n    }\n</style>\n<table border=\"1\" class=\"dataframe\">\n  <thead>\n    <tr style=\"text-align: right;\">\n      <th></th>\n      <th>wikiPageRedirects</th>\n      <th>concept</th>\n    </tr>\n  </thead>\n  <tbody>\n  </tbody>\n</table>\n</div>"
     },
     "metadata": {}
    }
   ]
  },
  {
   "cell_type": "code",
   "metadata": {
    "tags": [],
    "cell_id": "00014-356692d5-676f-42cd-9429-bdb39e679c9f",
    "deepnote_to_be_reexecuted": false,
    "source_hash": "e6e32703",
    "execution_millis": 11,
    "execution_start": 1619716516390,
    "deepnote_cell_type": "code"
   },
   "source": "modify_is_wikiPageLink_of.to_csv (r'./export_dataframe.csv', index = False, header=True)\n",
   "execution_count": null,
   "outputs": []
  },
  {
   "cell_type": "code",
   "metadata": {
    "tags": [],
    "cell_id": "00020-2a8ae05e-931a-409e-a5b3-c09ab59f74e6",
    "deepnote_to_be_reexecuted": false,
    "source_hash": "ef5fb7b7",
    "execution_millis": 21,
    "execution_start": 1619716516411,
    "deepnote_cell_type": "code"
   },
   "source": "len(modify_is_wikiPageLink_of)",
   "execution_count": null,
   "outputs": [
    {
     "output_type": "execute_result",
     "execution_count": 11,
     "data": {
      "text/plain": "4"
     },
     "metadata": {}
    }
   ]
  },
  {
   "cell_type": "markdown",
   "source": "###  Dataframes Sizes ",
   "metadata": {
    "tags": [],
    "cell_id": "00018-7481cb8a-8c55-4a1b-aedb-0bf5a5e9bba7",
    "deepnote_cell_type": "text-cell-h3"
   }
  },
  {
   "cell_type": "code",
   "metadata": {
    "tags": [],
    "cell_id": "00018-882ba804-580a-447e-b5de-9ab4cc3706f8",
    "deepnote_to_be_reexecuted": false,
    "source_hash": "8d704bb2",
    "execution_millis": 40,
    "execution_start": 1619716516414,
    "deepnote_cell_type": "code"
   },
   "source": "isWikiPageLen = len(pd.read_csv('/work/is_wikiPageLink_of_dataframe.csv'))  \nsubjectsLen = len(pd.read_csv('/work/subjects_dataframe.csv'))  \nwikiPageLinkLen = len(pd.read_csv('/work/wikipagelink_dataframe.csv'))  \nwikiPageRedirectsLen = len(pd.read_csv('/work/wikiPageRedirects_dataframe.csv'))  \n\nprint(\"isWikiPageLink's length: \", isWikiPageLen)\nprint(\"subjects's length: \", subjectsLen)\nprint(\"WikiPageLinks's length: \", wikiPageLinkLen)\nprint(\"wikiPageRedirects's length: \", wikiPageRedirectsLen)\n\nprint(\"----------------------------------------------\")\n\nprint(\"TOTAL LENGTH: \", isWikiPageLen+subjectsLen+ wikiPageLinkLen+wikiPageRedirectsLen)\n",
   "execution_count": null,
   "outputs": [
    {
     "name": "stdout",
     "text": "isWikiPageLink's length:  7\nsubjects's length:  19\nWikiPageLinks's length:  374\nwikiPageRedirects's length:  15\n----------------------------------------------\nTOTAL LENGTH:  415\n",
     "output_type": "stream"
    }
   ]
  },
  {
   "cell_type": "markdown",
   "source": "### Reading the TripAdivisor dictionary",
   "metadata": {
    "tags": [],
    "cell_id": "00020-9d2b75d8-97df-4122-a509-a3183c3c137e",
    "deepnote_cell_type": "text-cell-h3"
   }
  },
  {
   "cell_type": "code",
   "metadata": {
    "tags": [],
    "cell_id": "00019-3fa4253e-5973-4615-af57-6e346289cabc",
    "deepnote_to_be_reexecuted": false,
    "source_hash": "7aa0c5a3",
    "execution_start": 1619716516436,
    "execution_millis": 58,
    "deepnote_cell_type": "code"
   },
   "source": "# reading the dictionary file\n\nwith open('/work/dict.txt', \"r\") as file1:\n    dic = file1.readlines()\n\nfor x in dic:\n    tripAdvisor = eval(x)\n\nprint(\"total len:\", len(tripAdvisor))\n\nnoun = 0\nverb = 0\naux = 0\noutro = 0\nfor key in tripAdvisor.values():\n    if(key == 'NOUN'):\n        noun+=1\n    elif(key == 'VERB'):\n        verb+=1\n    elif(key == 'AUX'):\n        aux+=1\n    else:\n        outro+=1\n\nprint(\"number of verbs: \", verb)\nprint(\"number of nouns: \", noun)\nprint(\"number of auxs: \", aux)\nprint(\"number of outros: \", outro)",
   "execution_count": null,
   "outputs": [
    {
     "name": "stdout",
     "text": "total len: 11356\nnumber of verbs:  4052\nnumber of nouns:  7109\nnumber of auxs:  195\nnumber of outros:  0\n",
     "output_type": "stream"
    }
   ]
  },
  {
   "cell_type": "markdown",
   "source": "## Doc2vec experiments",
   "metadata": {
    "tags": [],
    "cell_id": "00022-0663e06a-1a5e-4351-9be8-a5a207a6bc90",
    "deepnote_cell_type": "text-cell-h2"
   }
  },
  {
   "cell_type": "markdown",
   "source": "### Extracting articles from Wikipedia ",
   "metadata": {
    "tags": [],
    "cell_id": "00023-729d64e7-6d2d-4595-9c84-dc56cd278d1b",
    "deepnote_cell_type": "text-cell-h3"
   }
  },
  {
   "cell_type": "code",
   "metadata": {
    "tags": [],
    "cell_id": "00023-4e559475-3c43-49c9-82a4-fc9079554900",
    "deepnote_to_be_reexecuted": false,
    "source_hash": "7dd11dae",
    "execution_start": 1619716516491,
    "execution_millis": 3010,
    "deepnote_cell_type": "code"
   },
   "source": "!pip install bs4",
   "execution_count": null,
   "outputs": [
    {
     "name": "stdout",
     "text": "Requirement already satisfied: bs4 in /root/venv/lib/python3.7/site-packages (0.0.1)\nRequirement already satisfied: beautifulsoup4 in /root/venv/lib/python3.7/site-packages (from bs4) (4.9.3)\nRequirement already satisfied: soupsieve>1.2 in /root/venv/lib/python3.7/site-packages (from beautifulsoup4->bs4) (2.2.1)\n\u001b[33mWARNING: You are using pip version 21.0.1; however, version 21.1 is available.\nYou should consider upgrading via the '/root/venv/bin/python -m pip install --upgrade pip' command.\u001b[0m\n",
     "output_type": "stream"
    }
   ]
  },
  {
   "cell_type": "code",
   "metadata": {
    "tags": [],
    "cell_id": "00020-db8ffc7e-fe63-4659-8722-0661c410130c",
    "deepnote_to_be_reexecuted": false,
    "source_hash": "13609b0a",
    "execution_start": 1619716579086,
    "execution_millis": 6,
    "deepnote_cell_type": "code"
   },
   "source": "import bs4\nimport sys\nimport requests\nimport posixpath",
   "execution_count": null,
   "outputs": []
  },
  {
   "cell_type": "code",
   "metadata": {
    "tags": [],
    "cell_id": "00024-71f344b7-d418-499f-8352-c8d5bc810f2a",
    "deepnote_to_be_reexecuted": false,
    "source_hash": "263f7f31",
    "execution_start": 1619716810719,
    "execution_millis": 27530,
    "output_cleared": true,
    "deepnote_cell_type": "code"
   },
   "source": "for concept in conceptsList:\n    conceptWord = (concept).capitalize()\n    queryWord = \"_\".join(conceptWord.split(\" \"))\n    wiki_page = queryWord\n    res = requests.get(f'https://pt.wikipedia.org/wiki/{wiki_page}' )\n    \n    try:\n        res.raise_for_status()\n        wiki = bs4.BeautifulSoup(res.text,\"html.parser\")\n        \n        completeName = posixpath.join('/work/articles', wiki_page+\".txt\")\n\n        # open a file named as your wiki page in write mode\n        with open(completeName, \"w\", encoding=\"utf-8\") as f:\n            for i in wiki.select('p'):\n                # write each paragraph to the file\n                f.write(i.getText())\n    \n    except Exception as e:\n        #print(e)",
   "execution_count": null,
   "outputs": []
  },
  {
   "cell_type": "code",
   "metadata": {
    "tags": [],
    "cell_id": "00026-82c55b49-3eea-4826-bf98-7e7f3d54924e",
    "deepnote_to_be_reexecuted": false,
    "source_hash": "1ce238ac",
    "execution_start": 1619718022867,
    "execution_millis": 96,
    "deepnote_cell_type": "code"
   },
   "source": "## MERGIN THE ARTICLES:\nfrom os import walk\n\n_, _, filenames = next(walk('/work/articles'))\n\nwith open('/work/output_articles/merge.txt', 'w') as outfile:\n    for fname in filenames:\n        with open('/work/articles/'+fname) as infile:\n            for line in infile:\n                outfile.write(line)",
   "execution_count": null,
   "outputs": []
  },
  {
   "cell_type": "markdown",
   "source": "## Creating the dataset (first attempt)",
   "metadata": {
    "tags": [],
    "cell_id": "00028-0ed26fb4-9258-4521-bb2f-21a490605656",
    "deepnote_cell_type": "text-cell-h2"
   }
  },
  {
   "cell_type": "markdown",
   "source": "Reviwing dbpedia dataframes:",
   "metadata": {
    "tags": [],
    "cell_id": "00028-094a775b-4032-4a76-9549-a98414ac1ded",
    "deepnote_cell_type": "markdown"
   }
  },
  {
   "cell_type": "code",
   "metadata": {
    "tags": [],
    "cell_id": "00028-efb58f9e-ea0c-4343-ba26-0e5b7ae4c5a5",
    "deepnote_to_be_reexecuted": false,
    "source_hash": "d9d88be",
    "execution_start": 1619717154894,
    "execution_millis": 0,
    "deepnote_cell_type": "code"
   },
   "source": "#is_wikipagelink_of - done - type of relation: none \n#subject            - done - type of relation: hypernyms\n#wikipagelink       - done - type of relation: none \n#redirects          - done - type of relation: none",
   "execution_count": null,
   "outputs": []
  },
  {
   "cell_type": "code",
   "metadata": {
    "tags": [],
    "cell_id": "00031-e8f1096a-adbf-4b05-9f82-e39190bdadf7",
    "deepnote_to_be_reexecuted": false,
    "source_hash": "85be2f30",
    "execution_start": 1620261740611,
    "execution_millis": 33,
    "deepnote_cell_type": "code"
   },
   "source": "# dataframes w/ new sizes:\n\nisWikiPage = (pd.read_csv('/work/dbpedia_dataframes/is_wikiPageLink_of_dataframe.csv'))  \nsubject = (pd.read_csv('/work/dbpedia_dataframes/subjects_dataframe.csv'))  \nwikiPageLink = (pd.read_csv('/work/dbpedia_dataframes/wikipagelink_dataframe.csv'))  \nwikiPageRedirects = (pd.read_csv('/work/dbpedia_dataframes/wikiPageRedirects_dataframe.csv'))\n",
   "execution_count": null,
   "outputs": []
  },
  {
   "cell_type": "code",
   "metadata": {
    "tags": [],
    "cell_id": "00029-2cae31dc-6792-4c35-b34b-ba39d031a6ec",
    "deepnote_to_be_reexecuted": false,
    "source_hash": "aad9d100",
    "execution_start": 1620261742911,
    "execution_millis": 0,
    "deepnote_cell_type": "code"
   },
   "source": "# add the relations\nisWikiPage['label'] = 'none'\nsubject['label'] = 'hypernym'\nwikiPageLink['label'] = 'none'\nwikiPageRedirects['label'] = 'none'",
   "execution_count": null,
   "outputs": []
  },
  {
   "cell_type": "code",
   "metadata": {
    "tags": [],
    "cell_id": "00030-21572733-6070-4504-bae7-d505fb065b9a",
    "deepnote_to_be_reexecuted": false,
    "source_hash": "5ae5cb86",
    "execution_start": 1620261744732,
    "execution_millis": 4,
    "deepnote_cell_type": "code"
   },
   "source": "# renaming the columns \nisWikiPage = isWikiPage.rename(columns={'is_wikiPageLink_of':'dbpedia_term'})\nsubject = subject.rename(columns={'subject':'dbpedia_term'})\nwikiPageLink = wikiPageLink.rename(columns={'wikiPageLink':'dbpedia_term'})\nwikiPageRedirects = wikiPageRedirects.rename(columns={'wikiPageRedirects':'dbpedia_term'})\n",
   "execution_count": null,
   "outputs": []
  },
  {
   "cell_type": "code",
   "metadata": {
    "tags": [],
    "cell_id": "00034-7f589cab-81db-4f38-aec9-b69660997d6e",
    "deepnote_to_be_reexecuted": false,
    "source_hash": "c98fb75c",
    "execution_start": 1620261747904,
    "execution_millis": 26,
    "deepnote_cell_type": "code"
   },
   "source": "dbpediaDataset= pd.concat([isWikiPage, subject, wikiPageLink, wikiPageRedirects])\ndbpediaDataset.head()",
   "execution_count": null,
   "outputs": [
    {
     "output_type": "execute_result",
     "execution_count": 37,
     "data": {
      "application/vnd.deepnote.dataframe.v2+json": {
       "row_count": 5,
       "column_count": 3,
       "columns": [
        {
         "name": "dbpedia_term",
         "dtype": "object",
         "stats": {
          "unique_count": 5,
          "nan_count": 0,
          "categories": [
           {
            "name": "Turismo",
            "count": 1
           },
           {
            "name": "Relação_de_custo-benefício",
            "count": 1
           },
           {
            "name": "3 others",
            "count": 3
           }
          ]
         }
        },
        {
         "name": "concept",
         "dtype": "object",
         "stats": {
          "unique_count": 5,
          "nan_count": 0,
          "categories": [
           {
            "name": "turista",
            "count": 1
           },
           {
            "name": "custo-benefício",
            "count": 1
           },
           {
            "name": "3 others",
            "count": 3
           }
          ]
         }
        },
        {
         "name": "label",
         "dtype": "object",
         "stats": {
          "unique_count": 1,
          "nan_count": 0,
          "categories": [
           {
            "name": "none",
            "count": 5
           }
          ]
         }
        },
        {
         "name": "_deepnote_index_column",
         "dtype": "int64"
        }
       ],
       "rows_top": [
        {
         "dbpedia_term": "Turismo",
         "concept": "turista",
         "label": "none",
         "_deepnote_index_column": 0
        },
        {
         "dbpedia_term": "Relação_de_custo-benefício",
         "concept": "custo-benefício",
         "label": "none",
         "_deepnote_index_column": 1
        },
        {
         "dbpedia_term": "Trabalhador",
         "concept": "funcionários",
         "label": "none",
         "_deepnote_index_column": 2
        },
        {
         "dbpedia_term": "Valet",
         "concept": "manobrista",
         "label": "none",
         "_deepnote_index_column": 3
        },
        {
         "dbpedia_term": "Pia",
         "concept": "lavatório",
         "label": "none",
         "_deepnote_index_column": 4
        }
       ],
       "rows_bottom": null
      },
      "text/plain": "                 dbpedia_term          concept label\n0                     Turismo          turista  none\n1  Relação_de_custo-benefício  custo-benefício  none\n2                 Trabalhador     funcionários  none\n3                       Valet       manobrista  none\n4                         Pia        lavatório  none",
      "text/html": "<div>\n<style scoped>\n    .dataframe tbody tr th:only-of-type {\n        vertical-align: middle;\n    }\n\n    .dataframe tbody tr th {\n        vertical-align: top;\n    }\n\n    .dataframe thead th {\n        text-align: right;\n    }\n</style>\n<table border=\"1\" class=\"dataframe\">\n  <thead>\n    <tr style=\"text-align: right;\">\n      <th></th>\n      <th>dbpedia_term</th>\n      <th>concept</th>\n      <th>label</th>\n    </tr>\n  </thead>\n  <tbody>\n    <tr>\n      <th>0</th>\n      <td>Turismo</td>\n      <td>turista</td>\n      <td>none</td>\n    </tr>\n    <tr>\n      <th>1</th>\n      <td>Relação_de_custo-benefício</td>\n      <td>custo-benefício</td>\n      <td>none</td>\n    </tr>\n    <tr>\n      <th>2</th>\n      <td>Trabalhador</td>\n      <td>funcionários</td>\n      <td>none</td>\n    </tr>\n    <tr>\n      <th>3</th>\n      <td>Valet</td>\n      <td>manobrista</td>\n      <td>none</td>\n    </tr>\n    <tr>\n      <th>4</th>\n      <td>Pia</td>\n      <td>lavatório</td>\n      <td>none</td>\n    </tr>\n  </tbody>\n</table>\n</div>"
     },
     "metadata": {}
    }
   ]
  },
  {
   "cell_type": "code",
   "metadata": {
    "tags": [],
    "cell_id": "00036-44a2b11b-9c82-4a1e-b117-1ce5b38063bf",
    "deepnote_to_be_reexecuted": false,
    "source_hash": "545795ad",
    "execution_start": 1620261752008,
    "execution_millis": 17,
    "deepnote_cell_type": "code"
   },
   "source": "dbpediaDataset.to_csv (r'./dbpedia_dataframes/dbpedia_dataset.csv', index = False, header=True)\n",
   "execution_count": null,
   "outputs": []
  },
  {
   "cell_type": "code",
   "metadata": {
    "tags": [],
    "cell_id": "00037-5c558fd0-22b3-4b17-a068-a4be993c908f",
    "deepnote_cell_type": "code"
   },
   "source": "",
   "execution_count": null,
   "outputs": []
  },
  {
   "cell_type": "markdown",
   "source": "<a style='text-decoration:none;line-height:16px;display:flex;color:#5B5B62;padding:10px;justify-content:end;' href='https://deepnote.com?utm_source=created-in-deepnote-cell&projectId=a5cf3ea2-750b-4fc7-8242-5eefd4212f21' target=\"_blank\">\n<img alt='Created in deepnote.com' style='display:inline;max-height:16px;margin:0px;margin-right:7.5px;' src='data:image/svg+xml;base64,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' > </img>\nCreated in <span style='font-weight:600;margin-left:4px;'>Deepnote</span></a>",
   "metadata": {
    "tags": [],
    "created_in_deepnote_cell": true,
    "deepnote_cell_type": "markdown"
   }
  }
 ],
 "nbformat": 4,
 "nbformat_minor": 2,
 "metadata": {
  "orig_nbformat": 2,
  "deepnote": {
   "is_reactive": false
  },
  "deepnote_notebook_id": "b0fb581e-2b4f-4293-ab15-6afc77c22ba3",
  "deepnote_execution_queue": []
 }
}