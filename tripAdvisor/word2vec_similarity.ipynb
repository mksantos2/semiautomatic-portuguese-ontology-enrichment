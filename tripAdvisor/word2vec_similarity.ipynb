{
 "cells": [
  {
   "cell_type": "markdown",
   "source": "# TripAdvisor WE",
   "metadata": {
    "tags": [],
    "cell_id": "00000-f9fa8aba-cf00-4673-85e9-5c570f91e0f7",
    "deepnote_cell_type": "text-cell-h1"
   }
  },
  {
   "cell_type": "code",
   "metadata": {
    "tags": [],
    "cell_id": "00000-8d9aeadd-6db4-4d32-a8e0-1336bc8d7d5d",
    "deepnote_to_be_reexecuted": false,
    "source_hash": "56bc0e91",
    "execution_start": 1621381281119,
    "execution_millis": 5935,
    "deepnote_cell_type": "code"
   },
   "source": "!pip install gensim",
   "execution_count": 1,
   "outputs": [
    {
     "name": "stdout",
     "text": "Collecting gensim\n  Downloading gensim-4.0.1-cp37-cp37m-manylinux1_x86_64.whl (23.9 MB)\n\u001b[K     |████████████████████████████████| 23.9 MB 21.1 MB/s \n\u001b[?25hRequirement already satisfied: numpy>=1.11.3 in /shared-libs/python3.7/py/lib/python3.7/site-packages (from gensim) (1.19.5)\nRequirement already satisfied: scipy>=0.18.1 in /shared-libs/python3.7/py/lib/python3.7/site-packages (from gensim) (1.6.3)\nRequirement already satisfied: smart-open>=1.8.1 in /shared-libs/python3.7/py/lib/python3.7/site-packages (from gensim) (3.0.0)\nRequirement already satisfied: requests in /shared-libs/python3.7/py/lib/python3.7/site-packages (from smart-open>=1.8.1->gensim) (2.25.1)\nRequirement already satisfied: chardet<5,>=3.0.2 in /shared-libs/python3.7/py/lib/python3.7/site-packages (from requests->smart-open>=1.8.1->gensim) (3.0.4)\nRequirement already satisfied: idna<3,>=2.5 in /shared-libs/python3.7/py/lib/python3.7/site-packages (from requests->smart-open>=1.8.1->gensim) (2.10)\nRequirement already satisfied: certifi>=2017.4.17 in /shared-libs/python3.7/py/lib/python3.7/site-packages (from requests->smart-open>=1.8.1->gensim) (2020.12.5)\nRequirement already satisfied: urllib3<1.27,>=1.21.1 in /shared-libs/python3.7/py/lib/python3.7/site-packages (from requests->smart-open>=1.8.1->gensim) (1.26.4)\nInstalling collected packages: gensim\nSuccessfully installed gensim-4.0.1\n",
     "output_type": "stream"
    }
   ]
  },
  {
   "cell_type": "code",
   "metadata": {
    "tags": [],
    "cell_id": "00000-dd5fe887-b1de-474d-b5a9-1a11f4b0c80e",
    "deepnote_to_be_reexecuted": false,
    "source_hash": "ac3e0a2d",
    "execution_start": 1621381287059,
    "execution_millis": 1099,
    "deepnote_cell_type": "code"
   },
   "source": "from gensim.models.word2vec import Text8Corpus\nfrom gensim.models import Word2Vec, KeyedVectors\nimport numpy as np\nimport pandas as pd\nfrom gensim.models import KeyedVectors\nfrom gensim.models import FastText",
   "execution_count": 2,
   "outputs": [
    {
     "name": "stderr",
     "text": "/root/venv/lib/python3.7/site-packages/gensim/similarities/__init__.py:15: UserWarning: The gensim.similarities.levenshtein submodule is disabled, because the optional Levenshtein package <https://pypi.org/project/python-Levenshtein/> is unavailable. Install Levenhstein (e.g. `pip install python-Levenshtein`) to suppress this warning.\n  warnings.warn(msg)\n",
     "output_type": "stream"
    }
   ]
  },
  {
   "cell_type": "markdown",
   "source": "# Word Embeddings",
   "metadata": {
    "tags": [],
    "cell_id": "00002-c3e859fd-8a44-42c9-b8bc-c679acd0bdf5",
    "deepnote_cell_type": "text-cell-h1"
   }
  },
  {
   "cell_type": "markdown",
   "source": "## Word2Vec SkipGram",
   "metadata": {
    "tags": [],
    "cell_id": "00002-4d71ea4c-81dd-4d5d-8c20-5c14ebcd0a4a",
    "deepnote_cell_type": "text-cell-h2"
   }
  },
  {
   "cell_type": "code",
   "metadata": {
    "tags": [],
    "cell_id": "00001-ee7385f0-420c-4b41-bf9f-7800db0fe110",
    "deepnote_to_be_reexecuted": false,
    "source_hash": "ba181f1c",
    "execution_start": 1621381288156,
    "execution_millis": 77,
    "deepnote_cell_type": "code"
   },
   "source": "w2v_model_skip = Word2Vec.load('/work/undergrad-thesis-project/tripAdvisor/models/word2vec-Skip-Gram.model')\nprint(w2v_model_skip.wv.most_similar('hotel'))",
   "execution_count": 3,
   "outputs": [
    {
     "name": "stdout",
     "text": "[('e_o_preço', 0.6771207451820374), ('amar', 0.6354799866676331), ('ótima', 0.6341103911399841), ('muito_bom_e', 0.6340728402137756), ('o_hotel_está', 0.6272315979003906), ('novilhote', 0.6267523169517517), ('recomendo_a_todos', 0.6265847682952881), ('uma_excelente_opção', 0.6262083649635315), ('acomodação', 0.619823157787323), ('de_fácil_acesso', 0.6160539984703064)]\n",
     "output_type": "stream"
    }
   ]
  },
  {
   "cell_type": "markdown",
   "source": "## Word2vec CBOW",
   "metadata": {
    "tags": [],
    "cell_id": "00004-3200867e-f1b4-47d0-ac13-b68e4dc38677",
    "deepnote_cell_type": "text-cell-h2"
   }
  },
  {
   "cell_type": "code",
   "metadata": {
    "tags": [],
    "cell_id": "00004-8f30c6ec-3ddd-4561-9718-e8b313454523",
    "deepnote_to_be_reexecuted": false,
    "source_hash": "ae824b9a",
    "execution_start": 1621381288230,
    "execution_millis": 107,
    "deepnote_cell_type": "code"
   },
   "source": "w2v_model_skip = Word2Vec.load('/work/undergrad-thesis-project/tripAdvisor/models/word2vec-CBOW.model')\nprint(w2v_model_skip.wv.most_similar('hotel'))",
   "execution_count": 4,
   "outputs": [
    {
     "name": "stdout",
     "text": "[('recomendar', 0.9520057439804077), ('nyc', 0.9397908449172974), ('a_me_hospedar', 0.9256471991539001), ('acomodação', 0.9237832427024841), ('é_um_hotel', 0.9217928051948547), ('estrelo', 0.9204279184341431), ('certeza', 0.9141597747802734), ('a_localização_é', 0.9092726111412048), ('adorar', 0.907103419303894), ('dúvida', 0.9010106921195984)]\n",
     "output_type": "stream"
    }
   ]
  },
  {
   "cell_type": "markdown",
   "source": "## Glove",
   "metadata": {
    "tags": [],
    "cell_id": "00006-833f025d-ed34-46f5-8b3a-5c2733335e0b",
    "deepnote_cell_type": "text-cell-h2"
   }
  },
  {
   "cell_type": "code",
   "metadata": {
    "tags": [],
    "cell_id": "00006-791e2a30-38aa-42f2-ab8d-7bc4a8acba6b",
    "deepnote_to_be_reexecuted": false,
    "source_hash": "feb36b40",
    "execution_start": 1621381288334,
    "execution_millis": 284,
    "deepnote_cell_type": "code"
   },
   "source": "tmp_file = \"glove2word2vec.txt\"\nfrom gensim.scripts.glove2word2vec import glove2word2vec\nglove2word2vec('/work/undergrad-thesis-project/tripAdvisor/models/glove.model', tmp_file)\nglove_model = KeyedVectors.load_word2vec_format(tmp_file)\n\nprint(glove_model.most_similar(positive='cafe_da_manha', topn=20))",
   "execution_count": 5,
   "outputs": [
    {
     "name": "stderr",
     "text": "/shared-libs/python3.7/py-core/lib/python3.7/site-packages/ipykernel_launcher.py:3: DeprecationWarning: Call to deprecated `glove2word2vec` (KeyedVectors.load_word2vec_format(.., binary=False, no_header=True) loads GLoVE text vectors.).\n  This is separate from the ipykernel package so we can avoid doing imports until\n[('incluso_na_diária', 0.81151282787323), ('fartar', 0.6670592427253723), ('incluso', 0.6521973609924316), ('café_da_manhã', 0.6285644173622131), ('café_da_manha', 0.6003889441490173), ('cafe', 0.5599513649940491), ('variedade', 0.5539577007293701), ('manha', 0.5447210669517517), ('pôr', 0.5378235578536987), ('bufete', 0.5255171656608582), ('tomar', 0.5244672894477844), ('de_boa_qualidade', 0.5091553926467896), ('básico', 0.497256338596344), ('servir', 0.4939521551132202), ('euros_por_pessoa', 0.47873514890670776), ('da_manhã_muito', 0.47611376643180847), ('eh', 0.46626782417297363), ('incluir', 0.46319159865379333), ('variar', 0.46163997054100037), ('café', 0.45974114537239075)]\n",
     "output_type": "stream"
    }
   ]
  },
  {
   "cell_type": "markdown",
   "source": "## Wang2vec",
   "metadata": {
    "tags": [],
    "cell_id": "00009-3fa2d8fc-1882-4957-84bc-da6f9ccdb897",
    "deepnote_cell_type": "text-cell-h2"
   }
  },
  {
   "cell_type": "code",
   "metadata": {
    "tags": [],
    "cell_id": "00010-e424bb15-1192-4a63-a693-6bdaec1488c3",
    "deepnote_to_be_reexecuted": false,
    "source_hash": "fc0e97ae",
    "execution_start": 1621381288621,
    "execution_millis": 111,
    "deepnote_cell_type": "code"
   },
   "source": "import gensim.models.keyedvectors as word2vec\nwang_model = word2vec.KeyedVectors.load_word2vec_format('/work/undergrad-thesis-project/tripAdvisor/models/wang2vec-cwindow.model', binary=True, encoding='utf-8')\n\n",
   "execution_count": 6,
   "outputs": []
  },
  {
   "cell_type": "code",
   "metadata": {
    "tags": [],
    "cell_id": "00010-cf47ca97-13f5-4041-89e5-3889a9f8a8ac",
    "deepnote_to_be_reexecuted": false,
    "source_hash": "67cf68cb",
    "execution_start": 1621381288742,
    "execution_millis": 10,
    "deepnote_cell_type": "code"
   },
   "source": "w2v_model_skip.wv.similarity(w1=\"hotel\",w2=\"acomodação\")",
   "execution_count": 7,
   "outputs": [
    {
     "output_type": "execute_result",
     "execution_count": 7,
     "data": {
      "text/plain": "0.9237833"
     },
     "metadata": {}
    }
   ]
  },
  {
   "cell_type": "code",
   "metadata": {
    "tags": [],
    "cell_id": "00012-09dfaed1-38e9-4ee1-a468-0e4df43276de",
    "deepnote_to_be_reexecuted": false,
    "source_hash": "b31fd813",
    "execution_start": 1621381288753,
    "execution_millis": 1,
    "deepnote_cell_type": "code"
   },
   "source": "\n",
   "execution_count": 7,
   "outputs": []
  },
  {
   "cell_type": "markdown",
   "source": "<a style='text-decoration:none;line-height:16px;display:flex;color:#5B5B62;padding:10px;justify-content:end;' href='https://deepnote.com?utm_source=created-in-deepnote-cell&projectId=a5cf3ea2-750b-4fc7-8242-5eefd4212f21' target=\"_blank\">\n<img alt='Created in deepnote.com' style='display:inline;max-height:16px;margin:0px;margin-right:7.5px;' src='data:image/svg+xml;base64,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' > </img>\nCreated in <span style='font-weight:600;margin-left:4px;'>Deepnote</span></a>",
   "metadata": {
    "tags": [],
    "created_in_deepnote_cell": true,
    "deepnote_cell_type": "markdown"
   }
  }
 ],
 "nbformat": 4,
 "nbformat_minor": 2,
 "metadata": {
  "orig_nbformat": 2,
  "deepnote": {
   "is_reactive": false
  },
  "deepnote_notebook_id": "b81e6dc3-b69e-4a9d-908e-cca1d91e4848",
  "deepnote_execution_queue": []
 }
}