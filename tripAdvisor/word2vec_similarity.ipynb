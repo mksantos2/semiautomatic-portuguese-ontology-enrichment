{
 "cells": [
  {
   "cell_type": "markdown",
   "source": "# TripAdvisor WE",
   "metadata": {
    "tags": [],
    "cell_id": "00000-f9fa8aba-cf00-4673-85e9-5c570f91e0f7",
    "deepnote_cell_type": "text-cell-h1"
   }
  },
  {
   "cell_type": "code",
   "metadata": {
    "tags": [],
    "cell_id": "00000-8d9aeadd-6db4-4d32-a8e0-1336bc8d7d5d",
    "deepnote_to_be_reexecuted": false,
    "source_hash": "56bc0e91",
    "execution_start": 1622208289994,
    "execution_millis": 6075,
    "deepnote_cell_type": "code"
   },
   "source": "!pip install gensim",
   "outputs": [
    {
     "name": "stdout",
     "text": "Collecting gensim\n  Downloading gensim-4.0.1-cp37-cp37m-manylinux1_x86_64.whl (23.9 MB)\n\u001b[K     |████████████████████████████████| 23.9 MB 18.5 MB/s \n\u001b[?25hRequirement already satisfied: scipy>=0.18.1 in /shared-libs/python3.7/py/lib/python3.7/site-packages (from gensim) (1.6.3)\nRequirement already satisfied: smart-open>=1.8.1 in /shared-libs/python3.7/py/lib/python3.7/site-packages (from gensim) (3.0.0)\nRequirement already satisfied: numpy>=1.11.3 in /shared-libs/python3.7/py/lib/python3.7/site-packages (from gensim) (1.19.5)\nRequirement already satisfied: requests in /shared-libs/python3.7/py/lib/python3.7/site-packages (from smart-open>=1.8.1->gensim) (2.25.1)\nRequirement already satisfied: certifi>=2017.4.17 in /shared-libs/python3.7/py/lib/python3.7/site-packages (from requests->smart-open>=1.8.1->gensim) (2020.12.5)\nRequirement already satisfied: idna<3,>=2.5 in /shared-libs/python3.7/py/lib/python3.7/site-packages (from requests->smart-open>=1.8.1->gensim) (2.10)\nRequirement already satisfied: urllib3<1.27,>=1.21.1 in /shared-libs/python3.7/py/lib/python3.7/site-packages (from requests->smart-open>=1.8.1->gensim) (1.26.5)\nRequirement already satisfied: chardet<5,>=3.0.2 in /shared-libs/python3.7/py/lib/python3.7/site-packages (from requests->smart-open>=1.8.1->gensim) (3.0.4)\nInstalling collected packages: gensim\nSuccessfully installed gensim-4.0.1\n",
     "output_type": "stream"
    }
   ],
   "execution_count": null
  },
  {
   "cell_type": "code",
   "metadata": {
    "tags": [],
    "cell_id": "00000-dd5fe887-b1de-474d-b5a9-1a11f4b0c80e",
    "deepnote_to_be_reexecuted": false,
    "source_hash": "ac3e0a2d",
    "execution_start": 1622208296075,
    "execution_millis": 2107,
    "deepnote_cell_type": "code"
   },
   "source": "from gensim.models.word2vec import Text8Corpus\nfrom gensim.models import Word2Vec, KeyedVectors\nimport numpy as np\nimport pandas as pd\nfrom gensim.models import KeyedVectors\nfrom gensim.models import FastText",
   "outputs": [
    {
     "name": "stderr",
     "text": "/root/venv/lib/python3.7/site-packages/gensim/similarities/__init__.py:15: UserWarning: The gensim.similarities.levenshtein submodule is disabled, because the optional Levenshtein package <https://pypi.org/project/python-Levenshtein/> is unavailable. Install Levenhstein (e.g. `pip install python-Levenshtein`) to suppress this warning.\n  warnings.warn(msg)\n",
     "output_type": "stream"
    }
   ],
   "execution_count": null
  },
  {
   "cell_type": "markdown",
   "source": "# Word Embeddings",
   "metadata": {
    "tags": [],
    "cell_id": "00002-c3e859fd-8a44-42c9-b8bc-c679acd0bdf5",
    "deepnote_cell_type": "text-cell-h1"
   }
  },
  {
   "cell_type": "markdown",
   "source": "## Word2Vec SkipGram",
   "metadata": {
    "tags": [],
    "cell_id": "00002-4d71ea4c-81dd-4d5d-8c20-5c14ebcd0a4a",
    "deepnote_cell_type": "text-cell-h2"
   }
  },
  {
   "cell_type": "code",
   "metadata": {
    "tags": [],
    "cell_id": "00001-ee7385f0-420c-4b41-bf9f-7800db0fe110",
    "deepnote_to_be_reexecuted": false,
    "source_hash": "ba181f1c",
    "execution_start": 1622208298177,
    "execution_millis": 139,
    "deepnote_cell_type": "code"
   },
   "source": "w2v_model_skip = Word2Vec.load('/work/undergrad-thesis-project/tripAdvisor/models/word2vec-Skip-Gram.model')\nprint(w2v_model_skip.wv.most_similar('hotel'))",
   "outputs": [
    {
     "name": "stdout",
     "text": "[('e_o_preço', 0.6771207451820374), ('amar', 0.6354799866676331), ('ótima', 0.6341103911399841), ('muito_bom_e', 0.6340728402137756), ('o_hotel_está', 0.6272315979003906), ('novilhote', 0.6267523169517517), ('recomendo_a_todos', 0.6265847682952881), ('uma_excelente_opção', 0.6262083649635315), ('acomodação', 0.619823157787323), ('de_fácil_acesso', 0.6160539984703064)]\n",
     "output_type": "stream"
    }
   ],
   "execution_count": null
  },
  {
   "cell_type": "markdown",
   "source": "## Word2vec CBOW - candidato 1",
   "metadata": {
    "tags": [],
    "cell_id": "00004-3200867e-f1b4-47d0-ac13-b68e4dc38677",
    "deepnote_cell_type": "text-cell-h2"
   }
  },
  {
   "cell_type": "code",
   "metadata": {
    "tags": [],
    "cell_id": "00004-8f30c6ec-3ddd-4561-9718-e8b313454523",
    "deepnote_to_be_reexecuted": false,
    "source_hash": "d537e845",
    "execution_start": 1622208298310,
    "execution_millis": 198,
    "deepnote_cell_type": "code"
   },
   "source": "w2v_model_cbow = Word2Vec.load('/work/undergrad-thesis-project/tripAdvisor/models/word2vec-CBOW.model')\nprint(w2v_model_cbow.wv.most_similar('hotel'))",
   "outputs": [
    {
     "name": "stdout",
     "text": "[('recomendar', 0.9520057439804077), ('nyc', 0.9397908449172974), ('a_me_hospedar', 0.9256471991539001), ('acomodação', 0.9237832427024841), ('é_um_hotel', 0.9217928051948547), ('estrelo', 0.9204279184341431), ('certeza', 0.9141597747802734), ('a_localização_é', 0.9092726111412048), ('adorar', 0.907103419303894), ('dúvida', 0.9010106921195984)]\n",
     "output_type": "stream"
    }
   ],
   "execution_count": null
  },
  {
   "cell_type": "markdown",
   "source": "## Glove",
   "metadata": {
    "tags": [],
    "cell_id": "00006-833f025d-ed34-46f5-8b3a-5c2733335e0b",
    "deepnote_cell_type": "text-cell-h2"
   }
  },
  {
   "cell_type": "code",
   "metadata": {
    "tags": [],
    "cell_id": "00006-791e2a30-38aa-42f2-ab8d-7bc4a8acba6b",
    "deepnote_to_be_reexecuted": false,
    "source_hash": "feb36b40",
    "execution_start": 1622208298501,
    "execution_millis": 418,
    "deepnote_cell_type": "code"
   },
   "source": "tmp_file = \"glove2word2vec.txt\"\nfrom gensim.scripts.glove2word2vec import glove2word2vec\nglove2word2vec('/work/undergrad-thesis-project/tripAdvisor/models/glove.model', tmp_file)\nglove_model = KeyedVectors.load_word2vec_format(tmp_file)\n\nprint(glove_model.most_similar(positive='cafe_da_manha', topn=20))",
   "outputs": [
    {
     "name": "stderr",
     "text": "/shared-libs/python3.7/py-core/lib/python3.7/site-packages/ipykernel_launcher.py:3: DeprecationWarning: Call to deprecated `glove2word2vec` (KeyedVectors.load_word2vec_format(.., binary=False, no_header=True) loads GLoVE text vectors.).\n  This is separate from the ipykernel package so we can avoid doing imports until\n[('incluso_na_diária', 0.81151282787323), ('fartar', 0.6670592427253723), ('incluso', 0.6521973609924316), ('café_da_manhã', 0.6285644173622131), ('café_da_manha', 0.6003889441490173), ('cafe', 0.5599513649940491), ('variedade', 0.5539577007293701), ('manha', 0.5447210669517517), ('pôr', 0.5378235578536987), ('bufete', 0.5255171656608582), ('tomar', 0.5244672894477844), ('de_boa_qualidade', 0.5091553926467896), ('básico', 0.497256338596344), ('servir', 0.4939521551132202), ('euros_por_pessoa', 0.47873514890670776), ('da_manhã_muito', 0.47611376643180847), ('eh', 0.46626782417297363), ('incluir', 0.46319159865379333), ('variar', 0.46163997054100037), ('café', 0.45974114537239075)]\n",
     "output_type": "stream"
    }
   ],
   "execution_count": null
  },
  {
   "cell_type": "markdown",
   "source": "## Wang2vec - candidato 2",
   "metadata": {
    "tags": [],
    "cell_id": "00009-3fa2d8fc-1882-4957-84bc-da6f9ccdb897",
    "deepnote_cell_type": "text-cell-h2"
   }
  },
  {
   "cell_type": "code",
   "metadata": {
    "tags": [],
    "cell_id": "00010-e424bb15-1192-4a63-a693-6bdaec1488c3",
    "deepnote_to_be_reexecuted": false,
    "source_hash": "fc0e97ae",
    "execution_start": 1622208298916,
    "execution_millis": 224,
    "deepnote_cell_type": "code"
   },
   "source": "import gensim.models.keyedvectors as word2vec\nwang_model = word2vec.KeyedVectors.load_word2vec_format('/work/undergrad-thesis-project/tripAdvisor/models/wang2vec-cwindow.model', binary=True, encoding='utf-8')\n\n",
   "outputs": [],
   "execution_count": null
  },
  {
   "cell_type": "code",
   "metadata": {
    "tags": [],
    "cell_id": "00010-cf47ca97-13f5-4041-89e5-3889a9f8a8ac",
    "deepnote_to_be_reexecuted": false,
    "source_hash": "1cb9850e",
    "execution_start": 1622208299145,
    "execution_millis": 22,
    "deepnote_cell_type": "code"
   },
   "source": "wang_model.similarity(w1=\"hotel\",w2=\"motel\")",
   "outputs": [
    {
     "output_type": "execute_result",
     "execution_count": 7,
     "data": {
      "text/plain": "0.8990697"
     },
     "metadata": {}
    }
   ],
   "execution_count": null
  },
  {
   "cell_type": "code",
   "metadata": {
    "tags": [],
    "cell_id": "00013-b7343c50-b124-428d-834c-a924e6db1878",
    "deepnote_to_be_reexecuted": false,
    "source_hash": "5161f495",
    "execution_start": 1622208299161,
    "execution_millis": 22,
    "deepnote_cell_type": "code"
   },
   "source": "print(wang_model.most_similar('hotel'))",
   "outputs": [
    {
     "name": "stdout",
     "text": "[('visitar', 0.9730081558227539), ('conhecer', 0.9726318120956421), ('parir', 0.9699099063873291), ('cidade', 0.9671316146850586), ('escolher', 0.9651351571083069), ('ficar', 0.9593891501426697), ('curtir', 0.958193302154541), ('táxi', 0.9558078646659851), ('ir', 0.9557232856750488), ('pretender', 0.95553058385849)]\n",
     "output_type": "stream"
    }
   ],
   "execution_count": null
  },
  {
   "cell_type": "code",
   "metadata": {
    "tags": [],
    "cell_id": "00012-09dfaed1-38e9-4ee1-a468-0e4df43276de",
    "deepnote_to_be_reexecuted": false,
    "source_hash": "61c3d865",
    "execution_start": 1622208299176,
    "execution_millis": 9,
    "deepnote_cell_type": "code"
   },
   "source": "\n#X = w2v_model_skip.wv.vocab",
   "outputs": [],
   "execution_count": null
  },
  {
   "cell_type": "code",
   "metadata": {
    "tags": [],
    "cell_id": "00014-126a4fea-28db-406a-bf33-751729d827d9",
    "deepnote_to_be_reexecuted": false,
    "source_hash": "4c693842",
    "execution_start": 1622208299196,
    "execution_millis": 671323265,
    "deepnote_cell_type": "code"
   },
   "source": "#print(X)",
   "outputs": [],
   "execution_count": null
  },
  {
   "cell_type": "code",
   "metadata": {
    "tags": [],
    "cell_id": "00015-f30e2c52-1ff4-4ef9-8ab7-be249b677d8e",
    "deepnote_to_be_reexecuted": false,
    "source_hash": "c42e4d06",
    "execution_start": 1622208299198,
    "execution_millis": 375,
    "deepnote_cell_type": "code"
   },
   "source": "!ls /datasets/cbowmodel",
   "outputs": [
    {
     "name": "stdout",
     "text": "cbow_s600.txt\r\n",
     "output_type": "stream"
    }
   ],
   "execution_count": null
  },
  {
   "cell_type": "code",
   "metadata": {
    "tags": [],
    "cell_id": "00017-8e99b0b5-b735-48dd-823e-a2d695ff0151",
    "deepnote_to_be_reexecuted": false,
    "source_hash": "9ce3a6d7",
    "execution_start": 1622208299569,
    "execution_millis": 3,
    "deepnote_cell_type": "code"
   },
   "source": "#from gensim.models import KeyedVectors\n#model = KeyedVectors.load_word2vec_format('/datasets/moni-drive/cbow_s600.txt')",
   "outputs": [],
   "execution_count": null
  },
  {
   "cell_type": "code",
   "metadata": {
    "tags": [],
    "cell_id": "00018-ec099dcb-66c9-4e01-a24c-5b51bb6c105c",
    "deepnote_to_be_reexecuted": false,
    "source_hash": "b623e53d",
    "execution_start": 1622208299577,
    "execution_millis": 1,
    "deepnote_cell_type": "code"
   },
   "source": "",
   "outputs": [],
   "execution_count": null
  },
  {
   "cell_type": "markdown",
   "source": "### Extração do dicionário com TripAdvisor",
   "metadata": {
    "tags": [],
    "cell_id": "00018-67b0fe83-b795-4824-9f2d-e0f8b56a515d",
    "deepnote_cell_type": "text-cell-h3"
   }
  },
  {
   "cell_type": "markdown",
   "source": "- **Primeiro passo** : extrair todas os substantivos (NOUN) do dicionário (dict.txt)\n- **Segundo passo** : fazer uma cópia do dataset da ontologia e remover bi-grams e tri-grams\n- **Terceiro passo** : começar a comparar os termos da primeira coluna(termo1) com os NOUNs filtrados\n- **Quarto passo** : Se a similaridade for >=0.96 ele add no dataset com <novo_termo is_a termo2> e >=0.99 <novo_termo is_similar termo1>\n- **Quinto passo** : transformar as relações de is_a(hiponimia) em is_superclass_of(hiperonimia)",
   "metadata": {
    "tags": [],
    "cell_id": "00020-1a7da1c1-0ae3-46f5-b0b7-fb4d3933e4a8",
    "deepnote_cell_type": "markdown"
   }
  },
  {
   "cell_type": "markdown",
   "source": "### 1º passo",
   "metadata": {
    "tags": [],
    "cell_id": "00020-56abdfb6-fefe-4a15-9de6-5f7d85cad327",
    "deepnote_cell_type": "text-cell-h3"
   }
  },
  {
   "cell_type": "code",
   "metadata": {
    "tags": [],
    "cell_id": "00022-5dff944a-1e3f-4428-bd9e-e283c6593461",
    "deepnote_to_be_reexecuted": false,
    "source_hash": "30f07054",
    "execution_start": 1622208299586,
    "execution_millis": 0,
    "deepnote_cell_type": "code"
   },
   "source": "from re import search",
   "outputs": [],
   "execution_count": null
  },
  {
   "cell_type": "code",
   "metadata": {
    "tags": [],
    "cell_id": "00019-10ec6a86-b03a-4d0e-ab81-ca1c01efa5cc",
    "deepnote_to_be_reexecuted": false,
    "source_hash": "c4c64383",
    "execution_start": 1622208299589,
    "execution_millis": 63,
    "deepnote_cell_type": "code"
   },
   "source": "with open('dict.txt', \"r\") as file1:\n    dic = file1.readlines()\n\nfor x in dic:\n    tripAdvisor = eval(x)\n\nprint(\"total len:\", len(tripAdvisor))\n\n",
   "outputs": [
    {
     "name": "stdout",
     "text": "total len: 11356\n",
     "output_type": "stream"
    }
   ],
   "execution_count": null
  },
  {
   "cell_type": "code",
   "metadata": {
    "tags": [],
    "cell_id": "00022-b4c759da-8a06-4ad3-9061-5f96187fbd30",
    "deepnote_to_be_reexecuted": false,
    "source_hash": "5e540344",
    "execution_start": 1622208299647,
    "execution_millis": 15,
    "deepnote_cell_type": "code"
   },
   "source": "nouns = [k for k, v in tripAdvisor.items() if v=='NOUN' ]\nprint(nouns)\n\nprint(len(nouns))",
   "outputs": [
    {
     "name": "stdout",
     "text": "['are', 'parador', 'hotel', 'madridistas', 'autoestrada', 'min', 'cheirar', 'tabaco', 'noite', 'dez/0000', 'hotel_é_muito', 'surpreso', 'reputação', 'francês', 'cordialidade', 'pronto', 'próximo_ao_metrô', 'vizinhança', 'champa', 'melesses', 'preço', 'época', 'uma_ótima_opção', 'ópera', 'lugar', 'interessar', 'suíte', 'decoração', 'funcionalidade', 'som', 'banhar', 'viagem', 'sentir', 'casar', 'atenção', 'diferençar', 'prazer', 'fotos_do_site', 'realidade', 'roer', 'acreditar', 'que_os_outros', 'quarto', 'impressionar', 'categoria', 'sorriso', 'rostir', 'próxima_vez_que', 'ler', 'pontar', 'restaurante', 'chefe', 'eril', 'estrelo', 'antecedência', 'terno', 'criança', 'paletó', 'cliente', 'aniversário', 'casamentar', 'cidade', 'comemoração', 'sair', 'monumento', 'toru', 'arco_do_triunfo', 'experiência', 'vidar', 'limpar', 'o_serviço_de', 'bar', 'fitocrenes', 'equipamento', 'ano', 'cafe', 'patio', 'joia', 'mínimo', 'detalhe', 'capítulo', 'partir', 'pessoal', 'recepção', 'passeio', 'frutar', 'quadrar', 'euro', 'muito_a_pena', 'a_este_hotel', 'estilar', 'bagunça', 'hotel_fica_em', 'girardínia', 'ruir', 'luxemburgia', 'rue', 'ousar', 'parque', 'simoniense', 'tinto', 'sene', 'esquerdo', 'incluso', 'sortir', 'atendimento', 'caro', 'espaçar', 'banheiro', 'iluminação', 'bacana', 'confortar', 'facilidade', 'ambientar', 'filho', 'para_os_padrões', 'entrar', 'jardim', 'pequeno', 'semana', 'julho', 'decepção', 'dica', 'maravilhoso', 'corrido', 'padaria', 'distância', 'quarteirão', 'recomendo_este_hotel', 'apartamento', 'elevador', 'visto', 'e_é_muito', 'vezar', 'vez', 'lindo', 'excelente', 'restaurantes_e_lojas', 'transformar', 'reformar', 'em_um_bairro', 'estações_de_metro', 'republicar', 'jaque', 'canal', 'foto', 'duchar', 'anti', 'prejuízo', 'localização', 'o_dia_inteiro', 'nas_proximidades_do', 'mercar', 'vinho', 'a_menos_de', 'arar', 'turístico', 'frequência', 'morador', 'aperitivo', 'movimentação', 'estender', 'atar', 'outar', 'são_muito_atenciosos', 'atracão', 'mesa', 'no_cheque_in', 'checar', 'linhas_de_metro', 'cafe_da_manha', 'variedade', 'cereal', 'maire', 'lado_do_hotel', 'viajar', 'malo', 'profissionalismo', 'diretor', 'menção', 'seta', 'moneco', 'competente', 'solicitação', 'pessoa', 'serviço', 'família', 'charme', 'super', 'filar', 'de_um_hotel', 'de_bom_tamanho', 'ao_lado_do', 'gauche', 'nacionalidade', 'português', 'por_0_noites', 'ótimas', 'tranquilo', 'o_cheque_out', 'prestativo', 'indicação', 'ponto', 'sendo_que_o', 'dias_em_paris', 'por_ser_um', 'muitos_restaurantes_e', 'recepcionista', 'momento', 'obter', 'informação', 'hospedados_no_hotel', 'maridar', 'hospedagem', 'com_certeza_o', 'dedicação', 'tamanho', 'padrar', 'de_primeira_linha', 'luxar', 'comentário', 'amor', 'fama', 'grosseria', 'era_muito_confortável', 'varanda', 'do_hotel_também', 'necessidade', 'coisa', 'mantar', 'solícito', 'vespa', 'a_região_é', 'e_com_certeza', 'metro', 'o_tamanho_dos', 'variar', 'de_0000_e', 'deliciar', 'meter', 'sainte', 'boemia', 'próximo_do_metro', 'conhecer_a_cidade', 'hotel_em_paris', 'todas_as_vezes', 'e_excelente_localização', 'uma_das_melhores', 'contato', 'disposição', 'upgrade', 'ficar_perto_de', 'quartilhar', 'avinca', 'campino', 'qualidade', 'de_todo_o', 'os_quartos_são', 'expectativa', 'estação', 'crepe', 'rir', 'amigo', 'instalação', 'o_que_ajuda', 'e_a_localização', 'perto_de_estações', 'hospedada_no_hotel', 'duvidar', 'com_direito_a', 'que_fala_português', 'shopping', 'opções_de_alimentação', 'é_uma_delícia', 'recomendo_esse_hotel', 'novembro', 'a_cidade_e', 'sinal', 'elogio', 'relação', 'benefício', 'portar', 'ele_não_é', 'final', 'internet', 'mear', 'a_recepção_é', 'velocidade', 'a_torre_Eiffel', 'na_hora_de', 'domingo', 'sapato', 'muvuca', 'quartos_são_pequenos', 'comprometer', 'tripartidismo', 'vontade', 'cozinhar', 'refeição', 'sabor', 'batata', 'quentar', 'maneiro', 'o_ponto_forte', 'forcar', 'adoramos_o_hotel', 'quarto_é_pequeno', 'dente', 'café', 'com_uma_decoração', 'acesso', 'a_todos_os', 'em_frente_tem', 'mercadinho', 'net', 'eu_e_meu', 'princípio', 'tamanho_do_quarto', 'o_quarto_e', 'limpo', 'roupa_de_cama', 'cobrado_a_parte', 'dinheiro', 'apertar', 'graça', 'fica_numa_rua', 'restaurantes_ao_redor', 'diervillas', 'conexão', 'linha', 'decoradinho', 'bastante_confortável_e', 'a_simpatia_e', 'prestatividade', 'opção', 'o', 'bem_localizado_em', 'funcionário', 'no_mesmo_hotel', 'a_0_quadras', 'interior', 'redar', 'recomendado', '0º', 'boutique', 'nível', 'comunicação', 'pão', 'bolo', 'pepino', 'chá', 'água', 'deca', 'ipo', 'táxi', 'museu', 'loeis', 'nuitone', 'estação_de_metro', 'construção', 'manha', 'posse', 'centrar', 'usinenses', 'a_duas_quadras', 'box', 'modo', 'bango', 'chão', 'um_pouco_caro', 'agradecer', 'bonito', 'romneia', 'italianofílicos', 'inglês', 'corar', 'hotel_com_localização', 'que_já_fiquei', 'janela_do_quarto', 'cama', 'lençol', 'fechamento', 'uma_excelente_localização', 'quarto_e_banheiro', 'minha_lua_de', 'café_da_manha', 'saudade', 'toalha', 'peno', 'são_muito_bons', 'geleia', 'cafeterias', 'classificar', 'estadia_no_hotel', 'apoiar', 'criticar', 'cultura', 'o_hotel_é', 'dia', 'estada_no_hotel', 'gramonta', 'acolhimento', 'panorama', 'equipe_do_hotel', 'muito_prestativo_e', 'padrão', 'e_o_metro', 'com_várias_opções', 'gentil', 'com_a_família', 'regrar', 'numa_rua_tranquila', 'dúvida', 'noto', 'em_termos_de', 'simpático_e_prestativo', 'quadra_do_metro', 'setembro_de_0000', 'locar', 'simpatia_dos_funcionários', 'mecanorrecepção', 'invernar', 'passagem', 'sala', 'hóspede', 'horar', 'do_hotel_em', 'motorista', 'mapa', 'recomendação', 'sucesso', 'pro', 'clássico', 'eleenses', 'diário', 'dependência', 'do_hotel_são', 'pelo_menos_no', 'dá_para_ir', 'dentro_dos_padrões', 'de_excelente_qualidade', 'higiene', 'manhã', 'à_torre_Eiffel', 'educados_e_atenciosos', 'localizado_perto_de', 'novamente_neste_hotel', 'gerente', 'posturar', 'classe', 'av', 'montanismo', 'loja', 'belo', 'perto', 'do_Louvre_e', 'convite', 'com_um_stafe', 'dificuldade', 'produto', 'e_um_banheiro', 'separar', 'andar_alto_e', 'extra', 'é_excelente_e', 'almoçar', 'prato', 'sobremesa', 'procedimentalização', 'gentilíssimo', 'gardnerela', 'top', 'tecnologia', 'ruim', 'para_um_hotel', 'vantagem', 'legionella', 'moderno', 'fluxo', 'lobó', 'ser_um_hotel', 'tecá', 'e_muito_confortável', 'musicar', 'a_nossa_estadia', 'horário', 'alojamento', 'e_tem_um', 'contrário', 'serviço_do_hotel', 'julgar', 'LV', 'que_não_tem', 'excelência', 'mola', 'fruir', 'rei', 'cuidadoso', 'paz', 'bêbado', 'aliar', 'o_café_da', 'ótima_localização_e', 'para_quem_gosta', 'confirmar', '0h', 'combinar', 'lenço', 'papel', 'revisão', 'manchar', 'e_o_banheiro', 'spa', 'de_tudo_é', 'atrações', 'confusão', 'agitação', 'definição', 'tratamento', 'celebridade', 'aglomeração', 'recomendo_com_certeza', 'resort', 'mundo', 'copiar', 'extensão', 'no_segundo_dia', 'omelete', 'claro', 'coroar', 'cassino', 'reclamação', 'serviços_do_hotel', 'problema', 'em_las_vejas', 'e_não_se', 'agitar', 'a_las_vejas', 'o_serviço_é', 'restar', 'lanche', 'drinques', 'lavabo', 'rail', 'percurso', 'monte', 'ária', 'louvor', 'lazer', 'cheio', 'da_mesma_rede', 'valor', 'e_não_muito', 'é_muito_bom', 'valete', 'cristal', 'trem', 'gratuito', 'tranquilidade', 'de_cheque_in', 'verdade', 'por_0_dias', 'tudo_muito_limpo', 'louça', 'estacionamento', 'manobrista', 'gente', 'cabimento', 'ao_lado_da', 'carro', 'muito_gentil_e', 'muito_boa_a', 'estadia_neste_hotel', 'o_custo_benefício', 'é_muito_confortável', 'acesso_à_internet', 'perguntar', 'chequezinho', 'senha', 'cortesia', 'parangina', 'e_um_hotel', 'misto', 'com_0_camas', 'queneu', 'sisar', 'impressor', 'TV', 'pio', 'travesseiro', 'atendimento_na_recepção', 'fax', 'mais_a_pena', 'minicafé', 'sensor', 'negociação', 'estrutura_do_hotel', 'apalazo', 'praça_de_alimentação', 'torsor', 'convenção', 'fim', 'grátis', 'estruturar', 'roubar', 'pertencer', 'leitura', 'advogar', 'durante_todo_o', 'país', 'segurança', 'gradar', 'ao_mesmo_tempo', 'kung', 'com_um_banheiro', 'de_bom_gosto', 'magnético', 'mexer', 'item', 'os_elevadores_são', 'campar', 'montanha', 'o_quarto_é', 'fé', 'requintar', 'ventania', 'fluir', 'massagem', 'área', 'controlo', 'impressora', 'cabano', 'para_quem_quer', 'os_preços_são', 'todos_os_outros', 'desá', 'veneziano', 'locação', 'no_brasil_e', 'pacote', 'seguro', 'grifar', 'cadastrar', 'sistema', 'ofertar', 'diversão', 'adulto', 'funcionários_muito_atenciosos', 'prestigiar', 'wynn', 'segunda_vez_que', 'Serviço', 'hotéis_de_vejas', 'que_você_precisa', 'um_grupo_de', 'pentelhos', 'suítes', 'm²', 'para_0_pessoas', 'em_00_minutos', 'ingresso', 'na_porta_do', 'circular', 'casino', 'circo', 'dentro_do_hotel', 'show', 'hospedado_no_hotel', 'cavalar', 'vidrar', 'fonte', 'apresentação', 'onico', 'cartão', 'completo', 'cafona', 'idade', 'hall', 'bufete', 'cigarrar', 'fica_próximo_a', 'aconselhar', 'cerque_dl_solei', 'espetáculo', 'lago', 'e_a_decoração', 'é_bem_confortável', 'chique', 'corredor', 'público', 'bagagem', 'motivar', 'dobrar', 'costa', 'velar', 'duchinha', 'barulhar', 'ficar_em_um', 'tesno', 'de_las_vejas', 'restrição', 'acomodação', 'confortável', 'o_onico_problema', 'preferencia', 'chechene', 'a_noite_o', 'tempo', 'm', 'voltarei_com_certeza', 'proxema', 'lobby_do_hotel', 'salão', 'beleza', 'hermes', 'atração', 'natal', 'dichotesco', 'que_era_o', 'fontes_do_legionella', 'mármore', 'mito', 'a_opção_de', 'televisão', 'voltaria_com_certeza', 'hotel_é_excelente', 'arrependimento', 'muito_confortável_e', 'hotel_é_ótimo', 'preferir', 'novo', 'é_um_hotel', 'status', 'las_vejas_e', 'espetáculos', 'performance', 'cobrança', 'obrigatório', 'objeto', 'a_excelente_localização', 'não_tivemos_problema', 'para_chegar_ao', 'classificação', 'u$', 'habitação', 'condição', 'duplo', 'a_porta_do', 'código', 'travar', 'telefonar', 'tás', 'um_dos_melhores', 'ar', 'recortar', 'é_a_localização', 'japonês', 'q', 'agência', 'central', 'lua_de_mel', 'maio', 'hospedar_neste_hotel', 'cheche', 'situação', 'negócio', 'noites_neste_hotel', 'na£o', 'dã£o', '©', 'inglesar', 'o_hotel_e', 'frontal', 'ficamos_em_um', 'folego', 'dimensão', 'estilo', 'em_um_hotel', 'vip', 'custo_x_benefício', 'fevereiro', 'hotel_que_é', 'hotel_é_enorme', 'cheiro_de_cigarro', 'tem_um_tamanho', 'safar', 'par', 'calor', 'grandiosidade', 'doce', 'cascata', 'chocolate', 'o_que_não', 'perfeição', 'arrumadeira', 'área_da_piscina', 'salvo', 'garçons', 'mercadinhos', 'tarifar', 'aquecido', 'espatulo', 'chinar', 'no_hotel_é', 'fartar', 'otimismo', 'o_show_do', 'solei', 'comprinhas', 'novamente_com_certeza', 'todos_os_hotéis', 'e_fiquei_muito', 'boatar', 'cubar', 'sonhar', 'balançar', 'pesar', 'orar', 'idor', 'eguci', 'comum', 'foi_uma_experiência', 'cadeira', 'sombra', 'o_dia_todo', 'e_todas_as', 'mobiliário', 'tumulto', 'odor', 'deslocamento', 'pode_ser_feito', 'burocracia', 'local', 'observação', 'maquinar', 'e_minha_filha', 'histerorreico', 'cardápio', 'encore', 'toner', 'com_uma_vista', 'privacidade', 'uma_boa_opção', 'o_cafe_da', 'entretanto', 'chelense', 'iogurte', 'história', 'quarto_com_vista', 'hoteleiro', 'temporada', 'de_0_dias', 'complexo', 'light', 'da_Strip_e', 'las_vejas_é', 'o_que_se', 'tendo_em_vista', 'o_tamanho_do', 'andares_mais_altos', 'cinema', 'memorável', 'desconto', 'hatamas', 'reversor', 'o_hotel_em', 'divino', 'setembro', 'online', 'ingressar', 'acionamento', 'distanciar', 'assentir', 'e_o_melhor', 'exemplo', 'título', 'curiosidade', 'no_hotel_e', 'a_vista_é', 'hotelaria', 'desde_a_recepção', 'isolamento', 'capacidade', 'jogo', 'restaurantes_do_hotel', 'fashionismo', 'greenalitas', 'societário', 'hotel_fica_na', 'fato', 'razão', 'vaziar', 'sugestão', 'conhecimento', 'rotina', 'fortuna', 'quartos_são_grandes', 'feio', 'viciar', 'depressão', 'substrutura', 'curatá', 'DI', 'ilegimabilidade', 'pulinha', 'segar', '00/00/00', 'com_a_qualidade', 'período', 'e_com_um', 'casal', 'taxar', 'e_gostei_muito', 'roupas_de_cama', 'confortabilíssimas', 'a_localização_é', 'festa', 'caçar', 'reticuloendoteliose', 'xês', 'pool', 'estrepar', 'tapete', 'aparelho', 'não_me_engano', 'unidade', 'radiotelefonema', 'vermelhar', 'fica_um_pouco', 'é_um_ponto', 'para_las_vejas', 'com_a_minha', 'por_um_preço', 'prático', 'gastronomia', 'aluguel', 'veículo', 'comodidade', 'pessoal_atencioso_e', 'fugir', 'fiquei_00_dias', 'flexibilidade', 'ourar', 'multidão', 'gio', 'a_vista_para', 'oportunidade', 'otinas', 'baratar', 'tem_ótima_localização', 'clubinho', 'o_atendimento_e', 'psi', 'cina', 'organização', 'luxuoso', 'encantador', 'comedir', 'máquina', 'tipo', 'promoção', 'cardar', 'calmo', 'c', 'monossacarose', 'transordinário', 'localização_dele_é', 'perda', 'documentar', 'insistência', 'em_outro_hotel', 'acessório', 'beladônio', 'novidade', 'sem_dúvida_o', 'fantasiar', 'direito', 'automação', 'melcomano', 'mais_de_00', 'centena', 'bolsar', 'gasto', 'do_que_se', 'paulo', 'lacar', 'baladeiro', 'ótimas_opções_de', 'polos', 'comparação', 'tablacho', 'golfar', 'a_piscina_é', 'garrafa', 'retirar', 'segundo', 'gelar', 'defeito', 'não_é_o', 'e_ótima_localização', 'conservação', 'orgulhar', 'palácio', 'lassidez', 'puro', 'banheira', 'caconso', 'nome', 'e_além_de', 'felicidade', 'relógio', 'investigação', 'lembrança', 'salo', 'quarto_do_hotel', 'em_poucos_minutos', 'piano', 'insatisfação', 'minar', 'baldar', 'fodiás', 'aromar', 'rapidez', 'loja_de_conveniência', 'agradável', 'sol', 'é_muito_bonito', 'sair_do_hotel', 'uma_vista_linda', 'triprosopia', 'geladeira', 'fogão', 'pessoal_do_hotel', 'amazona', 'hábito', 'dólar', 'com_este_hotel', 'outubro', 'ligação', 'desonestidade', 'raro', 'exceções', 'auxílio', 'transportar', 'para_a_recepção', 'só', 'um_serviço_de', 'mg', 'limpeza_do_quarto', 'onda', 'utensílio', 'saguão', 'aprox', 'minuto', 'mu', 'parabém', 'hotel_é_moderno', 'apart', 'noticiário', 'rolante', 'longe', 'eletricidade', 'colchão', 'e_com_vista', 'infraestrutura', 'panela', 'frigideira', 'micro', 'sofá', 'funcionários_educados_e', 'os_funcionários_são', 'apostador', 'hote', 'fidalguelho', 'medo', 'ture', 'veneficiar', 'dois', 'torradeira', 'não_possui_cassino', 'esteirar', 'voar', 'nêuston', 'mail', 'para_o_hotel', 'presidente', 'indenização', 'comigo', 'portlandiano', 'apo', 'manifestação', 'responsabilidade', 'poltrona', 'b', 'fantástico', 'córner', 'frequentador', 'evento', 'balcão', 'bastante', 'pras', 'interstadial', 'tom', 'copo', 'espelho', 'epinganho', 'estacionar', 'na_frente_do', 'a_poucos_passos', 'senhor', 'intercomunicador', 'privativo', 'vago', 'as_fontes_do', 'térreo', 'todos_os_dias', 'pisar', 'mar', 'no_meio_da', 'periodontoses', 'macio', 'calorão', 'fumegante', 'quartos_são_amplos', '00h', 'garagem', 'chave', 'aparelhagem', 'smogue', 'hotel_é_novo', 'o_acesso_à', 'atendimento_da_recepção', 'satisfatório', 'Sérgio', 'o_fato_de', 'de_um_dia', 'milhar', 'é_que_ele', 'uma_vez_que', 'locomoção', 'tramar', 'link', 'intenso', 'entanto', 'respeitar', 'admiração', 'o_hotel_esta', 'superfície', 'extremamente', 'ordem', 'principiar', 'maioria_dos_hotéis', 'preocupação', 'ausência', 'um_ponto_positivo', 'questão', 'ficamos_no_quarto', 'que_é_o', 'simplório', 'na_hora_do', 'um_bom_banho', 'termômetros', 'pressão', 'lanchar', 'isso_não_é', 'o_bufete_do', 'que_te_leva', 'modernidade', 'agilidade', 'e_muito_limpo', 'tem_uma_pequena', 'mas_acho_que', 'lado', 'persiano', 'monitor', 'com_o_que', 'uma_boa_cama', 'é_que_o', 'um_0_estrelas', 'em_outros_hotéis', 'conveniente', 'completíssimo', 'banheiro_com_banheira', 'foi_o_melhor', 'bem_em_frente', 'metroperitonítico', 'espaçoso', 'mimar', 'com_o_quarto', 'trecho', 'croissant', 'sanduíche', 'hotel_está_muito', 'circulação', 'copto', 'fornir', 'obrar', 'secador_de_cabelos', 'quarto_amplo_e', 'com_as_malas', 'um_pouco_de', 'forçar', 'quarto_que_era', 'milha', 'opções_de_restaurantes', 'buá', 'dresdense', 'do_que_a', 'de_uma_reforma', 'custo_x_beneficio', 'desertá', 'localização_perto_da', 'disso_o_quarto', 'eletrodomésticos', 'atrapalhar', 'abusar', 'e_o_pior', 'este_hotel_a', 'enganação', 'sensação', 'insegurança', 'maioria', 'um_ótimo_hotel', 'todos_os_funcionários', 'modificação', 'perto_da_Strip', 'clima', 'residência', 'pessoal_da_recepção', 'ficar_neste_hotel', 'localização_é_perfeita', 'cortar', 'cervejar', 'legume', 'segurar', 'vigilância', 'da_recepção_muito', 'da_manha_muito', 'quinto', 'às_00_horas', 'lavanderia', 'sábado', 'viajante', 'atento', 'para_chegar_aos', 'caso', 'bulevardeiras', 'barato', 'mas_é_muito', 'botão', 'voucher', 'todos_os_quartos', 'para_as_crianças', 'explicação', 'transferência', 'menino', 'mudança', 'incidente', 'apesar_de_termos', 'que_o_quarto', 'falho', 'arrumação', 'aceso', 'protocolo', 'légua', 'um_excelente_hotel', 'penúltimo', 'carismático', 'conceito', 'altura', 'pouco', 'alimentação', 'exceção', 'cartar', 'féria', 'ifi', 'fiquei_no_quarto', 'os_restaurantes_são', 'os_outros_hotéis', 'em_todas_as', 'requisição', 'a_alguns_passos', 'cama_confortável_e', 'andares_mais_baixos', 'trenzinho', 'vista_da_cidade', 'prostituto', 'ife', 'arquitetura', 'restaurante_do_hotel', 'e_o_preço', 'superprofessor', 'jovem', 'miolo', 'gigante', 'etapa', 'standard', 'móvel', 'patis', 'delicioso', 'umidificadores', 'e_tudo_mais', 'é_uma_cidade', 'amigar', 'orientação', 'e_foi_muito', 'e_gostamos_muito', 'agostar', 'vaso', 'noivar', 'avaliação', 'redondeza', 'dentro_do_próprio', 'comida', 'rápido', 'que_na_verdade', 'ferrar', 'com_outros_hotéis', 'bem_localizado_e', 'bedro', 'sky', 'comércio', 'alegrenses', 'temático', 'rede', 'para_todos_os', 'gosto', 'quedo', 'automático', 'lanchonetes', 'paciência', 'fachada', 'folgar', 'bom', 'alto', 'inconveniente', 'tarefar', 'excesso', 'cenário', 'suntuosidade', 'focar', 'fundir', 'palavra', 'afim', 'olho', 'restaurantes_e_bares', 'quarto_é_muito', 'tablete', 'intensidade', 'chalacista', 'quarto_era_enorme', 'cabeceira', 'painel', 'temperatura', 'de_0_minutos', 'de_cigarro_no', 'o_bufete_de', 'carne', 'amenidade', 'humor', 'bufar', 'para_cheque_in', 'na_minha_opinião', 'noite_de_sono', 'farmácia', 'serviço_de_quarto', 'mau', 'colcha', 'apto', 'bem_localizado_na', 'de_00_minutos', 'tela', 'tucho', 'muito_bom_mesmo', 'número', 'em_que_estive', 'é_o_hotel', 'satisfação', 'apesar_do_hotel', 'o_cheque_in', 'muito_boa_e', 'liquidificar', 'foi_o_que', 'lentar', 'novo_e_limpo', 'cheiroso', 'em_andar_alto', 'direto', 'opinião', 'vivo', 'paluncho', 'anexar', 'recomento', 'irmão', 'maciar', 'monitorzinho', 'seleção', 'quedar', 'clipe', 'músico', 'orá', 'caixa', 'áqueo', 'salgado', 'urgência', 'aborrecimento', 'os_funcionários_do', 'todos_os_gostos', 'lounges', 'drinque', 'praxar', 'passarela', 'valeu_muito_a', 'fofar', 'enjoar', 'brasileiro', 'básico', 'gaze', 'beatles', 'de_fácil_acesso', 'localização_do_hotel', 'programação', 'localizado_próximo_a', 'jacuzzi', 'e_ficamos_muito', 'meio', 'conveniência', 'huntleia', 'o_chuveiro_não', 'portanto', 'como_tudo_em', 'ônibus', 'w', 'trajeto', 'inã', 'jacúzi', 'televisa', 'fica_perto_do', 'sul', 'e_com_funcionários', 'enganir', 'espelhar', 'imagem', 'mas_se_você', 'uma_cama_de', 'lixar', 'armário', 'ouro', 'atendimento_dos_funcionários', 'monolinguismo', 'aceitar', 'chelinga', 'prazê', 'solução', 'pé', 'trumaí', 'fiz_a_reserva', 'pelintrice', 'fraco', 'em_uma_próxima', 'contratempo', 'jogador', 'florir', 'cafonices', 'exclusividade', 'dano', 'impares', 'aspecto', 'com_serviço_de', 'melhor_de_tudo', 'cheirão', 'fragrância', 'em_frente_ao', 'frente_ao_hotel', 'agenciar', 'turismo', 'fator', 'para_os_hospedes', 'palace', 'vale_o_custo', 'ao_chegar_no', 'maleiteiro', 'para_o_quarto', 'posição', 'conduta', 'taxa_de_resort', 'molde', 'a_localização_que', 'estúdio', 'filhar', 'impressão', 'spaghetti', 'taça', 'com_uma_ótima', \"you're\", 'ranking', 'hini', 'por_um_quarto', 'ocasião', 'um_pequeno_problema', 'atividade', 'aposto', 'localizado_na_Strip', 'curtir_a_cidade', 'manutenção', 'cópia', 'ficamos_0_dias', 'camisa', 'posicionar', 'satisfazer', 'pastilha', 'indiscreto', 'transferase', 'o_hotel_eh', 'interdisciplinariedade', 'macarrona', 'distante', 'importância', 'tem_um_cheiro', 'costume', 'vestimenta', 'em_um_apartamento', 'que_tem_um', 'bom_custo_benefício', 'assunto', 'gondolar', 'prezar', 'atacar', 'pessoalidade', 'ginástico', 'encomendar', 'envelope', 'mari', 'navio', 'termo', 'sobre_o_hotel', 'ótima', 'rádio', 'compromisso', 'jeito', 'empresar', 'intermediação', 'desculpar', 'fórum', 'stops', 'mês', 'dezembro', 'expressar', 'as_suítes_são', 'gôndola', 'fotógrafo', 'junho', 'então', 'liar', 'e_com_preço', 'saudita', '0000_por_dia', 'recepção_do_hotel', 'gondoleiro', 'trealase', 'fantasma', 'e_bom_atendimento', 'desorganização', 'fiel', 'ilhar', 'pintura', 'vaticano', 'turpitudo', 'ficar_nesse_hotel', 'efeito', 'versão', 'teto', 'pintar', 'céu', 'sinizese', 'berço', 'estado_de_conservação', 'cabo', 'hotel_0_estrelas', 'frio', 'fica_no_centro', 'pá', 'norte', 'toda_a_cidade', 'a_noite_e', 'bages', 'o_único_defeito', 'um_bom_preço', 'proposto', 'mexido', 'serviço_de_limpeza', 'hotel_tem_uma', 'terre', 'a_grande_vantagem', 'o_hotel_fica', 'hospedado_neste_hotel', 'sanduichar', 'e_perto_do', 'o_hotel_não', 'condução', 'este_hotel_é', 'restrito', 'por_todos_os', 'outubro_de_0000', 'legal', 'cesarizas', 'com_ótima_localização', 'prossector', 'atraente', 'no_máximo_0', 'truque', 'emoção', 'bem_espaçoso_e', 'cantar', 'um_hotel_muito', 'animação', 'excelente_custo_benefício', 'coração', 'um_pouco_melhor', 'achei_um_pouco', 'é_ótima_e', 'com_minha_esposa', 'perídio', 'janeiro', 'e_cheque_out', 'intenção', 'm&m', 'rock', 'enorme', 'grená', 'mons', 'se_você_gosta', 'paparicos', 'os_serviços_do', 'recém', 'boto', 'até_o_hotel', 'chuva', 'ventar', 'visão', 'leão', 'solai', 'menos', 'no_fim_da', 'peça_um_quarto', 'de_00_dólares', 'o_elevador_é', 'estátua', 'morte', 'arena', 'circuitar', 'eficiência', 'satisfeita_com_o', 'magnitude', 'excelentes_restaurantes_e', 'clube', 'quantidade', 'western', 'uma_estação_de', 'a_estação_do', 'back', 'e_o_atendimento', 'aprovadíssimo', 'descontar', 'paralisar', 'uma_boa_localização', 'com_os_outros', 'é_muito_fácil', 'quilômetros', 'benção', 'relacionamento', 'acessá', 'tarde_da_noite', 'exagero', 'novembro_de_0000', 'conjuntar', 'muito_confortáveis_e', 'e_também_não', 'simplicidade', 'ostentação', 'região', 'metalibure', 'é_grande_mas', 'torre', 'com_o_hotel', 'pegado', 'fornecimento', 'gota', 'estivemos_no_hotel', 'inúmero', 'ppm', 'estádia', 'edifício', 'todas_as_nossas', 'cabelar', 'xampu', 'condicionador', 'presença', 'do_lado_do', 'são_muito_boas', 'self', 'service', '0000/dia', 'geral', 'nesse_hotel_e', 'visitante', 'us$0', 'a_poucos_minutos', 'miragem', 'cama_kung_sise', 'é_bom_e', 'consequência', 'elogiar', 'o_barulho_dos', 'avião', 'perto_do_hotel', 'muto', 'uma_ótima_escolha', 'é_mais_barato', 'aparência', 'cruzamento', 'síntese', 'relação_custo_benefício', 'metade_do_preço', 'fretar', 'ponto_de_ônibus', 'permanência', 'brunchita', 'medicação', 'correspectividade', 'tem_boa_localização', 'centro_da_cidade', 'muito_atencioso_e', 'exercício', 'hela', 'custo', 'monotrilho', 'com_boa_localização', 'não_é_tão', 'conselho', '00/00/0000', 'problema_é_o', 'orçamentar', 'membro', '$', 'maquininhas', 'premir', 'escalibregma', 'estourar', 'março', 'localização_é_boa', 'carpete', 'praia', 'a_única_coisa', 'maque', 'louco', 'de_excelente_localização', 'mile', 'da_localização_do', 'holópode', 'alegrense', 'ágil', 'setembro/0000', 'projetor', 'a_limpeza_do', 'reposição', 'hileto', 'hidro', 'cupons', 'alternativo', 'com_duas_crianças', 'espaçoso_e_limpo', 'silencioso', 'referência', 'e_bons_restaurantes', 'início', 'sustar', 'as_instalações_do', 'concorrência', 'de_um_modo', 'objetivo', 'silêncio', 'profissional', 'penumbrar', 'é_bastante_confortável', 'gostei_muito_do', 'renovação', 'alimento', 'capetice', 'russo', 'a_primeira_vez', 'castrinopolitano', 'ansarinhas', 'malhar', 'vergastão', 'muito_simpáticos_e', 'es', 'pero', 'asi', 'calididade', 'estagflaciones', 'gueves', 'a_decoração_é', 'também_não_é', 'em_uma_das', 'estratosfera', 'stress', 'grande_e_limpo', 'e_não_havia', 'aparelhar', 'hotel_não_oferece', 'falta_de_um', 'a_hora_de', 'para_o_outro', 'estiver_de_carro', 'burburinhar', 'filme', 'boliche', 'internet_de_graça', 'nas_áreas_comuns', 'sarcotripsia', 'carnar', 'dos_hotéis_mais', 'mas_o_hotel', 'pistar', 'pleo', 'setores', 'layout', 'a_melhor_opção', 'mas_o_preço', 'desvantagem', 'sponsor', 'coluna', 'recurso', 'secar', 'e_serviço_de', 'muito_bem_limpo', 'preço_da_diária', 'todas_as_atrações', 'labirinto', 'um_andar_alto', 'dedo', 'motivo', 'cosmo', 'grupo', 'galera', 'consciencize', 'protomotecas', 'bulevardeiro', 'telão', 'em_alguns_dias', 'magnificar', 'beemote', 'mordomia', 'com_excelente_localização', 'olede', 'não_é_das', 'moda', 'sushi', 'massa', 'sorvete', 'hotel_é_a', 'granitar', 'carruagem', 'rumar', 'todas_as_necessidades', 'roupão', 'extraordinário', 'em_vejas_e', 'energia', 'camarote', 'dançar', 'tech', 'subsolo', 'ledo', 'size', 'processar', 'gramenites', 'primeiro', 'minha_primeira_opção', 'fabuloso', 'hidromassagem', 'cafeteiro', 'no_momento_do', 'por_volta_de', 'pagamento', 'descrição', 'cheque_in_é', 'como_por_exemplo', 'micarelles', 'prédio', 'um_pouco_mais', 'expressão', 'as_camas_são', 'o_chuveiro_e', 'o_restaurante_é', 'espírito', 'além_de_um', 'discar', 'útil', 'qualificação', 'o_hotel_mais', 'da_manhã_muito', 'gás', 'churrasco', 'frigo', 'tanque', 'tubarão', 'baralho', 'noção', 'penugento', 'secador_de_cabelo', 'tripa', 'franjar', 'quadro', 'trio', 'diferencial', 'localização_também_é', 'atrações_da_cidade', 'função', 'aquecimento', 'oós', 'km', 'selar', 'computador', 'vizinhar', 'grocho', 'sorar', 'o_ponto_alto', 'médio', 'do_quartilhar_latim', 'nitrir', 'de_vários_restaurantes', 'caiserina', 'calmar', 'temer', 'oeste', 'solteiro', 'série', 'homenagem', 'bem_conservado_e', 'box_do_banheiro', 'hotel_é_pequeno', 'dos_quartos_e', 'distante_do_centro', 'halientela', 'uno', 'que_falava_português', 'dos_funcionários_é', 'da_champa_eleenses', 'um_hotel_para', 'todo_o_banheiro', 'reversar', 'medalhar', 'muito_pequeno_e', 'casa_de_banho', 'bem_localizado_entre', 'betuletos', 'triscar', 'nado', 'via', 'varadinha', 'agradecimento', 'brunir', 'da_recepção_que', 'trissilana', 'conosco', 'e_de_um', 'perto_de_duas', 'quarto_era_pequeno', 'acolhedor', 'metrô', 'presunto', 'dê', 'mas_o_que', 'laetiense', 'preço_não_é', 'cerejo', 'hotel_fica_muito', 'sargento', 'mulino', 'igreja', 'cererê', 'galeria', 'bairro', 'galar', 'vans', 'euros_por_pessoa', 'opar', 'refrigerante', 'petisco', 'falam_inglês_e', 'escolha_do_hotel', 'delícia', 'estação_do_metrô', 'do_metro_e', 'mais_do_que', 'no_final_da', 'marchar', 'retropilastra', 'osmas', 'atendimento_é_muito', 'parisiensismo', 'propriedade', 'pardieiro', 'vinícola', 'gerardíea', 'na_mesma_rua', 'hotéis_de_paris', 'imediação', 'livraria', 'correar', 'o_quarto_de', 'tem_muitas_opções', 'áspero', 'bar_do_hotel', 'companhia', 'ratar', 'hein', 'abbatiale', 'roal', 'monocaule', 'que_foi_muito', 'e_todos_os', 'toucador', 'origem', 'parisiense', 'localização_não_é', 'pertinho_do_metrô', 'braseies', 'rotar', 'ostra', 'impecável', 'tamanho_dos_quartos', 'terraço', 'benjamim', 'preferência', 'desacontecimento', 'o_elevador_que', 'cadeia', 'comum_em_paris', 'sessão', 'degrau', 'ficar_no_hotel', 'mãe', 'ao_tamanho_do', 'navegação', 'confuso', 'a_paris_e', 'muito_simpático_e', 'almoço', 'pétala', 'didiereína', 'placê', 'vesgo', 'enfangas', 'frase', 'linhas_de_metrô', 'bastilha', 'romance', 'policiar', 'contrição', 'administração', 'fingir', 'recado', 'tampão', 'sujeira', 'da_cama_e', 'sabonete', 'banho', 'madeirar', 'elefante', 'torcer', 'nariz', 'pijama', 'travessar', 'bomas', 'né', 'no_coração_de', 'proximidade', 'transporte', 'volibol', 'mas_muito_bem', 'suspeito', 'vantagem_é_que', 'entornos', 'possibilidade', 'magazine', 'bem_próximo_a', 'demandar', 'esforço', 'a_estação_de', 'lazarar', 'metros_do_hotel', 'eliseia', 'da_estação_de', 'londrês', 'para_o_aeroporto', 'charlar', 'de_00_euros', 'limpeza_é_impecável', 'a_qualidade_do', 'separação', 'hotel_oferece_um', 'fresco', 'gerenciamento', 'cancelamento', 'almo', 'riete', 'educação', 'abul', 'gerência', 'abraço', 'contratar', 'muito', 'vero', 'pescar', 'gare', 'lafaietense', 'entornar', 'boulangerie', 'pâtisserie', 'apenas_00_minutos', 'para_os_hóspedes', 'para_este_hotel', 'doble', 'insulsice', 'com_boa_velocidade', 'poltrão', 'aquecedor', 'maquiagem', 'volumar', 'corporal', 'salada_de_frutas', 'farinha', 'leite', 'oásis', 'estação_de_metrô', 'badalação', 'sem_custo_adicional', 'privilégio', 'latim', 'marais', 'mais_de_0', 'linhas_de_ônibus', 'minúsculo', 'capar', 'idear', 'variação', 'a_estadia_e', 'evolar', 'é_simples_e', 'muito_próximo_do', 'invalidar', 'para_os_quartos', 'paralelo', 'bulevardeiro_sainte_germina', 'de_café_e', 'a_internet_é', 'o_cheiro_de', 'quartos_e_banheiros', 'sambaíba', 'em_paris_e', 'consideração', 'tem_excelente_localização', 'estação_do_metro', 'o_rio_sena', 'barco', 'senti_falta_de', 'eurodivisa', 'a_cada_0', 'desprazer', 'guiar', 'a_0_minutos', 'vietnamita', 'sino', 'idioma', 'comunicar', 'espanhol', 'hotel_em_si', 'desastre', 'lá_com_certeza', 'as_acomodações_são', 'mas_não_é', 'fora_do_hotel', 'desafiar', 'em_paris_é', 'por_um_hotel', 'macassar', 'corte', 'vencer', 'linguá', '00/00', 'ema', 'charles_de_gaulope', 'etile', 'apena', 'bom_o_hotel', 'neste_hotel_em', 'voltar_a_paris', 'rapidinho', 'para_quem_procura', 'estreitar', 'mais_de_000', 'condicionar', 'castelo', 'seletos', 'apesar_de_pequeno', 'quase_na_porta', 'design', 'de_boa_qualidade', 'língua', 'de_luxem_burgo', 'em_uma_área', 'gatar', 'pedaço', 'casaco', 'couro', 'voltaremos_com_certeza', 'professorar', 'aliançar', 'franchise', 'difíscio', 'realização', 'quartos_são_simples', 'estabelecimento', 'estatura', 'para_tomar_banho', 'os_atendentes_são', 'hotel_é_limpo', 'dia_e_noite', 'd´alma', 'd´orsamo', 'hotel_limpo_e', 'próximo_ao_metro', 'adaptador', 'novamente_nesse_hotel', 'ciar', 'marrié', 'ponto_da_cidade', 'eficiente', 'queijar', 'frança', 'tiquinho', 'quartos_são_limpos', 'beneficiar', 'da_champa_eleense', 'de_restaurantes_e', 'linguás', 'ambientação', 'centro_de_paris', 'fim_de_semana', 'magda', 'perto_da_torre', 'bem_limpo_e', 'efum', 'ha', 'das_principais_atrações', 'orlar', 'boulangeritas', 'luxuriar', 'atribuir', 'não_era_muito', 'gaulope', 'estações_do_metro', 'paul', 'violle', 'trivoli', 'perfeitinho', 'margem', 'arte', 'sedar', 'para_duas_pessoas', 'distinto', 'para_a_rua', 'o_isolamento_acústico', 'porém', 'luminosidade', 'pontos_de_ônibus', 'funcionários_da_recepção', 'tubulação', 'direção', 'fotografar', 'supervisar', 'listem', 'fundo', 'museu_do_Louvre', 'a_um_quarteirão', 'com_bons_restaurantes', 'luxo', 'gemer', 'melhoria', 'toalete', 'sala_de_café', 'personalidade', 'por_0_euros', 'lugar_de_paris', 'petitá', 'proprietário', 'bares_e_restaurantes', 'sanjar', 'competência', 'escolhi_o_hotel', 'hotéis_em_paris', 'carregador', 'que_falam_português', 'parões', 'herma', 'camas_de_solteiro', 'junto', 'minusculo', 'muito_atenciosos_e', 'andança', 'tem_um_preço', 'fica_numa_área', 'feila', 'charmoso', 'misturar', 'convênio', 'carterétia', 'em_uma_região', 'matinal', 'iniciativo', 'nicolásia', 'quinzena', 'delicadeza', 'por_0_vezes', 'pizza', 'que_os_quartos', 'planejamento', 'é_realmente_muito', 'per', 'francesice', 'ficamos_muito_satisfeitos', 'foi_uma_ótima', 'ovo', 'viaticar', 'receptividade', 'hospitalidade', 'paragem', 'autocarro', 'sentir_em_casa', 'em_todo_o', 'única_ressalva_é', 'torre_ei_fel', 'ferramenta', 'mas_os_quartos', 'superconfortável', 'guloseima', 'cheiro_de_mofo', 'a_sua_localização', 'haimeia', 'rer', 'menos_de_0', 'bastar', 'símbolo', 'cacife', 'éleges', 'versaletes', 'da_torre_Eiffel', 'da_estação_do', 'indico_este_hotel', 'hotel_possui_um', 'mobília', 'é_muito_caro', 'próximos_ao_hotel', 'foi_o_hotel', 'roberto', 'da_recepção_e', 'muito_educados_e', 'uma_ótima_localização', 'com_fácil_acesso', 'baguete', 'circunstancia', 'paza', 'torre_Eiffel_e', 'estações_do_metrô', 'ventilação', 'nuvem', 'em_uma_cidade', 'assim_como_a', 'pitoresco', 'min_a_pé', 'restaurantes_e_lanchonetes', 'de_0_estrelas', 'rocailles', 'me_hospedar_neste', 'as_minhas_expectativas', 'e_do_metro', 'do_hotel_muito', 'perto_do_metrô', 'odéon', 'escuro', 'abril', 'proteção', 'a_0_quarteirões', 'cheiro', 'rulho', 'encontrar_um_hotel', 'torneira', 'ile', 'reger', 'opção_de_hospedagem', 'perto_de_vários', 'passo', 'para_a_cidade', 'a_equipe_é', 'cordial', 'leno', 'de_00_dias', 'uns_00_minutos', '+', 'mochila', 'proxemas', 'cafés_e_restaurantes', 'resultar', 'em_um_quarto', 'convivência', 'onde_fica_o', 'na_esquina_da', 'nº', 'um_hotel_que', 'para_o_mesmo', 'o_padrão_de', 'rançar', 'lenções', 'pom', 'bourgia', 'a_meia_quadra', 'boeing', 'de_metro_e', 'bos', 'nos_hospedamos_no', 'notícia', 'mesesoverbooking', 'frustração', 'galho', 'no_próprio_hotel', 'caamembeca', 'cornutela', 'biscoito', 'andar_um_pouco', 'despesa', 'overbooking', 'perigar', 'consentimento', 'doer', 'bilhete', 'um_hotel_boutique', 'menor_do_que', 'lojas_e_restaurantes', 'em_paris_em', 'já_que_a', 'estrategicamente', 'o.k', 'pela_manhã_e', 'checheno', 'rude', 'simonismo', 'no_dia_do', 'distrito', 'stafe_é_muito', 'próxima_ao_hotel', 'em_0_pessoas', 'com_bom_tamanho', 'champanhenses', 'serviço_e_atendimento', 'escandina', 'calandrar', 'dono', 'e_a_recepção', 'regente', 'percepção', 'italiano', 'preço_é_muito', 'triunfar', 'vários_tipos_de', 'muito_do_hotel', 'disponibilidade', 'cercania', 'escriba', 'minha_esposa_e', 'a_ponto_de', 'ponto_de_táxi', 'sofito', 'pois_o_hotel', 'as_vezes_que', 'blindar', 'ícone', 'de_pequeno_almoço', 'publicidade', 'lentidão', 'rigor', 'material', 'riscar', 'video', 'podoio', 'dispositivo', 'buda', 'no_quarto_que', 'como_o_banheiro', 'pátio', 'cama_de_casal', 'crinofilo', 'silenciar', 'encarcade', 'não_poderia_ser', 'de_paris_a', 'baldeação', 'barulho', 'sorbose', 'chinelo', 'facto', 'uma_grande_vantagem', 'o_quarto_standards', 'mas_isso_é', 'em_paris_são', 'funcionários_são_muito', 'atrações_de_paris', 'próximas_ao_hotel', 'toda_a_equipe', 'executivo', 'machiquenses', 'si', 'bernardo', 'tive_nenhum_problema', 'mi', 'trivato', 'benzinismo', 'cor', 'colacionar', 'anche', 'sauna', 'pariri', 'chieirento', 'restaurantes_nas_proximidades', 'jour', 'favor', 'tem_uma_localização', 'as_pessoas_são', 'muito_bom_é', 'queijaria', 'digitalizar', 'contentar', 'decente', 'desejo', 'evidenciar', 'atividades', 'funcionamento', 'eficácia', 'posto', 'linho', 'orquídea', 'laurato', 'maroubo', 'cômodos', 'magicar', 'duas_estações_de', 'um_pouco_longe', 'cômodo', 'e_próximo_de', 'contra', 'precinho', 'documento', 'conventilho', 'docerias', 'pegar_o_metrô', 'longe_do_centro', 'lindamente', 'designers', 'loureiro', 'todos_muito_atenciosos', 'mensagem', 'uma_sala_de', 'pai', 'de_paris_e', 'fiquei_0_dias', 'vez_que_me', 'hotel_da_rede', 'experiencias', 'outro', 'dosar', 'suportar', 'turielenses', 'atingir', 'as_áreas_comuns', 'climatização', 'os_apartamentos_de', 'são_mais_silenciosos', 'tolerienses', 'modesto', 'lua', 'niravolina', 'baratear', 'investimento', 'o_bairro_é', 'acme', 'muito_educado_e', 'ponto_negativo_é', 'padrões_de_paris', 'por_duas_vezes', 'trouxa', 'afetação', 'eléis', 'pela_primeira_vez', 'quinar', 'jardineiro', 'calefação', 'torulopsidose', 'rousseauniano', 'manhã_que_é', 'solo', 'potinhos', 'espontaneparismo', 'ir_a_pé', 'mentir', 'madame', 'em_especial_a', 'perto_do_metro', 'com_muitas_opções', 'bonificar', 'o_hotel_de', 'maiorzinha', 'pago_à_parte', 'pequenino', 'especialidade', 'hausto', 'e_perto_da', 'nevar', 'catedral', 'hotel_é_simples', 'alfar', 'linha_0_do', 'carreadouro', 'de_um_pouco', 'para_três_pessoas', 'muito_bonito_e', 'sempre_prontos_a', 'clau', 'e_de_muito', 'além_da_localização', 'cadastro', 'chato', 'poeira', 'varrer', 'seco', 'cade', 'é_o_tamanho', 'perto_de_várias', 'corretos', 'banca', 'café_no_hotel', 'por_00_dias', 'no_quarto_de', 'libânia', 'monopriono', 'do_hotel_na', 'ave', 'siena', 'mago', 'apesar_de_pequenos', 'o_espaço_é', 'arredor', 'tarde', 'a_uma_quadra', 'com_a_janela', 'friedelita', 'campo', 'jornada', 'adisonismo', 'da_manhã_ótimo', 'perímetro', 'aeroporto_charles_de', 'uns_000_metros', 'o_barulho_de', 'roteiro', 'próximo_ao_hotel', 'de_0_a', 'elasses', 'comerciar', 'vazamento', 'cesta', 'o_atendimento_também', 'capital', 'para_uma_boa', 'estadia_em_paris', 't', 'perigadela', 'borbotone', 'escrivaninha', 'fofo', 'paim', 'aux', 'quente', 'principais_pontos_turísticos', 'faixa_de_preço', 'fronteiro', 'intervalar', 'pontuação', 'folheto', 'chat', 'papar', 'ps', 'ché', 'a_minha_estadia', 'duas_pessoas_e', 'produtos_de_higiene', 'anoto', 'loci', 'shampoo', 'creme', 'branco', 'o_box_é', 'homem', 'manteiga', 'joelhar', 'é_enorme_e', 'pontos_da_cidade', 'fica_perto_de', 'pavilhão', 'munto', 'pequeno_almoço_e', 'escadaria', 'para_as_malas', '0o', 'harmonia', 'lacuna', 'entregue', 'lance', 'máximo', 'inclinação', 'usuário', 'do_metrô_e', 'para_quem_busca', 'revisto', 'todos_os_itens', 'divisão', 'perto_da_gare', 'riz', 'cabeça', 'várias_opções_de', 'frente_do_hotel', 'superou_as_expectativas', 'acima_da_média', 'jornal', 'vila', 'saguão_do_hotel', 'ponto_positivo_é', 'muito_perto_do', 'ingrediente', 'preguiçar', 'penteadeira', 'o_preço_é', 'gostosinho', 'excelente_custo_beneficio', 'escritório', 'ficamos_0_noites', 'roli', 'tuscana', 'obscuro', 'que_não_é', 'conclusão', 'melhor_custo_benefício', 'garoto', 'paisagismo', 'cima', 'hamburguerias', 'vespertino', 'limpeza_é_boa', 'com_todos_os', 'discreto', 'perfil', 'o_lugar_é', 'sistema_de_aquecimento', 'em_torno_de', 'e_a_vista', 'micropogão', 'é_caro_mas', 'de_ótima_qualidade', 'da_manha_com', 'muito_bons_e', 'quartos_são_bons', 'poderia_ser_um', 'teda', 'presteza', '#', 'da_manhã_a', 'eru', 'ficamos_neste_hotel', 'porta_do_hotel', 'cortesia_do_hotel', 'tinir', 'á', 'hotentotismo', 'confirmação', 'descortês', 'desatentar', 'requisito', 'germaná', 'aparador', 'latir', 'confortável_e_o', 'configuração', 'tentativo', 'mise', 'scène', 'cloro', 'mini', 'de_000_euros', 'grau', 'exigência', 'maio_de_0000', 'hospedados_neste_hotel', 'o_banheiro_e', 'direta', 'máquina_de_café', 'dias_nesse_hotel', 'pulhote', 'secador', 'fedorento', 'imediato', 'noma', 'afastado_do_centro', 'não_está_incluso', 'próximo_a_vários', 'mas_com_certeza', 'geladíssimo', 'erupção', 'girame', 'meses_de_antecedência', 'as_malas_e', 'que_fica_na', 'caução', 'pois_é_muito', 'amarelo', 'horror', 'calote', 'imentos', 'jaula', 'felino', 'golfinho', 'grupar', 'doença', 'é_de_graça', 'fica_próximo_ao', 'duro', 'coreografia', 'infra', 'da_manhã_e', 'discordar', 'hotel_com_quartos', 'dente´s', 'cachorro', 'de_000_metros', 'santo', 'latinar', 'entretenimento', 'aquário', 'lojas_de_conveniência', 'pigaça', 'os_apartamentos_são', 'a_sorte_de', 'irma', 'correnteza', 'estava_sempre_limpo', 'mais_uma_vez', '000pm', 'compensação', 'real', 'fatura', 'ficar_num_hotel', 'quarto_espaçoso_e', 'no_nosso_caso', 'pelo_mesmo_preço', 'numeração', 'travessia', 'recibo', 'da_cidade_mas', 'óbvio', 'o_quarto_tem', 'mel', 'sonho', 'um_pouco_a', 'indecência', 'pal', 'os_demais_hotéis', 'é_um_problema', 'objetos', 'certo', 'divo', 'dino', 'brinde', 'além_de_tudo', 'o_melhor_de', 'me_hospedei_no', 'gatear', 'melhor', 'convergir', 'mas_se_vs', 'romã', 'pular', 'marcela', 'tetos', 'esculturar', 'o_bufete_é', 'canto', 'ótimaaaaaaaaa', 'hora', 'coliseu', 'bacia', 'dor', 'jono', 'sianinha', 'bufete_de_café', 'marketing', 'com_um_preço', 'desaperceber', 'cama_é_muito', 'bagar', 'vale_muito_a', 'muito_grande_e', 'remodelação', 'localização_é_muito', 'que_é_a', 'envelhecimento', 'maior_parte_do', 'longo', 'clientela', 'maisquero', 'outros_hotéis_de', 'distribuição', 'panfleto', 'prostituição', 'tendência', 'bitinino', 'constrangimento', 'shop', 'chance', 'fica_perto_da', 'creditar', 'para_não_fumantes', 'casarão', 'incômodo', 'direcionas', 'o_custo_beneficio', 'feriar', 'desprezar', 'devanear', 'se_hospedar_no', 'vejas_o_quarto', 'tubo', 'dos_hotéis_em', 'pelo_preço_que', 'a_pena_o', 'acabamento', 'tropeçar', 'eta', '00_por_dia', 'enormeeeeeeeeeeeeeee', 'onde', 'escoar', 'ingoté', 'e_para_os', 'as_malas_no', 'talher', 'moeda', 'loucura', 'extremidade', 'hous', 'é_muito_perto', 'précio', 'bue', 'sejo', 'utilidade', 'pechincho', 'orgia', 'atrativos', 'loto', 'enfrechar', 'quantum', 'da_Strip_o', 'o_que_você', 'fiquei_neste_hotel', 'timas', 'ocar', 'muito_o_hotel', 'bancada', 'sopa', 'filé', 'não_gostei_muito', 'ehehe', 'a_vista_do', 'topar', 'quarto_grande_e', 'o_atendimento_no', 'o_ponto_mais', 'para_os_principais', 'uma_localização_excelente', 'um_dos_poucos', 'réplica', 'quarto_com_cama', 'com_o_preço', 'preço_muito_bom', 'e_um_pouco', 'recebimento', 'com_relação_ao', 'infernar', 'depósito', 'saldar', 'trancar', 'fio', 'balão', 'no_lobby_e', 'mobilidade', 'respostar', 'crédito', 'bonça', 'morno', 'logístico', 'aberração', 'bregueces', 'orelhote', 'vejas_o_hotel', 'congelar', 'o_único_ponto', 'no_primeiro_dia', 'esquema', 'não_tem_um', 'cabelo', 'r$000', 'hotel_por_0', 'bomba', 'sucção', 'pizzaria', 'preservacionismo', 'muito_prestativos_e', 'mas_isso_não', 'foi_um_problema', 'fumante', 'camas_de_casal', 'quem_não_quer', 'o_que_eu', 'bombacho', 'voleibol', 'falhão', 'cansaço', 'adail', 'e_a_internet', 'experimentação', 'guinar', 'dos_melhores_hotéis', 'famular', 'limposo', 'franquiar', 'é_bem_localizado', 'transtornar', 'cama_muito_boa', 'muito_bom_o', 'balagatino', 'bônus', 'cabeamento', 'previsão', 'sobretaxa', 'locador', 'divisório', 'mundialmente', 'da_las_vejas', 'pelágio', 'empreendimento', 'enternecente', 'elétrico', 'pointes', 'tradição', 'maria', 'fazer_tudo_a', 'volvele', 'hotel_foi_muito', 'recadar', 'embasa', 'menos_de_00', 'óculo', 'não_fica_na', 'me_hospedar_nele', 'com_o_atendimento', 'cobertura', 'aço', 'trabalho', 'ipadus', 'operação', 'depois_de_um', 'isentar', 'zonar', 'minibus', 'também_é_muito', 'tem_vários_restaurantes', '&', 'volume', 'interesse', 'congresso', 'durante_0_dias', 'troca_de_quarto', 'de_modo_geral', 'o_melhor_do', 'transtorno', 'cuidado_com_os', 'os_dias_de', 'trilhar', 'influenciar', 'farto', 'passante', 'fotografia', 'barulheiro', 'maluco', 'níquéis', 'DVD', 'boas_opções_de', 'edredons', 'soer', 'talar', 'injeção', 'artista', 'dançarino', 'mastro', 'segmentação', 'resto', 'todas_as_noites', 'sereia', 'diversas_opções_de', 'dormitório', 'e_limpo_e', 'cigarro', 'pirata', 'localização_é_o', 'hotel_o_hotel', 'ofá', 'guarnição', 'bombeiro', 'sirene', 'bem_grande_e', 'do_pequeno_almoço', 'letreiro', 'ensanduichar', 'excursão', 'capela', 'quarto_tem_um', 'sax', 'e_a_limpeza', 'quanto_mais_alto', 'março_de_0000', 'hopi', 'filmar', 'o_quarto_possui', 'atualização', 'mudar_de_quarto', 'me_hospedei_em', 'assim', 'o_serviço_do', 'o_preço_do', 'vistoriar', 'h&m', 'boons', 'ápice', 'fiquei_0_noites', 'carnaval', 'miles', 'assemelhar', 'em_outubro_de', 'frescura', 'limpos_e_com', 'rozental', 'margarita', 'com_poucas_opções', 'soutá', 'fremontita', 'despeitar', 'limar', 'e_a_região', 'brincar', 'a_estrutura_do', 'esmar', 'mole', 'é_muito_ruim', 'r$0000', 'uma_vista_muito', 'que_é_necessário', 'o_preço_e', 'publicar', 'as_opções_de', 'para_um_quarto', 'professor', 'apesentamento', 'cerveja', 'peitar', 'fuleira', 'galão', 'cena', 'valorar', 'todos_os_lugares', 'bungule', 'juma', 'se_tratar_de', 'hotéis_de_las', 'a_localização_dele', 'hospedar_nesse_hotel', 'tribo', 'observatório', 'adquirir', 'utilização', 'até_a_torre', 'glamourosos', 'a_cama_muito', 'níquel', 'esse_hotel_é', 'mais_barato_que', 'nos_quartos_o', 'por_uma_reforma', 'com_bom_preço', 'radicar', 'hotel_muito_bom', 'muitas_opções_de', 'quarto_limpo_e', 'quanto_à_localização', 'quanto', 'artigo', 'um_hotel_mais', 'fica_muito_perto', 'em_nenhum_momento', 'inapropriado', 'pois_além_de', 'motorreator', 'o_acesso_a', 'não_foi_problema', 'adorei_o_hotel', 'centro', 'não_é_grande', 'em_conta_o', 'pessoas_da_recepção', 'quarto_tinha_um', 'crise', 'asma', 'antizomas', 'e_o_restaurante', 'ricota', 'azeitar', 'longuinho', 'coragem', 'desperdício', 'apesar_da_localização', 'estripação', 'download', 'premier', 'confortável_e_limpo', 'que_a_localização', 'pelo_menos_o', 'hotéis_em_vejas', 'a_cama_e', 'aspirador', 'pó', 'tripos', 'quartos_grandes_e', 'muiiiiiiiito', 'flamingo', 'nanolasers', 'plagiostomídeos', 'mas_a_localização', 'é_o_melhor', 'batalhar', 'alergia', 'câmeras', 'in', 'picar', 'no_primeiro_andar', 'us$00', 'certar', 'com_uma_localização', 'mas_o_problema', 'mendigar', 'astronauta', 'da_Strip_mas', 'mas_pelo_preço', 'lena§ã³is', 'conínico', 'pirã', 'o_hotel_ainda', 'geês', 'tutoramento', 'trânsito', 'piscininha', 'que_os_hotéis', 'se_trata_de', 'bem_limpos_e', 'ralar', 'funcionários_simpáticos_e', 'fundonense', 'furtar', 'que_se_paga', 'orés', 'hotel_roo_top', 'funcionários_são_super', 'do_bulevardeiro_sainte', 'recear', 'com_bom_atendimento', 'pascoalense', 'localização_é_excelente', 'o_stafe_do', 'e_os_funcionários', 'vocabulário', 'mas_é_um', 'littrite', 'prestador', 'suficiente', 'lista', 'instrução', 'elisão', 'satisfeitos_com_o', 'alealém', 'ao_lado_de', 'da_torre_ei', 'gratuita_nos_quartos', 'conta_com_um', 'as_principais_atrações', 'escolhi_este_hotel', 'advidor', 'são_grandes_e', 'a_maior_parte', 'coelege', 'proximidade_com_a', 'a_decoração_do', 'pago_a_parte', 'passado', 'damelouvremuseu', 'verãozão', 'entorno_do_hotel', 'o_box_do', '0000/pessoa', 'momas', 'vazar', 'marilhas', '000_m_do', 'alvardão', 'amigavelmente', 'lao', 'ruela', 'uma_boa_relação', 'confeitaria', 'perneta', 'insonorização', 'neurádene', 'medicamento', 'amplo_e_limpo', 'rone', 'metropolitano', 'do_jardim_de', 'destino', 'praça_da_bastilha', 'rami', 'bourbonismo', 'quarto_e_banheiros', 'gentis_e_atenciosos', 'loirar', 'rapaz', 'serviço_de_internet', 'o_apartamento_que', 'orladure', 'holópida', 'fel', 'bulevardístico', 'otimismos', 'de_paris_o', 'pate', 'quartos_muito_limpos', 'perto_da_estação', 'rua', 'subido', 'descolamento', 'lábio', 'excelente_opção_para', 'lene', 'coração_de_paris', 'elysees', 'quartos_são_espaçosos', 'panar', 'zorra', 'multar', 'minimizar', 'timariota', 'direcionamento', 'muito_próximo_à', 'mirabela', 'romantismo', 'desopresso', 'mobilhas', 'bloco', 'teristros', 'rosar', 'no_outro_dia', 'saudar', 'espinho', 'o_nosso_quarto', 'acor', 'localização_muito_boa', 'com_uma_boa', 'e_próximo_ao', 'mas_a_limpeza', 'marinheiro', 'bem_próximo_à', 'açudre', 'um_dos_pontos', 'da_manhã_de', 'lichieira', 'gambeta', 'cemitério', 'esculacha', 'mosco', 'loe', 'budite', 'totó', 'o_pequeno_almoço', 'menos-', 'tipi', 'junção', 'tem_uma_estação', 'da_manhã_é', 'estaça', 'do_metro_a', 'excelente_localização_e', 'sile', 'abril/0000', 'quadras_do_metrô', 'passageiro', 'da_porta_do', 'élysées', 'da_manhã_até', 'elemento', 'normal', 'equipe_da_recepção', 'de_tudo_e', 'mas_com_o', 'do_metro_de', 'parma', 'intemperismo', 'e_todo_o', 'single', 'raspar', 'triplo', 'compacto', 'da_recepção_do', 'aviso', 'set/0000', 'fofice', 'com_a_recepção', 'desrespeitar', 'hardware', 'descontentamento', 'restaurantes_e_cafés', 'muito_simpática_e', 'recomendo_e_voltarei', 'demover', 'metragem', 'para_um_casal', 'claridade', 'hospedei_neste_hotel', 'rochete', 'eu$0000', 'pelo_custo_benefício', 'esposo', 'absurdismo', 'serviço_muito_bom', 'acomadrar', 'akan', 'próximo_ao_arco', 'tolite', 'elisseu', 'noites_nesse_hotel', 'ser_um_problema', 'e_super_bem', 'bergerocacto', 'figurar', 'voltando_a_paris', 'em_relação_à', 'mauriense', 'para_a_estação', 'antônio', 'santificação', 'destaque_para_o', 'eluo', 'delegacia', 'contatos', 'gap', 'metrô_na_porta', 'banco', 'engenhar', 'daaz', 'imensidade', 'tem_também_um', 'da_manhã_bom', 'a_00_min', 'hotel_estava_em', 'maçã', 'redor', 'albergar', 'petinho', 'base', 'por_00_euros', 'ficamos_no_hotel', '0_quadras_do', 'o_hotel_muito', 'late_cheque_out', 'no_geral_é', 'para_uma_pessoa', 'pela_falta_de', 'nativo', 'gare_de_lyonita', 'atendimento_e_localização', 'papa', 'e_meu_filho', 'julho/0000', 'breve', 'raiar', 'tremês', 'propaganda', 'champa_eleenses_e', 'toque', 'amador', 'set', 'mangar', 'príncipe', 'finalização', 'curso', 'a_equipe_do', 'muito_da_localização', 'charmosinha', 'foi_uma_estadia', 'custo_benefício_é', 'prioridade', 'sempre_bem_limpo', 'sujinho', 'horrível', 'viaja_com_crianças', 'hotel_está_em', 'amparar', 'sujar', 'governanta', 'até_a_recepção', 'cento', 'metre', 'dala', 'coronografopolarimetria', 'gare_dl_nerd', 'domínio', 'no_meu_quarto', 'refrigerador', 'obs', 'picolitro', 'molo', 'lutar', 'miar', 'agerato', 'bei', 'che0', 'interpersonalogia', 'cortese', 'disponibilização', 'trasporte', 'ma', 'perfeitaço', 'consignatório', 'piacevole', 'periferia', 'vicinismo', 'malotilato', 'vilegiaturar', 'yang', 'punto', 'non', 'fate', 'tropo', 'sevres', 'grã', 'epicáride', 'alvo', 'sabre', 'docinho', 'pi', 'dupião', 'resma', 'cego', 'lounge', 'braseie', 'rotatório', 'marechal', 'jun', 'custo_benefício_e', 'gesto', 'de_outros_hotéis', 'poucas_quadras_da', 'lourar', 'lado_da_rua', 'converso', 'tomar_um_banho', 'boar', 'TB', 'enumerar', 'vezes_neste_hotel', 'era_bem_pequeno', 'para_uma_viagem', 'istas', 'além_disso_a', 'margidouro', 'vista_da_torre', 'stato', 'professorinha', 'mendoncense', 'altor', 'sequestrectomia', 'datar', 'fatiar', 'angioma', 'um_pouco_pequeno', 'prisma', 'quarto_com_banheiro', 'repleto', 'bordeaux', 'terrier', 'aurana', 'a_poucas_quadras', 'ladeiro', 'galderiar', 'cachaça', 'porção', 'confeitar', 'bile', 'prefeito', 'riscadilho', 'viabilidade', 'ótimo_custo_beneficio', 'assembleia', 'paginar', 'vídeo', 'economia', 'serpulite', 'no_quartilhar_latim', 'sumarés', 'o_tempo_todo', 'ojés', 'parâmetro', 'matias', 'colbertismo', 'pessoal_simpático_e', 'valeral', 'é_tão_pequeno', 'gangue', 'assustador', 'granir', 'poucos_metros_da', 'reacomodação', 'brasil', 'é_sua_localização', 'e_o_elevador', 'ité', 'mas_dá_para', 'estava_em_reforma', 'bizarro', 'plástico', 'correlatos', 'gladiar', 'chapelete', 'merce', 'troar', 'cruzeiro', 'fatores', 'limitação', 'braseira', 'quadricarboneto', 'malfairo', 'simoniano', 'hotel_é_bom', 'orleã', 'bem_arrumado_e', 'representatividade', 'habilidade', '0pessoas', 'o_banheiro_é', 'ternes', 'intimar', 'recepcionismo', 'manuel', 'exexcepcional', 'paris_o_hotel', 'o_chão_do', 'a_troca_de', 'berce', 'prase', 'antes_do_horário', 'cabaré', 'capsulas', 'hipopotamídeo', 'queijos_e_vinhos', 'cioso', 'tinhó', 'substituição', 'cobertor', 'da_rede_acor', 'cliché', 'roicisso', 'vibração', 'butique', 'excelente_a_localização', 'bedfórdia', 'localização_perto_do', 'piramides', 'da_praça_da', 'um_hotel_simples', 'haldes', 'fazer_muita_coisa', 'o_metrô_fica', 'rupas', 'bem_próximo_do', 'novilhote', 'e_duas_crianças', 'arrumação_dos_quartos', 'injustiça', 'clareza', 'fantastiquice', 'estava_em_obras', 'vedação', 'o_banheiro_do', 'ficamos_na_suíte', 'atediamento', 'muito_este_hotel', 'oferecimento', 'repostar', 'cabideiro', 'cabina', 'distração', 'os_pontos_turísticos', 'o_vaso_sanitário', 'versar', '00euros', 'e_não_tenho', 'pascoar', 'acessível', 'um_quarto_que', 'p', 'faular', 'halesos', 'hidroasfalto', 'jato', 'de_um_quarto', 'a_chave_do', 'avolitivo', 'hotel_tem_um', 'pensão', 'trabalhador', 'ola', 'tico', 'natureza', 'timo', 'apito', 'ridículo', 'entrada_do_hotel', 'chaleirar', 'bidê', 'bilíngues', 'não_é_lá', 'xixi', 'chaspeletes', 'pompadourismo', 'restauração', 'bli', 'amassador', 'gerente_do_hotel', 'modalidade', 'berberinal', 'pompilídeo', 'vale_o_preço', 'fica_a_00', 'galrear', 'travesso', 'santã', 'muito_bem_o', 'súpero', 'espaço', 'madã', 'le00', 'berne', 'lado_de_uma', 'anilação', 'suburgo', 'maionese', 'o_atendimento_da', 'desatencioso', 'um_dos_dias', 'remoção', 'andamento', 'coução', 'ar_condicionado_do', 'refrigeração', 'bom_custo_beneficio', 'combinação', 'john', 'deda', 'tardio', 'tariana', 'munir', 'barbar', 'goie', 'e_a_qualidade', 'simpáticos_e_solícitos', 'todos_os_pontos', 'gérmen', 'han', 'telesséries', 'ao_redor_do', 'os_recepcionistas_são', 'hotel_é_um', 'lúmen', 'conforto', 'aceva', 'apoginia', 'egetino', 'tivolino', 'chimparreio', 'aislo', 'chispeio', 'bistre', 'da_gare_dl', 'omento', 'tolher', 'guestos', 'godo', 'e_não_nos', 'mesorregião', 'ida_a_paris', 'era_pequeno_mas', 'vários_pontos_turísticos', 'inges', 'cheché', 'muito_grande_mas', 'e_o_pessoal', 'manho', 'e_o_café', 'o_cartão_de', 'o_banheiro_que', 'bem', 'litro', 'mas_tem_um', 'de_ser_muito', 'taxímetro', 'olhadinha', 'brincadeira', 'haliperca', 'estrangeirar', '00_min_de', 'tesse', 'picolete', 'consiliário', 'sor', 'viageia', 'ago/0000é', 'moufeiro', 'do_hotel_a', 'excelsitude', 'requinte', 'ventilador', 'haras', 'bernanha', 'galgar', 'pau', 'mouches', 'companheiro', 'paris_com_certeza', 'tenor', 'florense', 'corretar', 'roubo', 'eleger', 'estive_em_paris', 'beijo', 'viagem_a_paris', 'metrô_e_de', 'conversação', 'argumento', 'estudante', 'bombem', 'tonar', 'aproveitamento', 'onde_se_pode', 'onica', 'não_vale_a', 'cubículo', 'na_recepção_o', 'quarto_é_limpo', 'crítico', 'europeu', 'pequeno_almoço_é', 'loios', 'sachê', 'século', 'lyonita', 'ansioso', 'conteúdo', 'custa_00_euros', 'poucos_passos_do', 'crassatela', 'espécie', 'pereiro', 'chi', 'deuce', 'sofrimento', 'papel_de_parede', 'mover', 'obsoleto', 'plasticizar', 'território', 'desconfiança', 'relocados', 'projeto', 'formato', 'que_é_um', 'dúzia', 'e_de_bom', 'piramide', 'arranhão', 'trato', 'cremar', 'sine', 'estocar', 'soberbo', 'fica_em_uma', '°', 'implantação', 'votar', 'cris', 'inclinador', 'e_o_cheiro', 'invejar', 'vendedor', 'exterior', 'quanto_a_localização', 'piramidal', 'interno', 'interpretação', 'um_hotel_antigo', 'virtude', 'net_York_e', 'exposição', 'corpo', 'magnífico', 'opções_de_restaurante', 'a_outros_hotéis', 'panqueca', 'fome', 'do_lado_de', 'americano', 'não_ser_muito', 'preconceito', 'fidelidade', 'carboprosta', 'o_hotel_que', 'próximo_do_hotel', 'arranhar´s', 'dos_outros_hotéis', 'concentração', 'marfi', 'buque', 'vizinho', 'numerar', 'é_antigo_e', 'elasticidade', 'downtown', 'experiencie', 'motel', 'suflar', 'chegar_no_hotel', 'de_frente_pra', 'a_partir_do', 'choque', 'com_muitos_restaurantes', 'ágio', 'paris_e_o', 'banheiro_também_é', 'deram_um_quarto', 'fundos_do_hotel', 'reembolsar', 'paga00', 'quarto_era_limpo', 'fá', 'mone', 'parceiro', 'campanha', 'excessivo', 'deslocação', 'lugaras', 'atropelar', 'restauranteco', 'strip', 'tease', 'chapar', 'coifar', 'hotel_simples_e', 'com_cheiro_de', 'proporcional', 'rachadura', 'mobiliá', 'antigo', 'cagão', 'calo', 'templo', 'garotar', 'abertura', 'geraldésias', 'lotação', 'supergripe', 'carniçal', 'sapatamentos', 'próximo_aos_principais', 'setor', 'sé', 'GO', 'circuito', 'da_manhã_incluso', 'alérgico', 'pássaro', 'o_hotel_para', 'aceifas', 'canhoto', 'bebedeira', 'sinhamas', 'trastempar', 'ótimo_custo_benefício', 'no_fim_de', 'no_período_de', 'janelão', 'o_hotel_cobra', 'desnecessário', 'automóvel', 'sexto', 'grandes_e_confortáveis', 'fanchone', 'propósito', 'que_o_hotel', 'caserias', 'promessa', 'browniano', 'vale_pela_localização', 'r$', 'babar', 'vestino', 'colega', 'procedimento', 'não_é_ruim', 'astatino', 'dólares_por_dia', 'consulto', 'burgue', 'pastar', 'linguiça', 'baico', 'sócio', 'portão', 'crack', 'integridade', 'os_quartos_do', 'fortitude', 'porco', 'e_o_chuveiro', 'iphone0', 'de_0_noites', 'grito', 'localizado_no_centro', 'mofar', 'no_hotel_em', 'atitude', 'gol', 'para_outro_hotel', 'beús', 'devagar', 'em_relação_ao', 'permissão', 'o_maior_problema', 'agir', 'descasar', 'confiabilidade', 'deslize', 'individuar', 'sacrossanto', 'próximo_a_gare', 'lavatório', 'parnasismo', 'da_gare_de', 'sanitário', 'compartimentar', 'clausurar', 'pelar', 'contactar', 'toleno', 'tosar', 'volt', 'caderno', 'sande', 'estilete', 'escândalo', 'com_0_malas', 'sequencia', 'episódio', 'bom_tamanho_e', 'retrofleti', 'mendigo', 'urinar', 'noticiar', 'bom_mas_o', 'o_que_nos', 'tráfego', 'gamar', 'sinectia', 'presso', 'empréstimo', 'que_já_vi', 'urna', 'eferência', 'poligloto', 'ranger', 'panteão', 'bom_e_limpo', 'durante_uma_semana', 'sinistrar', 'turi', 'suar', 'elevadorzinho', 'com_uma_pequena', 'surpreendentemente', 'autorização', 'débito', 'o_padrão_ibis', 'sinalização', 'conector', 'rama', 'passaporte', 'no_quarto_do', 'é_uma_das', 'principais_pontos_de', 'bloqueio', 'abrir_a_janela', 'broa', 'sampa', 'faites', 'voagem', 'fixação', 'teleofuncionalismo', 'banheiro_é_ótimo', 'próximo_a_estação', 'correspondência', 'general', 'bom_pequeno_almoço', 'apesar_de_muito', 'paisagem', 'haussmannita', 'saltar', 'não_são_grandes', 'hotel_é_confortável', 'pracinha', 'livro', 'gessar', 'brioche', 'duma', 'elegância', 'quilômetro', 'no_coração_do', 'modernização', 'laranjão', 'emelar', 'povo', 'carino', 'ente', 'arivate', 'orbulinas', 'viscina', 'contramão', 'arriota', 'no_hotel_no', 'hotel_muito_bem', 'a_catedral_de', 'salvação', 'amoitar', 'louro', 'brightismo', 'quáquer', 'ideia', 'religioso', 'curato', 'picola', 'picnolepsia', 'arredar', 'abril_de_0000', 'intendência', 'CI', 'lavorar', 'dormitar', 'vari', 'rim', 'masochismo', 'letro', 'docência', 'tradinha', 'tutti', 'monumentino', 'opal', 'sanfoninha', 'oscilar', 'grande', 'domar', 'repertories', 'naturalidade', 'gaitar', 'pontos_de_paris', 'juro', 'intransigência', 'café_e_chá', 'localização_deste_hotel', 'placa', 'hotel_e_muito', 'muito_limpos_e', 'filhote', 'peste', 'rato', 'uisqueiro', 'superlotação', 'coir', 'climatizador', 'salsicha', 'armazém', 'ocorrência', 'coura', 'matete', 'moderninho', 'quarto_pequeno_e', 'bandeira', 'próximo_a_estações', 'engarrafamento', 'apertado', 'super_confortável_e', 'mandalas', 'cunico', 'buir', 'iluminância', 'decorrência', 'fichar', 'major', 'bagi', 'condizionatacassaforte', 'poche', 'comercializar', 'sui', 'comodo', 'matinar', 'lanchinhos', 'lombodorsocervical', 'outros_pontos_turísticos', 'sombrinha', 'peletiera', 'placita', 'hospitaleiro', 'inglês_e_espanhol', 'hotel_e_o', 'direções', 'conversador', 'tipologia', 'rocheadura', 'dintorno', 'prazo', 'jazz', 'mas_o_serviço', 'antedimento', 'com_uma_estação', 'extravagância', 'parchear', 'terso', 'cascar', 'parlar', 'quelo', 'adenoto', 'esperiega', 'compresso', 'bistrô', 'atristes', 'sagui', 'detalhístico', 'pratomicrofrigobarcafeteriae', 'demônios', 'lixeiro', 'detergente', 'quitinete', 'indução', 'vez_em_paris', 'tudo_que_é', 'externo', 'elassopiese', 'não_sei_se', 'impotência', 'o_tipo_de', 'e_com_pouca', 'regulagem', 'pequenos_porém_limpos', 'repousar', 'mas_no_geral', 'o_café_é', 'marselhês', 'ledra', 'rolim', 'oroval', 'é_perto_de', 'potu', 'guê', 'lanciense', 'santanderino', 'Fontaine', 'trajetos', 'essência', 'elysées', 'tapetar', 'vistor', 'diaco', 'providência', 'provinciano', 'aconchegar', 'aval', 'lipos', 'são_pequenos_mas', 'fruteiro', 'equipe_é_muito', 'do_quarto_que', 'dejejum', 'ângulo', 'complicação', 'ullmannito', 'março/0000', 'para_tomar_café', 'teia', 'encimar', 'o_quarto_também', 'mordedela', 'credo', 'é_muito_atenciosa', 'hotéis_da_cidade', 'ótima_relação_custo', 'tâmara', 'sta', 'texugo', 'ordinário', 'lustrar', 'mor', 'no_quarto_o', 'ricardo', 'relaxante', 'honesto', 'pertinho_da_estação', 'sentimento', 'saudação', 'precisa_de_uma', 'incêndio', 'hesitação', 'heleno', 'albergeiro', 'credibilidade', 'prata', 'vergonha', 'quartos_são_minúsculos', 'beaupreia', 'sains', 'humanidade', 'patrício', 'jorge', 'sousa', 'funcionários_são_extremamente', 'espaçoso000', 'carga', 'tarias', 'dos_pontos_turísticos', 'inexistência', 'bulufas', 'interestratificadinho', 'deixar_as_malas', 'assistência', 'escoamento', 'placito', 'boa_cama_e', 'a_possibilidade_de', 'risco', 'ostante', 'italitaliano', 'banquinha', 'risada', 'bronco', 'humilhação', 'leste', 'acessibilidade', 'retornança', 'landona', 'o_quarto_triplo', 'cidadão', 'de_0_estações', 'alil', 'gare_de_lesta', 'cassetete', 'ateso', 'dopar', 'migar', 'melhorador', 'barrir', 'l´set', 'brucelas', 'principais_estações_de', 'lesto', 'nerd', 'arco', 'buracar', 'break', 'laptop', 'sifonecete', 'abrir_as_malas', 'para_o_preço', 'região_do_hotel', 'apreensivo', 'do_centro_mas', 'leuprolide', 'a_uma_estação', 'da_rede_ibis', 'tivemos_nenhum_problema', 'comprovante', 'acontecimento', 'trousseau', 'albergue', '0000', 'os_quartos_estão', 'zoogleia', 'cambrone', 'fala_português_e', 'pato', 'foucherita', 'da_recepção_são', 'irrelevante', 'terço', 'champacas', 'a_onica_coisa', 'é_o_ponto', 'qualidade_do_hotel', 'loti', 'e_perto_de', 'riçar', 'com_um_atendimento', 'atractores', 'e_outras_atrações', 'inexperiente', 'hotel_antigo_mas', 'opção_em_paris', 'hotel_pequeno_e', 'agente', 'que_a_maioria', 'uma_grata_surpresa', 'único_inconveniente_é', 'me_hospedaria_lá', 'fã', 'personagem', 'higienização', 'estacamento', 'ferroviário', 'todolos', 'hotel_fica_no', 'oguei', 'bem_no_centro', 'equemo', 'vola', 'tria', 'absoluto', 'localização_e_atendimento', 'o_arco_do', 'fogo', 'da_manhã_um', '0ª', 'caboclo', 'champorreasses', 'monoprotofilado', 'departamento', 'rogar', 'furadeiras', 'globo', 'atrizes', 'imprevisto', 'do_padrão_ibis', 'atile', 'próximo_da_estação', 'tolerância', 'agosto/0000', 'persistir', 'para_o_que', 'calça', 'remédio', 'pano', 'bento', 'fernandense', 'artimanha', 'ervador', 'cada', 'uma_agradável_surpresa', 'Taylor', 'placoderme', 'senil', 'anel', 'xícara', 'fervedor', 'colônia', 'tufar', 'nojento', 'frágil', 'sítio', '0estrelas', 'triste', 'devillite', 'fui_muito_bem', 'gravura', 'remedir', 'ibira', 'platinar', 'em_frente_à', 'funcional', 'para_paris_e', 'nivelar', 'com_um_serviço', 'charro', 'decoradonas', 'confecção', 'hotel_há_um', 'similar', 'o_local_do', 'triângulo', 'um_dos_funcionários', 'talhar', 'sobrelanço', 'tailandês', 'bem_localizado_perto', 'hotel_o_que', 'um_bom_café', 'comportamento', 'se_espera_de', 'fedor', 'que_o_banheiro', 'esquina_do_hotel', 'e_com_o', 'da_linha_0', '00horas', 'infestação', 'percevejo', 'em_nosso_quarto', 'alargamento', 'mesmo_assim_o', 'funcionário_da_recepção', 'intervenção', 'por_causa_do', 'norma', 'incredulidade', 'mui', 'colação', 'há_uma_estação', 'metrô_e_ônibus', 'todos_os_atendentes', 'maleiro', 'sabin', 'terminal', 'o_espaço_do', 'o_chuveiro_é', 'guardar_as_malas', 'crackers', 'de_bares_e', 'superou_nossas_expectativas', 'breguegui', 'boiçar', 'a_um_preço', 'para_ir_ao', 'achoque', 'autosserviço', 'colaborador', 'encerramento', 'toura', 'estratégico', 'antiderrapante', 'paradigma', 'uma_bela_vista', 'réu', 'reabastecimento', 'tampar', 'bolhar', 'lesão', 'deficiência', 'hospital', 'eifeliano', 'pôster', 'impessoal', 'gestão', 'pontos_turísticos_e', 'hotéis_da_rede', 'e_este_hotel', 'de_metro_perto', 'batoura', 'atraiçoar', 'recinto', 'relato', 'dissabor', 'localidade', 'participação', 'deletério', 'sangue', 'postagem', 'destinatário', 'inimigo', 'e_um_ótimo', 'ozo', 'fundação', 'stafes', 'claustrofóbico', 'porquê', 'cambar', 'gerador', 'pacificar', 'retro', 'desonesto', 'esse_hotel_fica', 'metros_da_estação', 'com_camas_confortáveis', 'climatofisiológico', 'mol', 'periodicidade', 'morango', 'insetos', 'adaptação', 'sóbrio', 'quarto_de_tamanho', 'são_bem_pequenos', 'parapeitar', 'floricultura', 'box_do_chuveiro', 'cotovelar', 'lilá', 'carrancudo', 'próximo_de_duas', 'de_vários_pontos', 'bemol', 'cadeense', 'pontos_turísticos_de', 'traslado', 'sim', 'prestável', 'bolacha', 'champo', 'urgente', 'todas_as_minhas', 'bisma', 'ação', 'ladrão', 'manipulação', 'hipótese', 'bulevardismo', 'funcionários_prestativos_e', 'uma_boa_vista', 'muito_agradável_e', 'serviço_de_recepção', 'expirar', 'digno', 'troncar', 'regina', 'de_duas_estações', 'fez_com_que', 'piso', 'iva', 'canalização', 'caixão', 'aviação', 'polidez', 'dementar', 'radiovisor', 'atendimento_foi_muito', 'interrupção', 'víveres', 'desjejum', 'perna', 'mosquitento', 'fautor', 'error', 'maratona', 'raque', 'aparato', 'usmo', 'lettocucininotavolino', 'metagnoma', 'gusto', 'puliz', 'rilas', 'republicazinha', 'infantibilidade', 'isopurpurato', 'supraestrutura', 'mercaço', 'areia', 'gay', 'foliar', 'adagiar', 'escritoriozinho', 'um_casal_e', 'calafate', 'teco', 'honestidade', 'supor', 'conivência', 'violência', 'fortuito', 'localização_próximo_a', 'de_0_pessoas', 'ficamos_00_dias', 'mite', 'serviço_de_arrumação', 'troca_de_toalhas', 'coerir', 'é_pequeno_mas', 'cerâmico', 'esfregão', '000metros', 'homalopse', 'anverso', 'abeces', 'pessoal_é_muito', 'caminho', 'violação', 'denúncia', 'o_melhor_hotel', 'rótula', 'catalogar', 'duzas', 'cornecho', 'gafar', 'total', 'refeitório', 'alegação', 'betle', 'custo_benefício_muito', 'ás', 'chans', 'grego', 'beliche', 'tryp', 'ótimo_hotel_para', 'caminhão', 'quadruplar', 'de_metro_na', 'banheiro_é_pequeno', 'os_0_dias', 'leco', 'ranzinza', 'pranchar', 'lage', 'biblioteca', 'watt', 'gostei_muito_da', 'pequeno_mas_limpo', 'split', 'voltagem', 'a_0_quadra', 'pauais', 'localização_que_é', 'fica_a_cerca', 'bagageiro', 'concionar', 'faco', 'marmanjola', 'araçari', 'minhoca', 'jacaré', 'com_o_barulho', 'dormir_e_tomar', 'secundário', 'caos', 'razoável', 'Inglaterra', 'limite', 'da_manhã_com', 'fartura', 'a_0_min', 'europeísta', 'sobresdrúxulos', 'itos', 'mornar', 'fiquei_em_um', 'impaciência', 'sarcasmo', 'esbonitas', 'alguns_passos_da', 'a_000_metros', 'cama_e_travesseiros', 'lado_da_estação', 'perto_de_restaurantes', 'peculiaridade', 'no_dia_00', 'dezembro_de_0000', 'lisboa', 'plantão', 'o_apartamento_é', 'dedão', 'áudio', 'ver_a_torre', 'saqueador', 'verificação', 'o_número_de', 'entendimento', 'francese', 'histórico', 'como_o_hotel', 'muito_pequenos_mas', 'sotaque', 'atendentes_da_recepção', 'interlinhado', 'afabilidade', 'liliale', 'centralidade', 'pé_da_torre', 'bem_localizado_a', 'final_de_semana', 'do_que_o', 'contaminação', 'o_atendimento_do', 'valioso', 'semestre', 'cofragem', 'freguesia', 'muuuuuito', 'regularidade', 'um_pouco_do', 'no_banheiro_e', 'voz', 'multilíngue', 'prestação', 'estaminar', 'jargão', 'recessão', 'doçura', 'amabilidade', 'dos_quartos_é', 'MC', 'papal', 'mas_a_cama', 'proteger', 'credencial', 'que_a_internet', 'ceifar', 'piquenicar', 'árabe', 'outros_hotéis_da', 'subúrbio', 'magro', 'agranele', 'diâmetro', 'tradução', 'alemão', 'ruante', 'megátoo', 'não_tenho_o', 'mas_limpos_e', 'surpresinhos', 'internet_nos_quartos', 'onica_coisa_que', 'alarmar', 'cromossominas', 'nu', 'cadeirantes', 'garçonetes', 'político', 'revir', 'confortalecermo', 'rá', 'este_é_um', 'e_são_muito', 'desinfetante', 'grandeias', 'no_centro_de', 'gordo', 'empecilhar', 'hall_do_hotel', 'no_centro_do', 'ventinho', 'depreender', 'poluição', 'o_sistema_de', 'panca', 'croas', 'reter', 'o_banheiro_são', 'pareca', 'calção', 'quinhentos', 'discussão', 'requerer', 'erro', 'cautela', 'a_duas_estações', 'liberdade', 'incender', 'detector', 'todos_os_hospedes', 'bolso', 'impossibilidade', 'da_manhã_fraco', 'mas_confortáveis_e', 'muito_bom_mas', 'tem_um_excelente', 'login', 'pertinhos', 'éon', 'mérito', 'incompatibilidade', 'avariar', 'mediano', 'fica_a_dica', 'mecanismo', 'radiolocalização', 'drogaria', 'apelativo', 'portunhol', 'bicicletário', 'cabedeleiras', 'estadia_de_0', 'serviço_de_café', 'infinidade', 'a_00_de', 'hotel_de_luxo', 'preto', 'lugarete', 'preço_do_hotel', 'antialérgico', 'lodo', 'priorizei', 'estafar', 'esplendidez', 'estilização', 'homônimo', 'liberação', 'porte', 'lindeza', 'para_quem_não', '000_metros_do', 'guardanapo', 'não_tem_elevador', 'destaca´se', 'recomendo_a_ninguém', 'de_00_a', 'pera', 'pteronisso', 'brelim', 'mas_também_não', 'de_metro_bem', 'desleixar', 'friento', 'mestomas', 'penacha', 'dijole', 'chalar', 'trote', 'cumprimento', 'confiança', 'cheque', 'gracas', 'compreendido', 'ideal', 'reconexões', 'desligamento', 'marilha', 'Astor', 'fevereiro_de_0000', 'martim', 'suilate', 'operador', 'enito', 'desatenção', 'atrevimento', 'agustin', 'monstera', 'nil', 'pra_quem_vai', 'lapiseira', 'consolar', 'de_que_o', 'rebordar', 'ferimento', 'lavagem', 'ridinho', 'eirinha', 'primor', 'mas_muito_limpos', 'monopso', 'brabo', 'do_hotel_para', 'década', 'administrador', 'fuca', 'de_cafés_e', 'sebo', 'rolho', 'descido', 'desaconselhar', 'compositor', 'guerra', 'diverso', 'atualidade', 'saché', 'interocepção', 'maço', 'me_hospedar_lá', 'hermínio', 'comboiar', 'y', 'tabla', 'quarto_confortável_e', 'hippie', 'gaullístico', 'chaise', 'claustrar', 'vã¡rios', 'AL', 'gabinete', 'politorento', 'quartos_muito_bons', 'um_quarto_pequeno', 'a_relação_custo', 'caracol', 'voragem', 'torturar', 'horal', 'passamos_0_dias', 'satélite', 'adnato', 'sone', 'por_isso_é', 'crustal', 'tesourar', 'discrição', 'maiarmos', 'moção', 'delavirdina', 'americina', 'marcação', 'equivaler', '00x00', 'com_um_ótimo', 'indefinidade', 'ingrato', 'viaduto', 'marsas', 'fito', 'pré-', 'galha', 'contradição', 'cotidiano', 'foram_muito_atenciosos', 'francatripa', 'médico', 'delisses', 'identificação', 'pacé', 'deduzir', 'pormenor', 'traseiro', 'jarés', 'recepcionalistas', 'córdias', 'atrativo', 'a_cerca_de', 'término', 'fase', 'braço', 'abraçar', 'e_a_um', 'com_o_tamanho', 'desinfetantes', 'mensageiro', 'braba', 'mijar', 'fino', 'especificação', 'fórmula', 'mas_é_limpo', 'formatação', 'estrangeiro', 'exaustor', 'jardes', 'acaso', 'reunião', 'localização_excelente_e', 'desqualificar', 'trigésimo', 'relaxamento', 'tragédia', 'lavadinha', 'sequer', 'cerimônia', 'quadras_da_torre', 'funcionários_atenciosos_e', '00º', 'atendimento_do_hotel', 'inovação', 'da_manhã_também', 'Ernesto', 'vigésimo', 'mais_ou_menos', 'utilizador', 'chateação', 'balanco', 'infiltração', 'pois_o_quarto', 'cansativo', 'elyitas', 'alívio', 'aos_pontos_turísticos', 'quádruplo', 'bala', 'porcões', 'para_o_dia', 'desencontrar', 'moleza', 'período_de_00', 'e_a_estação', 'mercearia', 'mergulhar', 'estaurantera', 'cirtos', 'mare', 'del', 'cuerudo', 'toro', 'positivar', 'RTP', 'vosso', 'pouco_distante_do', 'que_foi_o', 'neto', 'consumação', 'febre', 'ruveto', 'fechadura', 'angula', 'familiaridade', 'facete', 'chinela', 'rigoroso', 'indignação', 'governança', 'spray', 'lepicena', 'fumador', 'delegação', 'provedor', 'descardas', 'mofo', 'atenciosos_e_gentis', 'cortina', 'catar', 'combes', 'agons', 'ir_a_paris', 'antiguidade', 'jarra', 'potinho', 'guinho', 'azimeria', 'apático', 'bulir', 'palha', 'sótão', 'quarto_bem_pequeno', 'resolução', '000am', 'novembro/0000', 'garfar', 'cuidadinho', 'telefonema', 'antes_de_ir', 'guera', 'muxo', 'EN', 'iento', 'embargar', 'moderne', 'contanto', 'leito', 'desmoscoleco', 'brise', 'alisar', 'mangão', 'agarrar', 'sabão', 'torgueiros', 'diferente', 'congestionamento', 'laranjo', 'palmar', 'amanhar', 'sonorização', 'apertamento', 'biscoitar', 'gau', 'toutinegra', 'ar_condicionado_o', 'demasiar', 'legítimo', 'filminho', 'terror', 'ferino', 'população', 'sultanesco', 'autocontentabilidade', 'de_metro_muito', 'excelente_e_o', 'tudo_a_pé', 'noivo', 'acidentar', 'bobagem', 'e_fácil_acesso', 'referenciar', 'tratória', 'gigo', 'residencial', 'vestuário', 'compatriota', 'de_metro_de', 'lado_do_metro', 'os_quartos_muito', 'empregados_do_hotel', 'treinamento', 'chegamos_ao_hotel', 'entulho', 'instituição', 'tuques', 'corsaco', 'aração', 'trafegar', 'perigoso', 'atendimento_do_pessoal', 'hotel_não_poderia', 'nono', 'desabafar', 'dindes', 'amargamente', 'terceiro', 'prestabilidade', 'sisanento', 'part', 'time', 'engradear', 'despachar', 'condutor', 'nevrosismo', 'tática', 'intuito', 'absurdo', 'contudo', 'm00', 'confortáveis_e_limpos', 'pico', 'pressupor', 'sightseeing', '0_dias_em', 'piquenique', \"d'appoggio\", 'acrogenético', 'forno', 'acessorial', 'abastança', 'tripetrepe', 'comodíssimo', 'caquistia', 'secretário', 'trombada', 'enquadrar', 'capilar', 'álcool', 'buchicho', 'lembrancinhas', 'não_tive_nenhum', 'acrose', 'contagem', 'malhação', 'degradação', 'marroquino', 'romeno', 'nairangia', 'espiã§os', 'esteatopigia', 'matrimoniar', 'evenque', 'muellerina', 'estasigenia', 'lancheiro', 'smartfone', 'impactar', 'paris_não_é', 'distribuidor', 'colgar', 'titulo', 'veterinário', 'malabarismo', 'totalidade', 'lei', 'metro_na_esquina', 'desa', 'elidir', 'arquivar', 'chés', 'confortável_com_um', 'moldurar', 'pichações', 'raspagem', 'lancissondista', 'duplei', 'sipe', 'bem_atenciosos_e', 'candeeiro', 'técnico', 'hotelzinho', 'chidura', 'sintoma', 'higiênicas', 'lar', 'na_porta_e', 'secagem', 'polissimétrico', 'ascensor', 'tubi', 'cu', 'enzolo', 'copretérito', 'copro', 'massoterapia', 'nosostrino', 'chiviatita', 'crespatura', 'repiegas', 'terato', 'banana', 'tormento', 'deficiente', 'colocaram_em_um', 'um_quarto_no', 'nefelômetro', 'atendimentolimpezarefeições', 'localização_é_maravilhosa', 'aranha', 'calorento', 'arro', 'restirante', 'nos_disse_que', 'moral', 'quietar', 'macho', 'simulação', 'tendenciaria', 'os_funcionários_muito', 'sobrinho', 'relançar', '0000h', 'fuso', 'confortável_e_a', 'funcioná', 'tinha_um_cheiro', 'eifelianas', 'reservatório', 'todo_o_hotel', 'ácaro', 'quíntuplo', 'x', 'por_00_noites', 'concha', 'fondues', 'mamadeira', 'larau', 'foods', 'no_final_de', 'campainha', 'arrombamento', 'incômoda', 'suposição', 'TV_de_LCD', 'aposento', 'constatação', 'pouco_mais_de', 'tapar', 'supérfluo', 'jantarzinho', 'inspiração', 'nora', 'interferência', 'roteador', 'radiequipamento', 'adágio', 'bagunceiros', 'fritura', 'marquise', 'saco', '00e', 'constrangedor', 'captação', 'deixa_muito_a', 'sombrio', 'pontilhão', 'da_janela_do', 'Jaime', 'estepante', 'e_minha_família', 'vitória', 'joias', 'terlos', 'hotel_não_se', 'lado_da_cama', 'missão', 'para_mim_e', 'enquanto', 'consumidor', 'concernir', 'estrar', 'sobressalto', 'pedinte', 'vacilar', '00_a_00', 'parassimplesita', 'lux', 'no_hotel_de', 'um_quarto_de', 'catracas', 'duração', 'locnera', 'um_local_para', 'precaver', 'minoria', 'anichar', 'pipazetato', 'sota', 'multimama', 'testo', 'avertimento', 'costão', 'preparação', 'suplemento', 'rinofrino', 'uniformar', 'Dácia', 'indiferença', 'sacrifício', 'importante', 'mascar', 'estive_com_minha', 'rodito', 'hotel_e_não', 'aconselhamento', 'sutar', 'espiã§OSO', 'arma¡rio', 'de_ser_um', 'clã¡cica', 'opa§ãµes', 'doceiro', 'diã¡ria', 'hã³apedes', 'duas_vezes_e', 'asseamento', 'com_duas_camas', 'competitivo', 'nevá', 'da_recepção_não', 'mas_vale_a', 'contínuo', 'boxar', 'frasco', 'saramiques', 'xbox000', 'cortês', 'problemático', 'grade', 'fanucho', 'concessão', 'unça', 'turno', 'relentar', 'ineficiente', 'todalíeas', 'matéria', 'tradicional', 'circundar', 'perfumaria', 'liso', 'vigar', 'sustentação', 'confidenciar', 'mansão', 'tute', 'janes', 'locativo', 'quinquefido', 'trifosfato', 'isabelismo', 'senso', 'eramo', 'comode', 'interessante', 'acepção', 'o_problema_é', 'fluente', 'intimidade', 'dignidade', 'estômago', 'tenção', 'ministério', 'puntos', 'moqueteiro', 'calamidade', 'especie', 'e_tomar_um', 'muito_pequeno_mas', 'extintor', 'objectivar', 'puropuru', 'carena', 'manutenência', 'quantiar', 'delergotrila', 'richelieu', 'druot', 'luminária', 'formalidade', 'forrar', 'propagação', 'e_banheiros_limpos', 'cérias', 'redação', 'literatura', 'atualizações', 'a_passagem_do', 'nototrema', 'naco', 'beco', 'para_o_café', 'dilema', 'cardi', 'cardinal', 'massageador', 'mas_mesmo_assim', 'gia', 'cintura', 'quarto_em_que', 'perm', 'sério', 'ministrar', 'locanda', 'cabideiros', 'rodim', 'aviar', 'bolsa', '0000euros', '000euros', 'maçar', 'raivar', 'ótima_e_o', 'bordar', 'h', 'greve', 'em_paris_o', 'caráter', 'estrato', 'reaparecer', 'mais_de_um', 'padronização', 'quarterão', 'da_estação_gare', 'muito_perto_da', 'reparação', 'autoclismo', 'estadão', 'teleatendimento', 'dia_00_de', 'azaração', 'lamarão', 'suspirar', 'multibanco', 'bombom', 'belga', 'livre', 'permutar', 'afeite', 'mulim', 'assota', 'é_extremamente_pequeno', 'de_estações_de', 'reto', 'banheiro_tem_um', 'hotel_e_a', 'aspiração', 'límpia', 'para_chegar_a', 'é_bem_simples', 'marcado', 'chegamos_no_hotel', 'sacrouterino', 'objetividade', 'falácia', 'quase_em_frente', 'tolúcia', 'habitabilidade', 'páscoa', 'formação', 'berro', 'eão', 'comentarísticos', 'desprendimento', 'foram_muito_simpáticos', 'acionem', 'largura', 'é_bom_mas', 'mercurol', 'fotográfico', 'francear', 'desdem', 'esseno', 'ressunto', 'para_mudar_de', 'pela_internet_e', 'rinite', 'intermediário', 'educados_e_prestativos', 'pretensão', 'transparência', 'são_grandes_mas', 'possessivo', 'ptere', 'chetini', 'bilíngue', 'vassourar', 'franco', 'no_meu_caso', 'mesossomo', 'meretrício', 'velharia', 'naqueloutro', 'tomate', 'galeto', 'tole', 'o_preço_também', 'alteração', 'e_de_vários', 'o_hotel_no', 'holotipo', 'rouquenho', 'acho_que_o', 'martelar', 'furadeira', 'bellevália', 'apoucas', 'ero', 'pulo', 'megálio', 'prolato', 'fiação', 'mediterrano', 'euro$$$$$$$', 'desenfrear', 'miami', 'picrócolo', 'manco', 'burro', 'marmeluta', 'caldar', 'obrigação', 'vars', 'selene', 'pernilongo', 'circulador', 'esclarecimento', 'do_triunfo_e', 'próximo_da_torre', 'with', 'cambiar', 'ração', 'ene', 'hasta', 'olimpiano', 'habitacionismo', 'baço', 'extremadamente', 'linha0', 'fraqueza', 'tem_frigobar_e', 'fresta', 'porém_o_quarto', 'funcionários_foram_atenciosos', 'bandear', 'quebradeira', 'juventude', 'corrimão', 'e_que_o', 'dias_em_que', 'brie', 'andone', '€', 'pizaria', 'lamarinau', 'foreiro', 'plesiope', 'pleas', 'esquisitíssimo', 'hotel_não_é', 'ago/0000', 'que_os_funcionários', 'mielemia', 'tolo', 'legar', 'salificar', 'desaparecimento', 'fuba', 'pequenos_mas_muito', 'turis', 'milhão', 'parco', 'ironia', 'que_não_se', 'o_banheiro_tinha', 'careca', 'loiro', 'universidade', 'imento', 'obs.-', 'pronunciar', 'catacumba', 'acústico', 'logo', 'moto', 'de_metrô_que', 'para_tomar_um', 'um_hotel_barato', 'cometário', 'adequação', 'sopenses', 'trunfar', 'funcionantes', 'salivar', 'naudina', 'proximismo', 'grasni', 'o_banheiro_também', 'succinamínico', 'tuta', 'bagabaga', 'pingo', 'e_o_ar', 'viela', 'amizade', 'quique', 'sopiar', 'que_eu_não', 'sacaria', 'pavimentar', 'interfone', 'intrusão', 'fronho', 'amine', 'furto', 'mochileiros', 'historiar', 'vagão', 'diviso', 'respaldar', '0malas', 'compota', 'filosofia', 'consolação', 'frimãozão', 'veem', 'regões', 'descrito', 'torvisco', 'revérbero', 'male', 'arredamento', 'tubarãozinho', 'vermiote', 'torre_Eiffel_o', 'autocirurgia', 'dessiso', 'rile', 'burne', 'glicogenia', 'metrobaros', 'prosseguir', 'aspeto', 'augustina', 'mielomenia', 'as_roupas_de', 'poça', 'cano', 'entreaberto', 'edificação', 'fiquei_no_hotel', 'hospedados_por_0', 'fenestra', 'antrectomia', 'faveca', 'treinandos', 'tapetizaria', 'detrata', 'difficile', 'repertorie', 'posizione0', 'miglitol', 'relação_preço_qualidade', 'bariolagem', 'detetafono', 'acerar', 'rinasto', 'n00', 'pertentar', 'imo', 'negatividade', 'todos_muito_simpáticos', 'luna', 'inovador', 'inclusão', 'humildade', 'coisa_a_pé', 'geral_o_hotel', 'restituição', 'excepção', 'dagas', 'sarro', 'mar´s', 'anfiteatro', 'palco', 'combater', 'ladinho', 'bwcs', 'critério', 'kg', 'higiênico', '00/dez', 'fluência', 'jeans', 'chorar', 'ressarcimento', 'warwick', 'localizadona', 'muito_perto_de', 'auditoria', 'trinfo', 'bilheteria', 'hotel_está_bem', 'chovei', 'BB', 'matizar', 'a_janela_aberta', 'capsulamo', 'baros', 'jetapes', 'patamar', 'georgeofones', 'indiano', 'curua', 'supervisão', 'pasilogia', 'tênia', 'operazinha', 'renal', 'assoalho', 'senegalense', 'finalidade', 'acro', 'reouvido', 'renome', 'calhar', 'aperceber', 'desentender', 'politicar', 'lofa', 'migalhar', 'para_o_arco', 'bouche', 'entradinha', 'esgoto', 'e_as_instalações', 'lado_do_metrô', 'gote', 'cocharro', 'ddistingui', 'doodor', 'boldo', 'clefta', 'na_recepção_que', 'sensibilidade', 'obruchevitas', 'ng', 'motor', 'gomar', 't0', 'd´orleãs', 'plainista', 'hotel_é_de', 'surgimento', 'pendência', 'e_o_box', 'e_da_estação', 'hum', 'xingamento', 'prepotência', 'xenófobo', 'circunstância', 'no_hotel_não', 'que_este_hotel', 'zonalidade', 'adjacente', 'criatura', 'prostíbulo', 'desconfortante', 'outonar', 'bicho', 'jeremiar', 'faca', 'intelectual', 'finanças', 'malojas', 'denotar', 'racismo', 'bandolete', 'fibra', 'essencialize', 'centralização', 'cadente', 'mezzo', 'golo', 'escorchar', 'capiscar', 'sujidade', 'fuga', 'pereira', 'bergamota', 'simples_mas_com', 'pocilga', 'cilada', 'pantanense', 'limpeza_e_arrumação', 'embalagem', 'sembra', 'sião', 'abiano', 'duto', 'albergate', 'gaveta', 'gaiar', 'bolor', 'de_metro_é', 'rau', 'traverselite', 'o+transferes+hotel', 'chara', 'feijão', 'senciente', 'somente', 'perplexo', 'indivíduo', 'nili', 'desabonador', 'entediar', 'luchan', 'milagre', 'cotação', 'abracadabrante/0000', 'ferréolo', '^', 'de_ônibus_e', 'suficiente_para_um', 'haiden', 'deaura', 'validade', 'no_site_do', 'supersta', 'parente', 'planear', 'neste_hotel_de', 'podre', 'descontrolar', 'justificativo', 'chapear', 'pequeno_mas_é', 'relação_qualidade_preço', 'inseto', 'estore', 'correção', 'interpenetrador', 'argelino', 'que_tem_uma', 'sanedrim', 'protetor', 'escuridão', 'a_internet_no', 'dignar', 'caixote', 'miniaturar', 'ciclo', 'eur000', 'panificador', 'leitor', 'estrelar', 'independência', 'andaime', 'policiamento', 'hotel_que_já', 'portátil', 'pulgueiro', 'pulgo', 'levador', 'vencimento', 'odorar', 'em_abril_de', 'vítima', 'bordel', 'pensamento', 'nodoar', 'este_tipo_de', 'muro', 'um_atendimento_muito', 'impossível', 'inundação', 'balde', 'jul', 'premer', 'coloneu', 'a_00_minutos', 'musculação', 'pesadelo', 'cativeiro', 'respiração', '0ªguerra', 'cidadela', 'hibisco', 'faxineira', 'sicoma', 'pastor', 'medíocre', 'convívio', 'tufo', 'barraco', 'favela', 'conscienciocentrologias', 'letra', 'centil', 'planejo', 'XV', 'dodo', 'localização_é_a', 'parquinho', 'fabagela', 'da_manhã_no', 'ambulância', 'ananim', 'deslandiana', 'mouse', 'fairfieldita', 'de_us_0000', 'bridgista', 'cursar', 'beliquetes', 'mundismo', 'califórnio', 'guardador', 'titos', 'entrançar', 'cercano', 'simples_mas_muito', 'confortáveislimposatendimento', 'grumar', 'vestiário', 'basquete', 'andar_mais_alto', 'na_próxima_vez', 'seguridade', 'esperagana', 'empar', 'cheina', 'instante', 'limpiezaestacionamientoubicacion', 'arribar', 'seguintemente', 'bagatela', 'travelho', 'higiamas', 'uperu', 'arts', 'concerto', 'dacota', 'ritmar', 'linco', 'proporção', 'repaginação', 'nase', 'nyc', 'tudo_que_você', 'da_time_suare', 'em_pire_sate', 'surilhos', 'tamanho_muito_bom', 'PM', 'de_net_York', 'pasmar', 'generoso', 'buzinar', 'restaurador', 'embrulho', 'da_times_suare', 'jugar', 'simptósicos', 'inauguração', 'anacampto', 'na_times_suare', 'autoritário', '0points', 'alumínio', 'yorker', 'adeiro', 'cômoda', 'brownismo', 'ginásio', 'tudo_muito_novo', 'times', 'saquarema', 'poisar', 'a_times_suare', 'quarteirãozão', 'helas', 'buza', 'homezio', 'lata', 'revitalização', 'branto', 'pessoal_muito_atencioso', 'ladrilhar', 'degustação', 'hotéis_em_nu', 'do_times_suare', 'reparo', 'tesla', 'cagar', 'com_o_café', 'de_times_suare', 'local_do_café', 'verba', 'chachal', \"toy'r'us\", 'cordoma', 'joanilho', 'êh', 'teatrelho', 'imposto', 'idate', 'lanchinho', 'sapador', 'mineiro', 'fóridas', 'representante', 'meningopatia', 'co', 'bigelóvia', 'iorquino', 'neutro', 'à_times_suare', 'memória', 'broda', 'macamas', 'porteiro', 'pedágio', 'sacolinha', 'padrões_de_nu', 'celerífero', 'hotéis_de_nu', 'exato', 'cofiar', 'a_nova_York', 'é_novo_e', 'rum', 'sodes', 'tesum', 'quarto_amplo_com', '0000eu', 'de_0_anos', 'mortonas', 'electriz', 'pilho', 'agendamento', 'em_nu_e', 'tito', 'manager', 'trito', 'punho', 'pros', 'rocaille', 'setembro/00', 'jesus', 'ao_em_pire', 'esquecimento', 'hotel_em_nu', 'signais', 'a_time_suare', 'clique', 'transmissão', 'tristeza', 'polinésio', 'hotel_além_de', 'metrô_na_esquina', 'para_compras_e', 'caótico', 'lavador', 'tosadeira', 'bateção', 'horários_de_pico', 'gume', 'carminar', 'bombarato', 'duffys', 'perto_da_times', 'iaos', 'mandeiazinha', 'chopp', 'lixo', 'ombro', 'baxi', 'coquetel', 'hotel_fica_próximo', 'avense', 'atenciosos_e_simpáticos', 'mevanate', 'flame', 'banquete', 'atleta', 'pluma', 'copa', 'amigdaloides', 'Gabriel', 'astéria', 'paralisação', 'sates', 'columbos', 'trufar', 'carletonita', 'babá', 'Michelangelo', 'bernardina', 'elaboração', 'familial', 'moma', 'b&h', 'da_pená_astatino', 'techmuito', 'de_casal_e', 'emparar', 'sate', 'videoteipe', 'café´da', 'na_rua_00', 'traineira', 'mico', 'aquisição', 'tour', 'bigu', 'aveia', 'em_nu_é', 'onça', 'um_pouco_antigo', 'o_restaurante_do', 'animal', 'morgas', 'é_muito_limpo', 'grans_central_astatino', 'sochão', 'bem_próximo_ao', 'reagir', 'bradá', 'baru', 'fascínio', 'a_qualquer_ponto', 'vasto', 'apoio', 'aplebeares', \"macdonald'spassando\", 'preparativo', 'mundeiro', 'cameroniano', 'metropolita', '0av', 'muzarela', 'para_times_suare', 'coireie', 'de_tudo_a', 'cachar', 'coobar', 'frigorificar', 'sequência', 'a_recepção_do', 'persistência', 'cherutão', 'pode_ser_um', 'limpeza_e_organização', 'acemia', 'absurdamente', 'desentupidor', 'inspeção', 'murra', 'basamento', 'osa', 'exaustivo', 'minalrestate', 'mandarim', 'lamentável', 'generosidade', 'estive_neste_hotel', 'comissão', 'ultimar', 'monandria', 'a_equipe_de', 'dinâmico', 'serviço_é_muito', 'modernismo', 'futurismo', 'cápsula', 'retrátil', 'selfotel', 'os_banheiros_são', 'em_nova_Iorque', 'bor', 'noz', 'omisso', 'mufinos', 'ônus', 'debater', 'furaca', 'nobre', 'furacão', 'uau', 'reabrir', 'ações', 'argumentação', 'ramificação', 'redução', 'complementação', 'emprateleirares', 'coral', 'do_lado_da', 'esquiâmetro', 'exuberância', 'mecanicista', 'tope', 'medeiro', 'eletrônicos', 'embaixador', 'caudilhote', 'brasilismo', 'royalty', 'autoridade', 'tempestade', 'sumetume', 'lateral', 'oscilação', 'jito', 'cossinetes', 'cari', 'algodão', 'apetrecho', 'umidificador', 'berimbelo', 'hertz', 'aberlines', 'lasi', 'bastaréus', 'voltar_a_nu', 'iris', 'middletonite', 'quare', 'radiocircuito', 'a_pé_em', 'rare', 'minicompota', 'ruim_é_que', 'medonho', 'opresso', 'maltomas', 'verno', 'vivários', 'camiseta', 'concepção', 'tênis', 'tardo', 'taxie', 'cron', 'resenhar', 'lodento', 'não_vale_o', 'golpe', 'mesmo_com_o', 'erei', 'talisca', 'de_0_meses', 'portaria', 'guesto', 'metrocampa', 'cinchoninato', 'atrativas', 'cedência', 'dontes', 'ecolocalização', 'landamanes', 'fazer_o_cheque', 'poucochinho', 'planar', 'crabro', 'salmão', 'helose', 'herses', 'a_localização_do', 'carregamento', 'do_hotel_existe', 'alunar', 'aula', 'orpington', 'caro_para_o', 'postumeiro', 'rorastes', 'renascencense', 'lançamento', 'jiló', 'bria', 'quiosque', 'aleda', 'policiclo', 'difusionismo', 'efetuação', 'cafuca', 'atirar', 'acanto', 'criocondutor', '0_quadra_do', 'inconveniência', '0_noites_e', 'confortavelmente', 'luculo', 'objetivos', 'texto', 'nação', 'frechar', 'sua_localização_é', 'márcio', 'espeçar', 'quarto_e_a', 'victorites', 'atendeu_muito_bem', 'localizadão', 'limpo_e_com', 'entalação', 'gelado', 'jutaizinho', 'densidade', 'giratório', 'impessoalidade', 'panorâmico', 'concorrente', 'gafe', 'tarro', 'tarbuche', 'novaiorquino', 'originalidade', 'catividade', 'cação', 'bulício', 'engraxador', 'cal', 'pleno', 'tinhanhas', 'batido', 'hemoperfusão', 'localizado_no_coração', 'estimular', 'barbárie', 'cartaz', 'double', 'adicional', 'tecido', 'handa', 'sobrenome', 'multiverso', 'musicai', 'DJ', 'enjoativo', 'fica_a_poucos', 'poucos_passos_da', 'residencie', 'paulo-', 'rico', 'fervor', 'quão', 'de_00_anos', 'coleta', 'equipe_de_funcionários', 'do_por_autoritário', 'tartaruga', 'gravar', 'gura', 'amedronha', 'discrepância', '0a', 'quitool', 'rotofoto', 'com_um_bom', 'sinuca', 'legalzinho', 'a_equipe_foi', 'rofo', 'e_times_suare', 'caropa', 'us00000', 'maisena', 'menta', 'APT', 'para_o_rio', 'receptação', 'peso', 'benos', 'brianto', 'danceterias', 'no_meio_de', 'maquinhas', 'patriciadas', 'limusine', 'primoroso', 'saque', 'determinação', 'bobo', 'ameno', 'gilé', '00point', 'da_catedral_de', 'villarésia', 'em_nu_o', 'tristezinho', 'de_um_bom', 'erope', 'desadunar', 'encentro', 'semas', 'em_menos_de', 'levíssima', 'morangar', 'neno', 'aflar', 'e_com_a', 'chantili', 'pentostatina', 'preguiçoso', 'jactar', 'mas_muito_limpo', 'jone', 'avalo', 'tonto', 'terrestreidade', 'pizzariasrestaurantesteatro', 'americomania', 'jeffrêysia', 'juliano', 'mouro', 'apreensão', 'hoteias', 'pouco_de_barulho', 'sulivância', 'e_pequeno_mas', 'midese', '00nd', 'judice', 'décimo', 'prover', 'e_o_que', 'minimaratona', 'reduto', 'noiteças', 'adversidade', 'acre', 'barganheiro', 'time_suare_e', 'tableta', 'grisar', 'com_quartos_pequenos', 'coleção', 'steno', 'são_atenciosos_e', 'final_da_tarde', 'sapar', 'amante', 'acomodadiço', 'circuíto', 'italiota', 'bridge', 'educador', '00st', 'bolero', 'jazer', 'chino', 'comptonito', 'angel', 'memorial', 'ar&t', 'micro_ondas_e', 'fica_por_conta', 'atores', 'alfre', 'angelotes', 'lotadíssimo', 'gelo', 'manhaninha', 'necessariedade', 'ceifadeiras', 'hiperfuncionamentos', 'próximo_ao_central', 'pericardiocentese', 'contíguo', 'cappuccino', 'a_parte_e', 'bronopol', 'da', 'florença', 'gari', 'microtonalismo', 'ermo', 'jekyll', 'hude', 'mexicano', 'arriação', 'poço', 'distanciamento', 'biodisponibilidade', 'demais', 'metrópole', 'largo', 'em_um_local', 'filmagem', 'estaço', 'r$00', 'usd000', 'u$000', 'ternate', 'realocá', 'é_das_melhores', 'ostrino', 'catacanto', 'murar', 'noturnos', 'os_padrões_de', 'concinidade', 'boteco', 'sandaba', 'vesúvio', 'coralo', 'proar', 'crosto', 'sogar', 'noturna', 'monstro', 'modelo', 'estilista', 'round', 'trade', 'cadeirão', 'itano', 'aperto', 'cordear', 'convidativo', 'anúncio', 'acessarmos', 'chuçar', 'empírea', 'abucastas', 'não_se_preocupe', 'vacinar', 'soro', 'intercontinental', 'dora', 'respingadouro', 'de_conferencie_é', 'ansonato', 'tiburtino', 'desfilar', 'ribeiro', 'repetição', 'fastio', 'apertinentinho', 'desatenciosidade', 'mercadoria', 'rio', 'rosca', 'estaces', 'fácil', 'gorila', 'unio', 'besteira', 'menos_de_000', 'arroz', 'fabricação', 'cracker', 'microempreendedor', 'churrascaria', 'governita', 'reforminha', 'proibição', 'não_é_barato', 'intacto', 'canelar', 'emporitano', 'figite', 'hotel_é_o', 'funcionalismo', 'problema_com_o', 'correio', 'encofe', 'minuscolaaddirittura', 'funcionários_muito_simpáticos', 'rastreamento', 'descor', 'integração', 'acabado', 'engenheiro', 'atalho', 'para_os_que', '0m0', 'ocupação', 'translados', 'JF', 'loteria', 'codorna', 'RS', 'grão', 'falante', 'lele', 'bossa', 'seriedade', 'depoimento', 'oficial', 'que_se_precisa', 'belambo', 'o_pessoal_do', 'chaira', 'encaixadinho', 'cacetões', 'as_camas_e', 'tetro', 'o_banheiro_muito', 'prisioneiro', 'líder', 'folerca', 'ciclose', 'ascensorista', 'frenteias', 'sobrexposição', 'rufar', 'candólleo', 'e_o_tamanho', 'duas_camas_de', 'decisão', 'grudento', 'etos', 'agora', 'cama_confortável_banheiro', 'borboleta', 'sobrecompensadíssimo', 'bage', '00h00', 'tique', 'tentador', 'uja', 'odinero', 'paca', 'ramisa', 'state00minutos', 'grandão', 'fanático', 'manobrar', 'decil', 'distorciométrico', 'fruta', 'tilleyitas', 'cômia', 'mufino', 'juna', 'marco', 'Flávia', 'midletonite', 'quê', 'gouânia', 'comadre', 'carvi', 'cimentar', 'vinificar', 'hotel_excelente_localização', 'requeijão', 'impedimento', 'e_bem_próximo', 'ararmários', 'gregue', 'Denise', 'fica_na_esquina', 'develo', 'infradesnivelamento', 'renato', 'maganagem', 'buchela', 'cheleana', 'árvore', 'bebedouro', 'banheiro_é_muito', 'recenticidade', 'dobar', 'avenca', 'yoko', 'ono', 'jolei', 'rapichel', 'educacionismo', 'sumaumeira', 'sogiôncio', 'avito', 'mas_muito_bom', 'revezamento', 'paramentar', 'há_0_quadras', 'rotatividade', 'coreano', 'complexabilidade', 'aplicativo', 'traçar', 'mobilar', 'mas_é_bom', 'turdo', 'muiritas', 'japão', '00m0', 'máquina_de_gelo', 'tribeca', 'eastvillage', 'um_dia_de', 'trenode', 'trieco', 'madis', 'Pen', 'pená_astatino_e', 'hihihi', 'cachecol', 'espumante', '0th', 'senhoraço', 'j&r', 'companha', 'burendangas', 'bocado', 'cirurgia', 'de_micro_ondas', 'MT', 'boom', 'hiline', 'adjunto', 'a_janela_do', 'caseiro', 'no_hotel_com', 'de_metro_da', 'novamente_o_hotel', 'inda', 'localização_perto_de', 'paixão', 'pudim', 'tripulação', 'espedir', 'us$000/dia', 'questionamento', 'vitoriar', 'brodosquianos', 'radiostereoscopias', 'tripulante', 'addisonismo', 'destrutor', 'estevar', 'e_a_poucos', 'comissário', 'piloto', 'pessimismo', 'radiemissor', 'martinite', 'luva', 'de_hotel_em', 'devolução', 'superpesquisa', 'digital', 'parafusar', 'goldonianos', 'espanholar', 'bajia+ceno', 'vereda', 'césar´s+refrigerante+água', 'secretes', 'passeios_a_pé', 'bom_para_o', 'orestrato', 'tabelar', 'caneleiro', 'exótico', 'abordagem', 'inoperância', 'sutiã', 'telefone', 'madris', 'diet', 'dieta', 'melhor_do_hotel', 'tudo_muito_bom', 'para_o_central', 'quaro', 'capitão', 'XXI', 'asiático', 'pedestre', 'afazer', 'estressei', 'todos_os_tipos', 'amplimamoso', 'woodburry', 'antipático', 'recipiente', 'eletronizas', 'maniatar', 'liberdadeiro', 'concessionário', 'cinchonato', 'quartos_não_são', 'naveteiro', 'tencionar', 'é_um_diferencial', 'bicar', 'dedetização', 'cobertorzinho', 'doméstico', 'lição', 'apelar', 'patinação', 'despetaleador', 'porranho', 'brasileirismo', 'quadruplicidade', 'cêntimo', 'desolante', 'shutlle', 'com_tudo_que', 'pontual', 'minha_mulher_e', 'operário', '0quadras', 'um_bom_restaurante', '00hr', 'nhole', 'volta', 'tlim', 'catendenses', 'detalhistas', 'algum', 'notificação', 'fôlego', 'grandeza', 'que_o_preço', 'upgrades', 'extrato', 'penalidade', 'o_hotel_se', 'conectorização', 'cocobacilo', 'maranhão', 'escudeirar', 'goteira', 'costurar', 'tentação', 'parcagem', 'pouco_mais_caro', 'retificação', 'machine', 'playground', 'ladroar', 'bandeirar', 'amônia', 'dutos', 'intoxicar', 'desavinhinho', 'planeza', 'átrio', 'no_meio_do', 'coditas', 'esposar', 'financial', 'amebites', 'visitação', 'formulário', 'coceira', 'chuverisca', 'ermelo', 'verter', 'megalópole', 'larachento', 'antigerminas', 'conforme', 'forte', 'ferro', 'da_grans_central', 'malingua', 'repartição', 'cear', 'felicitação', 'coladinho', 'bucha', 'prontidão', 'times_suare_mas', 'camelô', 'soneca', 'flash', 'interligação', 'cabeleireiro', 'estante', 'são_muito_pequenos', 'menor', 'transação', 'reações', 'viçar', 'faturamento', 'nave', 'lavandeiro', 'heráldico', 'razoá', 'entregador', 'símplex', 'estafilococcia', 'gêmeas', 'morto', 'veia', 'recuperação', 'sola', 'lombies', 'soto/0000', 'ifi_no_quarto', 'um_ótimo_atendimento', 'homoptóton', 'renovatório', 'corso', 'epicentro', 'terremoto', 'contexto', 'posicionamento', 'empilhamento', 'sociergia', 'fica_próximo_de', 'aspetos', 'autoentendimento', 'freelance', 'apelo', 'desempenhar', 'unanimar', 'caprichoso', 'filadelfiano', 'tubador', 'é_a_limpeza', 'em_comparação_com', 'precação', 'times_suare_em', 'incerteza', 'vultuoso', 'lingar', 'sustentabilidade', 'afrontar', 'bomrrsrsrs', 'quartola', 'bichar', 'um_ponto_negativo', 'registro', 'pototes', 'repente', 'mediação', 'escaravelho', 'bosteiro', 'localização_o_hotel', 'de_quarto_mas', 'martírio', 'comonia', 'deã&delusa', 'nevasca', 'macieza', 'drope', 'sunguilas', 'improvisação', 'adecta', 'cúmulo', 'devolvê', 'us$00/dia', 'homoteleuto', 'mesquinhar']\n7109\n",
     "output_type": "stream"
    }
   ],
   "execution_count": null
  },
  {
   "cell_type": "code",
   "metadata": {
    "tags": [],
    "cell_id": "00023-57f09695-5e80-4160-abfd-f04eeae0c295",
    "deepnote_to_be_reexecuted": false,
    "source_hash": "cd43ce35",
    "execution_start": 1622208299701,
    "execution_millis": 54,
    "deepnote_cell_type": "code"
   },
   "source": "for noun in nouns:\n    if search(\"_\", noun):\n        noun = nouns.remove(noun)\n\nprint(nouns)",
   "outputs": [
    {
     "name": "stdout",
     "text": "['are', 'parador', 'hotel', 'madridistas', 'autoestrada', 'min', 'cheirar', 'tabaco', 'noite', 'dez/0000', 'surpreso', 'reputação', 'francês', 'cordialidade', 'pronto', 'vizinhança', 'champa', 'melesses', 'preço', 'época', 'ópera', 'lugar', 'interessar', 'suíte', 'decoração', 'funcionalidade', 'som', 'banhar', 'viagem', 'sentir', 'casar', 'atenção', 'diferençar', 'prazer', 'realidade', 'roer', 'acreditar', 'quarto', 'impressionar', 'categoria', 'sorriso', 'rostir', 'ler', 'pontar', 'restaurante', 'chefe', 'eril', 'estrelo', 'antecedência', 'terno', 'criança', 'paletó', 'cliente', 'aniversário', 'casamentar', 'cidade', 'comemoração', 'sair', 'monumento', 'toru', 'experiência', 'vidar', 'limpar', 'bar', 'fitocrenes', 'equipamento', 'ano', 'cafe', 'patio', 'joia', 'mínimo', 'detalhe', 'capítulo', 'partir', 'pessoal', 'recepção', 'passeio', 'frutar', 'quadrar', 'euro', 'a_este_hotel', 'estilar', 'bagunça', 'girardínia', 'ruir', 'luxemburgia', 'rue', 'ousar', 'parque', 'simoniense', 'tinto', 'sene', 'esquerdo', 'incluso', 'sortir', 'atendimento', 'caro', 'espaçar', 'banheiro', 'iluminação', 'bacana', 'confortar', 'facilidade', 'ambientar', 'filho', 'entrar', 'jardim', 'pequeno', 'semana', 'julho', 'decepção', 'dica', 'maravilhoso', 'corrido', 'padaria', 'distância', 'quarteirão', 'apartamento', 'elevador', 'visto', 'vezar', 'vez', 'lindo', 'excelente', 'transformar', 'reformar', 'estações_de_metro', 'republicar', 'jaque', 'canal', 'foto', 'duchar', 'anti', 'prejuízo', 'localização', 'nas_proximidades_do', 'mercar', 'vinho', 'arar', 'turístico', 'frequência', 'morador', 'aperitivo', 'movimentação', 'estender', 'atar', 'outar', 'atracão', 'mesa', 'checar', 'cafe_da_manha', 'variedade', 'cereal', 'maire', 'viajar', 'malo', 'profissionalismo', 'diretor', 'menção', 'seta', 'moneco', 'competente', 'solicitação', 'pessoa', 'serviço', 'família', 'charme', 'super', 'filar', 'de_bom_tamanho', 'gauche', 'nacionalidade', 'português', 'ótimas', 'tranquilo', 'prestativo', 'indicação', 'ponto', 'dias_em_paris', 'muitos_restaurantes_e', 'recepcionista', 'momento', 'obter', 'informação', 'maridar', 'hospedagem', 'dedicação', 'tamanho', 'padrar', 'luxar', 'comentário', 'amor', 'fama', 'grosseria', 'varanda', 'necessidade', 'coisa', 'mantar', 'solícito', 'vespa', 'e_com_certeza', 'metro', 'variar', 'deliciar', 'meter', 'sainte', 'boemia', 'conhecer_a_cidade', 'todas_as_vezes', 'uma_das_melhores', 'contato', 'disposição', 'upgrade', 'quartilhar', 'avinca', 'campino', 'qualidade', 'os_quartos_são', 'expectativa', 'estação', 'crepe', 'rir', 'amigo', 'instalação', 'e_a_localização', 'hospedada_no_hotel', 'duvidar', 'que_fala_português', 'shopping', 'é_uma_delícia', 'novembro', 'sinal', 'elogio', 'relação', 'benefício', 'portar', 'final', 'internet', 'mear', 'velocidade', 'na_hora_de', 'domingo', 'sapato', 'muvuca', 'comprometer', 'tripartidismo', 'vontade', 'cozinhar', 'refeição', 'sabor', 'batata', 'quentar', 'maneiro', 'forcar', 'quarto_é_pequeno', 'dente', 'café', 'acesso', 'em_frente_tem', 'mercadinho', 'net', 'princípio', 'o_quarto_e', 'limpo', 'cobrado_a_parte', 'dinheiro', 'apertar', 'graça', 'restaurantes_ao_redor', 'diervillas', 'conexão', 'linha', 'decoradinho', 'a_simpatia_e', 'prestatividade', 'opção', 'o', 'funcionário', 'a_0_quadras', 'interior', 'redar', 'recomendado', '0º', 'boutique', 'nível', 'comunicação', 'pão', 'bolo', 'pepino', 'chá', 'água', 'deca', 'ipo', 'táxi', 'museu', 'loeis', 'nuitone', 'construção', 'manha', 'posse', 'centrar', 'usinenses', 'box', 'modo', 'bango', 'chão', 'agradecer', 'bonito', 'romneia', 'italianofílicos', 'inglês', 'corar', 'que_já_fiquei', 'cama', 'lençol', 'fechamento', 'quarto_e_banheiro', 'café_da_manha', 'saudade', 'toalha', 'peno', 'geleia', 'cafeterias', 'classificar', 'apoiar', 'criticar', 'cultura', 'dia', 'gramonta', 'acolhimento', 'panorama', 'muito_prestativo_e', 'padrão', 'com_várias_opções', 'gentil', 'regrar', 'dúvida', 'noto', 'simpático_e_prestativo', 'setembro_de_0000', 'locar', 'mecanorrecepção', 'invernar', 'passagem', 'sala', 'hóspede', 'horar', 'motorista', 'mapa', 'recomendação', 'sucesso', 'pro', 'clássico', 'eleenses', 'diário', 'dependência', 'pelo_menos_no', 'dentro_dos_padrões', 'higiene', 'manhã', 'educados_e_atenciosos', 'novamente_neste_hotel', 'gerente', 'posturar', 'classe', 'av', 'montanismo', 'loja', 'belo', 'perto', 'convite', 'dificuldade', 'produto', 'separar', 'extra', 'almoçar', 'prato', 'sobremesa', 'procedimentalização', 'gentilíssimo', 'gardnerela', 'top', 'tecnologia', 'ruim', 'vantagem', 'legionella', 'moderno', 'fluxo', 'lobó', 'tecá', 'musicar', 'horário', 'alojamento', 'contrário', 'julgar', 'LV', 'excelência', 'mola', 'fruir', 'rei', 'cuidadoso', 'paz', 'bêbado', 'aliar', 'ótima_localização_e', 'confirmar', '0h', 'combinar', 'lenço', 'papel', 'revisão', 'manchar', 'spa', 'atrações', 'confusão', 'agitação', 'definição', 'tratamento', 'celebridade', 'aglomeração', 'resort', 'mundo', 'copiar', 'extensão', 'omelete', 'claro', 'coroar', 'cassino', 'reclamação', 'problema', 'e_não_se', 'agitar', 'o_serviço_é', 'restar', 'lanche', 'drinques', 'lavabo', 'rail', 'percurso', 'monte', 'ária', 'louvor', 'lazer', 'cheio', 'valor', 'é_muito_bom', 'valete', 'cristal', 'trem', 'gratuito', 'tranquilidade', 'verdade', 'tudo_muito_limpo', 'louça', 'estacionamento', 'manobrista', 'gente', 'cabimento', 'carro', 'muito_boa_a', 'o_custo_benefício', 'acesso_à_internet', 'perguntar', 'chequezinho', 'senha', 'cortesia', 'parangina', 'misto', 'queneu', 'sisar', 'impressor', 'TV', 'pio', 'travesseiro', 'fax', 'minicafé', 'sensor', 'negociação', 'apalazo', 'torsor', 'convenção', 'fim', 'grátis', 'estruturar', 'roubar', 'pertencer', 'leitura', 'advogar', 'país', 'segurança', 'gradar', 'kung', 'de_bom_gosto', 'magnético', 'mexer', 'item', 'campar', 'montanha', 'fé', 'requintar', 'ventania', 'fluir', 'massagem', 'área', 'controlo', 'impressora', 'cabano', 'os_preços_são', 'desá', 'veneziano', 'locação', 'pacote', 'seguro', 'grifar', 'cadastrar', 'sistema', 'ofertar', 'diversão', 'adulto', 'prestigiar', 'wynn', 'Serviço', 'que_você_precisa', 'pentelhos', 'suítes', 'm²', 'em_00_minutos', 'ingresso', 'circular', 'casino', 'circo', 'show', 'cavalar', 'vidrar', 'fonte', 'apresentação', 'onico', 'cartão', 'completo', 'cafona', 'idade', 'hall', 'bufete', 'cigarrar', 'aconselhar', 'espetáculo', 'lago', 'é_bem_confortável', 'chique', 'corredor', 'público', 'bagagem', 'motivar', 'dobrar', 'costa', 'velar', 'duchinha', 'barulhar', 'tesno', 'restrição', 'acomodação', 'confortável', 'preferencia', 'chechene', 'tempo', 'm', 'proxema', 'salão', 'beleza', 'hermes', 'atração', 'natal', 'dichotesco', 'fontes_do_legionella', 'mármore', 'mito', 'televisão', 'hotel_é_excelente', 'arrependimento', 'hotel_é_ótimo', 'preferir', 'novo', 'status', 'espetáculos', 'performance', 'cobrança', 'obrigatório', 'objeto', 'não_tivemos_problema', 'classificação', 'u$', 'habitação', 'condição', 'duplo', 'código', 'travar', 'telefonar', 'tás', 'ar', 'recortar', 'japonês', 'q', 'agência', 'central', 'maio', 'cheche', 'situação', 'negócio', 'na£o', 'dã£o', '©', 'inglesar', 'frontal', 'folego', 'dimensão', 'estilo', 'vip', 'fevereiro', 'hotel_é_enorme', 'tem_um_tamanho', 'safar', 'par', 'calor', 'grandiosidade', 'doce', 'cascata', 'chocolate', 'perfeição', 'arrumadeira', 'salvo', 'garçons', 'mercadinhos', 'tarifar', 'aquecido', 'espatulo', 'chinar', 'fartar', 'otimismo', 'solei', 'comprinhas', 'todos_os_hotéis', 'boatar', 'cubar', 'sonhar', 'balançar', 'pesar', 'orar', 'idor', 'eguci', 'comum', 'cadeira', 'sombra', 'e_todas_as', 'mobiliário', 'tumulto', 'odor', 'deslocamento', 'burocracia', 'local', 'observação', 'maquinar', 'histerorreico', 'cardápio', 'encore', 'toner', 'privacidade', 'o_cafe_da', 'entretanto', 'chelense', 'iogurte', 'história', 'hoteleiro', 'temporada', 'complexo', 'light', 'las_vejas_é', 'tendo_em_vista', 'andares_mais_altos', 'cinema', 'memorável', 'desconto', 'hatamas', 'reversor', 'divino', 'setembro', 'online', 'ingressar', 'acionamento', 'distanciar', 'assentir', 'exemplo', 'título', 'curiosidade', 'a_vista_é', 'hotelaria', 'isolamento', 'capacidade', 'jogo', 'fashionismo', 'greenalitas', 'societário', 'fato', 'razão', 'vaziar', 'sugestão', 'conhecimento', 'rotina', 'fortuna', 'feio', 'viciar', 'depressão', 'substrutura', 'curatá', 'DI', 'ilegimabilidade', 'pulinha', 'segar', '00/00/00', 'período', 'casal', 'taxar', 'roupas_de_cama', 'confortabilíssimas', 'festa', 'caçar', 'reticuloendoteliose', 'xês', 'pool', 'estrepar', 'tapete', 'aparelho', 'unidade', 'radiotelefonema', 'vermelhar', 'é_um_ponto', 'com_a_minha', 'prático', 'gastronomia', 'aluguel', 'veículo', 'comodidade', 'fugir', 'flexibilidade', 'ourar', 'multidão', 'gio', 'oportunidade', 'otinas', 'baratar', 'clubinho', 'psi', 'cina', 'organização', 'luxuoso', 'encantador', 'comedir', 'máquina', 'tipo', 'promoção', 'cardar', 'calmo', 'c', 'monossacarose', 'transordinário', 'perda', 'documentar', 'insistência', 'acessório', 'beladônio', 'novidade', 'fantasiar', 'direito', 'automação', 'melcomano', 'centena', 'bolsar', 'gasto', 'paulo', 'lacar', 'baladeiro', 'polos', 'comparação', 'tablacho', 'golfar', 'garrafa', 'retirar', 'segundo', 'gelar', 'defeito', 'e_ótima_localização', 'conservação', 'orgulhar', 'palácio', 'lassidez', 'puro', 'banheira', 'caconso', 'nome', 'felicidade', 'relógio', 'investigação', 'lembrança', 'salo', 'em_poucos_minutos', 'piano', 'insatisfação', 'minar', 'baldar', 'fodiás', 'aromar', 'rapidez', 'agradável', 'sol', 'sair_do_hotel', 'triprosopia', 'geladeira', 'fogão', 'amazona', 'hábito', 'dólar', 'outubro', 'ligação', 'desonestidade', 'raro', 'exceções', 'auxílio', 'transportar', 'só', 'mg', 'onda', 'utensílio', 'saguão', 'aprox', 'minuto', 'mu', 'parabém', 'apart', 'noticiário', 'rolante', 'longe', 'eletricidade', 'colchão', 'infraestrutura', 'panela', 'frigideira', 'micro', 'sofá', 'os_funcionários_são', 'apostador', 'hote', 'fidalguelho', 'medo', 'ture', 'veneficiar', 'dois', 'torradeira', 'esteirar', 'voar', 'nêuston', 'mail', 'presidente', 'indenização', 'comigo', 'portlandiano', 'apo', 'manifestação', 'responsabilidade', 'poltrona', 'b', 'fantástico', 'córner', 'frequentador', 'evento', 'balcão', 'bastante', 'pras', 'interstadial', 'tom', 'copo', 'espelho', 'epinganho', 'estacionar', 'a_poucos_passos', 'senhor', 'intercomunicador', 'privativo', 'vago', 'térreo', 'pisar', 'mar', 'periodontoses', 'macio', 'calorão', 'fumegante', '00h', 'garagem', 'chave', 'aparelhagem', 'smogue', 'o_acesso_à', 'satisfatório', 'Sérgio', 'de_um_dia', 'milhar', 'uma_vez_que', 'locomoção', 'tramar', 'link', 'intenso', 'entanto', 'respeitar', 'admiração', 'superfície', 'extremamente', 'ordem', 'principiar', 'preocupação', 'ausência', 'questão', 'que_é_o', 'simplório', 'um_bom_banho', 'termômetros', 'pressão', 'lanchar', 'o_bufete_do', 'modernidade', 'agilidade', 'tem_uma_pequena', 'lado', 'persiano', 'monitor', 'uma_boa_cama', 'um_0_estrelas', 'conveniente', 'completíssimo', 'foi_o_melhor', 'metroperitonítico', 'espaçoso', 'mimar', 'trecho', 'croissant', 'sanduíche', 'circulação', 'copto', 'fornir', 'obrar', 'quarto_amplo_e', 'um_pouco_de', 'forçar', 'milha', 'buá', 'dresdense', 'de_uma_reforma', 'desertá', 'disso_o_quarto', 'eletrodomésticos', 'atrapalhar', 'abusar', 'este_hotel_a', 'enganação', 'sensação', 'insegurança', 'maioria', 'todos_os_funcionários', 'modificação', 'clima', 'residência', 'ficar_neste_hotel', 'cortar', 'cervejar', 'legume', 'segurar', 'vigilância', 'da_manha_muito', 'quinto', 'lavanderia', 'sábado', 'viajante', 'atento', 'caso', 'bulevardeiras', 'barato', 'botão', 'voucher', 'para_as_crianças', 'explicação', 'transferência', 'menino', 'mudança', 'incidente', 'que_o_quarto', 'falho', 'arrumação', 'aceso', 'protocolo', 'légua', 'penúltimo', 'carismático', 'conceito', 'altura', 'pouco', 'alimentação', 'exceção', 'cartar', 'féria', 'ifi', 'os_restaurantes_são', 'em_todas_as', 'requisição', 'cama_confortável_e', 'trenzinho', 'prostituto', 'ife', 'arquitetura', 'e_o_preço', 'superprofessor', 'jovem', 'miolo', 'gigante', 'etapa', 'standard', 'móvel', 'patis', 'delicioso', 'umidificadores', 'é_uma_cidade', 'amigar', 'orientação', 'e_gostamos_muito', 'agostar', 'vaso', 'noivar', 'avaliação', 'redondeza', 'comida', 'rápido', 'ferrar', 'bem_localizado_e', 'bedro', 'sky', 'comércio', 'alegrenses', 'temático', 'rede', 'gosto', 'quedo', 'automático', 'lanchonetes', 'paciência', 'fachada', 'folgar', 'bom', 'alto', 'inconveniente', 'tarefar', 'excesso', 'cenário', 'suntuosidade', 'focar', 'fundir', 'palavra', 'afim', 'olho', 'quarto_é_muito', 'tablete', 'intensidade', 'chalacista', 'cabeceira', 'painel', 'temperatura', 'de_cigarro_no', 'carne', 'amenidade', 'humor', 'bufar', 'na_minha_opinião', 'farmácia', 'mau', 'colcha', 'apto', 'de_00_minutos', 'tela', 'tucho', 'número', 'é_o_hotel', 'satisfação', 'o_cheque_in', 'liquidificar', 'lentar', 'cheiroso', 'direto', 'opinião', 'vivo', 'paluncho', 'anexar', 'recomento', 'irmão', 'maciar', 'monitorzinho', 'seleção', 'quedar', 'clipe', 'músico', 'orá', 'caixa', 'áqueo', 'salgado', 'urgência', 'aborrecimento', 'todos_os_gostos', 'lounges', 'drinque', 'praxar', 'passarela', 'fofar', 'enjoar', 'brasileiro', 'básico', 'gaze', 'beatles', 'localização_do_hotel', 'programação', 'jacuzzi', 'meio', 'conveniência', 'huntleia', 'portanto', 'ônibus', 'w', 'trajeto', 'inã', 'jacúzi', 'televisa', 'sul', 'enganir', 'espelhar', 'imagem', 'uma_cama_de', 'lixar', 'armário', 'ouro', 'monolinguismo', 'aceitar', 'chelinga', 'prazê', 'solução', 'pé', 'trumaí', 'pelintrice', 'fraco', 'contratempo', 'jogador', 'florir', 'cafonices', 'exclusividade', 'dano', 'impares', 'aspecto', 'melhor_de_tudo', 'cheirão', 'fragrância', 'frente_ao_hotel', 'agenciar', 'turismo', 'fator', 'palace', 'ao_chegar_no', 'maleiteiro', 'posição', 'conduta', 'molde', 'estúdio', 'filhar', 'impressão', 'spaghetti', 'taça', \"you're\", 'ranking', 'hini', 'ocasião', 'atividade', 'aposto', 'curtir_a_cidade', 'manutenção', 'cópia', 'camisa', 'posicionar', 'satisfazer', 'pastilha', 'indiscreto', 'transferase', 'interdisciplinariedade', 'macarrona', 'distante', 'importância', 'costume', 'vestimenta', 'que_tem_um', 'assunto', 'gondolar', 'prezar', 'atacar', 'pessoalidade', 'ginástico', 'encomendar', 'envelope', 'mari', 'navio', 'termo', 'ótima', 'rádio', 'compromisso', 'jeito', 'empresar', 'intermediação', 'desculpar', 'fórum', 'stops', 'mês', 'dezembro', 'expressar', 'gôndola', 'fotógrafo', 'junho', 'então', 'liar', 'saudita', 'recepção_do_hotel', 'gondoleiro', 'trealase', 'fantasma', 'desorganização', 'fiel', 'ilhar', 'pintura', 'vaticano', 'turpitudo', 'efeito', 'versão', 'teto', 'pintar', 'céu', 'sinizese', 'berço', 'cabo', 'frio', 'pá', 'norte', 'a_noite_e', 'bages', 'um_bom_preço', 'proposto', 'mexido', 'hotel_tem_uma', 'terre', 'o_hotel_fica', 'sanduichar', 'o_hotel_não', 'condução', 'restrito', 'outubro_de_0000', 'legal', 'cesarizas', 'prossector', 'atraente', 'truque', 'emoção', 'cantar', 'animação', 'coração', 'achei_um_pouco', 'com_minha_esposa', 'perídio', 'janeiro', 'intenção', 'm&m', 'rock', 'enorme', 'grená', 'mons', 'paparicos', 'recém', 'boto', 'chuva', 'ventar', 'visão', 'leão', 'solai', 'menos', 'peça_um_quarto', 'o_elevador_é', 'estátua', 'morte', 'arena', 'circuitar', 'eficiência', 'magnitude', 'clube', 'quantidade', 'western', 'a_estação_do', 'back', 'aprovadíssimo', 'descontar', 'paralisar', 'com_os_outros', 'quilômetros', 'benção', 'relacionamento', 'acessá', 'exagero', 'conjuntar', 'e_também_não', 'simplicidade', 'ostentação', 'região', 'metalibure', 'torre', 'pegado', 'fornecimento', 'gota', 'inúmero', 'ppm', 'estádia', 'edifício', 'cabelar', 'xampu', 'condicionador', 'presença', 'são_muito_boas', 'self', 'service', '0000/dia', 'geral', 'visitante', 'us$0', 'miragem', 'é_bom_e', 'consequência', 'elogiar', 'avião', 'muto', 'é_mais_barato', 'aparência', 'cruzamento', 'síntese', 'metade_do_preço', 'fretar', 'permanência', 'brunchita', 'medicação', 'correspectividade', 'centro_da_cidade', 'exercício', 'hela', 'custo', 'monotrilho', 'não_é_tão', 'conselho', '00/00/0000', 'orçamentar', 'membro', '$', 'maquininhas', 'premir', 'escalibregma', 'estourar', 'março', 'carpete', 'praia', 'maque', 'louco', 'mile', 'holópode', 'alegrense', 'ágil', 'setembro/0000', 'projetor', 'reposição', 'hileto', 'hidro', 'cupons', 'alternativo', 'espaçoso_e_limpo', 'silencioso', 'referência', 'início', 'sustar', 'concorrência', 'objetivo', 'silêncio', 'profissional', 'penumbrar', 'gostei_muito_do', 'renovação', 'alimento', 'capetice', 'russo', 'castrinopolitano', 'ansarinhas', 'malhar', 'vergastão', 'es', 'pero', 'asi', 'calididade', 'estagflaciones', 'gueves', 'também_não_é', 'estratosfera', 'stress', 'e_não_havia', 'aparelhar', 'falta_de_um', 'para_o_outro', 'burburinhar', 'filme', 'boliche', 'nas_áreas_comuns', 'sarcotripsia', 'carnar', 'mas_o_hotel', 'pistar', 'pleo', 'setores', 'layout', 'mas_o_preço', 'desvantagem', 'sponsor', 'coluna', 'recurso', 'secar', 'muito_bem_limpo', 'todas_as_atrações', 'labirinto', 'dedo', 'motivo', 'cosmo', 'grupo', 'galera', 'consciencize', 'protomotecas', 'bulevardeiro', 'telão', 'magnificar', 'beemote', 'mordomia', 'olede', 'moda', 'sushi', 'massa', 'sorvete', 'granitar', 'carruagem', 'rumar', 'roupão', 'extraordinário', 'energia', 'camarote', 'dançar', 'tech', 'subsolo', 'ledo', 'size', 'processar', 'gramenites', 'primeiro', 'fabuloso', 'hidromassagem', 'cafeteiro', 'por_volta_de', 'pagamento', 'descrição', 'como_por_exemplo', 'micarelles', 'prédio', 'expressão', 'o_chuveiro_e', 'espírito', 'discar', 'útil', 'qualificação', 'da_manhã_muito', 'gás', 'churrasco', 'frigo', 'tanque', 'tubarão', 'baralho', 'noção', 'penugento', 'tripa', 'franjar', 'quadro', 'trio', 'diferencial', 'atrações_da_cidade', 'função', 'aquecimento', 'oós', 'km', 'selar', 'computador', 'vizinhar', 'grocho', 'sorar', 'médio', 'nitrir', 'caiserina', 'calmar', 'temer', 'oeste', 'solteiro', 'série', 'homenagem', 'box_do_banheiro', 'dos_quartos_e', 'halientela', 'uno', 'dos_funcionários_é', 'um_hotel_para', 'reversar', 'medalhar', 'casa_de_banho', 'betuletos', 'triscar', 'nado', 'via', 'varadinha', 'agradecimento', 'brunir', 'trissilana', 'conosco', 'perto_de_duas', 'acolhedor', 'metrô', 'presunto', 'dê', 'laetiense', 'cerejo', 'sargento', 'mulino', 'igreja', 'cererê', 'galeria', 'bairro', 'galar', 'vans', 'opar', 'refrigerante', 'petisco', 'escolha_do_hotel', 'delícia', 'do_metro_e', 'no_final_da', 'marchar', 'retropilastra', 'osmas', 'parisiensismo', 'propriedade', 'pardieiro', 'vinícola', 'gerardíea', 'hotéis_de_paris', 'imediação', 'livraria', 'correar', 'tem_muitas_opções', 'áspero', 'companhia', 'ratar', 'hein', 'abbatiale', 'roal', 'monocaule', 'e_todos_os', 'toucador', 'origem', 'parisiense', 'pertinho_do_metrô', 'braseies', 'rotar', 'ostra', 'impecável', 'terraço', 'benjamim', 'preferência', 'desacontecimento', 'cadeia', 'sessão', 'degrau', 'mãe', 'navegação', 'confuso', 'muito_simpático_e', 'almoço', 'pétala', 'didiereína', 'placê', 'vesgo', 'enfangas', 'frase', 'bastilha', 'romance', 'policiar', 'contrição', 'administração', 'fingir', 'recado', 'tampão', 'sujeira', 'sabonete', 'banho', 'madeirar', 'elefante', 'torcer', 'nariz', 'pijama', 'travessar', 'bomas', 'né', 'proximidade', 'transporte', 'volibol', 'suspeito', 'entornos', 'possibilidade', 'magazine', 'demandar', 'esforço', 'lazarar', 'eliseia', 'londrês', 'charlar', 'limpeza_é_impecável', 'separação', 'fresco', 'gerenciamento', 'cancelamento', 'almo', 'riete', 'educação', 'abul', 'gerência', 'abraço', 'contratar', 'muito', 'vero', 'pescar', 'gare', 'lafaietense', 'entornar', 'boulangerie', 'pâtisserie', 'para_os_hóspedes', 'doble', 'insulsice', 'poltrão', 'aquecedor', 'maquiagem', 'volumar', 'corporal', 'farinha', 'leite', 'oásis', 'badalação', 'privilégio', 'latim', 'marais', 'linhas_de_ônibus', 'minúsculo', 'capar', 'idear', 'variação', 'evolar', 'muito_próximo_do', 'invalidar', 'paralelo', 'de_café_e', 'o_cheiro_de', 'sambaíba', 'consideração', 'estação_do_metro', 'barco', 'eurodivisa', 'desprazer', 'guiar', 'vietnamita', 'sino', 'idioma', 'comunicar', 'espanhol', 'desastre', 'as_acomodações_são', 'fora_do_hotel', 'desafiar', 'por_um_hotel', 'macassar', 'corte', 'vencer', 'linguá', '00/00', 'ema', 'etile', 'apena', 'neste_hotel_em', 'rapidinho', 'estreitar', 'condicionar', 'castelo', 'seletos', 'quase_na_porta', 'design', 'língua', 'em_uma_área', 'gatar', 'pedaço', 'casaco', 'couro', 'professorar', 'aliançar', 'franchise', 'difíscio', 'realização', 'estabelecimento', 'estatura', 'os_atendentes_são', 'dia_e_noite', 'd´alma', 'd´orsamo', 'próximo_ao_metro', 'adaptador', 'ciar', 'marrié', 'eficiente', 'queijar', 'frança', 'tiquinho', 'beneficiar', 'de_restaurantes_e', 'linguás', 'ambientação', 'fim_de_semana', 'magda', 'bem_limpo_e', 'efum', 'ha', 'orlar', 'boulangeritas', 'luxuriar', 'atribuir', 'gaulope', 'paul', 'violle', 'trivoli', 'perfeitinho', 'margem', 'arte', 'sedar', 'distinto', 'o_isolamento_acústico', 'porém', 'luminosidade', 'funcionários_da_recepção', 'tubulação', 'direção', 'fotografar', 'supervisar', 'listem', 'fundo', 'a_um_quarteirão', 'luxo', 'gemer', 'melhoria', 'toalete', 'personalidade', 'lugar_de_paris', 'petitá', 'proprietário', 'sanjar', 'competência', 'hotéis_em_paris', 'carregador', 'parões', 'herma', 'junto', 'minusculo', 'andança', 'fica_numa_área', 'feila', 'charmoso', 'misturar', 'convênio', 'carterétia', 'matinal', 'iniciativo', 'nicolásia', 'quinzena', 'delicadeza', 'pizza', 'planejamento', 'per', 'francesice', 'foi_uma_ótima', 'ovo', 'viaticar', 'receptividade', 'hospitalidade', 'paragem', 'autocarro', 'em_todo_o', 'torre_ei_fel', 'ferramenta', 'superconfortável', 'guloseima', 'a_sua_localização', 'haimeia', 'rer', 'bastar', 'símbolo', 'cacife', 'éleges', 'versaletes', 'da_estação_do', 'hotel_possui_um', 'mobília', 'próximos_ao_hotel', 'roberto', 'muito_educados_e', 'com_fácil_acesso', 'baguete', 'circunstancia', 'paza', 'estações_do_metrô', 'ventilação', 'nuvem', 'assim_como_a', 'pitoresco', 'restaurantes_e_lanchonetes', 'rocailles', 'as_minhas_expectativas', 'do_hotel_muito', 'odéon', 'escuro', 'abril', 'proteção', 'cheiro', 'rulho', 'torneira', 'ile', 'reger', 'perto_de_vários', 'passo', 'a_equipe_é', 'cordial', 'leno', 'uns_00_minutos', '+', 'mochila', 'proxemas', 'resultar', 'convivência', 'na_esquina_da', 'nº', 'para_o_mesmo', 'rançar', 'lenções', 'pom', 'bourgia', 'boeing', 'bos', 'notícia', 'mesesoverbooking', 'frustração', 'galho', 'caamembeca', 'cornutela', 'biscoito', 'despesa', 'overbooking', 'perigar', 'consentimento', 'doer', 'bilhete', 'menor_do_que', 'em_paris_em', 'estrategicamente', 'o.k', 'checheno', 'rude', 'simonismo', 'distrito', 'próxima_ao_hotel', 'com_bom_tamanho', 'champanhenses', 'escandina', 'calandrar', 'dono', 'regente', 'percepção', 'italiano', 'triunfar', 'muito_do_hotel', 'disponibilidade', 'cercania', 'escriba', 'a_ponto_de', 'sofito', 'as_vezes_que', 'blindar', 'ícone', 'publicidade', 'lentidão', 'rigor', 'material', 'riscar', 'video', 'podoio', 'dispositivo', 'buda', 'como_o_banheiro', 'pátio', 'crinofilo', 'silenciar', 'encarcade', 'de_paris_a', 'baldeação', 'barulho', 'sorbose', 'chinelo', 'facto', 'o_quarto_standards', 'em_paris_são', 'atrações_de_paris', 'toda_a_equipe', 'executivo', 'machiquenses', 'si', 'bernardo', 'mi', 'trivato', 'benzinismo', 'cor', 'colacionar', 'anche', 'sauna', 'pariri', 'chieirento', 'jour', 'favor', 'as_pessoas_são', 'queijaria', 'digitalizar', 'contentar', 'decente', 'desejo', 'evidenciar', 'atividades', 'funcionamento', 'eficácia', 'posto', 'linho', 'orquídea', 'laurato', 'maroubo', 'cômodos', 'magicar', 'um_pouco_longe', 'cômodo', 'contra', 'precinho', 'documento', 'conventilho', 'docerias', 'longe_do_centro', 'lindamente', 'designers', 'loureiro', 'mensagem', 'pai', 'fiquei_0_dias', 'hotel_da_rede', 'experiencias', 'outro', 'dosar', 'suportar', 'turielenses', 'atingir', 'climatização', 'são_mais_silenciosos', 'tolerienses', 'modesto', 'lua', 'niravolina', 'baratear', 'investimento', 'acme', 'ponto_negativo_é', 'por_duas_vezes', 'trouxa', 'afetação', 'eléis', 'quinar', 'jardineiro', 'calefação', 'torulopsidose', 'rousseauniano', 'solo', 'potinhos', 'espontaneparismo', 'mentir', 'madame', 'perto_do_metro', 'bonificar', 'maiorzinha', 'pequenino', 'especialidade', 'hausto', 'nevar', 'catedral', 'alfar', 'carreadouro', 'para_três_pessoas', 'sempre_prontos_a', 'clau', 'além_da_localização', 'cadastro', 'chato', 'poeira', 'varrer', 'seco', 'cade', 'perto_de_várias', 'corretos', 'banca', 'por_00_dias', 'libânia', 'monopriono', 'ave', 'siena', 'mago', 'o_espaço_é', 'arredor', 'tarde', 'com_a_janela', 'friedelita', 'campo', 'jornada', 'adisonismo', 'perímetro', 'uns_000_metros', 'roteiro', 'de_0_a', 'elasses', 'comerciar', 'vazamento', 'cesta', 'capital', 'estadia_em_paris', 't', 'perigadela', 'borbotone', 'escrivaninha', 'fofo', 'paim', 'aux', 'quente', 'faixa_de_preço', 'fronteiro', 'intervalar', 'pontuação', 'folheto', 'chat', 'papar', 'ps', 'ché', 'duas_pessoas_e', 'anoto', 'loci', 'shampoo', 'creme', 'branco', 'homem', 'manteiga', 'joelhar', 'pontos_da_cidade', 'pavilhão', 'munto', 'escadaria', '0o', 'harmonia', 'lacuna', 'entregue', 'lance', 'máximo', 'inclinação', 'usuário', 'para_quem_busca', 'revisto', 'divisão', 'riz', 'cabeça', 'frente_do_hotel', 'acima_da_média', 'jornal', 'vila', 'ponto_positivo_é', 'ingrediente', 'preguiçar', 'penteadeira', 'gostosinho', 'escritório', 'roli', 'tuscana', 'obscuro', 'conclusão', 'garoto', 'paisagismo', 'cima', 'hamburguerias', 'vespertino', 'com_todos_os', 'discreto', 'perfil', 'sistema_de_aquecimento', 'e_a_vista', 'micropogão', 'de_ótima_qualidade', 'muito_bons_e', 'poderia_ser_um', 'teda', 'presteza', '#', 'eru', 'porta_do_hotel', 'tinir', 'á', 'hotentotismo', 'confirmação', 'descortês', 'desatentar', 'requisito', 'germaná', 'aparador', 'latir', 'configuração', 'tentativo', 'mise', 'scène', 'cloro', 'mini', 'grau', 'exigência', 'hospedados_neste_hotel', 'direta', 'dias_nesse_hotel', 'pulhote', 'secador', 'fedorento', 'imediato', 'noma', 'não_está_incluso', 'mas_com_certeza', 'geladíssimo', 'erupção', 'girame', 'as_malas_e', 'caução', 'amarelo', 'horror', 'calote', 'imentos', 'jaula', 'felino', 'golfinho', 'grupar', 'doença', 'fica_próximo_ao', 'duro', 'coreografia', 'infra', 'discordar', 'dente´s', 'cachorro', 'santo', 'latinar', 'entretenimento', 'aquário', 'pigaça', 'a_sorte_de', 'irma', 'correnteza', 'mais_uma_vez', '000pm', 'compensação', 'real', 'fatura', 'quarto_espaçoso_e', 'pelo_mesmo_preço', 'numeração', 'travessia', 'recibo', 'óbvio', 'mel', 'sonho', 'indecência', 'pal', 'é_um_problema', 'objetos', 'certo', 'divo', 'dino', 'brinde', 'o_melhor_de', 'gatear', 'melhor', 'convergir', 'romã', 'pular', 'marcela', 'tetos', 'esculturar', 'canto', 'ótimaaaaaaaaa', 'hora', 'coliseu', 'bacia', 'dor', 'jono', 'sianinha', 'marketing', 'desaperceber', 'bagar', 'muito_grande_e', 'remodelação', 'que_é_a', 'envelhecimento', 'longo', 'clientela', 'maisquero', 'distribuição', 'panfleto', 'prostituição', 'tendência', 'bitinino', 'constrangimento', 'shop', 'chance', 'creditar', 'casarão', 'incômodo', 'direcionas', 'feriar', 'desprezar', 'devanear', 'vejas_o_quarto', 'tubo', 'pelo_preço_que', 'acabamento', 'tropeçar', 'eta', 'enormeeeeeeeeeeeeeee', 'onde', 'escoar', 'ingoté', 'as_malas_no', 'talher', 'moeda', 'loucura', 'extremidade', 'hous', 'précio', 'bue', 'sejo', 'utilidade', 'pechincho', 'orgia', 'atrativos', 'loto', 'enfrechar', 'quantum', 'o_que_você', 'timas', 'ocar', 'bancada', 'sopa', 'filé', 'ehehe', 'topar', 'o_atendimento_no', 'para_os_principais', 'um_dos_poucos', 'réplica', 'com_o_preço', 'e_um_pouco', 'recebimento', 'infernar', 'depósito', 'saldar', 'trancar', 'fio', 'balão', 'mobilidade', 'respostar', 'crédito', 'bonça', 'morno', 'logístico', 'aberração', 'bregueces', 'orelhote', 'congelar', 'no_primeiro_dia', 'esquema', 'cabelo', 'r$000', 'bomba', 'sucção', 'pizzaria', 'preservacionismo', 'mas_isso_não', 'fumante', 'quem_não_quer', 'bombacho', 'voleibol', 'falhão', 'cansaço', 'adail', 'experimentação', 'guinar', 'famular', 'limposo', 'franquiar', 'transtornar', 'muito_bom_o', 'balagatino', 'bônus', 'cabeamento', 'previsão', 'sobretaxa', 'locador', 'divisório', 'mundialmente', 'pelágio', 'empreendimento', 'enternecente', 'elétrico', 'pointes', 'tradição', 'maria', 'volvele', 'recadar', 'embasa', 'óculo', 'me_hospedar_nele', 'cobertura', 'aço', 'trabalho', 'ipadus', 'operação', 'isentar', 'zonar', 'minibus', 'tem_vários_restaurantes', '&', 'volume', 'interesse', 'congresso', 'troca_de_quarto', 'o_melhor_do', 'transtorno', 'os_dias_de', 'trilhar', 'influenciar', 'farto', 'passante', 'fotografia', 'barulheiro', 'maluco', 'níquéis', 'DVD', 'edredons', 'soer', 'talar', 'injeção', 'artista', 'dançarino', 'mastro', 'segmentação', 'resto', 'sereia', 'dormitório', 'cigarro', 'pirata', 'hotel_o_hotel', 'ofá', 'guarnição', 'bombeiro', 'sirene', 'do_pequeno_almoço', 'letreiro', 'ensanduichar', 'excursão', 'capela', 'sax', 'quanto_mais_alto', 'hopi', 'filmar', 'atualização', 'me_hospedei_em', 'assim', 'o_preço_do', 'vistoriar', 'h&m', 'boons', 'ápice', 'carnaval', 'miles', 'assemelhar', 'frescura', 'rozental', 'margarita', 'soutá', 'fremontita', 'despeitar', 'limar', 'brincar', 'esmar', 'mole', 'r$0000', 'que_é_necessário', 'publicar', 'para_um_quarto', 'professor', 'apesentamento', 'cerveja', 'peitar', 'fuleira', 'galão', 'cena', 'valorar', 'bungule', 'juma', 'hotéis_de_las', 'hospedar_nesse_hotel', 'tribo', 'observatório', 'adquirir', 'utilização', 'glamourosos', 'níquel', 'mais_barato_que', 'por_uma_reforma', 'radicar', 'muitas_opções_de', 'quanto_à_localização', 'quanto', 'artigo', 'fica_muito_perto', 'inapropriado', 'motorreator', 'não_foi_problema', 'centro', 'em_conta_o', 'quarto_tinha_um', 'crise', 'asma', 'antizomas', 'ricota', 'azeitar', 'longuinho', 'coragem', 'desperdício', 'estripação', 'download', 'premier', 'que_a_localização', 'hotéis_em_vejas', 'aspirador', 'pó', 'tripos', 'muiiiiiiiito', 'flamingo', 'nanolasers', 'plagiostomídeos', 'é_o_melhor', 'batalhar', 'alergia', 'câmeras', 'in', 'picar', 'us$00', 'certar', 'mas_o_problema', 'mendigar', 'astronauta', 'mas_pelo_preço', 'lena§ã³is', 'conínico', 'pirã', 'geês', 'tutoramento', 'trânsito', 'piscininha', 'se_trata_de', 'ralar', 'fundonense', 'furtar', 'orés', 'funcionários_são_super', 'recear', 'pascoalense', 'o_stafe_do', 'vocabulário', 'littrite', 'prestador', 'suficiente', 'lista', 'instrução', 'elisão', 'alealém', 'da_torre_ei', 'conta_com_um', 'escolhi_este_hotel', 'advidor', 'a_maior_parte', 'coelege', 'a_decoração_do', 'passado', 'damelouvremuseu', 'verãozão', 'o_box_do', '0000/pessoa', 'momas', 'vazar', 'marilhas', 'alvardão', 'amigavelmente', 'lao', 'ruela', 'confeitaria', 'perneta', 'insonorização', 'neurádene', 'medicamento', 'rone', 'metropolitano', 'destino', 'rami', 'bourbonismo', 'gentis_e_atenciosos', 'loirar', 'rapaz', 'o_apartamento_que', 'orladure', 'holópida', 'fel', 'bulevardístico', 'otimismos', 'pate', 'perto_da_estação', 'rua', 'subido', 'descolamento', 'lábio', 'lene', 'elysees', 'panar', 'zorra', 'multar', 'minimizar', 'timariota', 'direcionamento', 'mirabela', 'romantismo', 'desopresso', 'mobilhas', 'bloco', 'teristros', 'rosar', 'saudar', 'espinho', 'acor', 'com_uma_boa', 'mas_a_limpeza', 'marinheiro', 'açudre', 'da_manhã_de', 'lichieira', 'gambeta', 'cemitério', 'esculacha', 'mosco', 'loe', 'budite', 'totó', 'menos-', 'tipi', 'junção', 'da_manhã_é', 'estaça', 'excelente_localização_e', 'sile', 'abril/0000', 'passageiro', 'élysées', 'elemento', 'normal', 'de_tudo_e', 'do_metro_de', 'parma', 'intemperismo', 'single', 'raspar', 'triplo', 'compacto', 'aviso', 'set/0000', 'fofice', 'desrespeitar', 'hardware', 'descontentamento', 'muito_simpática_e', 'demover', 'metragem', 'claridade', 'rochete', 'eu$0000', 'esposo', 'absurdismo', 'acomadrar', 'akan', 'tolite', 'elisseu', 'ser_um_problema', 'bergerocacto', 'figurar', 'em_relação_à', 'mauriense', 'antônio', 'santificação', 'eluo', 'delegacia', 'contatos', 'gap', 'banco', 'engenhar', 'daaz', 'imensidade', 'da_manhã_bom', 'hotel_estava_em', 'maçã', 'redor', 'albergar', 'petinho', 'base', 'ficamos_no_hotel', 'o_hotel_muito', 'no_geral_é', 'pela_falta_de', 'nativo', 'atendimento_e_localização', 'papa', 'julho/0000', 'breve', 'raiar', 'tremês', 'propaganda', 'toque', 'amador', 'set', 'mangar', 'príncipe', 'finalização', 'curso', 'muito_da_localização', 'charmosinha', 'custo_benefício_é', 'prioridade', 'sujinho', 'horrível', 'hotel_está_em', 'amparar', 'sujar', 'governanta', 'cento', 'metre', 'dala', 'coronografopolarimetria', 'domínio', 'refrigerador', 'obs', 'picolitro', 'molo', 'lutar', 'miar', 'agerato', 'bei', 'che0', 'interpersonalogia', 'cortese', 'disponibilização', 'trasporte', 'ma', 'perfeitaço', 'consignatório', 'piacevole', 'periferia', 'vicinismo', 'malotilato', 'vilegiaturar', 'yang', 'punto', 'non', 'fate', 'tropo', 'sevres', 'grã', 'epicáride', 'alvo', 'sabre', 'docinho', 'pi', 'dupião', 'resma', 'cego', 'lounge', 'braseie', 'rotatório', 'marechal', 'jun', 'gesto', 'poucas_quadras_da', 'lourar', 'converso', 'boar', 'TB', 'enumerar', 'era_bem_pequeno', 'istas', 'margidouro', 'stato', 'professorinha', 'mendoncense', 'altor', 'sequestrectomia', 'datar', 'fatiar', 'angioma', 'prisma', 'repleto', 'bordeaux', 'terrier', 'aurana', 'ladeiro', 'galderiar', 'cachaça', 'porção', 'confeitar', 'bile', 'prefeito', 'riscadilho', 'viabilidade', 'assembleia', 'paginar', 'vídeo', 'economia', 'serpulite', 'sumarés', 'ojés', 'parâmetro', 'matias', 'colbertismo', 'valeral', 'gangue', 'assustador', 'granir', 'reacomodação', 'brasil', 'e_o_elevador', 'ité', 'estava_em_reforma', 'bizarro', 'plástico', 'correlatos', 'gladiar', 'chapelete', 'merce', 'troar', 'cruzeiro', 'fatores', 'limitação', 'braseira', 'quadricarboneto', 'malfairo', 'simoniano', 'orleã', 'representatividade', 'habilidade', '0pessoas', 'ternes', 'intimar', 'recepcionismo', 'manuel', 'exexcepcional', 'o_chão_do', 'berce', 'prase', 'cabaré', 'capsulas', 'hipopotamídeo', 'cioso', 'tinhó', 'substituição', 'cobertor', 'cliché', 'roicisso', 'vibração', 'butique', 'bedfórdia', 'piramides', 'um_hotel_simples', 'haldes', 'o_metrô_fica', 'rupas', 'novilhote', 'arrumação_dos_quartos', 'injustiça', 'clareza', 'fantastiquice', 'vedação', 'ficamos_na_suíte', 'atediamento', 'oferecimento', 'repostar', 'cabideiro', 'cabina', 'distração', 'o_vaso_sanitário', 'versar', '00euros', 'pascoar', 'acessível', 'p', 'faular', 'halesos', 'hidroasfalto', 'jato', 'a_chave_do', 'avolitivo', 'pensão', 'trabalhador', 'ola', 'tico', 'natureza', 'timo', 'apito', 'ridículo', 'chaleirar', 'bidê', 'bilíngues', 'xixi', 'chaspeletes', 'pompadourismo', 'restauração', 'bli', 'amassador', 'modalidade', 'berberinal', 'pompilídeo', 'fica_a_00', 'galrear', 'travesso', 'santã', 'súpero', 'espaço', 'madã', 'le00', 'berne', 'anilação', 'suburgo', 'maionese', 'desatencioso', 'remoção', 'andamento', 'coução', 'refrigeração', 'combinação', 'john', 'deda', 'tardio', 'tariana', 'munir', 'barbar', 'goie', 'simpáticos_e_solícitos', 'gérmen', 'han', 'telesséries', 'os_recepcionistas_são', 'lúmen', 'conforto', 'aceva', 'apoginia', 'egetino', 'tivolino', 'chimparreio', 'aislo', 'chispeio', 'bistre', 'omento', 'tolher', 'guestos', 'godo', 'mesorregião', 'era_pequeno_mas', 'inges', 'cheché', 'e_o_pessoal', 'manho', 'o_cartão_de', 'bem', 'litro', 'de_ser_muito', 'taxímetro', 'olhadinha', 'brincadeira', 'haliperca', 'estrangeirar', 'tesse', 'picolete', 'consiliário', 'sor', 'viageia', 'ago/0000é', 'moufeiro', 'excelsitude', 'requinte', 'ventilador', 'haras', 'bernanha', 'galgar', 'pau', 'mouches', 'companheiro', 'tenor', 'florense', 'corretar', 'roubo', 'eleger', 'beijo', 'metrô_e_de', 'conversação', 'argumento', 'estudante', 'bombem', 'tonar', 'aproveitamento', 'onica', 'cubículo', 'quarto_é_limpo', 'crítico', 'europeu', 'loios', 'sachê', 'século', 'lyonita', 'ansioso', 'conteúdo', 'poucos_passos_do', 'crassatela', 'espécie', 'pereiro', 'chi', 'deuce', 'sofrimento', 'mover', 'obsoleto', 'plasticizar', 'território', 'desconfiança', 'relocados', 'projeto', 'formato', 'dúzia', 'piramide', 'arranhão', 'trato', 'cremar', 'sine', 'estocar', 'soberbo', '°', 'implantação', 'votar', 'cris', 'inclinador', 'invejar', 'vendedor', 'exterior', 'piramidal', 'interno', 'interpretação', 'virtude', 'exposição', 'corpo', 'magnífico', 'a_outros_hotéis', 'panqueca', 'fome', 'americano', 'preconceito', 'fidelidade', 'carboprosta', 'próximo_do_hotel', 'arranhar´s', 'concentração', 'marfi', 'buque', 'vizinho', 'numerar', 'elasticidade', 'downtown', 'experiencie', 'motel', 'suflar', 'de_frente_pra', 'choque', 'ágio', 'banheiro_também_é', 'fundos_do_hotel', 'reembolsar', 'paga00', 'fá', 'mone', 'parceiro', 'campanha', 'excessivo', 'deslocação', 'lugaras', 'atropelar', 'restauranteco', 'strip', 'tease', 'chapar', 'coifar', 'com_cheiro_de', 'proporcional', 'rachadura', 'mobiliá', 'antigo', 'cagão', 'calo', 'templo', 'garotar', 'abertura', 'geraldésias', 'lotação', 'supergripe', 'carniçal', 'sapatamentos', 'setor', 'sé', 'GO', 'circuito', 'alérgico', 'pássaro', 'aceifas', 'canhoto', 'bebedeira', 'sinhamas', 'trastempar', 'no_fim_de', 'janelão', 'desnecessário', 'automóvel', 'sexto', 'fanchone', 'propósito', 'caserias', 'promessa', 'browniano', 'r$', 'babar', 'vestino', 'colega', 'procedimento', 'astatino', 'consulto', 'burgue', 'pastar', 'linguiça', 'baico', 'sócio', 'portão', 'crack', 'integridade', 'fortitude', 'porco', 'iphone0', 'grito', 'mofar', 'atitude', 'gol', 'beús', 'devagar', 'permissão', 'agir', 'descasar', 'confiabilidade', 'deslize', 'individuar', 'sacrossanto', 'lavatório', 'parnasismo', 'sanitário', 'compartimentar', 'clausurar', 'pelar', 'contactar', 'toleno', 'tosar', 'volt', 'caderno', 'sande', 'estilete', 'escândalo', 'sequencia', 'episódio', 'retrofleti', 'mendigo', 'urinar', 'noticiar', 'o_que_nos', 'tráfego', 'gamar', 'sinectia', 'presso', 'empréstimo', 'urna', 'eferência', 'poligloto', 'ranger', 'panteão', 'durante_uma_semana', 'sinistrar', 'turi', 'suar', 'elevadorzinho', 'surpreendentemente', 'autorização', 'débito', 'sinalização', 'conector', 'rama', 'passaporte', 'é_uma_das', 'bloqueio', 'broa', 'sampa', 'faites', 'voagem', 'fixação', 'teleofuncionalismo', 'próximo_a_estação', 'correspondência', 'general', 'apesar_de_muito', 'paisagem', 'haussmannita', 'saltar', 'hotel_é_confortável', 'pracinha', 'livro', 'gessar', 'brioche', 'duma', 'elegância', 'quilômetro', 'modernização', 'laranjão', 'emelar', 'povo', 'carino', 'ente', 'arivate', 'orbulinas', 'viscina', 'contramão', 'arriota', 'hotel_muito_bem', 'salvação', 'amoitar', 'louro', 'brightismo', 'quáquer', 'ideia', 'religioso', 'curato', 'picola', 'picnolepsia', 'arredar', 'intendência', 'CI', 'lavorar', 'dormitar', 'vari', 'rim', 'masochismo', 'letro', 'docência', 'tradinha', 'tutti', 'monumentino', 'opal', 'sanfoninha', 'oscilar', 'grande', 'domar', 'repertories', 'naturalidade', 'gaitar', 'juro', 'intransigência', 'localização_deste_hotel', 'placa', 'muito_limpos_e', 'filhote', 'peste', 'rato', 'uisqueiro', 'superlotação', 'coir', 'climatizador', 'salsicha', 'armazém', 'ocorrência', 'coura', 'matete', 'moderninho', 'bandeira', 'engarrafamento', 'apertado', 'mandalas', 'cunico', 'buir', 'iluminância', 'decorrência', 'fichar', 'major', 'bagi', 'condizionatacassaforte', 'poche', 'comercializar', 'sui', 'comodo', 'matinar', 'lanchinhos', 'lombodorsocervical', 'sombrinha', 'peletiera', 'placita', 'hospitaleiro', 'hotel_e_o', 'direções', 'conversador', 'tipologia', 'rocheadura', 'dintorno', 'prazo', 'jazz', 'antedimento', 'extravagância', 'parchear', 'terso', 'cascar', 'parlar', 'quelo', 'adenoto', 'esperiega', 'compresso', 'bistrô', 'atristes', 'sagui', 'detalhístico', 'pratomicrofrigobarcafeteriae', 'demônios', 'lixeiro', 'detergente', 'quitinete', 'indução', 'tudo_que_é', 'externo', 'elassopiese', 'impotência', 'e_com_pouca', 'regulagem', 'repousar', 'o_café_é', 'marselhês', 'ledra', 'rolim', 'oroval', 'potu', 'guê', 'lanciense', 'santanderino', 'Fontaine', 'trajetos', 'essência', 'elysées', 'tapetar', 'vistor', 'diaco', 'providência', 'provinciano', 'aconchegar', 'aval', 'lipos', 'fruteiro', 'do_quarto_que', 'dejejum', 'ângulo', 'complicação', 'ullmannito', 'março/0000', 'teia', 'encimar', 'mordedela', 'credo', 'hotéis_da_cidade', 'tâmara', 'sta', 'texugo', 'ordinário', 'lustrar', 'mor', 'ricardo', 'relaxante', 'honesto', 'sentimento', 'saudação', 'incêndio', 'hesitação', 'heleno', 'albergeiro', 'credibilidade', 'prata', 'vergonha', 'beaupreia', 'sains', 'humanidade', 'patrício', 'jorge', 'sousa', 'espaçoso000', 'carga', 'tarias', 'inexistência', 'bulufas', 'interestratificadinho', 'assistência', 'escoamento', 'placito', 'a_possibilidade_de', 'risco', 'ostante', 'italitaliano', 'banquinha', 'risada', 'bronco', 'humilhação', 'leste', 'acessibilidade', 'retornança', 'landona', 'cidadão', 'alil', 'cassetete', 'ateso', 'dopar', 'migar', 'melhorador', 'barrir', 'l´set', 'brucelas', 'lesto', 'nerd', 'arco', 'buracar', 'break', 'laptop', 'sifonecete', 'para_o_preço', 'apreensivo', 'leuprolide', 'da_rede_ibis', 'comprovante', 'acontecimento', 'trousseau', 'albergue', '0000', 'zoogleia', 'cambrone', 'pato', 'foucherita', 'irrelevante', 'terço', 'champacas', 'é_o_ponto', 'loti', 'riçar', 'atractores', 'inexperiente', 'opção_em_paris', 'agente', 'uma_grata_surpresa', 'me_hospedaria_lá', 'fã', 'personagem', 'higienização', 'estacamento', 'ferroviário', 'todolos', 'oguei', 'equemo', 'vola', 'tria', 'absoluto', 'o_arco_do', 'fogo', '0ª', 'caboclo', 'champorreasses', 'monoprotofilado', 'departamento', 'rogar', 'furadeiras', 'globo', 'atrizes', 'imprevisto', 'atile', 'tolerância', 'agosto/0000', 'persistir', 'calça', 'remédio', 'pano', 'bento', 'fernandense', 'artimanha', 'ervador', 'cada', 'Taylor', 'placoderme', 'senil', 'anel', 'xícara', 'fervedor', 'colônia', 'tufar', 'nojento', 'frágil', 'sítio', '0estrelas', 'triste', 'devillite', 'gravura', 'remedir', 'ibira', 'platinar', 'funcional', 'nivelar', 'charro', 'decoradonas', 'confecção', 'similar', 'triângulo', 'talhar', 'sobrelanço', 'tailandês', 'hotel_o_que', 'comportamento', 'fedor', 'esquina_do_hotel', 'da_linha_0', '00horas', 'infestação', 'percevejo', 'alargamento', 'funcionário_da_recepção', 'intervenção', 'norma', 'incredulidade', 'mui', 'colação', 'metrô_e_ônibus', 'maleiro', 'sabin', 'terminal', 'o_chuveiro_é', 'crackers', 'superou_nossas_expectativas', 'breguegui', 'boiçar', 'para_ir_ao', 'achoque', 'autosserviço', 'colaborador', 'encerramento', 'toura', 'estratégico', 'antiderrapante', 'paradigma', 'réu', 'reabastecimento', 'tampar', 'bolhar', 'lesão', 'deficiência', 'hospital', 'eifeliano', 'pôster', 'impessoal', 'gestão', 'hotéis_da_rede', 'de_metro_perto', 'batoura', 'atraiçoar', 'recinto', 'relato', 'dissabor', 'localidade', 'participação', 'deletério', 'sangue', 'postagem', 'destinatário', 'inimigo', 'ozo', 'fundação', 'stafes', 'claustrofóbico', 'porquê', 'cambar', 'gerador', 'pacificar', 'retro', 'desonesto', 'metros_da_estação', 'climatofisiológico', 'mol', 'periodicidade', 'morango', 'insetos', 'adaptação', 'sóbrio', 'são_bem_pequenos', 'parapeitar', 'floricultura', 'cotovelar', 'lilá', 'carrancudo', 'de_vários_pontos', 'bemol', 'cadeense', 'traslado', 'sim', 'prestável', 'bolacha', 'champo', 'urgente', 'bisma', 'ação', 'ladrão', 'manipulação', 'hipótese', 'bulevardismo', 'uma_boa_vista', 'serviço_de_recepção', 'expirar', 'digno', 'troncar', 'regina', 'fez_com_que', 'piso', 'iva', 'canalização', 'caixão', 'aviação', 'polidez', 'dementar', 'radiovisor', 'interrupção', 'víveres', 'desjejum', 'perna', 'mosquitento', 'fautor', 'error', 'maratona', 'raque', 'aparato', 'usmo', 'lettocucininotavolino', 'metagnoma', 'gusto', 'puliz', 'rilas', 'republicazinha', 'infantibilidade', 'isopurpurato', 'supraestrutura', 'mercaço', 'areia', 'gay', 'foliar', 'adagiar', 'escritoriozinho', 'calafate', 'teco', 'honestidade', 'supor', 'conivência', 'violência', 'fortuito', 'de_0_pessoas', 'mite', 'troca_de_toalhas', 'coerir', 'cerâmico', 'esfregão', '000metros', 'homalopse', 'anverso', 'abeces', 'caminho', 'violação', 'denúncia', 'rótula', 'catalogar', 'duzas', 'cornecho', 'gafar', 'total', 'refeitório', 'alegação', 'betle', 'ás', 'chans', 'grego', 'beliche', 'tryp', 'caminhão', 'quadruplar', 'banheiro_é_pequeno', 'leco', 'ranzinza', 'pranchar', 'lage', 'biblioteca', 'watt', 'pequeno_mas_limpo', 'split', 'voltagem', 'pauais', 'fica_a_cerca', 'bagageiro', 'concionar', 'faco', 'marmanjola', 'araçari', 'minhoca', 'jacaré', 'dormir_e_tomar', 'secundário', 'caos', 'razoável', 'Inglaterra', 'limite', 'fartura', 'europeísta', 'sobresdrúxulos', 'itos', 'mornar', 'impaciência', 'sarcasmo', 'esbonitas', 'a_000_metros', 'lado_da_estação', 'peculiaridade', 'dezembro_de_0000', 'lisboa', 'plantão', 'dedão', 'áudio', 'saqueador', 'verificação', 'entendimento', 'francese', 'histórico', 'muito_pequenos_mas', 'sotaque', 'interlinhado', 'afabilidade', 'liliale', 'centralidade', 'bem_localizado_a', 'do_que_o', 'contaminação', 'valioso', 'semestre', 'cofragem', 'freguesia', 'muuuuuito', 'regularidade', 'no_banheiro_e', 'voz', 'multilíngue', 'prestação', 'estaminar', 'jargão', 'recessão', 'doçura', 'amabilidade', 'MC', 'papal', 'proteger', 'credencial', 'ceifar', 'piquenicar', 'árabe', 'subúrbio', 'magro', 'agranele', 'diâmetro', 'tradução', 'alemão', 'ruante', 'megátoo', 'mas_limpos_e', 'surpresinhos', 'onica_coisa_que', 'alarmar', 'cromossominas', 'nu', 'cadeirantes', 'garçonetes', 'político', 'revir', 'confortalecermo', 'rá', 'e_são_muito', 'desinfetante', 'grandeias', 'gordo', 'empecilhar', 'no_centro_do', 'ventinho', 'depreender', 'poluição', 'panca', 'croas', 'reter', 'pareca', 'calção', 'quinhentos', 'discussão', 'requerer', 'erro', 'cautela', 'liberdade', 'incender', 'detector', 'bolso', 'impossibilidade', 'mas_confortáveis_e', 'tem_um_excelente', 'login', 'pertinhos', 'éon', 'mérito', 'incompatibilidade', 'avariar', 'mediano', 'mecanismo', 'radiolocalização', 'drogaria', 'apelativo', 'portunhol', 'bicicletário', 'cabedeleiras', 'serviço_de_café', 'infinidade', 'hotel_de_luxo', 'preto', 'lugarete', 'antialérgico', 'lodo', 'priorizei', 'estafar', 'esplendidez', 'estilização', 'homônimo', 'liberação', 'porte', 'lindeza', '000_metros_do', 'guardanapo', 'destaca´se', 'de_00_a', 'pera', 'pteronisso', 'brelim', 'de_metro_bem', 'desleixar', 'friento', 'mestomas', 'penacha', 'dijole', 'chalar', 'trote', 'cumprimento', 'confiança', 'cheque', 'gracas', 'compreendido', 'ideal', 'reconexões', 'desligamento', 'marilha', 'Astor', 'martim', 'suilate', 'operador', 'enito', 'desatenção', 'atrevimento', 'agustin', 'monstera', 'nil', 'lapiseira', 'consolar', 'rebordar', 'ferimento', 'lavagem', 'ridinho', 'eirinha', 'primor', 'monopso', 'brabo', 'década', 'administrador', 'fuca', 'sebo', 'rolho', 'descido', 'desaconselhar', 'compositor', 'guerra', 'diverso', 'atualidade', 'saché', 'interocepção', 'maço', 'hermínio', 'comboiar', 'y', 'tabla', 'hippie', 'gaullístico', 'chaise', 'claustrar', 'vã¡rios', 'AL', 'gabinete', 'politorento', 'um_quarto_pequeno', 'caracol', 'voragem', 'torturar', 'horal', 'satélite', 'adnato', 'sone', 'crustal', 'tesourar', 'discrição', 'maiarmos', 'moção', 'delavirdina', 'americina', 'marcação', 'equivaler', '00x00', 'indefinidade', 'ingrato', 'viaduto', 'marsas', 'fito', 'pré-', 'galha', 'contradição', 'cotidiano', 'francatripa', 'médico', 'delisses', 'identificação', 'pacé', 'deduzir', 'pormenor', 'traseiro', 'jarés', 'recepcionalistas', 'córdias', 'atrativo', 'término', 'fase', 'braço', 'abraçar', 'com_o_tamanho', 'desinfetantes', 'mensageiro', 'braba', 'mijar', 'fino', 'especificação', 'fórmula', 'formatação', 'estrangeiro', 'exaustor', 'jardes', 'acaso', 'reunião', 'desqualificar', 'trigésimo', 'relaxamento', 'tragédia', 'lavadinha', 'sequer', 'cerimônia', 'funcionários_atenciosos_e', '00º', 'inovação', 'Ernesto', 'vigésimo', 'utilizador', 'chateação', 'balanco', 'infiltração', 'cansativo', 'elyitas', 'alívio', 'quádruplo', 'bala', 'porcões', 'desencontrar', 'moleza', 'e_a_estação', 'mercearia', 'mergulhar', 'estaurantera', 'cirtos', 'mare', 'del', 'cuerudo', 'toro', 'positivar', 'RTP', 'vosso', 'que_foi_o', 'neto', 'consumação', 'febre', 'ruveto', 'fechadura', 'angula', 'familiaridade', 'facete', 'chinela', 'rigoroso', 'indignação', 'governança', 'spray', 'lepicena', 'fumador', 'delegação', 'provedor', 'descardas', 'mofo', 'cortina', 'catar', 'combes', 'agons', 'antiguidade', 'jarra', 'potinho', 'guinho', 'azimeria', 'apático', 'bulir', 'palha', 'sótão', 'resolução', '000am', 'novembro/0000', 'garfar', 'cuidadinho', 'telefonema', 'guera', 'muxo', 'EN', 'iento', 'embargar', 'moderne', 'contanto', 'leito', 'desmoscoleco', 'brise', 'alisar', 'mangão', 'agarrar', 'sabão', 'torgueiros', 'diferente', 'congestionamento', 'laranjo', 'palmar', 'amanhar', 'sonorização', 'apertamento', 'biscoitar', 'gau', 'toutinegra', 'demasiar', 'legítimo', 'filminho', 'terror', 'ferino', 'população', 'sultanesco', 'autocontentabilidade', 'excelente_e_o', 'noivo', 'acidentar', 'bobagem', 'referenciar', 'tratória', 'gigo', 'residencial', 'vestuário', 'compatriota', 'lado_do_metro', 'empregados_do_hotel', 'treinamento', 'entulho', 'instituição', 'tuques', 'corsaco', 'aração', 'trafegar', 'perigoso', 'hotel_não_poderia', 'nono', 'desabafar', 'dindes', 'amargamente', 'terceiro', 'prestabilidade', 'sisanento', 'part', 'time', 'engradear', 'despachar', 'condutor', 'nevrosismo', 'tática', 'intuito', 'absurdo', 'contudo', 'm00', 'pico', 'pressupor', 'sightseeing', 'piquenique', \"d'appoggio\", 'acrogenético', 'forno', 'acessorial', 'abastança', 'tripetrepe', 'comodíssimo', 'caquistia', 'secretário', 'trombada', 'enquadrar', 'capilar', 'álcool', 'buchicho', 'lembrancinhas', 'acrose', 'contagem', 'malhação', 'degradação', 'marroquino', 'romeno', 'nairangia', 'espiã§os', 'esteatopigia', 'matrimoniar', 'evenque', 'muellerina', 'estasigenia', 'lancheiro', 'smartfone', 'impactar', 'distribuidor', 'colgar', 'titulo', 'veterinário', 'malabarismo', 'totalidade', 'lei', 'desa', 'elidir', 'arquivar', 'chés', 'moldurar', 'pichações', 'raspagem', 'lancissondista', 'duplei', 'sipe', 'candeeiro', 'técnico', 'hotelzinho', 'chidura', 'sintoma', 'higiênicas', 'lar', 'secagem', 'polissimétrico', 'ascensor', 'tubi', 'cu', 'enzolo', 'copretérito', 'copro', 'massoterapia', 'nosostrino', 'chiviatita', 'crespatura', 'repiegas', 'terato', 'banana', 'tormento', 'deficiente', 'um_quarto_no', 'nefelômetro', 'atendimentolimpezarefeições', 'aranha', 'calorento', 'arro', 'restirante', 'moral', 'quietar', 'macho', 'simulação', 'tendenciaria', 'sobrinho', 'relançar', '0000h', 'fuso', 'funcioná', 'eifelianas', 'reservatório', 'ácaro', 'quíntuplo', 'x', 'concha', 'fondues', 'mamadeira', 'larau', 'foods', 'campainha', 'arrombamento', 'incômoda', 'suposição', 'aposento', 'constatação', 'tapar', 'supérfluo', 'jantarzinho', 'inspiração', 'nora', 'interferência', 'roteador', 'radiequipamento', 'adágio', 'bagunceiros', 'fritura', 'marquise', 'saco', '00e', 'constrangedor', 'captação', 'sombrio', 'pontilhão', 'Jaime', 'estepante', 'vitória', 'joias', 'terlos', 'lado_da_cama', 'missão', 'enquanto', 'consumidor', 'concernir', 'estrar', 'sobressalto', 'pedinte', 'vacilar', 'parassimplesita', 'lux', 'um_quarto_de', 'catracas', 'duração', 'locnera', 'precaver', 'minoria', 'anichar', 'pipazetato', 'sota', 'multimama', 'testo', 'avertimento', 'costão', 'preparação', 'suplemento', 'rinofrino', 'uniformar', 'Dácia', 'indiferença', 'sacrifício', 'importante', 'mascar', 'rodito', 'aconselhamento', 'sutar', 'espiã§OSO', 'arma¡rio', 'clã¡cica', 'opa§ãµes', 'doceiro', 'diã¡ria', 'hã³apedes', 'asseamento', 'competitivo', 'nevá', 'mas_vale_a', 'contínuo', 'boxar', 'frasco', 'saramiques', 'xbox000', 'cortês', 'problemático', 'grade', 'fanucho', 'concessão', 'unça', 'turno', 'relentar', 'ineficiente', 'todalíeas', 'matéria', 'tradicional', 'circundar', 'perfumaria', 'liso', 'vigar', 'sustentação', 'confidenciar', 'mansão', 'tute', 'janes', 'locativo', 'quinquefido', 'trifosfato', 'isabelismo', 'senso', 'eramo', 'comode', 'interessante', 'acepção', 'fluente', 'intimidade', 'dignidade', 'estômago', 'tenção', 'ministério', 'puntos', 'moqueteiro', 'calamidade', 'especie', 'muito_pequeno_mas', 'extintor', 'objectivar', 'puropuru', 'carena', 'manutenência', 'quantiar', 'delergotrila', 'richelieu', 'druot', 'luminária', 'formalidade', 'forrar', 'propagação', 'cérias', 'redação', 'literatura', 'atualizações', 'nototrema', 'naco', 'beco', 'dilema', 'cardi', 'cardinal', 'massageador', 'gia', 'cintura', 'perm', 'sério', 'ministrar', 'locanda', 'cabideiros', 'rodim', 'aviar', 'bolsa', '0000euros', '000euros', 'maçar', 'raivar', 'bordar', 'h', 'greve', 'caráter', 'estrato', 'reaparecer', 'padronização', 'quarterão', 'muito_perto_da', 'reparação', 'autoclismo', 'estadão', 'teleatendimento', 'azaração', 'lamarão', 'suspirar', 'multibanco', 'bombom', 'belga', 'livre', 'permutar', 'afeite', 'mulim', 'assota', 'de_estações_de', 'reto', 'hotel_e_a', 'aspiração', 'límpia', 'é_bem_simples', 'marcado', 'sacrouterino', 'objetividade', 'falácia', 'tolúcia', 'habitabilidade', 'páscoa', 'formação', 'berro', 'eão', 'comentarísticos', 'desprendimento', 'acionem', 'largura', 'mercurol', 'fotográfico', 'francear', 'desdem', 'esseno', 'ressunto', 'pela_internet_e', 'rinite', 'intermediário', 'pretensão', 'transparência', 'possessivo', 'ptere', 'chetini', 'bilíngue', 'vassourar', 'franco', 'mesossomo', 'meretrício', 'velharia', 'naqueloutro', 'tomate', 'galeto', 'tole', 'alteração', 'o_hotel_no', 'holotipo', 'rouquenho', 'martelar', 'furadeira', 'bellevália', 'apoucas', 'ero', 'pulo', 'megálio', 'prolato', 'fiação', 'mediterrano', 'euro$$$$$$$', 'desenfrear', 'miami', 'picrócolo', 'manco', 'burro', 'marmeluta', 'caldar', 'obrigação', 'vars', 'selene', 'pernilongo', 'circulador', 'esclarecimento', 'próximo_da_torre', 'with', 'cambiar', 'ração', 'ene', 'hasta', 'olimpiano', 'habitacionismo', 'baço', 'extremadamente', 'linha0', 'fraqueza', 'fresta', 'funcionários_foram_atenciosos', 'bandear', 'quebradeira', 'juventude', 'corrimão', 'dias_em_que', 'brie', 'andone', '€', 'pizaria', 'lamarinau', 'foreiro', 'plesiope', 'pleas', 'esquisitíssimo', 'ago/0000', 'mielemia', 'tolo', 'legar', 'salificar', 'desaparecimento', 'fuba', 'turis', 'milhão', 'parco', 'ironia', 'o_banheiro_tinha', 'careca', 'loiro', 'universidade', 'imento', 'obs.-', 'pronunciar', 'catacumba', 'acústico', 'logo', 'moto', 'para_tomar_um', 'cometário', 'adequação', 'sopenses', 'trunfar', 'funcionantes', 'salivar', 'naudina', 'proximismo', 'grasni', 'succinamínico', 'tuta', 'bagabaga', 'pingo', 'viela', 'amizade', 'quique', 'sopiar', 'sacaria', 'pavimentar', 'interfone', 'intrusão', 'fronho', 'amine', 'furto', 'mochileiros', 'historiar', 'vagão', 'diviso', 'respaldar', '0malas', 'compota', 'filosofia', 'consolação', 'frimãozão', 'veem', 'regões', 'descrito', 'torvisco', 'revérbero', 'male', 'arredamento', 'tubarãozinho', 'vermiote', 'autocirurgia', 'dessiso', 'rile', 'burne', 'glicogenia', 'metrobaros', 'prosseguir', 'aspeto', 'augustina', 'mielomenia', 'poça', 'cano', 'entreaberto', 'edificação', 'hospedados_por_0', 'fenestra', 'antrectomia', 'faveca', 'treinandos', 'tapetizaria', 'detrata', 'difficile', 'repertorie', 'posizione0', 'miglitol', 'bariolagem', 'detetafono', 'acerar', 'rinasto', 'n00', 'pertentar', 'imo', 'negatividade', 'luna', 'inovador', 'inclusão', 'humildade', 'geral_o_hotel', 'restituição', 'excepção', 'dagas', 'sarro', 'mar´s', 'anfiteatro', 'palco', 'combater', 'ladinho', 'bwcs', 'critério', 'kg', 'higiênico', '00/dez', 'fluência', 'jeans', 'chorar', 'ressarcimento', 'warwick', 'localizadona', 'auditoria', 'trinfo', 'bilheteria', 'chovei', 'BB', 'matizar', 'capsulamo', 'baros', 'jetapes', 'patamar', 'georgeofones', 'indiano', 'curua', 'supervisão', 'pasilogia', 'tênia', 'operazinha', 'renal', 'assoalho', 'senegalense', 'finalidade', 'acro', 'reouvido', 'renome', 'calhar', 'aperceber', 'desentender', 'politicar', 'lofa', 'migalhar', 'bouche', 'entradinha', 'esgoto', 'lado_do_metrô', 'gote', 'cocharro', 'ddistingui', 'doodor', 'boldo', 'clefta', 'sensibilidade', 'obruchevitas', 'ng', 'motor', 'gomar', 't0', 'd´orleãs', 'plainista', 'surgimento', 'pendência', 'e_da_estação', 'hum', 'xingamento', 'prepotência', 'xenófobo', 'circunstância', 'que_este_hotel', 'zonalidade', 'adjacente', 'criatura', 'prostíbulo', 'desconfortante', 'outonar', 'bicho', 'jeremiar', 'faca', 'intelectual', 'finanças', 'malojas', 'denotar', 'racismo', 'bandolete', 'fibra', 'essencialize', 'centralização', 'cadente', 'mezzo', 'golo', 'escorchar', 'capiscar', 'sujidade', 'fuga', 'pereira', 'bergamota', 'pocilga', 'cilada', 'pantanense', 'embalagem', 'sembra', 'sião', 'abiano', 'duto', 'albergate', 'gaveta', 'gaiar', 'bolor', 'rau', 'traverselite', 'o+transferes+hotel', 'chara', 'feijão', 'senciente', 'somente', 'perplexo', 'indivíduo', 'nili', 'desabonador', 'entediar', 'luchan', 'milagre', 'cotação', 'abracadabrante/0000', 'ferréolo', '^', 'suficiente_para_um', 'haiden', 'deaura', 'validade', 'supersta', 'parente', 'planear', 'podre', 'descontrolar', 'justificativo', 'chapear', 'relação_qualidade_preço', 'inseto', 'estore', 'correção', 'interpenetrador', 'argelino', 'sanedrim', 'protetor', 'escuridão', 'dignar', 'caixote', 'miniaturar', 'ciclo', 'eur000', 'panificador', 'leitor', 'estrelar', 'independência', 'andaime', 'policiamento', 'portátil', 'pulgueiro', 'pulgo', 'levador', 'vencimento', 'odorar', 'vítima', 'bordel', 'pensamento', 'nodoar', 'muro', 'impossível', 'inundação', 'balde', 'jul', 'premer', 'coloneu', 'musculação', 'pesadelo', 'cativeiro', 'respiração', '0ªguerra', 'cidadela', 'hibisco', 'faxineira', 'sicoma', 'pastor', 'medíocre', 'convívio', 'tufo', 'barraco', 'favela', 'conscienciocentrologias', 'letra', 'centil', 'planejo', 'XV', 'dodo', 'parquinho', 'fabagela', 'ambulância', 'ananim', 'deslandiana', 'mouse', 'fairfieldita', 'bridgista', 'cursar', 'beliquetes', 'mundismo', 'califórnio', 'guardador', 'titos', 'entrançar', 'cercano', 'confortáveislimposatendimento', 'grumar', 'vestiário', 'basquete', 'na_próxima_vez', 'seguridade', 'esperagana', 'empar', 'cheina', 'instante', 'limpiezaestacionamientoubicacion', 'arribar', 'seguintemente', 'bagatela', 'travelho', 'higiamas', 'uperu', 'arts', 'concerto', 'dacota', 'ritmar', 'linco', 'proporção', 'repaginação', 'nase', 'nyc', 'da_time_suare', 'surilhos', 'PM', 'pasmar', 'generoso', 'buzinar', 'restaurador', 'embrulho', 'jugar', 'simptósicos', 'inauguração', 'anacampto', 'autoritário', '0points', 'alumínio', 'yorker', 'adeiro', 'cômoda', 'brownismo', 'ginásio', 'times', 'saquarema', 'poisar', 'quarteirãozão', 'helas', 'buza', 'homezio', 'lata', 'revitalização', 'branto', 'ladrilhar', 'degustação', 'do_times_suare', 'reparo', 'tesla', 'cagar', 'de_times_suare', 'verba', 'chachal', \"toy'r'us\", 'cordoma', 'joanilho', 'êh', 'teatrelho', 'imposto', 'idate', 'lanchinho', 'sapador', 'mineiro', 'fóridas', 'representante', 'meningopatia', 'co', 'bigelóvia', 'iorquino', 'neutro', 'memória', 'broda', 'macamas', 'porteiro', 'pedágio', 'sacolinha', 'celerífero', 'exato', 'cofiar', 'é_novo_e', 'rum', 'sodes', 'tesum', '0000eu', 'mortonas', 'electriz', 'pilho', 'agendamento', 'tito', 'manager', 'trito', 'punho', 'pros', 'rocaille', 'setembro/00', 'jesus', 'esquecimento', 'signais', 'clique', 'transmissão', 'tristeza', 'polinésio', 'metrô_na_esquina', 'caótico', 'lavador', 'tosadeira', 'bateção', 'gume', 'carminar', 'bombarato', 'duffys', 'iaos', 'mandeiazinha', 'chopp', 'lixo', 'ombro', 'baxi', 'coquetel', 'avense', 'mevanate', 'flame', 'banquete', 'atleta', 'pluma', 'copa', 'amigdaloides', 'Gabriel', 'astéria', 'paralisação', 'sates', 'columbos', 'trufar', 'carletonita', 'babá', 'Michelangelo', 'bernardina', 'elaboração', 'familial', 'moma', 'b&h', 'techmuito', 'emparar', 'sate', 'videoteipe', 'café´da', 'traineira', 'mico', 'aquisição', 'tour', 'bigu', 'aveia', 'onça', 'o_restaurante_do', 'animal', 'morgas', 'grans_central_astatino', 'sochão', 'reagir', 'bradá', 'baru', 'fascínio', 'vasto', 'apoio', 'aplebeares', \"macdonald'spassando\", 'preparativo', 'mundeiro', 'cameroniano', 'metropolita', '0av', 'muzarela', 'coireie', 'cachar', 'coobar', 'frigorificar', 'sequência', 'persistência', 'cherutão', 'limpeza_e_organização', 'acemia', 'absurdamente', 'desentupidor', 'inspeção', 'murra', 'basamento', 'osa', 'exaustivo', 'minalrestate', 'mandarim', 'lamentável', 'generosidade', 'comissão', 'ultimar', 'monandria', 'dinâmico', 'modernismo', 'futurismo', 'cápsula', 'retrátil', 'selfotel', 'em_nova_Iorque', 'bor', 'noz', 'omisso', 'mufinos', 'ônus', 'debater', 'furaca', 'nobre', 'furacão', 'uau', 'reabrir', 'ações', 'argumentação', 'ramificação', 'redução', 'complementação', 'emprateleirares', 'coral', 'esquiâmetro', 'exuberância', 'mecanicista', 'tope', 'medeiro', 'eletrônicos', 'embaixador', 'caudilhote', 'brasilismo', 'royalty', 'autoridade', 'tempestade', 'sumetume', 'lateral', 'oscilação', 'jito', 'cossinetes', 'cari', 'algodão', 'apetrecho', 'umidificador', 'berimbelo', 'hertz', 'aberlines', 'lasi', 'bastaréus', 'iris', 'middletonite', 'quare', 'radiocircuito', 'rare', 'minicompota', 'medonho', 'opresso', 'maltomas', 'verno', 'vivários', 'camiseta', 'concepção', 'tênis', 'tardo', 'taxie', 'cron', 'resenhar', 'lodento', 'golpe', 'erei', 'talisca', 'portaria', 'guesto', 'metrocampa', 'cinchoninato', 'atrativas', 'cedência', 'dontes', 'ecolocalização', 'landamanes', 'poucochinho', 'planar', 'crabro', 'salmão', 'helose', 'herses', 'carregamento', 'alunar', 'aula', 'orpington', 'postumeiro', 'rorastes', 'renascencense', 'lançamento', 'jiló', 'bria', 'quiosque', 'aleda', 'policiclo', 'difusionismo', 'efetuação', 'cafuca', 'atirar', 'acanto', 'criocondutor', 'inconveniência', 'confortavelmente', 'luculo', 'objetivos', 'texto', 'nação', 'frechar', 'márcio', 'espeçar', 'victorites', 'localizadão', 'entalação', 'gelado', 'jutaizinho', 'densidade', 'giratório', 'impessoalidade', 'panorâmico', 'concorrente', 'gafe', 'tarro', 'tarbuche', 'novaiorquino', 'originalidade', 'catividade', 'cação', 'bulício', 'engraxador', 'cal', 'pleno', 'tinhanhas', 'batido', 'hemoperfusão', 'estimular', 'barbárie', 'cartaz', 'double', 'adicional', 'tecido', 'handa', 'sobrenome', 'multiverso', 'musicai', 'DJ', 'enjoativo', 'poucos_passos_da', 'residencie', 'paulo-', 'rico', 'fervor', 'quão', 'coleta', 'do_por_autoritário', 'tartaruga', 'gravar', 'gura', 'amedronha', 'discrepância', '0a', 'quitool', 'rotofoto', 'sinuca', 'legalzinho', 'rofo', 'caropa', 'us00000', 'maisena', 'menta', 'APT', 'receptação', 'peso', 'benos', 'brianto', 'danceterias', 'maquinhas', 'patriciadas', 'limusine', 'primoroso', 'saque', 'determinação', 'bobo', 'ameno', 'gilé', '00point', 'villarésia', 'tristezinho', 'erope', 'desadunar', 'encentro', 'semas', 'levíssima', 'morangar', 'neno', 'aflar', 'chantili', 'pentostatina', 'preguiçoso', 'jactar', 'jone', 'avalo', 'tonto', 'terrestreidade', 'pizzariasrestaurantesteatro', 'americomania', 'jeffrêysia', 'juliano', 'mouro', 'apreensão', 'hoteias', 'sulivância', 'midese', '00nd', 'judice', 'décimo', 'prover', 'minimaratona', 'reduto', 'noiteças', 'adversidade', 'acre', 'barganheiro', 'tableta', 'grisar', 'coleção', 'steno', 'final_da_tarde', 'sapar', 'amante', 'acomodadiço', 'circuíto', 'italiota', 'bridge', 'educador', '00st', 'bolero', 'jazer', 'chino', 'comptonito', 'angel', 'memorial', 'ar&t', 'fica_por_conta', 'atores', 'alfre', 'angelotes', 'lotadíssimo', 'gelo', 'manhaninha', 'necessariedade', 'ceifadeiras', 'hiperfuncionamentos', 'pericardiocentese', 'contíguo', 'cappuccino', 'bronopol', 'da', 'florença', 'gari', 'microtonalismo', 'ermo', 'jekyll', 'hude', 'mexicano', 'arriação', 'poço', 'distanciamento', 'biodisponibilidade', 'demais', 'metrópole', 'largo', 'filmagem', 'estaço', 'r$00', 'usd000', 'u$000', 'ternate', 'realocá', 'ostrino', 'catacanto', 'murar', 'noturnos', 'concinidade', 'boteco', 'sandaba', 'vesúvio', 'coralo', 'proar', 'crosto', 'sogar', 'noturna', 'monstro', 'modelo', 'estilista', 'round', 'trade', 'cadeirão', 'itano', 'aperto', 'cordear', 'convidativo', 'anúncio', 'acessarmos', 'chuçar', 'empírea', 'abucastas', 'vacinar', 'soro', 'intercontinental', 'dora', 'respingadouro', 'ansonato', 'tiburtino', 'desfilar', 'ribeiro', 'repetição', 'fastio', 'apertinentinho', 'desatenciosidade', 'mercadoria', 'rio', 'rosca', 'estaces', 'fácil', 'gorila', 'unio', 'besteira', 'arroz', 'fabricação', 'cracker', 'microempreendedor', 'churrascaria', 'governita', 'reforminha', 'proibição', 'intacto', 'canelar', 'emporitano', 'figite', 'funcionalismo', 'correio', 'encofe', 'minuscolaaddirittura', 'rastreamento', 'descor', 'integração', 'acabado', 'engenheiro', 'atalho', '0m0', 'ocupação', 'translados', 'JF', 'loteria', 'codorna', 'RS', 'grão', 'falante', 'lele', 'bossa', 'seriedade', 'depoimento', 'oficial', 'belambo', 'chaira', 'encaixadinho', 'cacetões', 'tetro', 'prisioneiro', 'líder', 'folerca', 'ciclose', 'ascensorista', 'frenteias', 'sobrexposição', 'rufar', 'candólleo', 'duas_camas_de', 'decisão', 'grudento', 'etos', 'agora', 'borboleta', 'sobrecompensadíssimo', 'bage', '00h00', 'tique', 'tentador', 'uja', 'odinero', 'paca', 'ramisa', 'state00minutos', 'grandão', 'fanático', 'manobrar', 'decil', 'distorciométrico', 'fruta', 'tilleyitas', 'cômia', 'mufino', 'juna', 'marco', 'Flávia', 'midletonite', 'quê', 'gouânia', 'comadre', 'carvi', 'cimentar', 'vinificar', 'requeijão', 'impedimento', 'ararmários', 'gregue', 'Denise', 'develo', 'infradesnivelamento', 'renato', 'maganagem', 'buchela', 'cheleana', 'árvore', 'bebedouro', 'recenticidade', 'dobar', 'avenca', 'yoko', 'ono', 'jolei', 'rapichel', 'educacionismo', 'sumaumeira', 'sogiôncio', 'avito', 'revezamento', 'paramentar', 'rotatividade', 'coreano', 'complexabilidade', 'aplicativo', 'traçar', 'mobilar', 'turdo', 'muiritas', 'japão', '00m0', 'tribeca', 'eastvillage', 'trenode', 'trieco', 'madis', 'Pen', 'hihihi', 'cachecol', 'espumante', '0th', 'senhoraço', 'j&r', 'companha', 'burendangas', 'bocado', 'cirurgia', 'MT', 'boom', 'hiline', 'adjunto', 'caseiro', 'de_metro_da', 'inda', 'paixão', 'pudim', 'tripulação', 'espedir', 'us$000/dia', 'questionamento', 'vitoriar', 'brodosquianos', 'radiostereoscopias', 'tripulante', 'addisonismo', 'destrutor', 'estevar', 'comissário', 'piloto', 'pessimismo', 'radiemissor', 'martinite', 'luva', 'devolução', 'superpesquisa', 'digital', 'parafusar', 'goldonianos', 'espanholar', 'bajia+ceno', 'vereda', 'césar´s+refrigerante+água', 'secretes', 'bom_para_o', 'orestrato', 'tabelar', 'caneleiro', 'exótico', 'abordagem', 'inoperância', 'sutiã', 'telefone', 'madris', 'diet', 'dieta', 'tudo_muito_bom', 'quaro', 'capitão', 'XXI', 'asiático', 'pedestre', 'afazer', 'estressei', 'amplimamoso', 'woodburry', 'antipático', 'recipiente', 'eletronizas', 'maniatar', 'liberdadeiro', 'concessionário', 'cinchonato', 'naveteiro', 'tencionar', 'bicar', 'dedetização', 'cobertorzinho', 'doméstico', 'lição', 'apelar', 'patinação', 'despetaleador', 'porranho', 'brasileirismo', 'quadruplicidade', 'cêntimo', 'desolante', 'shutlle', 'pontual', 'operário', '0quadras', '00hr', 'nhole', 'volta', 'tlim', 'catendenses', 'detalhistas', 'algum', 'notificação', 'fôlego', 'grandeza', 'upgrades', 'extrato', 'penalidade', 'conectorização', 'cocobacilo', 'maranhão', 'escudeirar', 'goteira', 'costurar', 'tentação', 'parcagem', 'retificação', 'machine', 'playground', 'ladroar', 'bandeirar', 'amônia', 'dutos', 'intoxicar', 'desavinhinho', 'planeza', 'átrio', 'coditas', 'esposar', 'financial', 'amebites', 'visitação', 'formulário', 'coceira', 'chuverisca', 'ermelo', 'verter', 'megalópole', 'larachento', 'antigerminas', 'conforme', 'forte', 'ferro', 'malingua', 'repartição', 'cear', 'felicitação', 'coladinho', 'bucha', 'prontidão', 'camelô', 'soneca', 'flash', 'interligação', 'cabeleireiro', 'estante', 'menor', 'transação', 'reações', 'viçar', 'faturamento', 'nave', 'lavandeiro', 'heráldico', 'razoá', 'entregador', 'símplex', 'estafilococcia', 'gêmeas', 'morto', 'veia', 'recuperação', 'sola', 'lombies', 'soto/0000', 'um_ótimo_atendimento', 'homoptóton', 'renovatório', 'corso', 'epicentro', 'terremoto', 'contexto', 'posicionamento', 'empilhamento', 'sociergia', 'aspetos', 'autoentendimento', 'freelance', 'apelo', 'desempenhar', 'unanimar', 'caprichoso', 'filadelfiano', 'tubador', 'em_comparação_com', 'precação', 'incerteza', 'vultuoso', 'lingar', 'sustentabilidade', 'afrontar', 'bomrrsrsrs', 'quartola', 'bichar', 'registro', 'pototes', 'repente', 'mediação', 'escaravelho', 'bosteiro', 'de_quarto_mas', 'martírio', 'comonia', 'deã&delusa', 'nevasca', 'macieza', 'drope', 'sunguilas', 'improvisação', 'adecta', 'cúmulo', 'devolvê', 'us$00/dia', 'homoteleuto', 'mesquinhar']\n",
     "output_type": "stream"
    }
   ],
   "execution_count": null
  },
  {
   "cell_type": "code",
   "metadata": {
    "tags": [],
    "cell_id": "00026-a77db9f4-4e45-48e6-9cc8-fa21c55cc23c",
    "deepnote_to_be_reexecuted": false,
    "source_hash": "3f68a939",
    "execution_start": 1622208299744,
    "execution_millis": 11,
    "deepnote_cell_type": "code"
   },
   "source": "print(len(nouns))",
   "outputs": [
    {
     "name": "stdout",
     "text": "5682\n",
     "output_type": "stream"
    }
   ],
   "execution_count": null
  },
  {
   "cell_type": "markdown",
   "source": "### 2º passo",
   "metadata": {
    "tags": [],
    "cell_id": "00027-c2e5c48f-d72b-4110-80cc-0a692cd31560",
    "deepnote_cell_type": "text-cell-h3"
   }
  },
  {
   "cell_type": "code",
   "metadata": {
    "tags": [],
    "cell_id": "00029-4ef9dfb6-ad80-4beb-934b-723b86068919",
    "deepnote_to_be_reexecuted": false,
    "source_hash": "9b82ee11",
    "execution_start": 1622208299746,
    "execution_millis": 2,
    "deepnote_cell_type": "code"
   },
   "source": "import pandas as pd",
   "outputs": [],
   "execution_count": null
  },
  {
   "cell_type": "code",
   "metadata": {
    "tags": [],
    "cell_id": "00027-d3de1d0e-13ea-467a-a337-7150a28e5d12",
    "deepnote_to_be_reexecuted": false,
    "source_hash": "bb9da74c",
    "execution_start": 1622208299794,
    "execution_millis": 6,
    "deepnote_cell_type": "code"
   },
   "source": "ontology_dataset = pd.read_csv('ontology_dataset.csv')\nontology_dataset.head()\n",
   "outputs": [
    {
     "output_type": "execute_result",
     "execution_count": 19,
     "data": {
      "application/vnd.deepnote.dataframe.v2+json": {
       "row_count": 5,
       "column_count": 3,
       "columns": [
        {
         "name": "term1",
         "dtype": "object",
         "stats": {
          "unique_count": 5,
          "nan_count": 0,
          "categories": [
           {
            "name": "Casa de Hóspedes",
            "count": 1
           },
           {
            "name": "Hostal",
            "count": 1
           },
           {
            "name": "3 others",
            "count": 3
           }
          ]
         }
        },
        {
         "name": "term2",
         "dtype": "object",
         "stats": {
          "unique_count": 1,
          "nan_count": 0,
          "categories": [
           {
            "name": "Alojamento",
            "count": 5
           }
          ]
         }
        },
        {
         "name": "relation",
         "dtype": "object",
         "stats": {
          "unique_count": 1,
          "nan_count": 0,
          "categories": [
           {
            "name": "hypo",
            "count": 5
           }
          ]
         }
        },
        {
         "name": "_deepnote_index_column",
         "dtype": "int64"
        }
       ],
       "rows_top": [
        {
         "term1": "Casa de Hóspedes",
         "term2": "Alojamento",
         "relation": "hypo",
         "_deepnote_index_column": 0
        },
        {
         "term1": "Hostal",
         "term2": "Alojamento",
         "relation": "hypo",
         "_deepnote_index_column": 1
        },
        {
         "term1": "Albergue",
         "term2": "Alojamento",
         "relation": "hypo",
         "_deepnote_index_column": 2
        },
        {
         "term1": "Pousada",
         "term2": "Alojamento",
         "relation": "hypo",
         "_deepnote_index_column": 3
        },
        {
         "term1": "Acomodação",
         "term2": "Alojamento",
         "relation": "hypo",
         "_deepnote_index_column": 4
        }
       ],
       "rows_bottom": null
      },
      "text/plain": "              term1       term2 relation\n0  Casa de Hóspedes  Alojamento     hypo\n1            Hostal  Alojamento     hypo\n2          Albergue  Alojamento     hypo\n3           Pousada  Alojamento     hypo\n4        Acomodação  Alojamento     hypo",
      "text/html": "<div>\n<style scoped>\n    .dataframe tbody tr th:only-of-type {\n        vertical-align: middle;\n    }\n\n    .dataframe tbody tr th {\n        vertical-align: top;\n    }\n\n    .dataframe thead th {\n        text-align: right;\n    }\n</style>\n<table border=\"1\" class=\"dataframe\">\n  <thead>\n    <tr style=\"text-align: right;\">\n      <th></th>\n      <th>term1</th>\n      <th>term2</th>\n      <th>relation</th>\n    </tr>\n  </thead>\n  <tbody>\n    <tr>\n      <th>0</th>\n      <td>Casa de Hóspedes</td>\n      <td>Alojamento</td>\n      <td>hypo</td>\n    </tr>\n    <tr>\n      <th>1</th>\n      <td>Hostal</td>\n      <td>Alojamento</td>\n      <td>hypo</td>\n    </tr>\n    <tr>\n      <th>2</th>\n      <td>Albergue</td>\n      <td>Alojamento</td>\n      <td>hypo</td>\n    </tr>\n    <tr>\n      <th>3</th>\n      <td>Pousada</td>\n      <td>Alojamento</td>\n      <td>hypo</td>\n    </tr>\n    <tr>\n      <th>4</th>\n      <td>Acomodação</td>\n      <td>Alojamento</td>\n      <td>hypo</td>\n    </tr>\n  </tbody>\n</table>\n</div>"
     },
     "metadata": {}
    }
   ],
   "execution_count": null
  },
  {
   "cell_type": "code",
   "metadata": {
    "tags": [],
    "cell_id": "00030-77b2da29-c71a-4afc-b0e3-f1149cca6d12",
    "deepnote_to_be_reexecuted": false,
    "source_hash": "84b77bbd",
    "execution_start": 1622208299795,
    "execution_millis": 0,
    "deepnote_cell_type": "code"
   },
   "source": "#for i, row in ontology_dataset.iterrows():\n#    if search(' ', str(row['term1'])):\n#        ontology_dataset = ontology_dataset.drop(labels=i, axis=0)  \n#    #print(type(str(row['term1'])))",
   "outputs": [],
   "execution_count": null
  },
  {
   "cell_type": "code",
   "metadata": {
    "tags": [],
    "cell_id": "00031-60c2b7aa-2647-4200-a594-cad0e516c0ee",
    "deepnote_to_be_reexecuted": false,
    "source_hash": "9ed5a696",
    "execution_start": 1622208299810,
    "execution_millis": 81,
    "deepnote_cell_type": "code"
   },
   "source": "for i, row in ontology_dataset.iterrows():\n    conceptWord = (str(row['term1'])).lower()\n    queryWord = \"_\".join(conceptWord.split(\" \"))\n    row['term1'] = queryWord\n    #print(type(str(row['term1'])))\n\n\n\n",
   "outputs": [],
   "execution_count": null
  },
  {
   "cell_type": "code",
   "metadata": {
    "tags": [],
    "cell_id": "00031-5f621659-05fa-405a-bca3-22fedabf7508",
    "deepnote_to_be_reexecuted": false,
    "source_hash": "711708ce",
    "execution_start": 1622208299898,
    "execution_millis": 8,
    "deepnote_cell_type": "code"
   },
   "source": "len(ontology_dataset)",
   "outputs": [
    {
     "output_type": "execute_result",
     "execution_count": 22,
     "data": {
      "text/plain": "516"
     },
     "metadata": {}
    }
   ],
   "execution_count": null
  },
  {
   "cell_type": "code",
   "metadata": {
    "tags": [],
    "cell_id": "00033-bde4ff5a-e67c-4491-838f-49d1f3a89e95",
    "deepnote_to_be_reexecuted": false,
    "source_hash": "30321fe5",
    "execution_start": 1622208299909,
    "execution_millis": 21,
    "deepnote_cell_type": "code"
   },
   "source": "print(ontology_dataset)",
   "outputs": [
    {
     "name": "stdout",
     "text": "                   term1                                       term2 relation\n0       casa_de_hóspedes                                  Alojamento     hypo\n1                 hostal                                  Alojamento     hypo\n2               albergue                                  Alojamento     hypo\n3                pousada                                  Alojamento     hypo\n4             acomodação                                  Alojamento     hypo\n..                   ...                                         ...      ...\n511  categoria_de_hotéis                               Luxo superior    hyper\n512      quarto_familiar  Suite Familiar Júnior com Vista para o Mar    hyper\n513      quarto_familiar                             Quarto Familiar    hyper\n514      quarto_familiar         Suite Familiar com Vista para o Mar    hyper\n515      quarto_familiar                  Quarto Familiar Com Sacada    hyper\n\n[516 rows x 3 columns]\n",
     "output_type": "stream"
    }
   ],
   "execution_count": null
  },
  {
   "cell_type": "code",
   "metadata": {
    "tags": [],
    "cell_id": "00034-6f6dfebf-a1fc-47fb-aee1-78833893ded2",
    "deepnote_to_be_reexecuted": false,
    "source_hash": "d944fd63",
    "execution_start": 1622208299962,
    "execution_millis": 304,
    "deepnote_cell_type": "code"
   },
   "source": "wang = pd.read_csv('/work/undergrad-thesis-project/tripAdvisor/datasets/wang2vec_results.csv')\nprint(len(wang))",
   "outputs": [
    {
     "output_type": "error",
     "ename": "FileNotFoundError",
     "evalue": "[Errno 2] No such file or directory: '/work/undergrad-thesis-project/tripAdvisor/datasets/wang2vec_results.csv'",
     "traceback": [
      "\u001b[0;31m---------------------------------------------------------------------------\u001b[0m",
      "\u001b[0;31mFileNotFoundError\u001b[0m                         Traceback (most recent call last)",
      "\u001b[0;32m<ipython-input-24-063e0f20a41c>\u001b[0m in \u001b[0;36m<module>\u001b[0;34m\u001b[0m\n\u001b[0;32m----> 1\u001b[0;31m \u001b[0mwang\u001b[0m \u001b[0;34m=\u001b[0m \u001b[0mpd\u001b[0m\u001b[0;34m.\u001b[0m\u001b[0mread_csv\u001b[0m\u001b[0;34m(\u001b[0m\u001b[0;34m'/work/undergrad-thesis-project/tripAdvisor/datasets/wang2vec_results.csv'\u001b[0m\u001b[0;34m)\u001b[0m\u001b[0;34m\u001b[0m\u001b[0;34m\u001b[0m\u001b[0m\n\u001b[0m\u001b[1;32m      2\u001b[0m \u001b[0mprint\u001b[0m\u001b[0;34m(\u001b[0m\u001b[0mlen\u001b[0m\u001b[0;34m(\u001b[0m\u001b[0mwang\u001b[0m\u001b[0;34m)\u001b[0m\u001b[0;34m)\u001b[0m\u001b[0;34m\u001b[0m\u001b[0;34m\u001b[0m\u001b[0m\n",
      "\u001b[0;32m/shared-libs/python3.7/py/lib/python3.7/site-packages/pandas/io/parsers.py\u001b[0m in \u001b[0;36mread_csv\u001b[0;34m(filepath_or_buffer, sep, delimiter, header, names, index_col, usecols, squeeze, prefix, mangle_dupe_cols, dtype, engine, converters, true_values, false_values, skipinitialspace, skiprows, skipfooter, nrows, na_values, keep_default_na, na_filter, verbose, skip_blank_lines, parse_dates, infer_datetime_format, keep_date_col, date_parser, dayfirst, cache_dates, iterator, chunksize, compression, thousands, decimal, lineterminator, quotechar, quoting, doublequote, escapechar, comment, encoding, dialect, error_bad_lines, warn_bad_lines, delim_whitespace, low_memory, memory_map, float_precision, storage_options)\u001b[0m\n\u001b[1;32m    608\u001b[0m     \u001b[0mkwds\u001b[0m\u001b[0;34m.\u001b[0m\u001b[0mupdate\u001b[0m\u001b[0;34m(\u001b[0m\u001b[0mkwds_defaults\u001b[0m\u001b[0;34m)\u001b[0m\u001b[0;34m\u001b[0m\u001b[0;34m\u001b[0m\u001b[0m\n\u001b[1;32m    609\u001b[0m \u001b[0;34m\u001b[0m\u001b[0m\n\u001b[0;32m--> 610\u001b[0;31m     \u001b[0;32mreturn\u001b[0m \u001b[0m_read\u001b[0m\u001b[0;34m(\u001b[0m\u001b[0mfilepath_or_buffer\u001b[0m\u001b[0;34m,\u001b[0m \u001b[0mkwds\u001b[0m\u001b[0;34m)\u001b[0m\u001b[0;34m\u001b[0m\u001b[0;34m\u001b[0m\u001b[0m\n\u001b[0m\u001b[1;32m    611\u001b[0m \u001b[0;34m\u001b[0m\u001b[0m\n\u001b[1;32m    612\u001b[0m \u001b[0;34m\u001b[0m\u001b[0m\n",
      "\u001b[0;32m/shared-libs/python3.7/py/lib/python3.7/site-packages/pandas/io/parsers.py\u001b[0m in \u001b[0;36m_read\u001b[0;34m(filepath_or_buffer, kwds)\u001b[0m\n\u001b[1;32m    460\u001b[0m \u001b[0;34m\u001b[0m\u001b[0m\n\u001b[1;32m    461\u001b[0m     \u001b[0;31m# Create the parser.\u001b[0m\u001b[0;34m\u001b[0m\u001b[0;34m\u001b[0m\u001b[0;34m\u001b[0m\u001b[0m\n\u001b[0;32m--> 462\u001b[0;31m     \u001b[0mparser\u001b[0m \u001b[0;34m=\u001b[0m \u001b[0mTextFileReader\u001b[0m\u001b[0;34m(\u001b[0m\u001b[0mfilepath_or_buffer\u001b[0m\u001b[0;34m,\u001b[0m \u001b[0;34m**\u001b[0m\u001b[0mkwds\u001b[0m\u001b[0;34m)\u001b[0m\u001b[0;34m\u001b[0m\u001b[0;34m\u001b[0m\u001b[0m\n\u001b[0m\u001b[1;32m    463\u001b[0m \u001b[0;34m\u001b[0m\u001b[0m\n\u001b[1;32m    464\u001b[0m     \u001b[0;32mif\u001b[0m \u001b[0mchunksize\u001b[0m \u001b[0;32mor\u001b[0m \u001b[0miterator\u001b[0m\u001b[0;34m:\u001b[0m\u001b[0;34m\u001b[0m\u001b[0;34m\u001b[0m\u001b[0m\n",
      "\u001b[0;32m/shared-libs/python3.7/py/lib/python3.7/site-packages/pandas/io/parsers.py\u001b[0m in \u001b[0;36m__init__\u001b[0;34m(self, f, engine, **kwds)\u001b[0m\n\u001b[1;32m    817\u001b[0m             \u001b[0mself\u001b[0m\u001b[0;34m.\u001b[0m\u001b[0moptions\u001b[0m\u001b[0;34m[\u001b[0m\u001b[0;34m\"has_index_names\"\u001b[0m\u001b[0;34m]\u001b[0m \u001b[0;34m=\u001b[0m \u001b[0mkwds\u001b[0m\u001b[0;34m[\u001b[0m\u001b[0;34m\"has_index_names\"\u001b[0m\u001b[0;34m]\u001b[0m\u001b[0;34m\u001b[0m\u001b[0;34m\u001b[0m\u001b[0m\n\u001b[1;32m    818\u001b[0m \u001b[0;34m\u001b[0m\u001b[0m\n\u001b[0;32m--> 819\u001b[0;31m         \u001b[0mself\u001b[0m\u001b[0;34m.\u001b[0m\u001b[0m_engine\u001b[0m \u001b[0;34m=\u001b[0m \u001b[0mself\u001b[0m\u001b[0;34m.\u001b[0m\u001b[0m_make_engine\u001b[0m\u001b[0;34m(\u001b[0m\u001b[0mself\u001b[0m\u001b[0;34m.\u001b[0m\u001b[0mengine\u001b[0m\u001b[0;34m)\u001b[0m\u001b[0;34m\u001b[0m\u001b[0;34m\u001b[0m\u001b[0m\n\u001b[0m\u001b[1;32m    820\u001b[0m \u001b[0;34m\u001b[0m\u001b[0m\n\u001b[1;32m    821\u001b[0m     \u001b[0;32mdef\u001b[0m \u001b[0mclose\u001b[0m\u001b[0;34m(\u001b[0m\u001b[0mself\u001b[0m\u001b[0;34m)\u001b[0m\u001b[0;34m:\u001b[0m\u001b[0;34m\u001b[0m\u001b[0;34m\u001b[0m\u001b[0m\n",
      "\u001b[0;32m/shared-libs/python3.7/py/lib/python3.7/site-packages/pandas/io/parsers.py\u001b[0m in \u001b[0;36m_make_engine\u001b[0;34m(self, engine)\u001b[0m\n\u001b[1;32m   1048\u001b[0m             )\n\u001b[1;32m   1049\u001b[0m         \u001b[0;31m# error: Too many arguments for \"ParserBase\"\u001b[0m\u001b[0;34m\u001b[0m\u001b[0;34m\u001b[0m\u001b[0;34m\u001b[0m\u001b[0m\n\u001b[0;32m-> 1050\u001b[0;31m         \u001b[0;32mreturn\u001b[0m \u001b[0mmapping\u001b[0m\u001b[0;34m[\u001b[0m\u001b[0mengine\u001b[0m\u001b[0;34m]\u001b[0m\u001b[0;34m(\u001b[0m\u001b[0mself\u001b[0m\u001b[0;34m.\u001b[0m\u001b[0mf\u001b[0m\u001b[0;34m,\u001b[0m \u001b[0;34m**\u001b[0m\u001b[0mself\u001b[0m\u001b[0;34m.\u001b[0m\u001b[0moptions\u001b[0m\u001b[0;34m)\u001b[0m  \u001b[0;31m# type: ignore[call-arg]\u001b[0m\u001b[0;34m\u001b[0m\u001b[0;34m\u001b[0m\u001b[0m\n\u001b[0m\u001b[1;32m   1051\u001b[0m \u001b[0;34m\u001b[0m\u001b[0m\n\u001b[1;32m   1052\u001b[0m     \u001b[0;32mdef\u001b[0m \u001b[0m_failover_to_python\u001b[0m\u001b[0;34m(\u001b[0m\u001b[0mself\u001b[0m\u001b[0;34m)\u001b[0m\u001b[0;34m:\u001b[0m\u001b[0;34m\u001b[0m\u001b[0;34m\u001b[0m\u001b[0m\n",
      "\u001b[0;32m/shared-libs/python3.7/py/lib/python3.7/site-packages/pandas/io/parsers.py\u001b[0m in \u001b[0;36m__init__\u001b[0;34m(self, src, **kwds)\u001b[0m\n\u001b[1;32m   1865\u001b[0m \u001b[0;34m\u001b[0m\u001b[0m\n\u001b[1;32m   1866\u001b[0m         \u001b[0;31m# open handles\u001b[0m\u001b[0;34m\u001b[0m\u001b[0;34m\u001b[0m\u001b[0;34m\u001b[0m\u001b[0m\n\u001b[0;32m-> 1867\u001b[0;31m         \u001b[0mself\u001b[0m\u001b[0;34m.\u001b[0m\u001b[0m_open_handles\u001b[0m\u001b[0;34m(\u001b[0m\u001b[0msrc\u001b[0m\u001b[0;34m,\u001b[0m \u001b[0mkwds\u001b[0m\u001b[0;34m)\u001b[0m\u001b[0;34m\u001b[0m\u001b[0;34m\u001b[0m\u001b[0m\n\u001b[0m\u001b[1;32m   1868\u001b[0m         \u001b[0;32massert\u001b[0m \u001b[0mself\u001b[0m\u001b[0;34m.\u001b[0m\u001b[0mhandles\u001b[0m \u001b[0;32mis\u001b[0m \u001b[0;32mnot\u001b[0m \u001b[0;32mNone\u001b[0m\u001b[0;34m\u001b[0m\u001b[0;34m\u001b[0m\u001b[0m\n\u001b[1;32m   1869\u001b[0m         \u001b[0;32mfor\u001b[0m \u001b[0mkey\u001b[0m \u001b[0;32min\u001b[0m \u001b[0;34m(\u001b[0m\u001b[0;34m\"storage_options\"\u001b[0m\u001b[0;34m,\u001b[0m \u001b[0;34m\"encoding\"\u001b[0m\u001b[0;34m,\u001b[0m \u001b[0;34m\"memory_map\"\u001b[0m\u001b[0;34m,\u001b[0m \u001b[0;34m\"compression\"\u001b[0m\u001b[0;34m)\u001b[0m\u001b[0;34m:\u001b[0m\u001b[0;34m\u001b[0m\u001b[0;34m\u001b[0m\u001b[0m\n",
      "\u001b[0;32m/shared-libs/python3.7/py/lib/python3.7/site-packages/pandas/io/parsers.py\u001b[0m in \u001b[0;36m_open_handles\u001b[0;34m(self, src, kwds)\u001b[0m\n\u001b[1;32m   1366\u001b[0m             \u001b[0mcompression\u001b[0m\u001b[0;34m=\u001b[0m\u001b[0mkwds\u001b[0m\u001b[0;34m.\u001b[0m\u001b[0mget\u001b[0m\u001b[0;34m(\u001b[0m\u001b[0;34m\"compression\"\u001b[0m\u001b[0;34m,\u001b[0m \u001b[0;32mNone\u001b[0m\u001b[0;34m)\u001b[0m\u001b[0;34m,\u001b[0m\u001b[0;34m\u001b[0m\u001b[0;34m\u001b[0m\u001b[0m\n\u001b[1;32m   1367\u001b[0m             \u001b[0mmemory_map\u001b[0m\u001b[0;34m=\u001b[0m\u001b[0mkwds\u001b[0m\u001b[0;34m.\u001b[0m\u001b[0mget\u001b[0m\u001b[0;34m(\u001b[0m\u001b[0;34m\"memory_map\"\u001b[0m\u001b[0;34m,\u001b[0m \u001b[0;32mFalse\u001b[0m\u001b[0;34m)\u001b[0m\u001b[0;34m,\u001b[0m\u001b[0;34m\u001b[0m\u001b[0;34m\u001b[0m\u001b[0m\n\u001b[0;32m-> 1368\u001b[0;31m             \u001b[0mstorage_options\u001b[0m\u001b[0;34m=\u001b[0m\u001b[0mkwds\u001b[0m\u001b[0;34m.\u001b[0m\u001b[0mget\u001b[0m\u001b[0;34m(\u001b[0m\u001b[0;34m\"storage_options\"\u001b[0m\u001b[0;34m,\u001b[0m \u001b[0;32mNone\u001b[0m\u001b[0;34m)\u001b[0m\u001b[0;34m,\u001b[0m\u001b[0;34m\u001b[0m\u001b[0;34m\u001b[0m\u001b[0m\n\u001b[0m\u001b[1;32m   1369\u001b[0m         )\n\u001b[1;32m   1370\u001b[0m \u001b[0;34m\u001b[0m\u001b[0m\n",
      "\u001b[0;32m/shared-libs/python3.7/py/lib/python3.7/site-packages/pandas/io/common.py\u001b[0m in \u001b[0;36mget_handle\u001b[0;34m(path_or_buf, mode, encoding, compression, memory_map, is_text, errors, storage_options)\u001b[0m\n\u001b[1;32m    645\u001b[0m                 \u001b[0mencoding\u001b[0m\u001b[0;34m=\u001b[0m\u001b[0mioargs\u001b[0m\u001b[0;34m.\u001b[0m\u001b[0mencoding\u001b[0m\u001b[0;34m,\u001b[0m\u001b[0;34m\u001b[0m\u001b[0;34m\u001b[0m\u001b[0m\n\u001b[1;32m    646\u001b[0m                 \u001b[0merrors\u001b[0m\u001b[0;34m=\u001b[0m\u001b[0merrors\u001b[0m\u001b[0;34m,\u001b[0m\u001b[0;34m\u001b[0m\u001b[0;34m\u001b[0m\u001b[0m\n\u001b[0;32m--> 647\u001b[0;31m                 \u001b[0mnewline\u001b[0m\u001b[0;34m=\u001b[0m\u001b[0;34m\"\"\u001b[0m\u001b[0;34m,\u001b[0m\u001b[0;34m\u001b[0m\u001b[0;34m\u001b[0m\u001b[0m\n\u001b[0m\u001b[1;32m    648\u001b[0m             )\n\u001b[1;32m    649\u001b[0m         \u001b[0;32melse\u001b[0m\u001b[0;34m:\u001b[0m\u001b[0;34m\u001b[0m\u001b[0;34m\u001b[0m\u001b[0m\n",
      "\u001b[0;31mFileNotFoundError\u001b[0m: [Errno 2] No such file or directory: '/work/undergrad-thesis-project/tripAdvisor/datasets/wang2vec_results.csv'"
     ]
    }
   ],
   "execution_count": null
  },
  {
   "cell_type": "markdown",
   "source": "### 3º passo e 4º passo",
   "metadata": {
    "tags": [],
    "cell_id": "00030-47e503ec-bc42-4ab8-989b-275c96c0399e",
    "deepnote_cell_type": "text-cell-h3"
   }
  },
  {
   "cell_type": "markdown",
   "source": "Word2vec Results",
   "metadata": {
    "tags": [],
    "cell_id": "00035-d74e0548-922c-4ff8-88a1-5735c413fcec",
    "deepnote_cell_type": "text-cell-p"
   }
  },
  {
   "cell_type": "code",
   "metadata": {
    "tags": [],
    "cell_id": "00031-53100ed7-584d-4b67-9a25-a5df456ccec4",
    "deepnote_to_be_reexecuted": true,
    "source_hash": "f5c0139e",
    "execution_start": 1621445756669,
    "execution_millis": 1,
    "deepnote_cell_type": "code"
   },
   "source": "# Dataset que irá receber os novos exemplos a partir da comparação\nlabels =['term1', 'term2', 'relation']\nword2vec_results=  pd.DataFrame(columns = [labels])",
   "execution_count": null,
   "outputs": []
  },
  {
   "cell_type": "code",
   "metadata": {
    "tags": [],
    "cell_id": "00032-1e6eab00-02d8-4aa6-999c-9f05e868bda6",
    "deepnote_to_be_reexecuted": true,
    "source_hash": "e64f3b4e",
    "execution_start": 1621445757326,
    "execution_millis": 10,
    "deepnote_cell_type": "code"
   },
   "source": "word2vec_results.head()",
   "execution_count": null,
   "outputs": [
    {
     "output_type": "execute_result",
     "execution_count": 52,
     "data": {
      "application/vnd.deepnote.dataframe.v2+json": {
       "row_count": 0,
       "column_count": 3,
       "columns": [
        {
         "name": [
          "term1"
         ],
         "dtype": "object",
         "stats": {
          "unique_count": 0,
          "nan_count": 0,
          "categories": []
         }
        },
        {
         "name": [
          "term2"
         ],
         "dtype": "object",
         "stats": {
          "unique_count": 0,
          "nan_count": 0,
          "categories": []
         }
        },
        {
         "name": [
          "relation"
         ],
         "dtype": "object",
         "stats": {
          "unique_count": 0,
          "nan_count": 0,
          "categories": []
         }
        },
        {
         "name": "_deepnote_index_column",
         "dtype": "object"
        }
       ],
       "rows_top": [],
       "rows_bottom": null
      },
      "text/plain": "Empty DataFrame\nColumns: [(term1,), (term2,), (relation,)]\nIndex: []",
      "text/html": "<div>\n<style scoped>\n    .dataframe tbody tr th:only-of-type {\n        vertical-align: middle;\n    }\n\n    .dataframe tbody tr th {\n        vertical-align: top;\n    }\n\n    .dataframe thead tr th {\n        text-align: left;\n    }\n</style>\n<table border=\"1\" class=\"dataframe\">\n  <thead>\n    <tr>\n      <th></th>\n      <th>term1</th>\n      <th>term2</th>\n      <th>relation</th>\n    </tr>\n  </thead>\n  <tbody>\n  </tbody>\n</table>\n</div>"
     },
     "metadata": {}
    }
   ]
  },
  {
   "cell_type": "code",
   "metadata": {
    "tags": [],
    "cell_id": "00030-f0d6e741-a855-46ec-a481-d77152aebbbd",
    "deepnote_to_be_reexecuted": true,
    "source_hash": "79cd76d6",
    "execution_start": 1621445766903,
    "execution_millis": 214564,
    "output_cleared": false,
    "deepnote_cell_type": "code"
   },
   "source": "# Comparação por similaridade com Word2Vec\n\ntry :\n    \n    for candidate in nouns:\n        for i, row in ontology_dataset.iterrows():\n            if (candidate in w2v_model_cbow.wv.key_to_index) and (str(row['term1']) in w2v_model_cbow.wv.key_to_index):\n                similarity = w2v_model_cbow.wv.similarity(candidate,str(row['term1']))\n                if similarity >= 0.89:\n                    series_obj = pd.Series( [candidate, str(row['term1']),'synonym'], index=word2vec_results.columns )\n                    # Add a series as a row to the dataframe  \n                    word2vec_results = word2vec_results.append( series_obj, ignore_index=True)\n            \n    \n    #print(w2v_model_cbow.wv.similarity(w1=\"hotel\",w2=\"acomodação\"))\n\nexcept Exception as e:\n    print(e)\n\n\n\n\n\n\n# -----------------------------------------\n\n# Comparação por similaridade com Wang2Vec\n\n#wang_model.similarity(w1=\"hotel\",w2=\"motel\")",
   "execution_count": null,
   "outputs": []
  },
  {
   "cell_type": "code",
   "metadata": {
    "tags": [],
    "cell_id": "00036-f44b7298-60cc-41e4-9188-2015d610afaf",
    "deepnote_to_be_reexecuted": true,
    "source_hash": "f91d7f6d",
    "execution_start": 1621445745254,
    "execution_millis": 9,
    "deepnote_cell_type": "code"
   },
   "source": "print(word2vec_results)",
   "execution_count": null,
   "outputs": [
    {
     "name": "stdout",
     "text": "        term1                    term2 relation\n0       hotel               Alojamento  synonym\n1       hotel               Alojamento  synonym\n2       hotel                    Hotel  synonym\n3       hotel            Hotel cápsula  synonym\n4       hotel     Hotel casa da árvore  synonym\n...       ...                      ...      ...\n2073  macamas    Facilidades do Quarto  synonym\n2074  macamas  Acesso para Deficientes  synonym\n2075  macamas       Instalação externa  synonym\n2076  macamas                Motorista  synonym\n2077  macamas       Instalação Externa  synonym\n\n[2078 rows x 3 columns]\n",
     "output_type": "stream"
    }
   ]
  },
  {
   "cell_type": "code",
   "metadata": {
    "tags": [],
    "cell_id": "00035-63e0c8ff-09f5-4381-923e-d5db34ab4ab3",
    "deepnote_to_be_reexecuted": true,
    "source_hash": "4e04c4a8",
    "execution_start": 1621446851136,
    "execution_millis": 1,
    "deepnote_cell_type": "code"
   },
   "source": "word2vec_results.to_csv (r'./datasets/word2vec_results.csv', index = False, header=True)",
   "execution_count": null,
   "outputs": []
  },
  {
   "cell_type": "markdown",
   "source": "Wang2vec Results",
   "metadata": {
    "tags": [],
    "cell_id": "00041-a20ad858-2e03-4afd-947d-2adb094c0c3d",
    "deepnote_cell_type": "text-cell-p"
   }
  },
  {
   "cell_type": "code",
   "metadata": {
    "tags": [],
    "cell_id": "00042-dfda0d9d-4855-446d-a803-2c079a4dbe3a",
    "deepnote_to_be_reexecuted": true,
    "source_hash": "639d1ffd",
    "execution_start": 1621513712734,
    "execution_millis": 0,
    "deepnote_cell_type": "code"
   },
   "source": "# Dataset que irá receber os novos exemplos a partir da comparação\nlabels =['term1', 'term2', 'relation']\nwang2vec_results=  pd.DataFrame(columns = [labels])",
   "execution_count": null,
   "outputs": []
  },
  {
   "cell_type": "code",
   "metadata": {
    "tags": [],
    "cell_id": "00043-5a468ea8-4837-45ac-b976-9b74d84a9e11",
    "deepnote_to_be_reexecuted": true,
    "source_hash": "547354f4",
    "execution_start": 1621513713485,
    "execution_millis": 8,
    "deepnote_cell_type": "code"
   },
   "source": "wang2vec_results.head()",
   "execution_count": null,
   "outputs": [
    {
     "output_type": "execute_result",
     "execution_count": 44,
     "data": {
      "application/vnd.deepnote.dataframe.v2+json": {
       "row_count": 0,
       "column_count": 3,
       "columns": [
        {
         "name": [
          "term1"
         ],
         "dtype": "object",
         "stats": {
          "unique_count": 0,
          "nan_count": 0,
          "categories": []
         }
        },
        {
         "name": [
          "term2"
         ],
         "dtype": "object",
         "stats": {
          "unique_count": 0,
          "nan_count": 0,
          "categories": []
         }
        },
        {
         "name": [
          "relation"
         ],
         "dtype": "object",
         "stats": {
          "unique_count": 0,
          "nan_count": 0,
          "categories": []
         }
        },
        {
         "name": "_deepnote_index_column",
         "dtype": "object"
        }
       ],
       "rows_top": [],
       "rows_bottom": null
      },
      "text/plain": "Empty DataFrame\nColumns: [(term1,), (term2,), (relation,)]\nIndex: []",
      "text/html": "<div>\n<style scoped>\n    .dataframe tbody tr th:only-of-type {\n        vertical-align: middle;\n    }\n\n    .dataframe tbody tr th {\n        vertical-align: top;\n    }\n\n    .dataframe thead tr th {\n        text-align: left;\n    }\n</style>\n<table border=\"1\" class=\"dataframe\">\n  <thead>\n    <tr>\n      <th></th>\n      <th>term1</th>\n      <th>term2</th>\n      <th>relation</th>\n    </tr>\n  </thead>\n  <tbody>\n  </tbody>\n</table>\n</div>"
     },
     "metadata": {}
    }
   ]
  },
  {
   "cell_type": "code",
   "metadata": {
    "tags": [],
    "cell_id": "00045-2dc078d3-043b-45bd-9b7f-bf29b48677cb",
    "deepnote_to_be_reexecuted": true,
    "source_hash": "9b74d18f",
    "execution_start": 1621513714418,
    "execution_millis": 14,
    "deepnote_cell_type": "code"
   },
   "source": "len(wang2vec_results)",
   "execution_count": null,
   "outputs": [
    {
     "output_type": "execute_result",
     "execution_count": 45,
     "data": {
      "text/plain": "0"
     },
     "metadata": {}
    }
   ]
  },
  {
   "cell_type": "code",
   "metadata": {
    "tags": [],
    "cell_id": "00040-b7fabcf8-c644-4eea-9b74-875517b6be8e",
    "deepnote_to_be_reexecuted": true,
    "source_hash": "8bc29dea",
    "execution_start": 1621513720755,
    "execution_millis": 1009713,
    "deepnote_cell_type": "code"
   },
   "source": "# -----------------------------------------\n\n# Comparação por similaridade com Wang2Vec\n\n#wang_model.similarity(w1=\"hotel\",w2=\"motel\")\n\n\n    \nfor candidate in nouns:\n    for i, row in ontology_dataset.iterrows():\n        if (candidate in wang_model.key_to_index) and (str(row['term1']) in wang_model.key_to_index):\n            similarity = wang_model.similarity(candidate,str(row['term1']))\n            if similarity > 0.99:\n                #print(similarity)\n                series_obj = pd.Series( [candidate, str(row['term2']),str(row['relation'])], index=wang2vec_results.columns )\n                # Add a series as a row to the dataframe  \n                wang2vec_results = wang2vec_results.append( series_obj, ignore_index=True)\n        \n\n#print(w2v_model_cbow.wv.similarity(w1=\"hotel\",w2=\"acomodação\"))\n\n",
   "execution_count": null,
   "outputs": []
  },
  {
   "cell_type": "code",
   "metadata": {
    "tags": [],
    "cell_id": "00045-2f9ed656-af7f-4729-bb07-0dad32327f3d",
    "deepnote_to_be_reexecuted": true,
    "source_hash": "661e6614",
    "execution_start": 1621512770764,
    "execution_millis": 0,
    "deepnote_cell_type": "code"
   },
   "source": "#wang2vec_results = wang2vec_results.drop_duplicates()",
   "execution_count": null,
   "outputs": []
  },
  {
   "cell_type": "code",
   "metadata": {
    "tags": [],
    "cell_id": "00047-237c8d45-7104-4f28-b706-ea8e0bedf527",
    "deepnote_to_be_reexecuted": true,
    "source_hash": "ceb0aa96",
    "execution_start": 1621514730512,
    "execution_millis": 0,
    "deepnote_cell_type": "code"
   },
   "source": "print(len(wang2vec_results)) ",
   "execution_count": null,
   "outputs": [
    {
     "name": "stdout",
     "text": "170680\n",
     "output_type": "stream"
    }
   ]
  },
  {
   "cell_type": "code",
   "metadata": {
    "tags": [],
    "cell_id": "00046-fec0c558-8ed2-4ef8-ba48-576d71948e07",
    "deepnote_to_be_reexecuted": true,
    "source_hash": "4e526a61",
    "execution_start": 1621514730513,
    "execution_millis": 350,
    "deepnote_cell_type": "code"
   },
   "source": "wang2vec_results.to_csv (r'./datasets/wang2vec_results.csv', index = False, header=True)",
   "execution_count": null,
   "outputs": []
  },
  {
   "cell_type": "markdown",
   "source": "### Pre-pre-processamento com Repositório de Word Embeddings do NILC",
   "metadata": {
    "tags": [],
    "cell_id": "00048-883b55f4-67b5-4fe5-87fe-e21584115ca6",
    "deepnote_cell_type": "text-cell-h3"
   }
  },
  {
   "cell_type": "markdown",
   "source": "Minerar os dados retirados do WE específico de ontologia de hotéis com o WE de 300 dimensões do NILC, para conseguir dados mais acurados e verídicos.",
   "metadata": {
    "tags": [],
    "cell_id": "00051-4991ff12-12c0-48ea-a9b7-c665864e25f6",
    "deepnote_cell_type": "markdown"
   }
  },
  {
   "cell_type": "code",
   "metadata": {
    "tags": [],
    "cell_id": "00051-dce08fc6-494a-4e95-9ec4-a31339b9d678",
    "deepnote_to_be_reexecuted": true,
    "source_hash": "3fe1a02a",
    "execution_start": 1621537126389,
    "execution_millis": 270715,
    "deepnote_cell_type": "code"
   },
   "source": "# Utilizando o wang2vec NILC com 300 dimensões\n# obs: n deu pra usar o de 600 dimensões pois o deepnote não tem memória o suficiente :/\n\nfrom gensim.models import KeyedVectors\nmodel_nilc = KeyedVectors.load_word2vec_format('/datasets/moni-drive/cbow_s300.txt')",
   "execution_count": null,
   "outputs": []
  },
  {
   "cell_type": "code",
   "metadata": {
    "tags": [],
    "cell_id": "00053-568fcce6-c59f-444d-aaef-ba38e3930d49",
    "deepnote_to_be_reexecuted": true,
    "source_hash": "6146cf09",
    "execution_start": 1621518290660,
    "execution_millis": 16,
    "deepnote_cell_type": "code"
   },
   "source": "model_nilc.similarity('are', 'hotel')",
   "execution_count": null,
   "outputs": [
    {
     "output_type": "execute_result",
     "execution_count": 69,
     "data": {
      "text/plain": "0.14584638"
     },
     "metadata": {}
    }
   ]
  },
  {
   "cell_type": "code",
   "metadata": {
    "tags": [],
    "cell_id": "00053-45e6e9a6-3902-48d2-9b9a-cc25a7f00f1e",
    "deepnote_to_be_reexecuted": true,
    "source_hash": "567ff98f",
    "execution_start": 1621518901850,
    "execution_millis": 1,
    "deepnote_cell_type": "code"
   },
   "source": "nilc_results=  pd.DataFrame(columns = [labels])",
   "execution_count": null,
   "outputs": []
  },
  {
   "cell_type": "code",
   "metadata": {
    "tags": [],
    "cell_id": "00055-2b8d7064-a041-4ed5-8144-bc2ecaee383c",
    "deepnote_to_be_reexecuted": true,
    "source_hash": "5d69564e",
    "execution_start": 1621518859793,
    "execution_millis": 15,
    "deepnote_cell_type": "code"
   },
   "source": "syn_wang = pd.read_csv('/work/undergrad-thesis-project/tripAdvisor/datasets/synonym_wang2vec_results.csv')\nprint(len(syn_wang))",
   "execution_count": null,
   "outputs": [
    {
     "name": "stdout",
     "text": "61010\n",
     "output_type": "stream"
    }
   ]
  },
  {
   "cell_type": "code",
   "metadata": {
    "tags": [],
    "cell_id": "00055-3d5e961d-224b-4f0d-a01a-47b77626aa39",
    "deepnote_to_be_reexecuted": true,
    "source_hash": "229823c2",
    "execution_start": 1621518558658,
    "execution_millis": 32642,
    "deepnote_cell_type": "code"
   },
   "source": "for i, row in wang2vec_results.iterrows():\n    conceptWord = (str(row['term2'])).lower()\n    queryWord = \"_\".join(conceptWord.split(\" \"))\n    row['term2'] = queryWord\n    #print(type(str(row['term1'])))",
   "execution_count": null,
   "outputs": []
  },
  {
   "cell_type": "code",
   "metadata": {
    "tags": [],
    "cell_id": "00054-342891c2-1781-470b-b67c-76ce2267da61",
    "deepnote_to_be_reexecuted": true,
    "source_hash": "b3eb3d3a",
    "execution_start": 1621518908426,
    "execution_millis": 15056,
    "deepnote_cell_type": "code"
   },
   "source": "for i, row in syn_wang.iterrows():\n    if ((str(row['term1'])) in model_nilc.key_to_index) and (str(row['term2']) in model_nilc.key_to_index):\n        similarity = model_nilc.similarity(str(row['term2']),str(row['term1']))\n        if similarity >=0.29 :\n            #print(similarity)\n            series_obj = pd.Series( [str(row['term1']), str(row['term2']),str(row['relation'])], index=nilc_results.columns )\n            #print(str(row['term2']))\n            # Add a series as a row to the dataframe  \n            nilc_results = nilc_results.append( series_obj, ignore_index=True)",
   "execution_count": null,
   "outputs": []
  },
  {
   "cell_type": "code",
   "metadata": {
    "tags": [],
    "cell_id": "00055-e1ae519b-1181-4362-a3b1-fff7008d3f0a",
    "deepnote_to_be_reexecuted": true,
    "source_hash": "8602eb6b",
    "execution_start": 1621518923486,
    "execution_millis": 15,
    "deepnote_cell_type": "code"
   },
   "source": "len(nilc_results)",
   "execution_count": null,
   "outputs": [
    {
     "output_type": "execute_result",
     "execution_count": 94,
     "data": {
      "text/plain": "2648"
     },
     "metadata": {}
    }
   ]
  },
  {
   "cell_type": "code",
   "metadata": {
    "tags": [],
    "cell_id": "00055-c430bfce-265c-4e9b-afcc-402a159d36fd",
    "deepnote_to_be_reexecuted": true,
    "source_hash": "4030dc2b",
    "execution_start": 1621518923494,
    "execution_millis": 10,
    "deepnote_cell_type": "code"
   },
   "source": "#nilc_results.to_csv (r'./datasets/nilc_results.csv', index = False, header=True)",
   "execution_count": null,
   "outputs": []
  },
  {
   "cell_type": "code",
   "metadata": {
    "tags": [],
    "cell_id": "00058-9a8ff6d7-4b43-4548-b540-a96649c00fff",
    "deepnote_to_be_reexecuted": true,
    "source_hash": "7bf4dfb6",
    "execution_start": 1621537013907,
    "execution_millis": 89,
    "deepnote_cell_type": "code"
   },
   "source": "#is_a_wang = pd.read_csv('/work/undergrad-thesis-project/tripAdvisor/datasets/is_a_wang2vec_results.csv')\n#print(len(is_a_wang))",
   "execution_count": null,
   "outputs": [
    {
     "name": "stdout",
     "text": "170680\n",
     "output_type": "stream"
    }
   ]
  },
  {
   "cell_type": "markdown",
   "source": "# Agrupando datasets",
   "metadata": {
    "tags": [],
    "cell_id": "00061-e21bb14d-d886-4022-9ccc-6b329cfdab63",
    "deepnote_cell_type": "text-cell-h1"
   }
  },
  {
   "cell_type": "code",
   "metadata": {
    "tags": [],
    "cell_id": "00062-90445e6d-d4cd-4594-b389-cd1924c0b6ec",
    "deepnote_to_be_reexecuted": true,
    "source_hash": "9b82ee11",
    "execution_start": 1622064610819,
    "execution_millis": 0,
    "deepnote_cell_type": "code"
   },
   "source": "import pandas as pd",
   "execution_count": null,
   "outputs": []
  },
  {
   "cell_type": "code",
   "metadata": {
    "tags": [],
    "cell_id": "00062-ccaaab6f-cf4b-45d4-a54d-c10f517171ff",
    "deepnote_to_be_reexecuted": true,
    "source_hash": "935a8663",
    "execution_start": 1622064611253,
    "execution_millis": 47,
    "deepnote_cell_type": "code"
   },
   "source": "ontology_is_a = pd.read_csv('/work/undergrad-thesis-project/ontology/datasets/is-a_ontology_dataset.csv')\nontology_obj_properties = pd.read_csv('/work/undergrad-thesis-project/ontology/datasets/obj_properties_ontology_dataset.csv')\n\ndbpedia = pd.read_csv('/work/undergrad-thesis-project/dbpedia-data/dbpedia_dataframes/dbpedia_dataset.csv')\n\nis_a_nilc = pd.read_csv('/work/undergrad-thesis-project/tripAdvisor/datasets/is_a_nilc_results.csv')\nsynonym_nilc = pd.read_csv('/work/undergrad-thesis-project/tripAdvisor/datasets/synonym_nilc_results.csv')\n\n\n",
   "execution_count": null,
   "outputs": []
  },
  {
   "cell_type": "code",
   "metadata": {
    "tags": [],
    "cell_id": "00063-c90be1b0-0780-4a79-a970-84daf9cd788d",
    "deepnote_to_be_reexecuted": true,
    "source_hash": "3c5460b1",
    "execution_start": 1622064687194,
    "execution_millis": 9,
    "deepnote_cell_type": "code"
   },
   "source": "finalDataset= pd.concat([ontology_is_a, ontology_obj_properties, dbpedia, is_a_nilc, synonym_nilc])\nlen(finalDataset)",
   "execution_count": null,
   "outputs": [
    {
     "output_type": "execute_result",
     "execution_count": 31,
     "data": {
      "text/plain": "6092"
     },
     "metadata": {}
    }
   ]
  },
  {
   "cell_type": "code",
   "metadata": {
    "tags": [],
    "cell_id": "00065-21c4cbe1-0362-49e2-96e0-402e496ebfc5",
    "deepnote_to_be_reexecuted": true,
    "source_hash": "259d7f4a",
    "execution_start": 1622064777057,
    "execution_millis": 10,
    "deepnote_cell_type": "code"
   },
   "source": "finalDataset = finalDataset.drop_duplicates()\nlen(finalDataset)",
   "execution_count": null,
   "outputs": [
    {
     "output_type": "execute_result",
     "execution_count": 33,
     "data": {
      "text/plain": "5706"
     },
     "metadata": {}
    }
   ]
  },
  {
   "cell_type": "code",
   "metadata": {
    "tags": [],
    "cell_id": "00065-bd39d7fa-0f69-48b1-8a85-329a2dea032f",
    "deepnote_to_be_reexecuted": true,
    "source_hash": "821f5399",
    "execution_start": 1622064781308,
    "execution_millis": 29,
    "deepnote_cell_type": "code"
   },
   "source": "finalDataset.to_csv (r'/work/undergrad-thesis-project/datasets/dataset.csv', index = False, header=True)",
   "execution_count": null,
   "outputs": []
  },
  {
   "cell_type": "markdown",
   "source": "# wordNET",
   "metadata": {
    "tags": [],
    "cell_id": "00061-a6f049e6-9523-4fc0-8eac-a195b71da5d8",
    "deepnote_cell_type": "text-cell-h1"
   }
  },
  {
   "cell_type": "code",
   "metadata": {
    "tags": [],
    "cell_id": "00061-71b0b8e3-14cf-4c99-86ac-a54435331d19",
    "deepnote_to_be_reexecuted": true,
    "source_hash": "8ee4e14f",
    "execution_start": 1622058885267,
    "execution_millis": 3,
    "deepnote_cell_type": "code"
   },
   "source": "import nltk\nfrom nltk.corpus import wordnet as wn",
   "execution_count": null,
   "outputs": []
  },
  {
   "cell_type": "code",
   "metadata": {
    "tags": [],
    "cell_id": "00062-813f6352-30a4-45ba-be26-02651a1ee192",
    "deepnote_to_be_reexecuted": true,
    "source_hash": "6237e005",
    "execution_start": 1622060314206,
    "execution_millis": 7,
    "deepnote_cell_type": "code"
   },
   "source": "dog = wn.synset('chai.n.01')\ndog.hypernyms()",
   "execution_count": null,
   "outputs": [
    {
     "output_type": "execute_result",
     "execution_count": 24,
     "data": {
      "text/plain": "[Synset('seat.n.03')]"
     },
     "metadata": {}
    }
   ]
  },
  {
   "cell_type": "code",
   "metadata": {
    "tags": [],
    "cell_id": "00062-b07a4db2-3fe3-481e-ae15-63a567ba9fbf",
    "deepnote_to_be_reexecuted": true,
    "source_hash": "2e5b92e",
    "execution_start": 1622059008867,
    "execution_millis": 582,
    "deepnote_cell_type": "code"
   },
   "source": "nltk.download('wordnet')\nnltk.download('omw')",
   "execution_count": null,
   "outputs": [
    {
     "name": "stderr",
     "text": "[nltk_data] Downloading package wordnet to /root/nltk_data...\n[nltk_data]   Package wordnet is already up-to-date!\n[nltk_data] Downloading package omw to /root/nltk_data...\n[nltk_data]   Unzipping corpora/omw.zip.\n",
     "output_type": "stream"
    },
    {
     "output_type": "execute_result",
     "execution_count": 12,
     "data": {
      "text/plain": "True"
     },
     "metadata": {}
    }
   ]
  },
  {
   "cell_type": "code",
   "metadata": {
    "tags": [],
    "cell_id": "00064-bc5debd2-9564-4b95-b2cf-19d08c8cc653",
    "deepnote_to_be_reexecuted": true,
    "source_hash": "f559607c",
    "execution_start": 1622060347981,
    "execution_millis": 26,
    "deepnote_cell_type": "code"
   },
   "source": "cao = wn.synset('meal.n.01')\ncao.hypernyms()[0].lemma_names('por')",
   "execution_count": null,
   "outputs": [
    {
     "output_type": "execute_result",
     "execution_count": 27,
     "data": {
      "text/plain": "['alimentação', 'alimento', 'comida', 'nutrição', 'nutrientes', 'pão']"
     },
     "metadata": {}
    }
   ]
  },
  {
   "cell_type": "markdown",
   "source": "### ",
   "metadata": {
    "tags": [],
    "cell_id": "00062-558ed37f-3d36-4068-8588-fa28a4f804b2",
    "deepnote_cell_type": "text-cell-h3"
   }
  },
  {
   "cell_type": "markdown",
   "source": "<a style='text-decoration:none;line-height:16px;display:flex;color:#5B5B62;padding:10px;justify-content:end;' href='https://deepnote.com?utm_source=created-in-deepnote-cell&projectId=a5cf3ea2-750b-4fc7-8242-5eefd4212f21' target=\"_blank\">\n<img alt='Created in deepnote.com' style='display:inline;max-height:16px;margin:0px;margin-right:7.5px;' src='data:image/svg+xml;base64,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' > </img>\nCreated in <span style='font-weight:600;margin-left:4px;'>Deepnote</span></a>",
   "metadata": {
    "tags": [],
    "created_in_deepnote_cell": true,
    "deepnote_cell_type": "markdown"
   }
  }
 ],
 "nbformat": 4,
 "nbformat_minor": 2,
 "metadata": {
  "orig_nbformat": 2,
  "deepnote": {
   "is_reactive": false
  },
  "deepnote_notebook_id": "b81e6dc3-b69e-4a9d-908e-cca1d91e4848",
  "deepnote_execution_queue": []
 }
}