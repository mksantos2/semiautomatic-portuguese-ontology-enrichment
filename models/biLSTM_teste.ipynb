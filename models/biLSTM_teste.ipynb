{
 "cells": [
  {
   "cell_type": "markdown",
   "source": "# Classificador BiLSTM",
   "metadata": {
    "tags": [],
    "cell_id": "00000-fd91b27d-5631-46ed-8587-5b726ff1b83d",
    "deepnote_cell_type": "text-cell-h1"
   }
  },
  {
   "cell_type": "code",
   "metadata": {
    "tags": [],
    "deepnote_to_be_reexecuted": false,
    "source_hash": "f7d68797",
    "execution_start": 1622909736190,
    "execution_millis": 10905,
    "cell_id": "00001-18c28e98-c717-4283-acef-8a9703c77569",
    "deepnote_cell_type": "code"
   },
   "source": "import pandas as pd\nimport re\nfrom sqlalchemy import create_engine\nimport nltk\nfrom nltk.corpus import stopwords\nfrom nltk.stem.wordnet import WordNetLemmatizer\nfrom nltk.tokenize import word_tokenize\nfrom sklearn.pipeline import Pipeline, FeatureUnion\nfrom sklearn.feature_extraction.text import CountVectorizer\nfrom sklearn.feature_extraction.text import TfidfTransformer\nfrom sklearn.multioutput import MultiOutputClassifier\nfrom sklearn.ensemble import RandomForestClassifier\nfrom sklearn.model_selection import train_test_split\nfrom sklearn.metrics import classification_report, accuracy_score, f1_score\nimport matplotlib.pyplot as plt\nimport numpy as np\nfrom sklearn.utils.class_weight import compute_class_weight\nfrom sklearn.model_selection import GridSearchCV",
   "execution_count": null,
   "outputs": []
  },
  {
   "cell_type": "code",
   "metadata": {
    "tags": [],
    "deepnote_to_be_reexecuted": false,
    "source_hash": "952463f8",
    "execution_start": 1622909747114,
    "execution_millis": 3841,
    "cell_id": "00002-19e2ebb5-489e-4ab0-a223-08cc8fa95aeb",
    "deepnote_cell_type": "code"
   },
   "source": "import keras.metrics as metrics",
   "execution_count": null,
   "outputs": []
  },
  {
   "cell_type": "code",
   "metadata": {
    "tags": [],
    "deepnote_to_be_reexecuted": false,
    "source_hash": "a42581fa",
    "execution_start": 1622909750973,
    "execution_millis": 5,
    "cell_id": "00003-535e4dd1-9810-40c0-ba17-5d9cabb219a1",
    "deepnote_cell_type": "code"
   },
   "source": "from keras.preprocessing.text import Tokenizer\nfrom keras.preprocessing.sequence import pad_sequences",
   "execution_count": null,
   "outputs": []
  },
  {
   "cell_type": "code",
   "metadata": {
    "tags": [],
    "deepnote_to_be_reexecuted": false,
    "source_hash": "de41dbc0",
    "execution_start": 1622909750992,
    "execution_millis": 6,
    "cell_id": "00004-ece5b71d-1eea-4275-9acc-7a6dfbb5c7ce",
    "deepnote_cell_type": "code"
   },
   "source": "from keras.models import Sequential\nfrom keras.models import Model\nfrom keras.layers import Dense, Flatten, LSTM, Conv1D, MaxPooling1D, Dropout, Activation, Input, Bidirectional\nfrom keras.layers.embeddings import Embedding",
   "execution_count": null,
   "outputs": []
  },
  {
   "cell_type": "markdown",
   "source": "### Input Data",
   "metadata": {
    "tags": [],
    "cell_id": "00005-5bca5d7d-cadf-44f4-b349-8b54c076933e",
    "deepnote_cell_type": "text-cell-h3"
   }
  },
  {
   "cell_type": "code",
   "metadata": {
    "tags": [],
    "deepnote_to_be_reexecuted": false,
    "source_hash": "5739c994",
    "execution_start": 1622909751005,
    "execution_millis": 18,
    "cell_id": "00006-450c202c-c578-4f6f-957d-c2285b9f2f52",
    "deepnote_cell_type": "code"
   },
   "source": "data = pd.read_csv('/work/undergrad-thesis-project/datasets/dataset.csv' )",
   "execution_count": null,
   "outputs": []
  },
  {
   "cell_type": "code",
   "metadata": {
    "tags": [],
    "deepnote_to_be_reexecuted": false,
    "source_hash": "41313cfa",
    "execution_start": 1622909751052,
    "execution_millis": 65,
    "cell_id": "00007-e8f4f205-512b-44f2-9c56-af9832b620b6",
    "deepnote_cell_type": "code"
   },
   "source": "data.head()",
   "execution_count": null,
   "outputs": [
    {
     "output_type": "execute_result",
     "execution_count": 6,
     "data": {
      "application/vnd.deepnote.dataframe.v2+json": {
       "row_count": 5,
       "column_count": 3,
       "columns": [
        {
         "name": "term1",
         "dtype": "object",
         "stats": {
          "unique_count": 5,
          "nan_count": 0,
          "categories": [
           {
            "name": "Casa de Hóspedes",
            "count": 1
           },
           {
            "name": "Hostal",
            "count": 1
           },
           {
            "name": "3 others",
            "count": 3
           }
          ]
         }
        },
        {
         "name": "term2",
         "dtype": "object",
         "stats": {
          "unique_count": 1,
          "nan_count": 0,
          "categories": [
           {
            "name": "Alojamento",
            "count": 5
           }
          ]
         }
        },
        {
         "name": "relation",
         "dtype": "object",
         "stats": {
          "unique_count": 1,
          "nan_count": 0,
          "categories": [
           {
            "name": "hypo",
            "count": 5
           }
          ]
         }
        },
        {
         "name": "_deepnote_index_column",
         "dtype": "int64"
        }
       ],
       "rows_top": [
        {
         "term1": "Casa de Hóspedes",
         "term2": "Alojamento",
         "relation": "hypo",
         "_deepnote_index_column": 0
        },
        {
         "term1": "Hostal",
         "term2": "Alojamento",
         "relation": "hypo",
         "_deepnote_index_column": 1
        },
        {
         "term1": "Albergue",
         "term2": "Alojamento",
         "relation": "hypo",
         "_deepnote_index_column": 2
        },
        {
         "term1": "Pousada",
         "term2": "Alojamento",
         "relation": "hypo",
         "_deepnote_index_column": 3
        },
        {
         "term1": "Acomodação",
         "term2": "Alojamento",
         "relation": "hypo",
         "_deepnote_index_column": 4
        }
       ],
       "rows_bottom": null
      },
      "text/plain": "              term1       term2 relation\n0  Casa de Hóspedes  Alojamento     hypo\n1            Hostal  Alojamento     hypo\n2          Albergue  Alojamento     hypo\n3           Pousada  Alojamento     hypo\n4        Acomodação  Alojamento     hypo",
      "text/html": "<div>\n<style scoped>\n    .dataframe tbody tr th:only-of-type {\n        vertical-align: middle;\n    }\n\n    .dataframe tbody tr th {\n        vertical-align: top;\n    }\n\n    .dataframe thead th {\n        text-align: right;\n    }\n</style>\n<table border=\"1\" class=\"dataframe\">\n  <thead>\n    <tr style=\"text-align: right;\">\n      <th></th>\n      <th>term1</th>\n      <th>term2</th>\n      <th>relation</th>\n    </tr>\n  </thead>\n  <tbody>\n    <tr>\n      <th>0</th>\n      <td>Casa de Hóspedes</td>\n      <td>Alojamento</td>\n      <td>hypo</td>\n    </tr>\n    <tr>\n      <th>1</th>\n      <td>Hostal</td>\n      <td>Alojamento</td>\n      <td>hypo</td>\n    </tr>\n    <tr>\n      <th>2</th>\n      <td>Albergue</td>\n      <td>Alojamento</td>\n      <td>hypo</td>\n    </tr>\n    <tr>\n      <th>3</th>\n      <td>Pousada</td>\n      <td>Alojamento</td>\n      <td>hypo</td>\n    </tr>\n    <tr>\n      <th>4</th>\n      <td>Acomodação</td>\n      <td>Alojamento</td>\n      <td>hypo</td>\n    </tr>\n  </tbody>\n</table>\n</div>"
     },
     "metadata": {}
    }
   ]
  },
  {
   "cell_type": "code",
   "metadata": {
    "tags": [],
    "deepnote_to_be_reexecuted": false,
    "source_hash": "e1f23c9d",
    "execution_start": 1622909751111,
    "execution_millis": 0,
    "cell_id": "00008-c8be777a-76c9-4273-8975-fe8d6516ef61",
    "deepnote_cell_type": "code"
   },
   "source": "data[\"text\"] = data[\"term1\"] +\" \" + data[\"term2\"]",
   "execution_count": null,
   "outputs": []
  },
  {
   "cell_type": "code",
   "metadata": {
    "tags": [],
    "deepnote_to_be_reexecuted": false,
    "source_hash": "ab4a6d3f",
    "execution_start": 1622909751111,
    "execution_millis": 580,
    "cell_id": "00009-8b60dc89-de21-422c-a65a-d5c8d2813b46",
    "deepnote_cell_type": "code"
   },
   "source": "data['relation'].hist(figsize=(20,7));",
   "execution_count": null,
   "outputs": [
    {
     "data": {
      "text/plain": "<Figure size 1440x504 with 1 Axes>",
      "image/png": "[encoded data removed]"
     },
     "metadata": {
      "needs_background": "light",
      "image/png": {
       "width": 1162,
       "height": 412
      }
     },
     "output_type": "display_data"
    }
   ]
  },
  {
   "cell_type": "code",
   "metadata": {
    "tags": [],
    "deepnote_to_be_reexecuted": false,
    "source_hash": "97c983dc",
    "execution_start": 1622909751726,
    "execution_millis": 1,
    "cell_id": "00010-d1d824e7-f0c1-4fc0-aecd-05d5fc5839eb",
    "deepnote_cell_type": "code"
   },
   "source": "old_labels = ['hypo', 'hyper', 'synonym', 'temCategoria', 'none']\n#new_labels = ['Hiponímia', 'Hiperonímia', 'Sinonímia', 'temCategoria', 'sem-relação']\nnew_labels = [  0,         1,         2,             3,       4]",
   "execution_count": null,
   "outputs": []
  },
  {
   "cell_type": "code",
   "metadata": {
    "tags": [],
    "deepnote_to_be_reexecuted": false,
    "source_hash": "ea93be65",
    "execution_start": 1622909751727,
    "execution_millis": 0,
    "cell_id": "00011-78c5444a-14e3-41b0-a158-54323eaec2cf",
    "deepnote_cell_type": "code"
   },
   "source": "count_hypo = 0\ncount_hyper = 0\ncount_sym = 0\ncount_cat = 0\ncount_none = 0",
   "execution_count": null,
   "outputs": []
  },
  {
   "cell_type": "code",
   "metadata": {
    "tags": [],
    "deepnote_to_be_reexecuted": false,
    "source_hash": "b623e53d",
    "execution_start": 1622909751728,
    "execution_millis": 0,
    "cell_id": "00012-79223186-e9cf-4850-a87e-24448db82bf8",
    "deepnote_cell_type": "code"
   },
   "source": "",
   "execution_count": null,
   "outputs": []
  },
  {
   "cell_type": "code",
   "metadata": {
    "tags": [],
    "deepnote_to_be_reexecuted": false,
    "source_hash": "2024e68",
    "execution_start": 1622909751770,
    "execution_millis": 1060,
    "cell_id": "00013-7c11e1ac-db8e-464a-b732-7833dee89518",
    "deepnote_cell_type": "code"
   },
   "source": "for i, row in data.iterrows():\n    if(str(row['relation']) == old_labels[0]):\n        row['relation'] = new_labels[0]\n        count_hypo+=1\n    elif(str(row['relation']) == old_labels[1]):\n        row['relation'] = new_labels[1]\n        count_hyper+=1\n    elif(str(row['relation']) == old_labels[2]):\n        row['relation'] = new_labels[2]\n        count_sym+=1\n    elif(str(row['relation']) == old_labels[3]):\n        row['relation'] = new_labels[3]\n        count_cat+=1\n    else:\n        row['relation'] = new_labels[4]\n        count_none+=1\n    #print(type(str(row['term1'])))",
   "execution_count": null,
   "outputs": []
  },
  {
   "cell_type": "code",
   "metadata": {
    "tags": [],
    "deepnote_to_be_reexecuted": false,
    "source_hash": "2e2be928",
    "execution_start": 1622909752843,
    "execution_millis": 43,
    "cell_id": "00014-5a35442f-815c-4462-bc3f-0c32962eee84",
    "deepnote_cell_type": "code"
   },
   "source": "counts = [count_sym, count_hyper, count_hypo, count_cat, count_none]\ncounts\n\n",
   "execution_count": null,
   "outputs": [
    {
     "output_type": "execute_result",
     "execution_count": 12,
     "data": {
      "text/plain": "[2667, 2246, 751, 15, 27]"
     },
     "metadata": {}
    }
   ]
  },
  {
   "cell_type": "code",
   "metadata": {
    "tags": [],
    "deepnote_to_be_reexecuted": false,
    "source_hash": "450591f4",
    "execution_start": 1622909752930,
    "execution_millis": 153,
    "cell_id": "00015-4a255496-1307-4085-92e0-efe1cc8582c5",
    "deepnote_cell_type": "code"
   },
   "source": "plt.bar(new_labels, counts, align='center')\nplt.gca().set_xticks(new_labels)\nplt.show()",
   "execution_count": null,
   "outputs": [
    {
     "data": {
      "text/plain": "<Figure size 432x288 with 1 Axes>",
      "image/png": "[encoded data removed]"
     },
     "metadata": {
      "needs_background": "light",
      "image/png": {
       "width": 381,
       "height": 248
      }
     },
     "output_type": "display_data"
    }
   ]
  },
  {
   "cell_type": "code",
   "metadata": {
    "tags": [],
    "deepnote_to_be_reexecuted": false,
    "source_hash": "a944ee38",
    "execution_start": 1622909753075,
    "execution_millis": 0,
    "cell_id": "00016-4407d7be-2951-4c01-97ca-75fa9c011d8b",
    "deepnote_cell_type": "code"
   },
   "source": "data[\"relation\"] = pd.to_numeric(data[\"relation\"])",
   "execution_count": null,
   "outputs": []
  },
  {
   "cell_type": "code",
   "metadata": {
    "tags": [],
    "deepnote_to_be_reexecuted": false,
    "source_hash": "606727a5",
    "execution_start": 1622909753076,
    "execution_millis": 5362056,
    "cell_id": "00017-4befa1e6-7e82-4b4d-ba5d-9bf90ef1903d",
    "deepnote_cell_type": "code"
   },
   "source": "print(data[\"relation\"])",
   "execution_count": null,
   "outputs": [
    {
     "name": "stdout",
     "text": "0       0\n1       0\n2       0\n3       0\n4       0\n       ..\n5701    2\n5702    2\n5703    2\n5704    2\n5705    2\nName: relation, Length: 5706, dtype: int64\n",
     "output_type": "stream"
    }
   ]
  },
  {
   "cell_type": "code",
   "metadata": {
    "tags": [],
    "deepnote_to_be_reexecuted": false,
    "source_hash": "991b91ea",
    "execution_start": 1622909753076,
    "execution_millis": 240,
    "cell_id": "00018-7a58147b-0c23-4b68-bdcf-5bf6ad154537",
    "deepnote_cell_type": "code"
   },
   "source": "data['relation'].hist(figsize=(8,6));",
   "execution_count": null,
   "outputs": [
    {
     "data": {
      "text/plain": "<Figure size 576x432 with 1 Axes>",
      "image/png": "[encoded data removed]"
     },
     "metadata": {
      "needs_background": "light",
      "image/png": {
       "width": 493,
       "height": 357
      }
     },
     "output_type": "display_data"
    }
   ]
  },
  {
   "cell_type": "code",
   "metadata": {
    "tags": [],
    "deepnote_to_be_reexecuted": false,
    "source_hash": "27d9e668",
    "execution_start": 1622909753323,
    "execution_millis": 26,
    "cell_id": "00019-e1bba508-bf43-45bb-b6df-dc98d53ef763",
    "deepnote_cell_type": "code"
   },
   "source": "len(data)",
   "execution_count": null,
   "outputs": [
    {
     "output_type": "execute_result",
     "execution_count": 17,
     "data": {
      "text/plain": "5706"
     },
     "metadata": {}
    }
   ]
  },
  {
   "cell_type": "markdown",
   "source": "### Data Preparation",
   "metadata": {
    "tags": [],
    "cell_id": "00020-630eb45c-c06c-498d-a35e-cd325eaa90f8",
    "deepnote_cell_type": "text-cell-h3"
   }
  },
  {
   "cell_type": "code",
   "metadata": {
    "tags": [],
    "deepnote_to_be_reexecuted": false,
    "source_hash": "2aa10925",
    "execution_start": 1622909753382,
    "execution_millis": 6,
    "cell_id": "00021-1205b919-1c8f-4306-a36c-03ea167d50d3",
    "deepnote_cell_type": "code"
   },
   "source": "nltk.download('stopwords')\nstop_words = stopwords.words(\"portuguese\")\nlemmatizer = WordNetLemmatizer()",
   "execution_count": null,
   "outputs": [
    {
     "name": "stderr",
     "text": "[nltk_data] Downloading package stopwords to /root/nltk_data...\n[nltk_data]   Unzipping corpora/stopwords.zip.\n",
     "output_type": "stream"
    }
   ]
  },
  {
   "cell_type": "code",
   "metadata": {
    "tags": [],
    "deepnote_to_be_reexecuted": false,
    "source_hash": "3e72daee",
    "execution_start": 1622909753426,
    "execution_millis": 1,
    "cell_id": "00022-a0ee2299-1b57-4daa-92fd-5f8ec7cb06eb",
    "deepnote_cell_type": "code"
   },
   "source": "def clean_text(text):\n    text = text.lower()\n    \n    # '@' mention. Even tough @ adds some information to the message, \n    # this information doesn't add value build the classifcation model\n    text = re.sub(r'@[A-Za-z0-9_]+','', text)\n    \n    # Dealing with URL links\n    url_regex = 'http[s]?://(?:[a-zA-Z]|[0-9]|[$-_@.&+]|[!*\\(\\),]|(?:%[0-9a-fA-F][0-9a-fA-F]))+'\n    text = re.sub(url_regex,'urlplaceholder', text)\n    # A lot of url are write as follows: http bit.ly. Apply Regex for these cases\n    utl_regex_2 = 'http [a-zA-Z]+\\.[a-zA-Z]+'\n    text = re.sub(utl_regex_2,'urlplaceholder', text)\n    # Other formats: http : //t.co/ihW64e8Z\n    utl_regex_3 = 'http \\: //[a-zA-Z]\\.(co|com|pt|ly)/[A-Za-z0-9_]+'\n    text = re.sub(utl_regex_3,'urlplaceholder', text)\n    \n    # Hashtags can provide useful informations. Removing only ``#``\n    text = re.sub('#',' ', text)\n    \n    # Contractions\n    text = re.sub(r\"what's\", 'what is ', text)\n    text = re.sub(r\"can't\", 'cannot', text)\n    text = re.sub(r\"\\'s\",' ', text)\n    text = re.sub(r\"\\'ve\", ' have ', text)\n    text = re.sub(r\"n't\", ' not ', text)\n    text = re.sub(r\"im\", 'i am ', text)\n    text = re.sub(r\"i'm\", 'i am ', text)\n    text = re.sub(r\"\\'re\", ' are ', text)\n    text = re.sub(r\"\\'d\", ' would ', text)\n    text = re.sub(r\"\\'ll\", ' will ', text)\n                  \n    # Operations and special words           \n    text = re.sub(r\",\", \" \", text)\n    text = re.sub(r\"\\.\", \" \", text)\n    text = re.sub(r\"!\", \" ! \", text)\n    text = re.sub(r\"\\/\", \" \", text)\n    text = re.sub(r\"\\^\", \" ^ \", text)\n    text = re.sub(r\"\\+\", \" + \", text)\n    text = re.sub(r\"\\-\", \" - \", text)\n    text = re.sub(r\"\\=\", \" = \", text)\n    text = re.sub('foof', 'food', text)\n    text = re.sub('msg', 'message', text)\n    text = re.sub(' u ', 'you', text)\n    \n    # Ponctuation Removal\n    text = re.sub(r'[^a-zA-Z0-9]', ' ', text)\n    \n    text = text.split()\n    stop_words = stopwords.words(\"portuguese\")\n    text = [tok for tok in text if tok not in stop_words]\n    lemmatizer = WordNetLemmatizer()\n    text = [lemmatizer.lemmatize(w) for w in text]\n    return ' '.join(text)\n    ",
   "execution_count": null,
   "outputs": []
  },
  {
   "cell_type": "code",
   "metadata": {
    "tags": [],
    "deepnote_to_be_reexecuted": false,
    "source_hash": "b623e53d",
    "execution_start": 1622909753474,
    "execution_millis": 1,
    "cell_id": "00023-c55b6654-586a-40bb-8614-60b465499cea",
    "deepnote_cell_type": "code"
   },
   "source": "",
   "execution_count": null,
   "outputs": []
  },
  {
   "cell_type": "markdown",
   "source": "### Tokenize and Create Sentence",
   "metadata": {
    "tags": [],
    "cell_id": "00024-8936cfc8-44dc-4030-ac02-104d092fd39d",
    "deepnote_cell_type": "text-cell-h3"
   }
  },
  {
   "cell_type": "code",
   "metadata": {
    "tags": [],
    "deepnote_to_be_reexecuted": false,
    "source_hash": "1c74b9d1",
    "execution_start": 1622909753475,
    "execution_millis": 5362064,
    "cell_id": "00025-a498abb8-3088-4f46-bb7f-04ed0618d873",
    "deepnote_cell_type": "code"
   },
   "source": "data['text'] = data['text'].astype(str)",
   "execution_count": null,
   "outputs": []
  },
  {
   "cell_type": "code",
   "metadata": {
    "tags": [],
    "deepnote_to_be_reexecuted": false,
    "source_hash": "80ce1aba",
    "execution_start": 1622909753476,
    "execution_millis": 5022,
    "cell_id": "00026-182442ee-714c-4f2b-ade9-70a5a1ef1f03",
    "deepnote_cell_type": "code"
   },
   "source": "# Cleaning Text\nnltk.download('wordnet')\ndata['text'] = data['text'].map(lambda x: clean_text(x))",
   "execution_count": null,
   "outputs": [
    {
     "name": "stderr",
     "text": "[nltk_data] Downloading package wordnet to /root/nltk_data...\n[nltk_data]   Unzipping corpora/wordnet.zip.\n",
     "output_type": "stream"
    }
   ]
  },
  {
   "cell_type": "markdown",
   "source": "### Chossing size of vocabulary",
   "metadata": {
    "tags": [],
    "cell_id": "00027-a865674b-8ff3-4d1a-b247-e90d69a221ac",
    "deepnote_cell_type": "text-cell-h3"
   }
  },
  {
   "cell_type": "code",
   "metadata": {
    "tags": [],
    "deepnote_to_be_reexecuted": false,
    "source_hash": "e6561c31",
    "execution_start": 1622909758508,
    "execution_millis": 8,
    "cell_id": "00028-adf9df08-d073-4a5c-bd6f-d4440745f559",
    "deepnote_cell_type": "code"
   },
   "source": "vocabulary_size = 20000",
   "execution_count": null,
   "outputs": []
  },
  {
   "cell_type": "code",
   "metadata": {
    "tags": [],
    "deepnote_to_be_reexecuted": false,
    "source_hash": "cffc6e23",
    "execution_start": 1622909758555,
    "execution_millis": 0,
    "cell_id": "00029-c6955326-2803-451f-9dcd-7db26969626a",
    "deepnote_cell_type": "code"
   },
   "source": "tokenizer = Tokenizer(num_words=vocabulary_size)",
   "execution_count": null,
   "outputs": []
  },
  {
   "cell_type": "code",
   "metadata": {
    "tags": [],
    "deepnote_to_be_reexecuted": false,
    "source_hash": "d6bc7e21",
    "execution_start": 1622909758556,
    "execution_millis": 69,
    "cell_id": "00030-18130652-1929-4831-9b91-6dbd95885710",
    "deepnote_cell_type": "code"
   },
   "source": "tokenizer.fit_on_texts(data['text'])",
   "execution_count": null,
   "outputs": []
  },
  {
   "cell_type": "code",
   "metadata": {
    "tags": [],
    "deepnote_to_be_reexecuted": false,
    "source_hash": "ca7e8940",
    "execution_start": 1622909758644,
    "execution_millis": 80,
    "cell_id": "00031-686b6d6c-45e5-4923-b999-fc2fb2da1e7d",
    "deepnote_cell_type": "code"
   },
   "source": "sequences = tokenizer.texts_to_sequences(data['text'])",
   "execution_count": null,
   "outputs": []
  },
  {
   "cell_type": "code",
   "metadata": {
    "tags": [],
    "deepnote_to_be_reexecuted": false,
    "source_hash": "caced965",
    "execution_start": 1622909758759,
    "execution_millis": 14,
    "cell_id": "00032-cbc087b1-dc20-4e28-8115-b7fcfbad6014",
    "deepnote_cell_type": "code"
   },
   "source": "print(sequences)",
   "execution_count": null,
   "outputs": [
    {
     "name": "stdout",
     "text": "[[202, 80, 729, 10], [17, 10], [11, 10], [20, 10], [7, 10], [24, 10], [730, 731, 10], [8, 732, 10], [5, 10], [733, 134, 10], [221, 182, 287, 10], [10, 155, 592, 10], [8, 10], [4, 10], [361, 34], [41, 416, 734, 34], [156, 45, 34], [34, 34], [27, 34], [18, 18], [288, 202, 73, 18], [31, 47, 18], [288, 6, 18], [362, 735, 18], [31, 83, 18], [30, 18], [76, 1, 183, 76, 1], [76, 1, 92, 76, 1], [76, 1, 184, 83, 76, 1], [76, 1, 184, 489, 76, 1], [76, 1, 76, 1], [15, 61, 62], [59, 593, 61, 62], [736, 61, 62], [61, 62, 61, 62], [48, 61, 62], [50, 61, 62], [43, 61, 62], [59, 417, 737, 61, 62], [49, 61, 62], [738, 739, 61, 62], [32, 61, 62], [44, 61, 62], [53, 61, 62], [51, 60, 61, 62], [363, 417, 740, 61, 62], [59, 361, 61, 62], [157, 61, 62], [33, 61, 62], [58, 58], [58, 6, 58], [58, 29, 58], [58, 182, 58], [58, 364, 58], [58, 36, 58], [58, 183, 58], [58, 365, 58], [58, 182, 287, 58], [40, 26, 89, 63, 1], [63, 1, 741, 89, 63, 1], [2, 89, 63, 1], [63, 1, 490, 145, 89, 63, 1], [63, 1, 365, 89, 63, 1], [63, 1, 289, 14, 366, 89, 63, 1], [742, 14, 743, 89, 63, 1], [63, 1, 183, 89, 63, 1], [63, 1, 491, 89, 63, 1], [63, 1, 184, 89, 63, 1], [89, 63, 1, 89, 63, 1], [6, 8, 6], [77, 6, 492, 6], [6, 11, 6], [6, 6], [21, 21], [182, 287, 21], [12, 21], [493, 21], [203, 289, 14, 366, 25], [38, 25], [97], [2, 25], [203, 41, 744, 25], [203, 6, 25], [117, 367, 328, 25], [203, 289, 14, 366, 745, 25], [182, 287, 6, 25], [66, 25], [368, 746, 594, 25], [494, 495, 25], [117, 747, 25], [203, 748, 749, 25], [254, 53, 25], [39, 126, 80, 127], [56, 42, 126, 80, 127], [750, 418, 126, 80, 127], [255, 751, 126, 80, 127], [752, 753, 126, 80, 127], [255, 369, 54, 126, 80, 127], [126, 80, 127, 126, 80, 127], [10, 202, 80, 729], [10, 17], [10, 11], [10, 20], [10, 7], [10, 24], [10, 730, 731], [10, 8, 732], [10, 5], [10, 733, 134], [10, 221, 182, 287], [10, 10, 155, 592], [10, 8], [10, 4], [34, 361], [34, 41, 416, 734], [34, 156, 45], [34, 34], [34, 27], [18, 18], [18, 288, 202, 73], [18, 31, 47], [18, 288, 6], [18, 362, 735], [18, 31, 83], [18, 30], [76, 1, 76, 1, 183], [76, 1, 76, 1, 92], [76, 1, 76, 1, 184, 83], [76, 1, 76, 1, 184, 489], [76, 1, 76, 1], [61, 62, 15], [61, 62, 59, 593], [61, 62, 736], [61, 62, 61, 62], [61, 62, 48], [61, 62, 50], [61, 62, 43], [61, 62, 59, 417, 737], [61, 62, 49], [61, 62, 738, 739], [61, 62, 32], [61, 62, 44], [61, 62, 53], [61, 62, 51, 60], [61, 62, 363, 417, 740], [61, 62, 59, 361], [61, 62, 157], [61, 62, 33], [58, 58], [58, 58, 6], [58, 58, 29], [58, 58, 182], [58, 58, 364], [58, 58, 36], [58, 58, 183], [58, 58, 365], [58, 58, 182, 287], [89, 63, 1, 40, 26], [89, 63, 1, 63, 1, 741], [89, 63, 1, 2], [89, 63, 1, 63, 1, 490, 145], [89, 63, 1, 63, 1, 365], [89, 63, 1, 63, 1, 289, 14, 366], [89, 63, 1, 742, 14, 743], [89, 63, 1, 63, 1, 183], [89, 63, 1, 63, 1, 491], [89, 63, 1, 63, 1, 184], [89, 63, 1, 89, 63, 1], [6, 6, 8], [6, 77, 6, 492], [6, 6, 11], [6, 6], [21, 21], [21, 182, 287], [21, 12], [21, 493], [25, 203, 289, 14, 366], [25, 38], [97], [25, 2], [25, 203, 41, 744], [25, 203, 6], [25, 117, 367, 328], [25, 203, 289, 14, 366, 745], [25, 182, 287, 6], [25, 66], [25, 368, 746, 594], [25, 494, 495], [25, 117, 747], [25, 203, 748, 749], [25, 254, 53], [126, 80, 127, 39], [126, 80, 127, 56, 42], [126, 80, 127, 750, 418], [126, 80, 127, 255, 751], [126, 80, 127, 752, 753], [126, 80, 127, 255, 369, 54], [126, 80, 127, 126, 80, 127], [8, 41, 754, 8], [8, 202, 755, 8], [8, 756, 8], [8, 757, 8], [8, 8], [8, 758, 329, 8], [8, 759, 8], [222, 496, 18, 6], [221, 18, 6], [595, 18, 6], [256, 18, 6], [118, 18, 6], [760, 18, 6], [35, 18, 6], [761, 370, 290, 18, 6], [762, 18, 6], [763, 18, 6], [764, 18, 6], [497, 18, 6], [765, 18, 6], [74, 766, 182, 18, 6], [288, 6, 18, 6], [491, 18, 6], [37, 18, 6], [767, 290, 18, 6], [223, 18, 6], [768, 18, 6], [291, 257, 18, 6], [498, 18, 75], [3, 1, 18, 75], [13, 18, 75], [16, 18, 75], [419, 18, 75], [288, 202, 73, 18, 75], [769, 258, 18, 75], [166, 18, 75], [292, 18, 75], [770, 18, 75], [202, 73, 18, 75], [29, 31, 83], [499, 14, 31, 83], [31, 83, 31, 83], [771, 31, 83], [362, 364, 31, 83], [291, 257, 31, 83], [224, 500, 31, 83], [185, 31, 83], [365, 184, 31, 83], [184, 500, 31, 83], [29, 31, 47], [772, 773, 31, 47], [59, 92, 31, 47], [75, 31, 47], [225, 774, 31, 47], [775, 31, 47], [185, 31, 47], [776, 31, 47], [501, 31, 47], [22, 31, 47], [777, 778, 31, 47], [225, 779, 31, 47], [36, 31, 47], [330, 31, 47], [293, 780, 31, 47], [225, 781, 31, 47], [32, 596, 31, 47], [490, 782, 31, 47], [783, 784, 14, 46, 31, 47], [502, 31, 47], [225, 785, 786, 31, 47], [183, 31, 47], [184, 489, 31, 47], [362, 364, 31, 47], [259, 31, 47], [291, 257, 31, 47], [787, 31, 47], [788, 31, 47], [31, 47, 31, 47], [293, 420, 31, 47], [6, 226, 503, 78, 6, 11], [6, 227, 504, 78, 6, 11], [6, 227, 503, 78, 6, 11], [6, 227, 505, 78, 6, 11], [6, 227, 506, 78, 6, 11], [6, 226, 507, 78, 6, 11], [6, 227, 507, 78, 6, 11], [6, 226, 506, 78, 6, 11], [6, 11, 6, 11], [6, 226, 505, 78, 6, 11], [6, 226, 504, 78, 6, 11], [508, 789, 75, 790, 6, 11], [6, 509, 6, 8], [6, 23, 6, 8], [6, 39, 6, 8], [6, 146, 6, 8], [55, 6, 8], [6, 112, 6, 8], [28, 6, 8], [6, 8, 6, 8], [6, 510, 6, 8], [5, 791, 511, 78, 77, 6, 5], [5, 792, 78, 77, 6, 5], [77, 6, 492, 77, 6, 5], [5, 793, 77, 6, 5], [6, 112, 77, 6, 5], [511, 78, 71, 77, 6, 5], [6, 508, 23, 77, 6, 5], [5, 23, 77, 6, 5], [6, 55, 23, 77, 6, 5], [5, 221, 794, 77, 6, 5], [5, 795, 78, 77, 6, 5], [39, 512, 39], [39, 39], [39, 796, 39], [56, 42, 56, 42], [56, 42, 513, 797, 56, 42], [56, 42, 513, 798, 56, 42], [56, 42, 799, 56, 42], [8, 8, 41, 754], [8, 8, 202, 755], [8, 8, 756], [8, 8, 757], [8, 8], [8, 8, 758, 329], [8, 8, 759], [18, 6, 222, 496], [18, 6, 221], [18, 6, 595], [18, 6, 256], [18, 6, 118], [18, 6, 760], [18, 6, 35], [18, 6, 761, 370, 290], [18, 6, 762], [18, 6, 763], [18, 6, 764], [18, 6, 497], [18, 6, 765], [18, 6, 74, 766, 182], [18, 6, 288, 6], [18, 6, 491], [18, 6, 37], [18, 6, 767, 290], [18, 6, 223], [18, 6, 768], [18, 6, 291, 257], [18, 75, 498], [18, 75, 3, 1], [18, 75, 13], [18, 75, 16], [18, 75, 419], [18, 75, 288, 202, 73], [18, 75, 769, 258], [18, 75, 166], [18, 75, 292], [18, 75, 770], [18, 75, 202, 73], [31, 83, 29], [31, 83, 499, 14], [31, 83, 31, 83], [31, 83, 771], [31, 83, 362, 364], [31, 83, 291, 257], [31, 83, 224, 500], [31, 83, 185], [31, 83, 365, 184], [31, 83, 184, 500], [31, 47, 29], [31, 47, 772, 773], [31, 47, 59, 92], [31, 47, 75], [31, 47, 225, 774], [31, 47, 775], [31, 47, 185], [31, 47, 776], [31, 47, 501], [31, 47, 22], [31, 47, 777, 778], [31, 47, 225, 779], [31, 47, 36], [31, 47, 330], [31, 47, 293, 780], [31, 47, 225, 781], [31, 47, 32, 596], [31, 47, 490, 782], [31, 47, 783, 784, 14, 46], [31, 47, 502], [31, 47, 225, 785, 786], [31, 47, 183], [31, 47, 184, 489], [31, 47, 362, 364], [31, 47, 259], [31, 47, 291, 257], [31, 47, 787], [31, 47, 788], [31, 47, 31, 47], [31, 47, 293, 420], [6, 11, 6, 226, 503, 78], [6, 11, 6, 227, 504, 78], [6, 11, 6, 227, 503, 78], [6, 11, 6, 227, 505, 78], [6, 11, 6, 227, 506, 78], [6, 11, 6, 226, 507, 78], [6, 11, 6, 227, 507, 78], [6, 11, 6, 226, 506, 78], [6, 11, 6, 11], [6, 11, 6, 226, 505, 78], [6, 11, 6, 226, 504, 78], [6, 11, 508, 789, 75, 790], [6, 8, 6, 509], [6, 8, 6, 23], [6, 8, 6, 39], [6, 8, 6, 146], [6, 8, 55], [6, 8, 6, 112], [6, 8, 28], [6, 8, 6, 8], [6, 8, 6, 510], [77, 6, 5, 5, 791, 511, 78], [77, 6, 5, 5, 792, 78], [77, 6, 5, 77, 6, 492], [77, 6, 5, 5, 793], [77, 6, 5, 6, 112], [77, 6, 5, 511, 78, 71], [77, 6, 5, 6, 508, 23], [77, 6, 5, 5, 23], [77, 6, 5, 6, 55, 23], [77, 6, 5, 5, 221, 794], [77, 6, 5, 5, 795, 78], [39, 39, 512], [39, 39], [39, 39, 796], [56, 42, 56, 42], [56, 42, 56, 42, 513, 797], [56, 42, 56, 42, 513, 798], [56, 42, 56, 42, 799], [223, 223], [514, 800, 801, 223], [514, 802, 223], [222, 496, 222, 370, 290], [222, 803, 222, 370, 290], [804, 155, 805, 185], [806, 807, 185], [185, 185], [371, 808, 59, 92], [19, 59, 92], [809, 810, 59, 92], [59, 92, 59, 92], [811, 59, 92], [812, 14, 813, 59, 92], [73, 814, 59, 92], [815, 816, 22], [817, 818, 22], [22, 22], [225, 819, 259], [259, 259], [597, 84, 79, 65, 84, 79], [260, 65, 84, 79], [9, 228, 65, 84, 79], [9, 421, 228, 65, 84, 79], [372, 65, 84, 79], [820, 14, 821, 421, 65, 84, 79], [9, 65, 84, 79], [23, 65, 84, 79], [260, 228, 65, 84, 79], [372, 228, 65, 84, 79], [23, 228, 65, 84, 79], [368, 112, 113, 822, 515, 422, 6, 112], [6, 112, 6, 112], [368, 112, 515, 422, 6, 112], [6, 112, 497, 6, 112], [223, 223], [223, 514, 800, 801], [223, 514, 802], [222, 370, 290, 222, 496], [222, 370, 290, 222, 803], [185, 804, 155, 805], [185, 806, 807], [185, 185], [59, 92, 371, 808], [59, 92, 19], [59, 92, 809, 810], [59, 92, 59, 92], [59, 92, 811], [59, 92, 812, 14, 813], [59, 92, 73, 814], [22, 815, 816], [22, 817, 818], [22, 22], [259, 225, 819], [259, 259], [65, 84, 79, 597, 84, 79], [65, 84, 79, 260], [65, 84, 79, 9, 228], [65, 84, 79, 9, 421, 228], [65, 84, 79, 372], [65, 84, 79, 820, 14, 821, 421], [65, 84, 79, 9], [65, 84, 79, 23], [65, 84, 79, 260, 228], [65, 84, 79, 372, 228], [65, 84, 79, 23, 228], [6, 112, 368, 112, 113, 822, 515, 422], [6, 112, 6, 112], [6, 112, 368, 112, 515, 422], [6, 112, 6, 112, 497], [8, 597, 823], [8, 291, 823], [126, 80, 127], [134, 61, 62], [134, 997], [8, 6, 8], [134, 8], [8, 259], [495, 372], [998, 423, 824, 54, 423, 824, 54], [294, 63, 1], [999, 135], [598, 3, 1], [31, 64, 424, 592, 98], [599, 76, 1], [65, 64, 229, 14, 46], [65, 1000, 229, 14, 46], [65, 516, 517, 11], [65, 77, 84, 79, 11], [65, 518, 1001, 4], [65, 516, 517, 4], [65, 77, 84, 79, 4], [65, 425, 64, 38], [65, 418, 1002, 167, 38], [65, 1003, 596, 38], [65, 425, 64, 1004], [65, 425, 64, 135], [65, 425, 64, 1005, 1006, 30], [65, 425, 64, 2], [1007, 14, 46, 825, 26], [59, 1008, 229, 14, 46], [76, 1, 593, 229, 14, 46], [1009, 229, 14, 46, 229, 14, 46], [1010, 229, 14, 46], [1011, 229, 14, 46], [1012, 1, 229, 14, 46], [1013, 229, 14, 46], [8, 11], [20, 147, 11], [826, 600, 1014, 11], [158, 11], [826, 11], [1015, 11], [20, 1016, 11], [1017, 1018, 11], [147, 11], [1019, 11], [1020, 1021, 1, 11], [1022, 1023, 11], [516, 517, 11], [1024, 4], [8, 4], [158, 4], [519, 186, 1025, 4], [221, 4], [1026, 4], [147, 4], [516, 517, 4], [1027, 601, 4], [827, 79, 4], [595, 4], [1028, 79, 4], [11, 24], [331, 1029, 24], [202, 24, 24], [16, 64, 16], [1030, 1031, 292], [1032, 292], [1033, 1034, 1035, 292], [1036, 292], [1037, 1038, 38], [1039, 30, 30], [1040, 30], [30, 520, 329, 30], [1041, 1042, 2], [828, 25], [8, 10], [8, 8], [8, 8], [97], [602, 18], [58, 58], [58, 58], [332, 18], [332, 25], [332, 7], [332, 28], [136, 56, 42], [136, 56, 42], [521, 18], [6, 6], [6, 6], [829, 34], [829, 33], [603, 2], [604, 15], [15, 11], [15, 20], [15, 8], [15, 15], [15, 48], [15, 50], [15, 43], [15, 32], [15, 53], [15, 51, 60], [1043, 26, 18], [605, 10], [99, 17], [99, 11], [99, 20], [99, 5], [99, 8], [99, 4], [99, 15], [99, 48], [99, 43], [99, 32], [99, 44], [99, 53], [99, 2], [99, 28], [1044, 38], [74, 522, 14, 55], [1045, 523, 6], [830, 38], [831, 34], [606, 25], [606, 17], [832, 11], [18, 18], [18, 18], [607, 56, 42], [607, 56, 42], [833, 17], [608, 18], [608, 7], [5, 10], [5, 34], [5, 6], [5, 38], [5, 2], [5, 39], [5, 28], [5, 39], [186, 167, 10], [186, 167, 20], [186, 167, 8], [186, 167, 15], [186, 167, 48], [186, 167, 32], [186, 167, 53], [186, 167, 33], [1046, 26, 18], [261, 11], [261, 20], [261, 5], [261, 4], [261, 2], [524, 21], [524, 8], [609, 14, 373, 18], [609, 14, 373, 7], [834, 17], [834, 33], [610, 2], [203, 25], [56, 42, 56, 42], [56, 42, 56, 42], [611, 5], [835, 24], [1047, 34], [426, 21], [1048, 18], [72, 6], [72, 21], [72, 17], [72, 11], [72, 20], [72, 5], [72, 8], [72, 4], [72, 2], [72, 39], [72, 28], [72, 39], [72, 22], [72, 22], [427, 21], [1049, 17], [1050, 44], [31, 10], [31, 20], [31, 7], [31, 66], [230, 15], [230, 48], [230, 43], [230, 49], [230, 32], [230, 44], [230, 53], [230, 51, 60], [230, 33], [1051, 6], [1052, 18], [295, 5], [295, 2], [21, 21], [21, 21], [21, 12], [21, 493], [1053, 21], [836, 25], [1054, 262, 6], [231, 18], [231, 7], [231, 38], [231, 2], [231, 66], [6], [1055, 6], [232, 11], [232, 20], [232, 5], [232, 8], [232, 4], [232, 38], [232, 28], [363, 15], [363, 32], [428, 17], [428, 38], [97], [428, 2], [837, 7], [1056, 20], [233, 21], [233, 11], [233, 8], [233, 4], [233, 43], [233, 28], [234, 14, 46, 10], [234, 14, 46, 11], [234, 14, 46, 7], [234, 14, 46, 24], [234, 14, 46, 66], [30, 4], [30, 38], [30, 2], [1057, 34], [525, 526, 49], [525, 526, 44], [525, 526, 51, 60], [258, 10], [258, 7], [429, 34], [429, 32], [429, 33], [838, 66], [204, 21], [204, 11], [204, 20], [204, 8], [204, 28], [168, 103, 14, 17], [168, 103, 14, 20], [168, 103, 14, 15], [168, 103, 14, 50], [168, 103, 14, 43], [168, 103, 14, 38], [168, 103, 14, 2], [839, 17], [839, 44], [76, 1, 76, 1], [76, 1, 76, 1], [10, 10], [10, 21], [10, 11], [10, 20], [10, 7], [10, 24], [10, 5], [10, 8], [527, 43], [527, 33], [612, 17], [612, 2], [235, 263, 4], [235, 263, 38], [235, 263, 2], [1058, 18], [92, 11], [92, 8], [613, 10], [613, 66], [1059, 38], [264, 21], [264, 8], [264, 28], [264, 22], [264, 22], [90, 17], [90, 11], [90, 20], [90, 5], [90, 8], [90, 4], [90, 2], [90, 28], [90, 22], [90, 22], [296, 17], [296, 11], [296, 8], [296, 15], [296, 32], [296, 33], [137, 44], [137, 28], [145, 10], [145, 11], [145, 20], [145, 7], [145, 43], [145, 32], [145, 33], [528, 18], [528, 7], [29, 10], [29, 2], [135, 11], [135, 20], [135, 5], [135, 8], [135, 4], [135, 38], [135, 2], [236, 14, 614, 34], [236, 14, 614, 2], [430, 529, 10], [430, 529, 25], [265, 18], [265, 21], [265, 17], [265, 20], [266, 21], [266, 17], [266, 38], [266, 2], [840, 32], [840, 33], [333, 21], [333, 7], [205, 10], [205, 7], [205, 24], [205, 8], [205, 66], [615, 10], [615, 24], [1060, 34], [237, 21], [237, 7], [237, 43], [237, 32], [237, 33], [841, 49], [28, 138, 10], [28, 138, 11], [28, 138, 20], [28, 138, 7], [28, 138, 5], [28, 138, 8], [28, 138, 43], [28, 138, 28], [842, 34], [842, 7], [374, 49], [374, 32], [374, 44], [374, 51, 60], [374, 33], [238, 17], [238, 11], [238, 8], [238, 48], [238, 49], [238, 32], [238, 44], [843, 49], [843, 44], [616, 66], [1061, 34], [844, 24], [431, 5], [431, 8], [431, 4], [845, 21], [267, 68, 48], [267, 68, 49], [267, 68, 44], [206, 20], [206, 8], [206, 15], [206, 48], [206, 43], [206, 32], [206, 53], [206, 33], [207, 11], [207, 5], [207, 8], [207, 4], [207, 2], [7, 10], [7, 21], [7, 11], [7, 7], [530, 104, 7], [293, 2], [420, 33], [519, 49], [519, 32], [267, 328, 43], [267, 328, 49], [267, 328, 44], [267, 328, 28], [617, 18], [617, 24], [55, 6], [55, 55], [41, 416, 34], [41, 416, 25], [618, 26, 25], [1062, 14, 1063, 18], [239, 7], [239, 8], [239, 4], [531, 18], [531, 15], [846, 18], [91, 21], [91, 11], [91, 20], [91, 24], [91, 5], [91, 8], [91, 4], [91, 38], [91, 2], [91, 39], [91, 28], [91, 39], [169, 170, 21], [169, 170, 11], [169, 170, 8], [169, 170, 4], [169, 170, 38], [169, 170, 2], [169, 170, 22], [169, 170, 22], [432, 43], [619, 14, 620, 7], [268, 25], [268, 17], [268, 8], [268, 4], [268, 44], [97], [268, 28], [297, 21], [297, 22], [297, 22], [847, 21], [847, 50], [621, 20], [621, 43], [375, 1, 10], [1064, 18], [376, 10], [376, 34], [376, 32], [376, 53], [376, 51, 60], [298, 262, 10], [298, 262, 21], [298, 262, 11], [298, 262, 8], [298, 262, 28], [622, 25], [622, 28], [417, 137, 48], [158, 10], [158, 17], [158, 11], [158, 20], [158, 8], [158, 4], [158, 2], [299, 8], [299, 15], [299, 48], [299, 32], [299, 51, 60], [848, 25], [623, 8], [623, 48], [623, 44], [624, 24], [625, 17], [625, 50], [626, 34], [626, 25], [627, 24], [52, 523, 6], [52, 523, 24], [147, 10], [147, 11], [147, 20], [147, 8], [147, 32], [147, 33], [331, 10], [331, 11], [331, 7], [628, 18], [628, 7], [1065, 51, 60], [1066, 21], [849, 21], [377, 24], [377, 56, 42], [377, 56, 42], [300, 17], [300, 20], [300, 7], [39, 39], [39, 39], [187, 21], [187, 17], [187, 20], [187, 8], [187, 15], [187, 50], [187, 32], [187, 44], [187, 33], [629, 25], [629, 8], [520, 329, 55], [433, 21], [433, 48], [433, 44], [433, 33], [117, 10], [117, 11], [117, 7], [117, 24], [117, 5], [117, 4], [117, 38], [117, 2], [367, 68, 53], [269, 10], [269, 18], [269, 21], [269, 11], [269, 7], [434, 4], [434, 2], [532, 18], [532, 7], [270, 21], [270, 17], [270, 50], [270, 49], [270, 33], [1067, 18], [105, 10], [105, 17], [105, 11], [105, 20], [105, 5], [105, 8], [105, 4], [105, 39], [105, 28], [105, 39], [533, 17], [1068, 26, 18], [534, 2], [1069, 6], [123, 54, 17], [123, 54, 11], [123, 54, 20], [123, 54, 5], [123, 54, 8], [123, 54, 15], [123, 54, 48], [123, 54, 50], [123, 54, 43], [123, 54, 32], [123, 54, 44], [123, 54, 53], [123, 54, 51, 60], [123, 54, 28], [630, 55], [334, 188, 2], [378, 21], [378, 20], [378, 15], [631, 28], [850, 7], [851, 18], [379, 104, 21], [379, 104, 43], [535, 17], [535, 33], [852, 853, 24], [148, 11], [148, 20], [148, 5], [148, 8], [148, 4], [148, 2], [148, 28], [1070, 17], [97], [435, 74, 17], [435, 74, 50], [854, 25], [335, 10], [335, 7], [335, 53], [1071, 18], [436, 1072, 17], [119, 21], [119, 20], [119, 5], [119, 8], [119, 4], [119, 2], [119, 28], [119, 22], [119, 22], [855, 2], [336, 15], [336, 48], [336, 49], [336, 32], [171, 21], [171, 2], [437, 53], [149, 10], [149, 11], [149, 20], [149, 7], [149, 8], [149, 32], [149, 33], [149, 2], [149, 28], [52, 93, 34], [52, 93, 6], [52, 93, 17], [52, 93, 11], [52, 93, 20], [52, 93, 7], [52, 93, 5], [52, 93, 8], [52, 93, 4], [52, 93, 2], [52, 93, 28], [52, 93, 22], [52, 93, 22], [422, 33], [120, 11], [120, 20], [120, 5], [120, 8], [120, 4], [120, 38], [120, 2], [120, 28], [1073, 18], [1074, 7], [159, 21], [159, 11], [159, 20], [159, 5], [159, 8], [159, 4], [159, 38], [159, 2], [438, 7], [856, 18], [536, 17], [536, 48], [536, 44], [536, 38], [632, 34], [301, 103, 14, 34], [301, 103, 14, 55], [301, 103, 14, 28], [139, 160, 10], [139, 160, 11], [139, 160, 7], [139, 160, 5], [139, 160, 8], [633, 15], [633, 53], [380, 381, 21], [380, 381, 4], [1075, 33], [857, 17], [1076, 17], [1077, 38], [858, 18], [537, 18], [537, 7], [140, 26, 10], [140, 26, 34], [140, 26, 6], [140, 26, 11], [140, 26, 20], [140, 26, 24], [140, 26, 5], [140, 26, 8], [140, 26, 50], [140, 26, 43], [140, 26, 53], [140, 26, 66], [634, 6], [634, 55], [22, 38], [22, 2], [22, 22], [22, 22], [255, 21], [255, 11], [255, 2], [1078, 25], [859, 7], [860, 26, 66], [208, 5], [208, 4], [208, 38], [208, 2], [861, 7], [337, 10], [337, 7], [635, 14, 373, 7], [635, 14, 373, 24], [155, 137, 17], [172, 11], [172, 20], [172, 8], [172, 4], [172, 48], [172, 43], [172, 32], [172, 28], [271, 5], [271, 4], [271, 38], [271, 2], [636, 48], [636, 157], [636, 28], [512, 38], [1079, 32], [509, 25], [1080, 33], [173, 21], [173, 11], [173, 5], [173, 4], [173, 38], [173, 2], [862, 7], [439, 5], [439, 4], [439, 38], [538, 50], [538, 33], [538, 2], [174, 10], [174, 21], [174, 11], [174, 7], [174, 38], [863, 25], [864, 17], [114, 10], [114, 21], [114, 11], [114, 20], [114, 7], [114, 8], [114, 4], [114, 43], [114, 33], [114, 2], [114, 22], [114, 22], [209, 17], [209, 5], [209, 15], [209, 50], [209, 43], [637, 1, 8], [637, 1, 32], [637, 1, 44], [272, 7], [272, 15], [272, 50], [272, 43], [539, 21], [539, 5], [302, 17], [302, 20], [1081, 21], [440, 2], [303, 20], [303, 28], [436, 865, 34], [436, 865, 6], [866, 18], [638, 49], [638, 55], [382, 5], [382, 38], [382, 56, 42], [382, 56, 42], [441, 17], [441, 39], [441, 39], [240, 34], [240, 25], [240, 17], [240, 50], [240, 44], [240, 2], [540, 24], [150, 21], [150, 11], [150, 20], [150, 5], [150, 8], [150, 4], [150, 38], [150, 28], [442, 21], [442, 157], [241, 15], [241, 49], [241, 32], [241, 53], [241, 33], [639, 21], [224, 22], [224, 22], [1082, 6], [541, 26, 7], [443, 34], [443, 53], [600, 33], [867, 43], [128, 25], [128, 11], [128, 20], [128, 5], [128, 8], [128, 4], [128, 48], [128, 43], [128, 49], [128, 32], [128, 44], [128, 51, 60], [128, 28], [51, 60, 6], [51, 60, 5], [51, 60, 8], [51, 60, 4], [51, 60, 28], [640, 39], [640, 39], [41, 598, 34], [41, 598, 66], [641, 10], [236, 14, 1083, 26, 18], [642, 34], [642, 5], [868, 8], [869, 5], [542, 24], [155, 304, 11], [155, 304, 8], [155, 304, 15], [155, 304, 48], [155, 304, 32], [155, 304, 44], [151, 152, 21], [151, 152, 11], [151, 152, 20], [151, 152, 5], [151, 152, 8], [151, 152, 33], [151, 152, 28], [1084, 18], [383, 4], [383, 38], [383, 2], [643, 7], [870, 43], [36, 17], [644, 32], [644, 33], [871, 25], [872, 18], [74, 74, 8], [873, 7], [51, 20], [51, 15], [51, 48], [51, 50], [51, 43], [51, 32], [51, 51, 60], [51, 33], [49, 8], [49, 49], [49, 32], [49, 51, 60], [874, 26, 18], [1085, 18], [875, 161, 53], [875, 161, 33], [338, 34], [338, 25], [338, 28], [242, 14, 876, 18], [175, 17], [175, 11], [175, 20], [175, 8], [175, 15], [175, 48], [175, 50], [175, 43], [175, 32], [175, 33], [121, 54, 34], [121, 54, 17], [121, 54, 11], [121, 54, 20], [121, 54, 5], [121, 54, 8], [121, 54, 15], [121, 54, 48], [121, 54, 50], [121, 54, 43], [121, 54, 32], [121, 54, 44], [121, 54, 53], [121, 54, 51, 60], [121, 54, 2], [543, 38], [877, 25], [25, 25], [878, 6], [384, 5], [384, 8], [384, 4], [423, 10], [305, 20], [305, 8], [305, 15], [305, 43], [305, 32], [305, 53], [645, 25], [645, 8], [1086, 18], [385, 22], [385, 22], [879, 55], [386, 17], [386, 11], [386, 2], [601, 54, 6], [601, 54, 66], [880, 881, 17], [544, 10], [544, 24], [882, 7], [646, 21], [1087, 17], [883, 25], [884, 17], [444, 34], [444, 7], [1088, 18], [885, 25], [886, 11], [1089, 33], [647, 17], [647, 50], [306, 21], [306, 11], [306, 20], [306, 24], [306, 2], [339, 44], [189, 21], [189, 4], [189, 38], [189, 22], [189, 22], [16, 2], [16, 22], [16, 22], [387, 81, 4], [387, 81, 44], [387, 81, 38], [307, 5], [307, 8], [307, 22], [307, 22], [106, 10], [106, 21], [106, 11], [106, 20], [106, 7], [106, 5], [106, 8], [106, 4], [106, 28], [1090, 34], [1091, 28], [887, 53], [887, 33], [648, 17], [648, 4], [146, 20], [146, 5], [146, 8], [146, 4], [146, 38], [146, 2], [146, 39], [146, 39], [210, 10], [210, 11], [210, 7], [210, 8], [210, 48], [210, 43], [649, 2], [1092, 17], [888, 4], [445, 22], [445, 22], [650, 21], [446, 447, 21], [236, 14, 889, 50], [190, 34], [190, 11], [190, 20], [190, 5], [190, 8], [190, 48], [190, 50], [190, 44], [190, 157], [890, 44], [273, 6], [273, 2], [308, 34], [308, 17], [308, 24], [308, 15], [308, 50], [308, 53], [71, 6], [71, 17], [71, 11], [71, 20], [71, 5], [71, 8], [71, 4], [71, 15], [71, 48], [71, 43], [71, 32], [71, 44], [71, 51, 60], [71, 33], [71, 2], [71, 28], [651, 26, 18], [651, 26, 7], [74, 5], [74, 38], [74, 56, 42], [74, 56, 42], [1093, 53], [12, 21], [12, 11], [12, 20], [12, 5], [12, 8], [12, 4], [891, 15], [1094, 38], [340, 21], [73, 10], [73, 6], [73, 21], [73, 11], [73, 20], [73, 5], [73, 8], [73, 4], [73, 39], [73, 39], [254, 10], [254, 7], [254, 53], [254, 66], [388, 5], [388, 4], [388, 2], [1095, 18], [892, 7], [274, 21], [274, 17], [274, 20], [12, 17], [40, 26, 2], [448, 21], [1096, 17], [243, 17], [243, 2], [243, 39], [243, 39], [309, 10], [652, 38], [242, 17], [242, 11], [242, 8], [242, 43], [242, 32], [242, 33], [341, 7], [341, 8], [341, 33], [545, 188, 24], [1097, 43], [449, 17], [893, 7], [546, 371, 22], [546, 371, 22], [191, 11], [191, 20], [191, 5], [191, 8], [191, 4], [191, 15], [191, 53], [191, 33], [310, 4], [310, 38], [310, 22], [310, 22], [162, 17], [162, 11], [162, 20], [162, 5], [162, 8], [162, 15], [162, 48], [162, 50], [162, 43], [162, 32], [162, 44], [162, 33], [389, 5], [390, 5], [390, 4], [342, 14, 46, 10], [342, 14, 46, 34], [342, 14, 46, 6], [342, 14, 46, 11], [342, 14, 46, 53], [1098, 34], [1099, 18], [1100, 38], [391, 15], [391, 48], [391, 43], [391, 44], [391, 157], [894, 24], [23, 5], [23, 8], [23, 4], [98, 21], [98, 11], [98, 7], [98, 5], [98, 8], [98, 4], [98, 2], [98, 28], [311, 1, 34], [311, 1, 20], [311, 1, 5], [311, 1, 2], [450, 2], [653, 11], [654, 2], [547, 17], [547, 2], [211, 21], [211, 20], [211, 8], [211, 4], [211, 38], [211, 22], [211, 22], [655, 21], [451, 18], [451, 7], [451, 66], [134, 10], [134, 21], [134, 11], [134, 7], [134, 66], [656, 21], [656, 20], [176, 10], [176, 21], [176, 11], [176, 8], [176, 4], [176, 53], [176, 51, 60], [657, 14, 21], [895, 34], [100, 42, 10], [100, 42, 11], [100, 42, 20], [100, 42, 7], [100, 42, 5], [100, 42, 8], [100, 42, 2], [100, 42, 28], [100, 42, 22], [100, 42, 22], [86, 6], [86, 21], [86, 17], [86, 11], [86, 20], [86, 7], [86, 8], [86, 4], [86, 15], [86, 48], [86, 43], [86, 49], [86, 32], [86, 44], [86, 53], [86, 33], [275, 10], [275, 7], [177, 17], [177, 11], [177, 20], [177, 8], [177, 15], [177, 48], [177, 43], [177, 32], [177, 33], [192, 193, 17], [192, 193, 11], [192, 193, 5], [192, 193, 8], [192, 193, 48], [192, 193, 43], [192, 193, 44], [192, 193, 51, 60], [192, 193, 2], [392, 4], [658, 7], [452, 2], [13, 21], [13, 20], [13, 2], [276, 20], [276, 5], [276, 4], [276, 28], [896, 24], [212, 34], [212, 21], [212, 24], [212, 5], [212, 8], [212, 53], [212, 2], [897, 32], [897, 53], [453, 2], [898, 7], [659, 18], [548, 17], [548, 15], [548, 50], [549, 17], [549, 2], [550, 15], [550, 48], [1101, 18], [899, 10], [900, 25], [1102, 50], [67, 57, 17], [67, 57, 11], [67, 57, 20], [67, 57, 5], [67, 57, 8], [67, 57, 4], [67, 57, 15], [67, 57, 48], [67, 57, 43], [67, 57, 32], [67, 57, 44], [67, 57, 53], [67, 57, 51, 60], [67, 57, 33], [67, 57, 2], [67, 57, 22], [67, 57, 22], [277, 21], [277, 20], [277, 7], [277, 53], [277, 33], [551, 2], [213, 5], [213, 2], [213, 22], [213, 22], [1103, 17], [19, 10], [19, 21], [19, 11], [19, 20], [19, 7], [19, 8], [19, 4], [19, 2], [19, 28], [19, 22], [19, 22], [901, 25], [494, 6], [494, 8], [41, 69, 10], [41, 69, 6], [41, 69, 11], [41, 69, 20], [41, 69, 7], [41, 69, 24], [41, 69, 5], [41, 69, 8], [41, 69, 4], [41, 69, 2], [41, 69, 39], [41, 69, 28], [41, 69, 39], [41, 69, 22], [41, 69, 22], [41, 107, 6], [41, 107, 11], [41, 107, 20], [41, 107, 5], [41, 107, 8], [41, 107, 4], [41, 107, 2], [41, 107, 39], [41, 107, 39], [1104, 34], [1105, 34], [660, 6], [660, 55], [1106, 10], [178, 14, 194, 10], [178, 14, 194, 7], [178, 14, 194, 8], [178, 14, 194, 28], [1107, 6], [661, 7], [214, 21], [214, 17], [214, 20], [214, 38], [214, 28], [393, 20], [393, 4], [393, 38], [97], [393, 2], [454, 17], [278, 17], [278, 20], [278, 8], [278, 15], [278, 48], [278, 50], [278, 157], [902, 17], [902, 38], [97], [662, 24], [455, 456, 20], [455, 456, 56, 42], [455, 456, 56, 42], [663, 38], [663, 2], [1108, 17], [1109, 21], [394, 161, 15], [394, 161, 32], [394, 161, 53], [394, 161, 51, 60], [1110, 44], [1111, 21], [903, 24], [457, 34], [457, 25], [457, 8], [457, 28], [395, 21], [395, 17], [395, 11], [395, 38], [1112, 17], [458, 21], [396, 2], [396, 39], [396, 39], [279, 11], [279, 8], [279, 48], [279, 32], [279, 44], [279, 53], [279, 51, 60], [279, 33], [108, 17], [108, 11], [108, 20], [108, 5], [108, 8], [108, 15], [108, 50], [108, 43], [108, 32], [108, 33], [108, 2], [108, 28], [1113, 6], [74, 1114, 14, 6], [664, 1, 34], [664, 1, 28], [904, 17], [904, 38], [97], [459, 20], [459, 50], [459, 32], [459, 33], [244, 81, 21], [244, 81, 17], [244, 81, 11], [244, 81, 20], [195, 5], [195, 4], [195, 38], [195, 2], [141, 1, 34], [141, 1, 6], [141, 1, 11], [141, 1, 20], [141, 1, 5], [141, 1, 8], [141, 1, 4], [141, 1, 2], [141, 1, 28], [397, 5], [397, 38], [397, 2], [905, 34], [665, 18], [906, 55], [398, 18], [398, 7], [398, 28], [236, 14, 907, 55], [97], [908, 24], [666, 7], [667, 14, 46, 44], [668, 4], [668, 38], [552, 10], [552, 24], [669, 34], [669, 24], [460, 34], [460, 24], [460, 2], [594, 21], [909, 21], [553, 17], [553, 44], [599, 21], [670, 25], [671, 20], [671, 7], [461, 21], [461, 24], [672, 14, 46, 7], [462, 25], [462, 8], [462, 4], [1115, 18], [136, 17], [136, 11], [136, 20], [136, 5], [136, 8], [136, 4], [136, 2], [463, 7], [673, 8], [129, 17], [129, 11], [129, 20], [129, 8], [129, 4], [129, 33], [129, 38], [129, 2], [554, 43], [554, 32], [343, 21], [343, 20], [910, 2], [911, 14, 46, 66], [312, 313, 34], [312, 313, 11], [312, 313, 24], [312, 313, 66], [912, 24], [314, 5], [314, 4], [314, 2], [344, 10], [344, 18], [344, 7], [109, 21], [109, 11], [109, 20], [109, 5], [109, 8], [109, 4], [109, 33], [109, 38], [109, 2], [109, 28], [109, 22], [109, 22], [674, 7], [345, 34], [345, 25], [345, 66], [913, 21], [235, 914, 55], [464, 34], [464, 24], [675, 17], [675, 50], [675, 44], [555, 7], [555, 66], [418, 10], [1116, 6], [915, 48], [1117, 7], [916, 25], [676, 17], [556, 15], [556, 48], [556, 44], [677, 17], [465, 38], [465, 2], [1118, 34], [557, 21], [557, 8], [557, 33], [917, 43], [917, 32], [918, 4], [466, 10], [466, 2], [80, 74, 22], [80, 74, 22], [919, 44], [919, 33], [467, 18], [467, 43], [196, 18], [196, 6], [196, 17], [196, 11], [196, 7], [558, 4], [558, 44], [920, 66], [59, 17], [59, 11], [59, 20], [59, 8], [59, 15], [59, 48], [59, 32], [59, 44], [59, 53], [59, 51, 60], [1119, 18], [1120, 34], [346, 2], [559, 8], [559, 4], [559, 32], [41, 678, 4], [560, 21], [560, 2], [679, 680, 53], [399, 4], [399, 2], [97], [245, 10], [245, 7], [245, 43], [245, 66], [468, 48], [468, 32], [468, 53], [921, 34], [921, 53], [27, 34], [27, 11], [27, 20], [27, 5], [27, 8], [27, 4], [27, 50], [27, 43], [27, 32], [27, 44], [27, 51, 60], [27, 33], [27, 2], [85, 25], [85, 17], [85, 11], [85, 20], [85, 5], [85, 8], [85, 4], [85, 15], [85, 48], [85, 43], [85, 49], [85, 32], [85, 44], [85, 53], [85, 33], [85, 2], [85, 28], [681, 21], [681, 17], [922, 44], [101, 1, 17], [101, 1, 11], [101, 1, 20], [101, 1, 5], [101, 1, 8], [101, 1, 4], [101, 1, 15], [101, 1, 48], [101, 1, 50], [101, 1, 43], [101, 1, 32], [101, 1, 44], [101, 1, 53], [101, 1, 51, 60], [101, 1, 33], [1121, 17], [215, 4], [215, 2], [215, 39], [215, 39], [315, 64, 15], [315, 64, 48], [315, 64, 43], [315, 64, 32], [315, 64, 44], [315, 64, 33], [510, 55], [923, 55], [1122, 34], [924, 34], [316, 38], [316, 2], [316, 39], [316, 39], [400, 5], [400, 4], [246, 10], [246, 11], [246, 20], [246, 7], [246, 48], [246, 43], [246, 32], [682, 4], [317, 38], [317, 2], [130, 21], [130, 11], [130, 20], [130, 24], [130, 5], [130, 38], [130, 2], [130, 39], [130, 56, 42], [130, 39], [130, 56, 42], [925, 25], [97], [1123, 17], [401, 5], [401, 43], [401, 33], [926, 17], [469, 17], [469, 48], [469, 43], [430, 17], [97], [163, 25], [163, 20], [163, 7], [163, 8], [163, 4], [163, 28], [280, 21], [280, 22], [280, 22], [561, 45, 17], [561, 45, 50], [561, 45, 38], [927, 161, 34], [1124, 44], [289, 14, 1125, 18], [1126, 18], [928, 17], [402, 17], [402, 11], [402, 20], [402, 38], [164, 11], [164, 5], [164, 8], [164, 4], [929, 17], [197, 21], [197, 17], [197, 11], [197, 4], [197, 2], [347, 7], [348, 10], [348, 34], [348, 21], [131, 11], [131, 20], [131, 5], [131, 8], [131, 4], [131, 2], [131, 22], [131, 22], [318, 2], [318, 22], [318, 22], [24, 10], [24, 21], [24, 11], [24, 20], [24, 24], [24, 5], [24, 8], [24, 28], [294, 10], [294, 24], [294, 2], [470, 7], [470, 15], [470, 50], [139, 11], [683, 18], [683, 7], [9, 10], [9, 11], [9, 7], [1127, 17], [471, 161, 34], [471, 161, 2], [472, 21], [472, 38], [247, 17], [247, 11], [247, 20], [247, 7], [247, 15], [247, 50], [216, 11], [216, 5], [1128, 32], [124, 68, 6], [124, 68, 17], [124, 68, 11], [124, 68, 5], [124, 68, 8], [124, 68, 4], [124, 68, 2], [124, 68, 22], [124, 68, 22], [930, 329, 44], [97], [684, 34], [684, 55], [931, 24], [198, 17], [198, 11], [198, 5], [198, 8], [198, 50], [198, 32], [198, 53], [198, 2], [4, 6], [4, 11], [4, 20], [4, 5], [4, 8], [4, 4], [4, 53], [4, 33], [4, 38], [4, 2], [4, 28], [562, 10], [562, 24], [349, 10], [349, 21], [349, 7], [349, 66], [1129, 66], [217, 11], [217, 7], [217, 8], [217, 32], [217, 44], [217, 51, 60], [217, 66], [45, 17], [45, 20], [45, 15], [45, 50], [45, 157], [248, 17], [248, 15], [248, 43], [248, 2], [350, 104, 8], [350, 104, 32], [350, 104, 51, 60], [685, 6], [685, 55], [115, 24], [1130, 34], [932, 11], [932, 43], [686, 21], [933, 7], [319, 18], [319, 21], [319, 7], [3, 1, 6], [3, 1, 21], [3, 1, 17], [3, 1, 11], [3, 1, 20], [3, 1, 5], [3, 1, 8], [3, 1, 4], [3, 1, 2], [3, 1, 28], [424, 1, 10], [424, 1, 11], [687, 21], [1131, 34], [142, 17], [142, 11], [142, 24], [142, 5], [142, 4], [142, 38], [142, 2], [403, 21], [403, 17], [403, 2], [199, 17], [199, 11], [199, 8], [199, 15], [199, 48], [199, 50], [199, 43], [199, 32], [199, 44], [199, 51, 60], [563, 34], [563, 24], [563, 66], [934, 564, 34], [565, 7], [688, 34], [688, 5], [320, 20], [320, 15], [320, 48], [320, 43], [320, 32], [320, 33], [218, 11], [218, 20], [218, 4], [218, 50], [218, 43], [218, 32], [218, 33], [473, 26, 18], [689, 15], [689, 50], [474, 11], [474, 20], [474, 15], [474, 50], [70, 34], [70, 6], [70, 17], [70, 11], [70, 20], [70, 24], [70, 5], [70, 8], [70, 4], [70, 15], [70, 48], [70, 43], [70, 49], [70, 32], [70, 44], [70, 53], [70, 33], [70, 38], [70, 2], [132, 17], [132, 11], [132, 20], [132, 15], [132, 48], [132, 50], [132, 32], [132, 44], [132, 157], [132, 33], [132, 38], [132, 2], [566, 4], [690, 55], [1132, 28], [153, 21], [153, 11], [153, 20], [153, 4], [153, 43], [153, 38], [153, 2], [935, 44], [133, 14, 46, 10], [133, 14, 46, 34], [133, 14, 46, 21], [133, 14, 46, 25], [133, 14, 46, 11], [133, 14, 46, 20], [133, 14, 46, 7], [133, 14, 46, 22], [133, 14, 46, 22], [1133, 17], [116, 21], [116, 17], [116, 11], [116, 20], [116, 5], [116, 8], [116, 4], [116, 48], [116, 43], [116, 44], [116, 2], [116, 28], [1134, 32], [567, 22], [567, 22], [87, 34], [87, 6], [87, 11], [87, 20], [87, 24], [87, 5], [87, 8], [87, 4], [87, 38], [87, 2], [87, 28], [87, 22], [87, 22], [475, 21], [475, 20], [165, 17], [165, 11], [165, 20], [165, 8], [165, 15], [165, 50], [165, 43], [165, 32], [165, 33], [165, 2], [94, 64, 25], [94, 64, 17], [94, 64, 11], [94, 64, 20], [94, 64, 5], [94, 64, 8], [94, 64, 4], [94, 64, 15], [94, 64, 48], [94, 64, 43], [94, 64, 32], [94, 64, 44], [94, 64, 51, 60], [94, 64, 2], [94, 64, 28], [691, 2], [404, 21], [110, 21], [110, 17], [110, 11], [110, 20], [110, 5], [110, 8], [110, 4], [110, 2], [110, 22], [110, 22], [154, 10], [154, 21], [154, 17], [154, 11], [154, 20], [154, 7], [154, 66], [1135, 18], [321, 14, 81, 17], [321, 14, 81, 20], [351, 22], [351, 22], [476, 692, 8], [476, 692, 2], [1136, 54, 17], [936, 17], [936, 32], [477, 26, 10], [477, 26, 21], [477, 26, 24], [693, 21], [937, 32], [352, 10], [352, 18], [352, 7], [1137, 38], [353, 5], [353, 4], [353, 28], [938, 14, 46, 15], [1138, 6], [694, 2], [155, 38], [281, 21], [281, 7], [281, 22], [281, 22], [939, 55], [695, 48], [695, 157], [1139, 6], [45, 57, 34], [45, 57, 11], [45, 57, 20], [45, 57, 5], [45, 57, 8], [45, 57, 4], [45, 57, 15], [45, 57, 48], [45, 57, 43], [45, 57, 32], [45, 57, 33], [696, 7], [518, 7], [82, 34], [82, 6], [82, 17], [82, 11], [82, 20], [82, 5], [82, 8], [82, 4], [82, 2], [82, 39], [82, 28], [82, 39], [405, 15], [405, 32], [405, 53], [405, 51, 60], [282, 17], [282, 11], [282, 20], [282, 15], [282, 50], [282, 43], [282, 32], [282, 33], [697, 10], [95, 10], [95, 17], [95, 11], [95, 20], [95, 5], [95, 8], [95, 15], [95, 48], [95, 43], [95, 49], [95, 32], [95, 44], [95, 53], [95, 51, 60], [95, 33], [322, 20], [322, 15], [322, 50], [322, 32], [322, 53], [322, 33], [1140, 21], [698, 7], [698, 66], [478, 10], [478, 7], [940, 104, 2], [406, 4], [406, 38], [406, 2], [179, 11], [179, 7], [179, 5], [179, 8], [179, 2], [283, 10], [283, 21], [283, 11], [283, 8], [941, 49], [942, 4], [943, 18], [122, 6], [122, 11], [122, 20], [122, 5], [122, 8], [122, 4], [122, 39], [122, 28], [122, 39], [284, 5], [284, 4], [284, 2], [1141, 32], [180, 11], [180, 20], [180, 8], [180, 15], [180, 48], [180, 50], [180, 43], [180, 32], [180, 44], [180, 157], [180, 28], [1142, 20], [479, 4], [479, 2], [1143, 17], [407, 10], [407, 24], [407, 66], [568, 18], [568, 66], [408, 21], [408, 17], [408, 2], [944, 24], [480, 21], [480, 17], [125, 11], [125, 20], [125, 5], [125, 8], [125, 4], [125, 50], [125, 33], [125, 38], [125, 2], [125, 22], [125, 22], [1144, 17], [699, 7], [481, 34], [481, 2], [945, 17], [945, 157], [97], [946, 34], [946, 66], [354, 55], [947, 32], [700, 2], [948, 7], [111, 21], [111, 11], [111, 20], [111, 24], [111, 5], [111, 8], [111, 4], [111, 50], [111, 33], [111, 38], [111, 2], [446, 17], [355, 7], [355, 24], [355, 50], [249, 20], [249, 5], [249, 2], [45, 52, 6], [45, 52, 17], [45, 52, 11], [45, 52, 20], [45, 52, 5], [45, 52, 8], [45, 52, 4], [45, 52, 48], [45, 52, 43], [45, 52, 32], [45, 52, 44], [45, 52, 38], [45, 52, 2], [45, 52, 28], [285, 34], [285, 5], [285, 8], [285, 4], [285, 2], [409, 25], [409, 17], [409, 8], [409, 48], [409, 44], [286, 17], [286, 11], [286, 20], [286, 5], [286, 33], [356, 22], [356, 22], [701, 53], [569, 17], [569, 2], [410, 21], [410, 17], [410, 20], [570, 10], [570, 7], [1145, 6], [181, 17], [181, 11], [181, 4], [181, 44], [181, 2], [143, 34], [143, 25], [143, 5], [143, 4], [143, 2], [143, 28], [200, 17], [200, 11], [200, 8], [200, 15], [200, 32], [200, 53], [200, 2], [1146, 17], [357, 21], [357, 2], [102, 6], [102, 17], [102, 11], [102, 20], [102, 5], [102, 8], [102, 4], [102, 2], [102, 39], [102, 39], [1147, 188, 44], [571, 21], [219, 5], [219, 4], [572, 18], [572, 7], [949, 54, 21], [1148, 17], [1149, 17], [220, 137, 20], [220, 137, 2], [220, 137, 28], [573, 21], [358, 21], [358, 38], [358, 2], [574, 14, 46, 25], [574, 14, 46, 22], [574, 14, 46, 22], [702, 8], [702, 4], [703, 2], [950, 24], [250, 20], [250, 2], [575, 2], [704, 15], [704, 44], [96, 10], [96, 34], [96, 6], [96, 17], [96, 11], [96, 20], [96, 7], [96, 24], [96, 5], [96, 8], [96, 4], [96, 2], [144, 5], [144, 8], [144, 4], [144, 49], [144, 32], [144, 44], [144, 53], [144, 51, 60], [251, 20], [251, 2], [251, 22], [251, 22], [576, 14, 25], [576, 14, 17], [576, 14, 43], [97], [411, 21], [411, 17], [411, 2], [482, 2], [41, 339, 22], [41, 339, 22], [359, 21], [359, 20], [359, 7], [359, 8], [2, 17], [2, 11], [2, 20], [2, 5], [2, 8], [2, 4], [2, 38], [2, 2], [577, 578, 15], [577, 578, 48], [577, 578, 32], [201, 17], [201, 20], [201, 2], [412, 34], [412, 25], [412, 2], [483, 15], [483, 50], [483, 43], [323, 21], [323, 5], [323, 8], [323, 4], [252, 21], [252, 17], [252, 11], [252, 8], [252, 4], [252, 2], [1150, 137, 38], [324, 17], [324, 7], [324, 50], [324, 49], [324, 157], [951, 48], [951, 44], [235, 80, 34], [325, 25], [325, 17], [325, 8], [325, 4], [325, 49], [97], [326, 20], [326, 8], [326, 33], [326, 2], [579, 17], [579, 38], [579, 2], [327, 17], [327, 11], [327, 15], [327, 48], [327, 50], [97], [580, 25], [580, 24], [1151, 17], [52, 522, 51, 60], [52, 522, 33], [413, 34], [413, 17], [413, 2], [88, 34], [88, 11], [88, 20], [88, 5], [88, 8], [88, 4], [88, 15], [88, 48], [88, 43], [88, 32], [88, 44], [88, 51, 60], [88, 33], [88, 2], [50], [56, 42], [56, 42], [952, 55], [581, 17], [581, 50], [582, 25], [582, 17], [582, 157], [97], [97], [1152, 66], [1153, 17], [97], [253, 21], [253, 17], [253, 11], [253, 20], [253, 50], [253, 2], [113, 115, 34], [113, 115, 25], [113, 115, 20], [113, 115, 5], [113, 115, 8], [113, 115, 4], [113, 115, 32], [113, 115, 38], [97], [113, 115, 2], [113, 115, 28], [828, 25], [8, 8], [602, 12], [602, 9], [58, 58], [1154, 36], [1155, 156, 45], [28, 24], [28, 5], [28, 3, 1], [28, 28], [28, 19], [484, 3, 1], [484, 16], [484, 28], [484, 19], [484, 23], [332, 7], [332, 25], [332, 9], [136, 56, 42], [521, 12], [521, 9], [521, 23], [6, 6], [236, 14, 1156, 23], [1157, 3, 1], [183, 183], [603, 40, 26], [603, 2], [1158, 36], [1159, 1, 12], [361, 361], [604, 15], [604, 12], [15, 15], [289, 14, 927, 118], [605, 3, 1], [605, 9], [99, 5], [99, 4], [99, 27], [99, 15], [99, 2], [99, 3, 1], [99, 29], [99, 23], [74, 522, 14, 55], [66, 66], [830, 19], [831, 27], [32, 32], [1160, 3, 1], [606, 25], [75, 498], [75, 75], [1161, 35], [832, 9], [18, 18], [953, 19], [953, 9], [607, 56, 42], [499, 14, 499, 14], [833, 12], [608, 7], [1162, 36], [954, 50], [954, 32], [5, 24], [5, 5], [5, 4], [5, 27], [5, 2], [5, 12], [5, 39], [5, 3, 1], [5, 28], [5, 23], [501, 501], [1163, 183], [186, 167, 15], [186, 167, 10], [186, 167, 29], [261, 4], [261, 27], [261, 30], [261, 2], [524, 12], [524, 19], [609, 14, 373, 7], [1164, 9], [610, 40, 26], [610, 2], [56, 42, 56, 42], [611, 9], [611, 23], [835, 24], [426, 2], [426, 12], [426, 36], [426, 9], [1165, 9], [72, 5], [72, 4], [72, 27], [72, 33], [72, 2], [72, 12], [72, 39], [72, 35], [72, 37], [72, 3, 1], [72, 13], [72, 16], [72, 22], [72, 36], [72, 28], [72, 19], [535, 1166, 2], [427, 12], [427, 19], [427, 9], [427, 23], [955, 3, 1], [955, 13], [1167, 19], [31, 7], [31, 10], [230, 15], [956, 15], [956, 12], [957, 49], [957, 12], [295, 5], [295, 2], [295, 37], [295, 3, 1], [295, 13], [295, 23], [21, 21], [1168, 9], [1169, 16], [836, 25], [958, 13], [958, 16], [231, 7], [231, 40, 26], [231, 2], [231, 12], [231, 9], [232, 4], [232, 19], [232, 23], [436, 104, 260], [1170, 40, 26], [48, 48], [363, 15], [363, 29], [428, 27], [428, 2], [221, 221], [221, 498], [827, 1171, 256], [837, 7], [292, 292], [233, 4], [233, 29], [233, 19], [233, 23], [234, 14, 46, 7], [234, 14, 46, 24], [234, 14, 46, 10], [234, 14, 46, 29], [234, 14, 46, 9], [260, 260], [959, 40, 26], [959, 9], [30, 4], [30, 30], [30, 2], [30, 29], [525, 526, 49], [258, 7], [258, 40, 26], [258, 10], [258, 3, 1], [258, 9], [421, 23], [429, 27], [429, 29], [838, 12], [1172, 55], [204, 12], [204, 3, 1], [204, 13], [204, 16], [204, 28], [204, 19], [168, 103, 14, 15], [168, 103, 14, 2], [168, 103, 14, 12], [168, 103, 14, 3, 1], [168, 103, 14, 36], [168, 103, 14, 9], [960, 36], [960, 9], [76, 1, 76, 1], [10, 7], [10, 24], [10, 10], [10, 19], [10, 9], [961, 37], [961, 13], [527, 9], [527, 23], [612, 2], [235, 263, 4], [235, 263, 30], [235, 263, 2], [235, 263, 19], [962, 27], [962, 12], [92, 19], [613, 10], [1173, 156, 45], [1174, 12], [330, 330], [264, 12], [264, 16], [264, 22], [264, 19], [90, 5], [90, 4], [90, 2], [90, 12], [90, 35], [90, 37], [90, 3, 1], [90, 13], [90, 16], [90, 22], [90, 36], [90, 28], [90, 19], [90, 9], [963, 25], [963, 29], [1175, 29], [296, 27], [296, 15], [145, 7], [145, 10], [145, 29], [145, 19], [145, 9], [145, 23], [1176, 3, 1], [1177, 16], [528, 7], [528, 9], [29, 4], [29, 27], [29, 30], [29, 49], [29, 29], [29, 19], [29, 9], [135, 5], [135, 4], [135, 30], [135, 2], [135, 3, 1], [135, 29], [135, 9], [1178, 2], [236, 14, 614, 2], [256, 256], [256, 118], [964, 35], [964, 55], [430, 529, 10], [430, 529, 25], [156, 45, 156, 45], [1179, 40, 26], [265, 27], [265, 12], [265, 3, 1], [265, 13], [265, 36], [1180, 13], [266, 2], [266, 12], [266, 3, 1], [266, 13], [266, 23], [705, 35], [705, 9], [705, 23], [333, 7], [333, 3, 1], [333, 16], [333, 19], [333, 9], [205, 7], [205, 24], [205, 40, 26], [205, 10], [205, 29], [205, 23], [615, 10], [237, 7], [237, 330], [237, 19], [237, 9], [237, 23], [841, 49], [28, 138, 7], [28, 138, 5], [28, 138, 10], [28, 138, 3, 1], [28, 138, 29], [28, 138, 19], [28, 138, 9], [28, 138, 23], [374, 330], [238, 27], [238, 49], [238, 36], [616, 40, 26], [616, 12], [844, 24], [431, 4], [431, 49], [845, 493], [267, 68, 49], [206, 15], [206, 3, 1], [206, 29], [207, 5], [207, 4], [207, 2], [207, 19], [207, 9], [207, 23], [502, 502], [1181, 33], [7, 7], [7, 10], [7, 19], [7, 9], [530, 104, 7], [530, 104, 9], [530, 104, 23], [293, 33], [293, 3, 1], [293, 16], [420, 9], [420, 23], [519, 49], [965, 12], [965, 36], [74, 706, 118], [74, 706, 35], [74, 706, 16], [1182, 14, 46, 9], [1183, 23], [1184, 55], [267, 328, 49], [966, 40, 26], [966, 260], [617, 24], [55, 55], [41, 416, 25], [618, 26, 40, 26], [618, 26, 25], [369, 54, 156, 45], [369, 54, 40, 26], [369, 54, 12], [369, 54, 23], [583, 3, 1], [583, 13], [583, 9], [583, 23], [239, 7], [239, 4], [239, 49], [239, 29], [239, 19], [239, 9], [239, 23], [531, 15], [531, 9], [846, 9], [91, 24], [91, 5], [91, 4], [91, 30], [91, 2], [91, 12], [91, 39], [91, 35], [91, 3, 1], [91, 16], [91, 28], [91, 19], [169, 170, 4], [169, 170, 2], [169, 170, 12], [169, 170, 22], [169, 170, 23], [432, 27], [432, 29], [432, 19], [432, 23], [707, 3, 1], [707, 13], [707, 19], [619, 14, 620, 7], [619, 14, 620, 9], [268, 4], [268, 25], [268, 19], [297, 12], [297, 3, 1], [297, 22], [297, 19], [297, 23], [621, 37], [375, 1, 10], [375, 1, 3, 1], [375, 1, 29], [375, 1, 9], [375, 1, 23], [1185, 16], [376, 156, 45], [298, 262, 12], [298, 262, 10], [298, 262, 19], [622, 25], [158, 4], [158, 2], [158, 10], [158, 29], [158, 23], [299, 15], [299, 29], [299, 330], [848, 25], [624, 24], [624, 9], [584, 30], [584, 3, 1], [584, 13], [584, 29], [625, 36], [626, 25], [627, 24], [627, 13], [52, 523, 24], [147, 40, 26], [147, 12], [147, 10], [147, 29], [147, 19], [147, 23], [331, 7], [331, 10], [331, 9], [628, 7], [849, 40, 26], [377, 24], [377, 56, 42], [377, 23], [300, 7], [300, 35], [300, 37], [300, 3, 1], [300, 36], [39, 5], [39, 39], [187, 27], [187, 15], [187, 12], [629, 25], [360, 12], [360, 35], [360, 37], [360, 3, 1], [360, 13], [360, 16], [360, 36], [967, 35], [967, 3, 1], [520, 329, 55], [520, 329, 9], [433, 12], [117, 7], [117, 24], [117, 4], [117, 2], [117, 10], [117, 29], [117, 23], [367, 68, 30], [367, 68, 29], [367, 68, 9], [269, 7], [269, 10], [269, 9], [269, 23], [434, 4], [434, 30], [434, 2], [532, 7], [532, 9], [270, 27], [270, 49], [270, 12], [270, 37], [1186, 40, 26], [105, 5], [105, 4], [105, 12], [105, 39], [105, 10], [105, 3, 1], [105, 16], [105, 28], [105, 19], [105, 9], [105, 23], [1187, 23], [1188, 40, 26], [533, 37], [533, 3, 1], [533, 13], [1189, 12], [338, 1, 35], [338, 1, 16], [338, 1, 166], [534, 2], [534, 12], [534, 13], [1190, 35], [123, 54, 27], [123, 54, 15], [123, 54, 12], [123, 54, 3, 1], [630, 36], [630, 55], [419, 419], [1191, 9], [334, 188, 30], [334, 188, 2], [334, 188, 35], [334, 188, 3, 1], [334, 188, 13], [334, 188, 16], [1192, 40, 26], [378, 15], [378, 3, 1], [378, 36], [631, 3, 1], [631, 28], [850, 7], [851, 9], [379, 104, 12], [379, 104, 19], [379, 104, 9], [379, 104, 23], [535, 16], [80, 564, 3, 1], [80, 564, 16], [852, 853, 24], [148, 5], [148, 4], [148, 27], [148, 49], [148, 2], [148, 12], [148, 3, 1], [148, 16], [435, 74, 3, 1], [435, 74, 36], [435, 74, 9], [854, 25], [1193, 13], [118, 256], [118, 118], [118, 35], [118, 16], [335, 7], [335, 10], [335, 29], [335, 9], [1194, 419], [1195, 166], [1196, 15], [1197, 40, 26], [119, 4], [119, 12], [119, 35], [119, 37], [119, 3, 1], [119, 16], [119, 22], [119, 28], [119, 19], [119, 9], [41, 1198, 16], [855, 2], [336, 15], [336, 49], [336, 12], [171, 24], [171, 5], [171, 4], [171, 30], [171, 2], [171, 12], [171, 35], [171, 37], [171, 3, 1], [171, 13], [171, 16], [708, 35], [708, 16], [708, 166], [35, 33], [35, 118], [35, 35], [35, 37], [35, 3, 1], [35, 13], [35, 16], [35, 166], [437, 27], [437, 30], [437, 29], [437, 9], [149, 7], [149, 2], [149, 10], [149, 3, 1], [149, 29], [149, 19], [52, 93, 7], [52, 93, 5], [52, 93, 4], [52, 93, 27], [52, 93, 2], [52, 93, 35], [52, 93, 3, 1], [52, 93, 22], [52, 93, 28], [52, 93, 19], [709, 118], [709, 3, 1], [709, 16], [485, 12], [485, 13], [485, 16], [485, 19], [485, 9], [968, 49], [968, 12], [120, 5], [120, 4], [120, 27], [120, 30], [120, 49], [120, 40, 26], [120, 2], [120, 3, 1], [120, 13], [120, 29], [120, 19], [159, 4], [159, 27], [159, 12], [159, 3, 1], [159, 13], [159, 19], [438, 7], [438, 36], [438, 9], [438, 23], [856, 9], [632, 30], [632, 35], [301, 103, 14, 35], [301, 103, 14, 3, 1], [301, 103, 14, 55], [301, 103, 14, 9], [301, 103, 14, 23], [139, 160, 7], [139, 160, 5], [139, 160, 10], [139, 160, 35], [139, 160, 3, 1], [139, 160, 16], [139, 160, 19], [139, 160, 9], [139, 160, 23], [1199, 14, 81, 23], [633, 15], [380, 381, 4], [380, 381, 12], [380, 381, 3, 1], [380, 381, 19], [1200, 29], [857, 36], [858, 9], [537, 7], [537, 9], [178, 14, 9], [140, 26, 24], [140, 26, 5], [140, 26, 10], [140, 26, 29], [1201, 13], [1202, 26, 40, 26], [634, 55], [22, 16], [22, 22], [22, 19], [45, 263, 49], [45, 263, 12], [255, 30], [255, 2], [969, 9], [969, 23], [970, 3, 1], [970, 16], [859, 7], [860, 26, 40, 26], [208, 5], [208, 4], [208, 30], [208, 2], [208, 3, 1], [208, 16], [208, 36], [861, 7], [337, 40, 26], [337, 10], [337, 3, 1], [337, 13], [337, 9], [1203, 3, 1], [1204, 12], [635, 14, 373, 10], [172, 4], [172, 27], [172, 3, 1], [172, 29], [172, 19], [271, 5], [271, 4], [271, 30], [271, 2], [271, 19], [512, 30], [509, 25], [173, 5], [173, 4], [173, 2], [173, 12], [173, 37], [173, 13], [173, 19], [862, 40, 26], [1205, 256], [439, 5], [439, 4], [538, 27], [174, 7], [174, 12], [174, 10], [174, 3, 1], [174, 13], [174, 19], [174, 9], [174, 23], [863, 25], [291, 40, 26], [971, 9], [971, 23], [864, 3, 1], [114, 7], [114, 4], [114, 2], [114, 10], [114, 29], [114, 22], [114, 19], [114, 9], [209, 5], [209, 27], [209, 15], [209, 37], [209, 3, 1], [209, 29], [1206, 12], [272, 7], [272, 15], [272, 3, 1], [272, 9], [272, 23], [539, 5], [539, 3, 1], [302, 27], [302, 33], [302, 12], [302, 35], [302, 37], [302, 3, 1], [710, 35], [710, 37], [710, 3, 1], [440, 2], [440, 37], [440, 3, 1], [440, 13], [1207, 447, 183], [303, 35], [303, 37], [303, 3, 1], [303, 16], [303, 36], [303, 28], [1208, 35], [1209, 30], [866, 9], [711, 12], [711, 3, 1], [711, 16], [638, 49], [1210, 13], [382, 5], [382, 56, 42], [441, 12], [441, 39], [240, 2], [240, 12], [240, 25], [240, 13], [540, 24], [540, 3, 1], [540, 13], [972, 14, 46, 3, 1], [972, 14, 46, 9], [150, 5], [150, 4], [150, 12], [150, 3, 1], [150, 16], [150, 28], [150, 19], [442, 3, 1], [442, 13], [442, 9], [241, 27], [241, 15], [241, 49], [241, 37], [241, 29], [639, 12], [639, 13], [1211, 40, 26], [224, 33], [224, 35], [224, 16], [224, 166], [224, 22], [224, 28], [541, 26, 7], [541, 26, 9], [541, 26, 23], [443, 30], [443, 12], [443, 29], [600, 156, 45], [1212, 35], [1213, 12], [867, 36], [1214, 23], [1215, 40, 26], [495, 372], [128, 4], [128, 49], [128, 25], [128, 19], [51, 60, 5], [51, 60, 4], [51, 60, 28], [640, 39], [1216, 49], [641, 10], [641, 9], [1217, 9], [642, 5], [868, 30], [869, 5], [542, 24], [542, 30], [542, 40, 26], [155, 304, 15], [155, 304, 12], [151, 152, 5], [151, 152, 27], [151, 152, 37], [151, 152, 3, 1], [151, 152, 13], [151, 152, 16], [151, 152, 19], [151, 152, 23], [1218, 27], [383, 4], [383, 2], [383, 37], [643, 7], [643, 40, 26], [712, 35], [712, 37], [712, 3, 1], [585, 118], [585, 35], [585, 37], [585, 3, 1], [870, 3, 1], [36, 3, 1], [36, 36], [644, 156, 45], [871, 25], [973, 29], [973, 9], [872, 9], [74, 74, 3, 1], [1219, 37], [713, 3, 1], [713, 13], [713, 16], [873, 7], [51, 27], [51, 15], [51, 37], [51, 3, 1], [51, 36], [49, 49], [49, 29], [874, 26, 9], [338, 25], [1220, 23], [242, 14, 876, 9], [175, 27], [175, 15], [175, 37], [121, 54, 27], [121, 54, 15], [121, 54, 2], [121, 54, 3, 1], [543, 3, 1], [543, 13], [543, 16], [486, 118], [486, 35], [486, 3, 1], [486, 13], [486, 16], [877, 25], [25, 25], [878, 40, 26], [1221, 12], [384, 5], [384, 4], [384, 30], [825, 26, 9], [423, 10], [423, 9], [305, 15], [305, 29], [1222, 40, 26], [714, 30], [714, 3, 1], [714, 13], [414, 5], [414, 35], [414, 37], [414, 3, 1], [414, 13], [414, 16], [33, 33], [33, 35], [645, 25], [385, 3, 1], [385, 13], [385, 22], [385, 19], [1223, 23], [879, 55], [386, 2], [386, 3, 1], [386, 9], [880, 881, 3, 1], [544, 24], [544, 10], [882, 7], [646, 12], [646, 16], [883, 25], [884, 35], [444, 7], [444, 29], [444, 9], [885, 25], [886, 3, 1], [715, 3, 1], [715, 13], [715, 16], [974, 36], [974, 9], [647, 36], [306, 24], [306, 2], [306, 23], [339, 23], [189, 4], [189, 12], [189, 3, 1], [189, 13], [189, 16], [189, 22], [189, 19], [16, 118], [16, 35], [16, 37], [16, 3, 1], [16, 13], [16, 16], [16, 22], [16, 19], [16, 23], [387, 81, 4], [387, 81, 16], [387, 81, 19], [307, 15], [307, 3, 1], [307, 13], [307, 22], [106, 7], [106, 5], [106, 4], [106, 33], [106, 10], [106, 3, 1], [106, 13], [106, 16], [106, 28], [106, 19], [106, 9], [106, 23], [648, 4], [146, 5], [146, 4], [146, 2], [146, 39], [146, 19], [1224, 15], [1225, 30], [1226, 14, 46, 12], [210, 7], [210, 10], [210, 3, 1], [210, 36], [210, 9], [649, 40, 26], [649, 2], [50, 50], [1227, 32], [888, 4], [445, 3, 1], [445, 13], [445, 22], [650, 12], [650, 9], [446, 447, 12], [446, 447, 3, 1], [446, 447, 19], [236, 14, 889, 27], [190, 5], [190, 27], [190, 12], [975, 3, 1], [975, 16], [890, 40, 26], [273, 2], [273, 12], [273, 3, 1], [273, 13], [273, 16], [273, 9], [273, 23], [308, 24], [308, 15], [71, 5], [71, 4], [71, 27], [71, 15], [71, 2], [71, 12], [71, 37], [71, 3, 1], [71, 29], [71, 36], [71, 19], [71, 9], [1228, 14, 27], [651, 26, 7], [1229, 12], [976, 37], [976, 3, 1], [74, 5], [74, 30], [74, 56, 42], [74, 36], [12, 5], [12, 4], [12, 12], [12, 3, 1], [12, 19], [891, 15], [1230, 40, 26], [977, 37], [977, 13], [978, 3, 1], [978, 13], [340, 12], [340, 118], [340, 3, 1], [340, 13], [340, 16], [340, 23], [73, 5], [73, 4], [73, 12], [73, 39], [73, 10], [73, 3, 1], [73, 13], [73, 16], [73, 19], [73, 9], [73, 23], [254, 7], [254, 10], [254, 29], [388, 4], [388, 30], [388, 2], [892, 7], [274, 12], [274, 3, 1], [274, 13], [274, 16], [274, 9], [274, 23], [40, 26, 40, 26], [40, 26, 2], [448, 12], [448, 37], [448, 3, 1], [448, 13], [243, 2], [243, 39], [243, 35], [243, 3, 1], [243, 16], [243, 36], [309, 10], [309, 35], [309, 3, 1], [309, 13], [309, 16], [309, 19], [309, 9], [652, 3, 1], [652, 16], [242, 36], [242, 23], [341, 7], [341, 19], [341, 9], [341, 23], [545, 188, 24], [545, 188, 9], [545, 188, 23], [979, 980, 256], [979, 980, 118], [449, 3, 1], [449, 16], [449, 9], [449, 23], [893, 7], [546, 371, 40, 26], [546, 371, 22], [191, 4], [191, 30], [191, 15], [191, 12], [1231, 9], [1232, 9], [310, 4], [310, 13], [310, 16], [310, 22], [162, 27], [162, 15], [1233, 23], [716, 260], [716, 9], [716, 23], [389, 5], [389, 37], [389, 3, 1], [389, 16], [389, 36], [390, 5], [390, 4], [390, 37], [390, 3, 1], [717, 3, 1], [717, 9], [717, 23], [342, 14, 46, 10], [342, 14, 46, 29], [391, 15], [1234, 9], [1235, 40, 26], [894, 24], [23, 5], [23, 4], [23, 3, 1], [23, 16], [23, 9], [23, 23], [1236, 9], [98, 7], [98, 5], [98, 4], [98, 2], [98, 12], [98, 35], [98, 3, 1], [98, 13], [98, 16], [98, 28], [98, 19], [98, 9], [98, 23], [311, 1, 5], [311, 1, 30], [311, 1, 40, 26], [311, 1, 2], [450, 30], [450, 2], [450, 3, 1], [450, 13], [1237, 27], [653, 35], [653, 3, 1], [654, 2], [654, 23], [547, 40, 26], [547, 2], [211, 4], [211, 12], [211, 22], [211, 19], [655, 13], [655, 16], [451, 7], [451, 9], [134, 7], [134, 12], [134, 10], [134, 19], [134, 9], [134, 23], [656, 29], [176, 4], [176, 27], [176, 30], [176, 12], [176, 10], [176, 29], [657, 14, 12], [657, 14, 13], [895, 156, 45], [100, 42, 5], [100, 42, 10], [100, 42, 118], [100, 42, 35], [100, 42, 3, 1], [100, 42, 13], [100, 42, 16], [100, 42, 22], [100, 42, 28], [100, 42, 19], [100, 42, 9], [100, 42, 23], [86, 7], [86, 4], [86, 27], [86, 15], [86, 49], [86, 12], [86, 29], [86, 36], [86, 9], [275, 7], [275, 10], [275, 37], [275, 3, 1], [275, 13], [275, 19], [275, 9], [1238, 37], [177, 15], [177, 3, 1], [177, 9], [177, 23], [192, 193, 27], [192, 193, 2], [192, 193, 3, 1], [392, 4], [392, 35], [392, 37], [392, 3, 1], [392, 16], [658, 7], [658, 9], [452, 2], [452, 3, 1], [452, 13], [452, 16], [13, 2], [13, 35], [13, 37], [13, 3, 1], [13, 13], [13, 16], [13, 19], [981, 12], [981, 9], [276, 5], [276, 4], [276, 30], [276, 3, 1], [276, 13], [436, 27], [896, 24], [212, 24], [212, 30], [212, 2], [212, 29], [453, 30], [453, 40, 26], [453, 2], [453, 23], [898, 7], [659, 40, 26], [659, 9], [548, 15], [549, 2], [549, 3, 1], [550, 15], [550, 36], [1239, 40, 26], [899, 10], [900, 25], [67, 57, 5], [67, 57, 4], [67, 57, 27], [67, 57, 15], [67, 57, 2], [67, 57, 12], [67, 57, 35], [67, 57, 37], [67, 57, 3, 1], [67, 57, 13], [67, 57, 29], [67, 57, 22], [67, 57, 36], [67, 57, 19], [277, 7], [277, 27], [277, 3, 1], [277, 29], [551, 2], [551, 3, 1], [551, 13], [213, 5], [213, 2], [213, 3, 1], [213, 16], [213, 22], [213, 9], [213, 23], [1240, 40, 26], [982, 35], [982, 16], [19, 7], [19, 4], [19, 2], [19, 12], [19, 10], [19, 3, 1], [19, 13], [19, 16], [19, 29], [19, 22], [19, 28], [19, 19], [19, 9], [901, 25], [1241, 40, 26], [1242, 29], [41, 69, 7], [41, 69, 24], [41, 69, 5], [41, 69, 4], [41, 69, 27], [41, 69, 2], [41, 69, 39], [41, 69, 10], [41, 69, 3, 1], [41, 69, 13], [41, 69, 16], [41, 69, 22], [41, 69, 28], [41, 69, 19], [41, 69, 9], [41, 69, 23], [41, 107, 5], [41, 107, 4], [41, 107, 27], [41, 107, 2], [41, 107, 39], [41, 107, 35], [41, 107, 3, 1], [41, 107, 13], [41, 107, 16], [41, 107, 19], [983, 30], [983, 36], [660, 55], [178, 14, 194, 7], [178, 14, 194, 40, 26], [178, 14, 194, 10], [178, 14, 194, 3, 1], [178, 14, 194, 13], [178, 14, 194, 28], [178, 14, 194, 19], [178, 14, 194, 9], [661, 7], [661, 9], [214, 3, 1], [214, 13], [214, 16], [214, 19], [214, 9], [214, 23], [1243, 118], [393, 4], [393, 2], [454, 35], [454, 3, 1], [454, 16], [454, 36], [278, 27], [278, 15], [718, 37], [718, 3, 1], [718, 13], [719, 37], [719, 3, 1], [719, 13], [662, 24], [662, 13], [455, 456, 27], [455, 456, 56, 42], [663, 2], [394, 161, 15], [394, 161, 29], [1244, 13], [903, 24], [1245, 35], [720, 35], [720, 3, 1], [720, 16], [721, 3, 1], [721, 13], [721, 19], [457, 25], [395, 12], [395, 16], [722, 35], [722, 3, 1], [722, 16], [458, 12], [458, 3, 1], [458, 13], [458, 16], [1246, 16], [396, 30], [396, 2], [396, 39], [279, 29], [108, 5], [108, 27], [108, 15], [108, 2], [108, 37], [108, 3, 1], [108, 13], [108, 29], [108, 19], [664, 1, 30], [1247, 40, 26], [1248, 3, 1], [1249, 12], [459, 27], [244, 81, 12], [244, 81, 3, 1], [244, 81, 13], [244, 81, 36], [244, 81, 9], [244, 81, 23], [195, 5], [195, 4], [195, 2], [195, 12], [195, 35], [195, 3, 1], [195, 16], [195, 19], [141, 1, 5], [141, 1, 4], [141, 1, 40, 26], [141, 1, 2], [141, 1, 12], [141, 1, 3, 1], [141, 1, 28], [397, 5], [397, 30], [397, 2], [984, 14, 37], [984, 14, 3, 1], [1250, 16], [905, 9], [665, 3, 1], [665, 9], [723, 3, 1], [723, 13], [723, 16], [906, 55], [398, 7], [398, 40, 26], [398, 28], [1251, 9], [166, 35], [166, 166], [236, 14, 907, 55], [908, 24], [666, 7], [666, 40, 26], [667, 14, 46, 9], [667, 14, 46, 23], [668, 4], [985, 27], [985, 33], [552, 24], [552, 10], [669, 24], [460, 24], [460, 2], [1252, 3, 1], [909, 3, 1], [1253, 13], [553, 3, 1], [553, 36], [599, 12], [1254, 9], [670, 40, 26], [670, 25], [671, 7], [461, 24], [461, 40, 26], [461, 9], [672, 14, 46, 7], [672, 14, 46, 9], [462, 4], [462, 25], [136, 4], [136, 27], [136, 15], [136, 2], [136, 3, 1], [136, 36], [476, 107, 16], [476, 107, 9], [463, 7], [463, 3, 1], [463, 9], [463, 23], [673, 156, 45], [673, 27], [1255, 13], [1256, 13], [129, 4], [129, 27], [129, 30], [129, 2], [129, 12], [129, 37], [129, 3, 1], [129, 13], [129, 36], [554, 9], [554, 23], [986, 49], [986, 12], [343, 12], [343, 3, 1], [343, 13], [343, 16], [343, 19], [910, 2], [911, 14, 46, 40, 26], [312, 313, 24], [312, 313, 3, 1], [312, 313, 13], [312, 313, 29], [912, 24], [314, 5], [314, 4], [314, 2], [314, 3, 1], [314, 13], [257, 35], [257, 37], [257, 16], [586, 37], [586, 3, 1], [586, 13], [586, 16], [344, 7], [344, 10], [344, 29], [344, 9], [930, 1257, 24], [987, 35], [987, 16], [109, 4], [109, 27], [109, 30], [109, 2], [109, 12], [109, 13], [109, 29], [109, 22], [109, 19], [674, 7], [674, 9], [345, 25], [345, 3, 1], [345, 13], [345, 29], [913, 9], [235, 914, 55], [464, 24], [464, 30], [464, 29], [68, 27], [68, 2], [68, 37], [68, 3, 1], [68, 36], [555, 7], [555, 29], [418, 10], [915, 12], [724, 3, 1], [724, 16], [724, 23], [1258, 16], [916, 25], [676, 3, 1], [676, 23], [556, 15], [677, 3, 1], [677, 36], [465, 30], [465, 2], [465, 3, 1], [557, 12], [918, 4], [466, 2], [466, 10], [466, 29], [80, 74, 22], [80, 74, 23], [467, 3, 1], [467, 9], [467, 23], [196, 7], [196, 30], [196, 12], [196, 3, 1], [196, 36], [196, 9], [196, 23], [988, 12], [988, 19], [558, 4], [558, 27], [920, 29], [59, 156, 45], [59, 27], [59, 15], [59, 29], [59, 36], [346, 2], [346, 35], [346, 3, 1], [346, 13], [346, 16], [346, 19], [67, 3, 1], [67, 13], [67, 16], [559, 4], [41, 678, 4], [41, 678, 30], [560, 2], [560, 13], [679, 680, 30], [679, 680, 29], [399, 4], [399, 30], [399, 2], [399, 23], [245, 7], [245, 10], [245, 3, 1], [245, 13], [245, 29], [245, 9], [1259, 30], [468, 40, 26], [468, 29], [27, 5], [27, 4], [27, 27], [27, 2], [27, 29], [85, 4], [85, 27], [85, 15], [85, 49], [85, 2], [85, 12], [85, 25], [85, 19], [85, 23], [681, 12], [1260, 30], [922, 36], [101, 1, 5], [101, 1, 4], [101, 1, 27], [101, 1, 15], [101, 1, 3, 1], [101, 1, 29], [101, 1, 36], [215, 4], [215, 30], [215, 2], [215, 39], [215, 3, 1], [215, 29], [215, 9], [315, 64, 27], [315, 64, 15], [510, 55], [923, 55], [924, 40, 26], [415, 35], [415, 37], [415, 3, 1], [415, 13], [415, 16], [415, 9], [316, 30], [316, 2], [316, 39], [316, 36], [1261, 1262, 27], [400, 5], [400, 4], [400, 30], [400, 40, 26], [246, 7], [246, 10], [246, 29], [682, 4], [682, 36], [317, 2], [317, 12], [317, 3, 1], [317, 13], [317, 16], [317, 19], [1263, 104, 3, 1], [725, 3, 1], [725, 13], [725, 16], [130, 24], [130, 5], [130, 2], [130, 39], [130, 56, 42], [130, 3, 1], [925, 25], [1264, 166], [401, 27], [401, 29], [401, 36], [926, 23], [469, 3, 1], [469, 36], [163, 7], [163, 4], [163, 27], [163, 49], [163, 25], [163, 19], [163, 9], [163, 23], [726, 15], [726, 12], [726, 3, 1], [1265, 23], [280, 12], [280, 3, 1], [280, 13], [280, 16], [280, 22], [280, 19], [561, 45, 36], [1266, 167, 3, 1], [928, 27], [402, 3, 1], [402, 36], [164, 5], [164, 4], [164, 12], [164, 35], [164, 37], [164, 3, 1], [164, 13], [164, 16], [164, 36], [164, 19], [929, 23], [197, 4], [197, 30], [197, 2], [197, 12], [197, 3, 1], [197, 36], [197, 23], [347, 7], [347, 27], [347, 37], [347, 3, 1], [347, 13], [347, 19], [348, 10], [348, 35], [348, 16], [348, 9], [131, 4], [131, 33], [131, 12], [131, 35], [131, 37], [131, 3, 1], [131, 13], [131, 16], [131, 22], [318, 37], [318, 3, 1], [318, 22], [318, 19], [318, 9], [24, 24], [24, 5], [24, 10], [24, 28], [294, 24], [294, 30], [294, 2], [294, 10], [587, 3, 1], [587, 13], [587, 16], [587, 19], [470, 7], [470, 15], [139, 9], [588, 3, 1], [588, 13], [588, 29], [588, 19], [683, 7], [9, 7], [9, 10], [9, 3, 1], [9, 29], [9, 19], [9, 9], [9, 23], [471, 161, 30], [471, 161, 2], [471, 161, 29], [472, 12], [472, 16], [472, 19], [247, 7], [247, 15], [247, 36], [247, 9], [216, 5], [216, 30], [216, 35], [216, 37], [216, 3, 1], [216, 13], [216, 16], [216, 19], [216, 9], [124, 68, 5], [124, 68, 4], [124, 68, 2], [124, 68, 35], [124, 68, 3, 1], [124, 68, 13], [124, 68, 16], [124, 68, 22], [124, 68, 19], [45, 68, 36], [684, 55], [1267, 37], [727, 35], [727, 3, 1], [727, 16], [931, 24], [1268, 9], [198, 5], [198, 27], [198, 2], [198, 36], [4, 5], [4, 4], [4, 27], [4, 30], [4, 2], [4, 12], [4, 3, 1], [4, 29], [4, 19], [4, 23], [562, 24], [562, 10], [349, 7], [349, 12], [349, 10], [217, 7], [217, 29], [217, 19], [217, 9], [45, 27], [45, 15], [248, 15], [248, 2], [248, 37], [248, 3, 1], [248, 29], [248, 36], [350, 104, 30], [350, 104, 29], [350, 104, 9], [350, 104, 23], [685, 55], [115, 24], [686, 12], [686, 19], [1269, 36], [487, 35], [487, 37], [487, 3, 1], [487, 13], [487, 16], [933, 7], [1270, 13], [319, 7], [319, 12], [319, 13], [319, 19], [319, 9], [3, 1, 5], [3, 1, 4], [3, 1, 2], [3, 1, 12], [3, 1, 35], [3, 1, 37], [3, 1, 3, 1], [3, 1, 13], [3, 1, 16], [3, 1, 36], [3, 1, 28], [3, 1, 19], [3, 1, 9], [3, 1, 23], [424, 1, 10], [424, 1, 3, 1], [687, 3, 1], [687, 13], [142, 24], [142, 5], [142, 4], [142, 27], [142, 30], [142, 2], [142, 3, 1], [142, 16], [142, 23], [589, 3, 1], [589, 13], [589, 16], [589, 19], [403, 2], [403, 3, 1], [403, 13], [199, 15], [199, 36], [563, 24], [934, 564, 13], [565, 7], [565, 30], [565, 29], [688, 5], [320, 15], [320, 37], [989, 37], [989, 3, 1], [218, 4], [218, 27], [218, 12], [218, 29], [473, 26, 3, 1], [473, 26, 16], [473, 26, 9], [473, 26, 23], [689, 15], [474, 15], [70, 24], [70, 5], [70, 4], [70, 27], [70, 30], [70, 15], [70, 49], [70, 2], [70, 12], [70, 3, 1], [70, 16], [70, 29], [132, 27], [132, 30], [132, 15], [132, 40, 26], [132, 2], [566, 4], [566, 16], [566, 19], [690, 16], [690, 55], [153, 4], [153, 2], [153, 12], [153, 3, 1], [153, 13], [153, 16], [153, 19], [153, 9], [935, 36], [133, 14, 46, 7], [133, 14, 46, 30], [133, 14, 46, 40, 26], [133, 14, 46, 10], [133, 14, 46, 25], [133, 14, 46, 3, 1], [133, 14, 46, 22], [133, 14, 46, 9], [116, 5], [116, 4], [116, 27], [116, 2], [116, 12], [116, 3, 1], [116, 19], [116, 23], [567, 166], [567, 22], [87, 24], [87, 5], [87, 4], [87, 27], [87, 33], [87, 2], [87, 3, 1], [87, 16], [87, 22], [87, 28], [87, 19], [87, 23], [590, 30], [590, 3, 1], [590, 13], [590, 9], [475, 12], [475, 3, 1], [475, 9], [165, 27], [165, 15], [165, 2], [165, 29], [94, 64, 4], [94, 64, 27], [94, 64, 15], [94, 64, 2], [94, 64, 12], [94, 64, 25], [94, 64, 29], [94, 64, 23], [691, 30], [691, 2], [404, 12], [404, 3, 1], [404, 13], [404, 16], [404, 19], [110, 4], [110, 27], [110, 30], [110, 15], [110, 40, 26], [110, 2], [110, 12], [110, 3, 1], [110, 13], [110, 22], [110, 9], [154, 7], [154, 12], [154, 10], [154, 3, 1], [154, 13], [154, 16], [154, 19], [154, 9], [1271, 37], [321, 14, 81, 27], [321, 14, 81, 15], [321, 14, 81, 37], [321, 14, 81, 3, 1], [321, 14, 81, 16], [321, 14, 81, 36], [351, 35], [351, 3, 1], [351, 16], [351, 22], [351, 9], [476, 692, 2], [477, 26, 24], [477, 26, 10], [693, 3, 1], [693, 13], [937, 27], [352, 7], [352, 10], [352, 29], [352, 9], [353, 5], [353, 4], [353, 3, 1], [353, 28], [938, 14, 46, 15], [694, 30], [694, 2], [281, 7], [281, 40, 26], [281, 3, 1], [281, 13], [281, 22], [939, 55], [1272, 37], [695, 40, 26], [236, 14, 1273, 12], [1274, 16], [45, 57, 5], [45, 57, 4], [45, 57, 15], [1275, 36], [696, 7], [696, 9], [518, 7], [518, 9], [1276, 12], [82, 5], [82, 4], [82, 27], [82, 30], [82, 33], [82, 40, 26], [82, 2], [82, 12], [82, 39], [82, 35], [82, 37], [82, 3, 1], [82, 13], [82, 16], [82, 28], [405, 15], [405, 32], [282, 15], [591, 35], [591, 3, 1], [591, 13], [591, 16], [697, 40, 26], [697, 10], [95, 5], [95, 27], [95, 15], [95, 49], [95, 10], [95, 3, 1], [95, 29], [95, 19], [322, 27], [322, 15], [990, 3, 1], [990, 13], [698, 7], [478, 7], [478, 30], [478, 10], [940, 104, 2], [406, 4], [406, 30], [406, 2], [179, 7], [179, 5], [179, 15], [179, 2], [179, 3, 1], [179, 29], [179, 19], [179, 9], [283, 12], [283, 10], [283, 3, 1], [283, 16], [283, 19], [991, 30], [991, 3, 1], [941, 49], [942, 4], [943, 9], [122, 5], [122, 4], [122, 12], [122, 39], [122, 35], [122, 3, 1], [122, 13], [122, 16], [122, 28], [122, 19], [284, 5], [284, 4], [284, 27], [284, 30], [284, 2], [284, 3, 1], [180, 27], [180, 15], [992, 9], [992, 23], [479, 4], [479, 30], [479, 2], [407, 24], [407, 40, 26], [407, 10], [568, 12], [568, 9], [1277, 40, 26], [408, 2], [408, 12], [408, 16], [1278, 12], [944, 24], [1279, 9], [480, 3, 1], [480, 13], [480, 16], [488, 30], [488, 37], [488, 3, 1], [488, 13], [488, 29], [125, 5], [125, 4], [125, 27], [125, 2], [125, 13], [125, 22], [125, 19], [1280, 23], [1281, 3, 1], [1282, 9], [1283, 9], [699, 7], [699, 9], [481, 30], [481, 40, 26], [481, 2], [354, 30], [354, 37], [354, 3, 1], [354, 29], [354, 55], [354, 9], [947, 9], [993, 3, 1], [993, 36], [1284, 81, 36], [700, 30], [700, 2], [948, 7], [111, 24], [111, 4], [111, 27], [111, 30], [111, 2], [111, 12], [111, 3, 1], [111, 13], [111, 19], [111, 23], [355, 7], [355, 24], [355, 29], [355, 9], [249, 5], [249, 27], [249, 2], [249, 37], [249, 3, 1], [249, 13], [249, 16], [1285, 16], [37, 35], [37, 37], [37, 3, 1], [37, 13], [37, 16], [728, 3, 1], [728, 13], [728, 16], [45, 52, 5], [45, 52, 4], [45, 52, 27], [45, 52, 2], [45, 52, 37], [45, 52, 3, 1], [45, 52, 13], [45, 52, 29], [45, 52, 36], [45, 52, 19], [285, 5], [285, 4], [285, 2], [285, 12], [409, 25], [286, 5], [286, 3, 1], [286, 16], [286, 36], [356, 3, 1], [356, 13], [356, 16], [356, 166], [356, 22], [701, 30], [701, 29], [569, 40, 26], [569, 2], [410, 12], [410, 3, 1], [410, 13], [994, 40, 26], [994, 29], [570, 7], [570, 10], [995, 9], [995, 23], [181, 4], [181, 27], [181, 2], [181, 12], [181, 3, 1], [181, 36], [181, 9], [181, 23], [143, 5], [143, 4], [143, 30], [143, 2], [143, 25], [143, 3, 1], [143, 13], [143, 16], [143, 29], [143, 9], [200, 27], [200, 15], [200, 2], [200, 3, 1], [200, 29], [357, 30], [357, 2], [357, 12], [357, 3, 1], [357, 13], [102, 5], [102, 4], [102, 27], [102, 2], [102, 12], [102, 39], [102, 35], [102, 37], [102, 3, 1], [102, 13], [102, 16], [102, 9], [571, 12], [571, 13], [571, 19], [219, 5], [219, 4], [219, 33], [219, 12], [219, 35], [219, 3, 1], [219, 13], [219, 16], [219, 36], [572, 7], [572, 9], [949, 54, 9], [220, 137, 2], [220, 137, 35], [220, 137, 37], [220, 137, 3, 1], [220, 137, 13], [220, 137, 16], [220, 137, 28], [220, 137, 19], [573, 3, 1], [573, 13], [573, 16], [358, 2], [358, 12], [358, 3, 1], [358, 13], [1286, 81, 13], [574, 14, 46, 22], [702, 4], [703, 2], [703, 35], [950, 24], [250, 27], [250, 33], [250, 2], [250, 35], [250, 37], [250, 3, 1], [250, 13], [250, 16], [575, 2], [575, 35], [575, 16], [704, 15], [96, 7], [96, 24], [96, 4], [96, 27], [96, 40, 26], [96, 2], [96, 12], [96, 10], [96, 3, 1], [96, 9], [96, 23], [144, 5], [144, 4], [144, 27], [144, 49], [144, 37], [144, 3, 1], [144, 29], [144, 36], [1287, 1, 156, 45], [251, 2], [251, 37], [251, 3, 1], [251, 13], [251, 16], [251, 22], [576, 14, 25], [996, 12], [996, 3, 1], [411, 2], [411, 3, 1], [411, 23], [482, 27], [482, 30], [482, 2], [482, 13], [41, 339, 35], [41, 339, 16], [41, 339, 22], [359, 7], [359, 12], [359, 19], [1288, 3, 1], [80, 36], [2, 5], [2, 4], [2, 27], [2, 30], [2, 40, 26], [2, 2], [2, 3, 1], [2, 13], [2, 19], [577, 578, 15], [201, 30], [201, 2], [201, 12], [201, 35], [201, 37], [201, 3, 1], [201, 13], [201, 16], [201, 36], [412, 40, 26], [412, 2], [412, 25], [483, 15], [483, 50], [323, 5], [323, 4], [323, 12], [323, 19], [252, 12], [252, 3, 1], [252, 16], [252, 19], [1289, 16], [324, 7], [324, 49], [324, 25], [325, 4], [325, 49], [325, 25], [326, 27], [326, 2], [326, 3, 1], [326, 13], [579, 2], [327, 15], [327, 3, 1], [327, 36], [580, 24], [580, 25], [413, 27], [413, 2], [413, 36], [88, 5], [88, 4], [88, 27], [88, 15], [88, 2], [88, 12], [88, 3, 1], [88, 16], [88, 29], [88, 19], [88, 9], [56, 42], [36], [952, 55], [581, 3, 1], [581, 13], [582, 25], [1290, 3, 1], [253, 2], [253, 12], [253, 3, 1], [253, 16], [113, 115, 5], [113, 115, 4], [113, 115, 27], [113, 115, 40, 26], [113, 115, 2], [113, 115, 25], [113, 115, 29], [113, 115, 23]]\n",
     "output_type": "stream"
    }
   ]
  },
  {
   "cell_type": "code",
   "metadata": {
    "tags": [],
    "deepnote_to_be_reexecuted": false,
    "source_hash": "daf832c6",
    "execution_start": 1622909758770,
    "execution_millis": 16,
    "cell_id": "00033-fc03c0a3-c936-4f15-8833-bb9f59d76aeb",
    "deepnote_cell_type": "code"
   },
   "source": "sequences.pop(0)",
   "execution_count": null,
   "outputs": [
    {
     "output_type": "execute_result",
     "execution_count": 27,
     "data": {
      "text/plain": "[202, 80, 729, 10]"
     },
     "metadata": {}
    }
   ]
  },
  {
   "cell_type": "markdown",
   "source": "### Pads sequences to the same length: MAXLEN",
   "metadata": {
    "tags": [],
    "cell_id": "00034-8b3f7a3f-9174-44a3-8375-962c63f69c95",
    "deepnote_cell_type": "text-cell-h3"
   }
  },
  {
   "cell_type": "code",
   "metadata": {
    "tags": [],
    "deepnote_to_be_reexecuted": false,
    "source_hash": "f9dd39f9",
    "execution_start": 1622909758783,
    "execution_millis": 82,
    "cell_id": "00035-df54b98f-7c62-4d73-b593-8f6021353d88",
    "deepnote_cell_type": "code"
   },
   "source": "MAXLEN = 300\nX = pad_sequences(sequences, maxlen=MAXLEN)\n",
   "execution_count": null,
   "outputs": []
  },
  {
   "cell_type": "code",
   "metadata": {
    "tags": [],
    "deepnote_to_be_reexecuted": false,
    "source_hash": "39da5959",
    "execution_start": 1622909758874,
    "execution_millis": 5362820,
    "cell_id": "00036-834971f5-f4f6-450a-baa1-aa88055b11b9",
    "deepnote_cell_type": "code"
   },
   "source": "output_columns_all = ['relation']\ny = data['relation']\ny.pop(0)",
   "execution_count": null,
   "outputs": [
    {
     "output_type": "execute_result",
     "execution_count": 29,
     "data": {
      "text/plain": "0"
     },
     "metadata": {}
    }
   ]
  },
  {
   "cell_type": "code",
   "metadata": {
    "tags": [],
    "deepnote_to_be_reexecuted": false,
    "source_hash": "ce04b77e",
    "execution_start": 1622909758883,
    "execution_millis": 9,
    "cell_id": "00037-28463b2f-0221-4288-9499-1398f57923c5",
    "deepnote_cell_type": "code"
   },
   "source": "y",
   "execution_count": null,
   "outputs": [
    {
     "output_type": "execute_result",
     "execution_count": 30,
     "data": {
      "text/plain": "1       0\n2       0\n3       0\n4       0\n5       0\n       ..\n5701    2\n5702    2\n5703    2\n5704    2\n5705    2\nName: relation, Length: 5705, dtype: int64"
     },
     "metadata": {}
    }
   ]
  },
  {
   "cell_type": "code",
   "metadata": {
    "tags": [],
    "deepnote_to_be_reexecuted": false,
    "source_hash": "2eaeb5b2",
    "execution_start": 1622909758900,
    "execution_millis": 4,
    "cell_id": "00038-489a8931-a8fd-4f86-b0c5-c40f20f35032",
    "deepnote_cell_type": "code"
   },
   "source": "X_train, X_test, y_train, y_test = train_test_split(X, y, test_size=0.15, random_state = 42)",
   "execution_count": null,
   "outputs": []
  },
  {
   "cell_type": "code",
   "metadata": {
    "tags": [],
    "deepnote_to_be_reexecuted": false,
    "source_hash": "aa5260d0",
    "execution_start": 1622909758909,
    "execution_millis": 27,
    "cell_id": "00039-6c01fe10-a35d-41b3-998f-e83e763efb75",
    "deepnote_cell_type": "code"
   },
   "source": "print(len(X_train),len(X_test))",
   "execution_count": null,
   "outputs": [
    {
     "name": "stdout",
     "text": "4849 856\n",
     "output_type": "stream"
    }
   ]
  },
  {
   "cell_type": "markdown",
   "source": "### Creating RNN",
   "metadata": {
    "tags": [],
    "cell_id": "00040-ec1fa9d3-c938-4635-bf4f-24472f061be5",
    "deepnote_cell_type": "text-cell-h3"
   }
  },
  {
   "cell_type": "markdown",
   "source": "The majority of the classes are binary, but one of them has 5 different classes. Because of that, the model will be divided into two different types of outputs: - binary - sparse category: The output has integer targets, and differently from catergorical crossentropy, the target doens't need to be one-hot encoded",
   "metadata": {
    "tags": [],
    "cell_id": "00041-ae08a4b8-c58a-483a-ab35-2c3f3d4536d9",
    "deepnote_cell_type": "text-cell-p"
   }
  },
  {
   "cell_type": "markdown",
   "source": "Since the dataset is highly imblanced, I applied a class weight in order to try to balance the model prediction. Keras contains the class_weight paramater, but as related into this&nbsp;issue&nbsp;on Keras, I came into the same bug. When you apply the class_weight paramter for a Multi Label Classification problem, keras throws the following error:",
   "metadata": {
    "tags": [],
    "cell_id": "00042-a741f585-1bb7-4cc4-b0d1-6f437420e831",
    "deepnote_cell_type": "text-cell-p"
   }
  },
  {
   "cell_type": "markdown",
   "source": "560 if sample_weight_mode is None:",
   "metadata": {
    "tags": [],
    "cell_id": "00043-d68915da-2261-413a-81ee-f9b8ee81abef",
    "deepnote_cell_type": "text-cell-p"
   }
  },
  {
   "cell_type": "markdown",
   "source": "ValueError:&nbsp;class_weight&nbsp;must contain all classes in the data. The classes {1, 2, 3, 4, 5, 6, 7, 8, 9, 10, 11, 12, 13, 14, 15, 16, 17, 18, 19, 20, 23, 30, 31, 32, 33, 34, 35, 36} exist in the data but not in&nbsp;class_weight.",
   "metadata": {
    "tags": [],
    "cell_id": "00044-d7d8d4b9-f4ac-496e-bc93-3aa1223fb60f",
    "deepnote_cell_type": "text-cell-p"
   }
  },
  {
   "cell_type": "markdown",
   "source": "The solution that I came up with was to create multiple outputs, one for every binary class, and another for the sparse category class.",
   "metadata": {
    "tags": [],
    "cell_id": "00045-80b0e841-f292-4a29-84d2-08014a6a23ba",
    "deepnote_cell_type": "text-cell-p"
   }
  },
  {
   "cell_type": "code",
   "metadata": {
    "tags": [],
    "deepnote_to_be_reexecuted": false,
    "source_hash": "3181f533",
    "execution_start": 1622909758921,
    "execution_millis": 9,
    "cell_id": "00046-da443c5b-ad0a-4a5a-9ca0-bf6cb1df40e2",
    "deepnote_cell_type": "code"
   },
   "source": "output_columns_categorical = ['relation']",
   "execution_count": null,
   "outputs": []
  },
  {
   "cell_type": "code",
   "metadata": {
    "tags": [],
    "deepnote_to_be_reexecuted": false,
    "source_hash": "df740fae",
    "execution_start": 1622909758932,
    "execution_millis": 4,
    "cell_id": "00047-99f92393-bd27-4c2e-ac1f-0626669adc1b",
    "deepnote_cell_type": "code"
   },
   "source": "output_array = []\nmetrics_array = {}\nloss_array = {}\n",
   "execution_count": null,
   "outputs": []
  },
  {
   "cell_type": "markdown",
   "source": "## Word Embeddings&nbsp;Test",
   "metadata": {
    "tags": [],
    "cell_id": "00048-a943ac43-c23b-4eb9-99fd-db3d960e0af3",
    "deepnote_cell_type": "text-cell-h2"
   }
  },
  {
   "cell_type": "markdown",
   "source": "The embedding size will be the same as before: MAXLEN=50",
   "metadata": {
    "tags": [],
    "cell_id": "00049-5116b883-2ea1-4cd5-909e-a149d139d12e",
    "deepnote_cell_type": "markdown"
   }
  },
  {
   "cell_type": "code",
   "metadata": {
    "tags": [],
    "deepnote_to_be_reexecuted": false,
    "source_hash": "3accccd2",
    "execution_start": 1622909758945,
    "execution_millis": 3,
    "cell_id": "00050-ad445cc1-7d4d-4d4a-b237-f8f8f29d6bd1",
    "deepnote_cell_type": "code"
   },
   "source": "MAXLEN2 = 50",
   "execution_count": null,
   "outputs": []
  },
  {
   "cell_type": "code",
   "metadata": {
    "tags": [],
    "deepnote_to_be_reexecuted": false,
    "source_hash": "9dc06dc1",
    "execution_start": 1622909758958,
    "execution_millis": 1048,
    "cell_id": "00051-bf9523bc-80d2-4f3c-9ddf-d16e80eb43ef",
    "deepnote_cell_type": "code"
   },
   "source": "!ls /datasets/moni-drive/WE/wang2vec_cbow_s50.txt",
   "execution_count": null,
   "outputs": [
    {
     "name": "stdout",
     "text": "/datasets/moni-drive/WE/wang2vec_cbow_s50.txt\r\n",
     "output_type": "stream"
    }
   ]
  },
  {
   "cell_type": "code",
   "metadata": {
    "tags": [],
    "deepnote_to_be_reexecuted": false,
    "source_hash": "66251954",
    "execution_start": 1622909760016,
    "execution_millis": 1981,
    "cell_id": "00052-389d1d33-0342-47d8-8316-4796aa3a501b",
    "deepnote_cell_type": "code"
   },
   "source": "embeddings_index = dict()\nf = open('/work/undergrad-thesis-project/models/teste.txt')\nfor line in f:\n    values = line.split()\n    word = values[0]\n    for n, i in enumerate(values[1:]):\n        values[n] = values[n].replace(',', '.')\n        if \"%\" in values[n]: \n            values.pop(n)\n    try:\n        coefs = np.asarray((values[1:]), dtype='float32')\n        embeddings_index[word] = coefs\n    except:\n        continue\nf.close()\n    ",
   "execution_count": null,
   "outputs": []
  },
  {
   "cell_type": "code",
   "metadata": {
    "tags": [],
    "deepnote_to_be_reexecuted": false,
    "source_hash": "92b5566c",
    "execution_start": 1622909762058,
    "execution_millis": 2,
    "cell_id": "00053-40ad8c64-9a41-44ce-819c-ed537e313ce8",
    "deepnote_cell_type": "code"
   },
   "source": "embedding_matrix = np.zeros((vocabulary_size, MAXLEN))\nfor word, index in tokenizer.word_index.items():\n    embedding_vector = embeddings_index.get(word)\n    \n    if index > vocabulary_size - 1:\n        break\n    \n    else:\n        embedding_vector = embeddings_index.get(word)\n        if embedding_vector is not None:\n            #print(embedding_matrix[index].shape)\n            if (embedding_vector.shape != (51,)):\n                embedding_matrix[index] = embedding_vector\n            #break\n            ",
   "execution_count": null,
   "outputs": []
  },
  {
   "cell_type": "code",
   "metadata": {
    "tags": [],
    "deepnote_to_be_reexecuted": false,
    "source_hash": "d8fdb0e0",
    "execution_start": 1622909762097,
    "execution_millis": 5363410,
    "cell_id": "00054-05434dfd-ea10-4cc6-b670-9143e60844a2",
    "deepnote_cell_type": "code"
   },
   "source": "main_input = Input(shape=(MAXLEN,), dtype='int32', name='main_input')\n",
   "execution_count": null,
   "outputs": []
  },
  {
   "cell_type": "code",
   "metadata": {
    "tags": [],
    "deepnote_to_be_reexecuted": false,
    "source_hash": "972669a9",
    "execution_start": 1622909762122,
    "execution_millis": 6401,
    "cell_id": "00055-7d1d31d2-c423-4aaa-8ed8-ba82c76c1c81",
    "deepnote_cell_type": "code"
   },
   "source": "!pip install gensim==4.0.1",
   "execution_count": null,
   "outputs": [
    {
     "name": "stdout",
     "text": "Collecting gensim==4.0.1\n  Downloading gensim-4.0.1-cp37-cp37m-manylinux1_x86_64.whl (23.9 MB)\n\u001b[K     |████████████████████████████████| 23.9 MB 11.1 MB/s \n\u001b[?25hRequirement already satisfied: smart-open>=1.8.1 in /shared-libs/python3.7/py/lib/python3.7/site-packages (from gensim==4.0.1) (3.0.0)\nRequirement already satisfied: numpy>=1.11.3 in /shared-libs/python3.7/py/lib/python3.7/site-packages (from gensim==4.0.1) (1.19.5)\nRequirement already satisfied: scipy>=0.18.1 in /shared-libs/python3.7/py/lib/python3.7/site-packages (from gensim==4.0.1) (1.6.3)\nRequirement already satisfied: requests in /shared-libs/python3.7/py/lib/python3.7/site-packages (from smart-open>=1.8.1->gensim==4.0.1) (2.25.1)\nRequirement already satisfied: idna<3,>=2.5 in /shared-libs/python3.7/py/lib/python3.7/site-packages (from requests->smart-open>=1.8.1->gensim==4.0.1) (2.10)\nRequirement already satisfied: certifi>=2017.4.17 in /shared-libs/python3.7/py/lib/python3.7/site-packages (from requests->smart-open>=1.8.1->gensim==4.0.1) (2021.5.30)\nRequirement already satisfied: urllib3<1.27,>=1.21.1 in /shared-libs/python3.7/py/lib/python3.7/site-packages (from requests->smart-open>=1.8.1->gensim==4.0.1) (1.26.5)\nRequirement already satisfied: chardet<5,>=3.0.2 in /shared-libs/python3.7/py/lib/python3.7/site-packages (from requests->smart-open>=1.8.1->gensim==4.0.1) (3.0.4)\nInstalling collected packages: gensim\nSuccessfully installed gensim-4.0.1\n",
     "output_type": "stream"
    }
   ]
  },
  {
   "cell_type": "code",
   "metadata": {
    "tags": [],
    "deepnote_to_be_reexecuted": false,
    "source_hash": "ad786ea0",
    "execution_start": 1622909768532,
    "execution_millis": 941,
    "cell_id": "00056-562c117e-5dbc-4c19-87bf-c396249f2cbc",
    "deepnote_cell_type": "code"
   },
   "source": "\nimport gensim.models.keyedvectors as word2vec\nwang_model = word2vec.KeyedVectors.load_word2vec_format('/work/undergrad-thesis-project/tripAdvisor/models/wang2vec-cwindow.model', binary=True, encoding='utf-8')\n\n",
   "execution_count": null,
   "outputs": [
    {
     "name": "stderr",
     "text": "/root/venv/lib/python3.7/site-packages/gensim/similarities/__init__.py:15: UserWarning: The gensim.similarities.levenshtein submodule is disabled, because the optional Levenshtein package <https://pypi.org/project/python-Levenshtein/> is unavailable. Install Levenhstein (e.g. `pip install python-Levenshtein`) to suppress this warning.\n  warnings.warn(msg)\n",
     "output_type": "stream"
    }
   ]
  },
  {
   "cell_type": "code",
   "metadata": {
    "tags": [],
    "deepnote_to_be_reexecuted": false,
    "source_hash": "8835c835",
    "execution_start": 1622909769478,
    "execution_millis": 5,
    "cell_id": "00057-1b0b43e6-1299-4fd2-9b66-478baa296547",
    "deepnote_cell_type": "code"
   },
   "source": "#x = wang_model.save_word2vec_format('teste.txt')",
   "execution_count": null,
   "outputs": []
  },
  {
   "cell_type": "code",
   "metadata": {
    "tags": [],
    "deepnote_to_be_reexecuted": false,
    "source_hash": "6b75e646",
    "execution_start": 1622909769492,
    "execution_millis": 149,
    "cell_id": "00058-9253af98-b348-4bc6-8ba9-7499264f8fbf",
    "deepnote_cell_type": "code"
   },
   "source": "x = Embedding(vocabulary_size, MAXLEN, weights=[embedding_matrix], input_length=MAXLEN, trainable=False)(main_input)",
   "execution_count": null,
   "outputs": []
  },
  {
   "cell_type": "code",
   "metadata": {
    "tags": [],
    "deepnote_to_be_reexecuted": false,
    "source_hash": "19a8ed92",
    "execution_start": 1622909769652,
    "execution_millis": 8,
    "cell_id": "00059-ece45ece-57b9-4b78-b911-9bdd525d5d05",
    "deepnote_cell_type": "code"
   },
   "source": "x = Dropout(0.5)(x)",
   "execution_count": null,
   "outputs": []
  },
  {
   "cell_type": "code",
   "metadata": {
    "tags": [],
    "deepnote_to_be_reexecuted": false,
    "source_hash": "b3d359cf",
    "execution_start": 1622909769675,
    "execution_millis": 39,
    "cell_id": "00060-019e5094-ebdd-406f-9879-98525aee022b",
    "deepnote_cell_type": "code"
   },
   "source": "x = Conv1D(64, 5, activation='relu')(x)",
   "execution_count": null,
   "outputs": []
  },
  {
   "cell_type": "code",
   "metadata": {
    "tags": [],
    "deepnote_to_be_reexecuted": false,
    "source_hash": "df7084bc",
    "execution_start": 1622909769715,
    "execution_millis": 44,
    "cell_id": "00061-4c2c856a-a0f1-4a41-965f-c6dd8cccb67c",
    "deepnote_cell_type": "code"
   },
   "source": "x = MaxPooling1D(pool_size=4)(x)",
   "execution_count": null,
   "outputs": []
  },
  {
   "cell_type": "code",
   "metadata": {
    "tags": [],
    "deepnote_to_be_reexecuted": false,
    "source_hash": "b623e53d",
    "execution_start": 1622909769760,
    "execution_millis": 0,
    "cell_id": "00062-f3e6467c-d2b4-475a-985a-f08fa66e9584",
    "deepnote_cell_type": "code"
   },
   "source": "",
   "execution_count": null,
   "outputs": []
  },
  {
   "cell_type": "code",
   "metadata": {
    "tags": [],
    "deepnote_to_be_reexecuted": false,
    "source_hash": "afbcc5c5",
    "execution_start": 1622909769760,
    "execution_millis": 978,
    "cell_id": "00063-f52351ff-bb6a-4358-8eee-09542a41aa51",
    "deepnote_cell_type": "code"
   },
   "source": "x = Bidirectional(LSTM(200))(x)",
   "execution_count": null,
   "outputs": []
  },
  {
   "cell_type": "code",
   "metadata": {
    "tags": [],
    "deepnote_to_be_reexecuted": false,
    "source_hash": "19a8ed92",
    "execution_start": 1622909770755,
    "execution_millis": 10,
    "cell_id": "00064-061c00d8-92eb-4c66-86d8-f28414a90ed7",
    "deepnote_cell_type": "code"
   },
   "source": "x = Dropout(0.5)(x)",
   "execution_count": null,
   "outputs": []
  },
  {
   "cell_type": "code",
   "metadata": {
    "tags": [],
    "deepnote_to_be_reexecuted": false,
    "source_hash": "b3e4eba7",
    "execution_start": 1622909770786,
    "execution_millis": 18,
    "cell_id": "00065-b0b75527-edce-434c-a543-bdb32f62e2fd",
    "deepnote_cell_type": "code"
   },
   "source": "#output\ncategorical_output = Dense(5, activation='softmax', name='categorical_output')(x)\noutput_array.append(categorical_output)\nmetrics_array['categorical_output'] = 'sparse_categorical_accuracy'\nloss_array['categorical_output'] = 'sparse_categorical_crossentropy'",
   "execution_count": null,
   "outputs": []
  },
  {
   "cell_type": "code",
   "metadata": {
    "tags": [],
    "deepnote_to_be_reexecuted": false,
    "source_hash": "8f99f418",
    "execution_start": 1622909770818,
    "execution_millis": 3,
    "cell_id": "00066-38c9e57d-1aca-49cf-9758-1fffd1e7cc56",
    "deepnote_cell_type": "code"
   },
   "source": "model = Model(inputs=main_input, outputs=categorical_output)",
   "execution_count": null,
   "outputs": []
  },
  {
   "cell_type": "code",
   "metadata": {
    "tags": [],
    "deepnote_to_be_reexecuted": false,
    "source_hash": "352c5b7a",
    "execution_start": 1622909770842,
    "execution_millis": 6,
    "cell_id": "00067-c68d7ea0-af23-402a-b015-ecaa187eba7c",
    "deepnote_cell_type": "code"
   },
   "source": "model.compile(optimizer='adadelta',\n              loss=loss_array,\n              metrics=metrics_array)",
   "execution_count": null,
   "outputs": []
  },
  {
   "cell_type": "code",
   "metadata": {
    "tags": [],
    "deepnote_to_be_reexecuted": false,
    "source_hash": "3205a1c3",
    "execution_start": 1622909770890,
    "execution_millis": 0,
    "cell_id": "00068-1dc86976-bbaa-4612-963f-5c07c3cf2901",
    "deepnote_cell_type": "code"
   },
   "source": "y_train_output = []\n\n\ny_train_output.append(y_train)",
   "execution_count": null,
   "outputs": []
  },
  {
   "cell_type": "code",
   "metadata": {
    "tags": [],
    "deepnote_to_be_reexecuted": false,
    "source_hash": "1d4abebd",
    "execution_start": 1622909770891,
    "execution_millis": 1739635,
    "cell_id": "00069-9673d3fa-e004-4c33-9e61-f70fb4d43124",
    "deepnote_cell_type": "code"
   },
   "source": "history_train = model.fit(X_train, y_train_output,\n          epochs=20, batch_size=512, verbose=0);",
   "execution_count": null,
   "outputs": []
  },
  {
   "cell_type": "code",
   "metadata": {
    "tags": [],
    "deepnote_to_be_reexecuted": false,
    "source_hash": "b623e53d",
    "execution_start": 1622911510527,
    "execution_millis": 0,
    "cell_id": "00070-888c488a-8b89-4744-a29e-976e648b13d0",
    "deepnote_cell_type": "code"
   },
   "source": "",
   "execution_count": null,
   "outputs": []
  },
  {
   "cell_type": "markdown",
   "source": "## Evaluation: Accuracy and Loss",
   "metadata": {
    "tags": [],
    "cell_id": "00071-b04ca9f6-3b51-4213-a401-39060257c5fd",
    "deepnote_cell_type": "text-cell-h2"
   }
  },
  {
   "cell_type": "code",
   "metadata": {
    "tags": [],
    "deepnote_to_be_reexecuted": false,
    "source_hash": "ae0cee87",
    "execution_start": 1622911510527,
    "execution_millis": 6468,
    "cell_id": "00072-41433210-5db7-4da5-841a-7411e53e6335",
    "deepnote_cell_type": "code"
   },
   "source": "history_test =  model.evaluate(X_test, y_test, batch_size=128)\n",
   "execution_count": null,
   "outputs": [
    {
     "name": "stdout",
     "text": "7/7 [==============================] - 6s 723ms/step - loss: 1.6053 - sparse_categorical_accuracy: 0.4661\n",
     "output_type": "stream"
    }
   ]
  },
  {
   "cell_type": "code",
   "metadata": {
    "tags": [],
    "deepnote_to_be_reexecuted": false,
    "source_hash": "dacb1b29",
    "execution_start": 1622911517002,
    "execution_millis": 15,
    "cell_id": "00073-92374927-3364-4e30-819e-f6a425ae339c",
    "deepnote_cell_type": "code"
   },
   "source": "history_test",
   "execution_count": null,
   "outputs": [
    {
     "output_type": "execute_result",
     "execution_count": 55,
     "data": {
      "text/plain": "[1.6053334474563599, 0.46612149477005005]"
     },
     "metadata": {}
    }
   ]
  },
  {
   "cell_type": "markdown",
   "source": "### Model Evaluation",
   "metadata": {
    "tags": [],
    "cell_id": "00074-5ad4cf2b-a358-4716-ba3f-ad46838a461c",
    "deepnote_cell_type": "text-cell-h3"
   }
  },
  {
   "cell_type": "markdown",
   "source": "### Test",
   "metadata": {
    "tags": [],
    "cell_id": "00075-4c3e353e-6cb3-469f-8659-685088f68462",
    "deepnote_cell_type": "text-cell-h3"
   }
  },
  {
   "cell_type": "code",
   "metadata": {
    "tags": [],
    "deepnote_to_be_reexecuted": false,
    "source_hash": "3b76792d",
    "execution_start": 1622911517018,
    "execution_millis": 7117,
    "cell_id": "00076-26cdb079-30d4-4a59-adca-7eae7092c261",
    "deepnote_cell_type": "code"
   },
   "source": "\ny_pred = model.predict(X_test)",
   "execution_count": null,
   "outputs": []
  },
  {
   "cell_type": "code",
   "metadata": {
    "tags": [],
    "deepnote_to_be_reexecuted": false,
    "source_hash": "d4159908",
    "execution_start": 1622911524143,
    "execution_millis": 4,
    "cell_id": "00077-90834b4d-13f6-4283-b6ee-1a04de6bb7c7",
    "deepnote_cell_type": "code"
   },
   "source": "THRESHOLD = 0.9 # threshold between classes",
   "execution_count": null,
   "outputs": []
  },
  {
   "cell_type": "code",
   "metadata": {
    "tags": [],
    "deepnote_to_be_reexecuted": false,
    "source_hash": "26acbc88",
    "execution_start": 1622911524154,
    "execution_millis": 43,
    "cell_id": "00078-f8c97c56-4934-463b-8d68-c91a510a4cba",
    "deepnote_cell_type": "code"
   },
   "source": "f1_score_results = []\n#for col_idx, col in enumerate(output_columns_categorical):\n\nprint(f'Relation accuracy \\n')\n\n# Select class with higher probability from the softmax output: 0, 1 or 2\ny_pred_2 = np.argmax(y_pred, axis=-1)\nf1_score_results.append(f1_score(y_test, y_pred_2, average='macro'))\nprint(classification_report(y_test, y_pred_2))\nprint('Total :',np.sum(f1_score_results))",
   "execution_count": null,
   "outputs": [
    {
     "name": "stdout",
     "text": "Relation accuracy \n\n              precision    recall  f1-score   support\n\n           0       0.00      0.00      0.00       108\n           1       0.56      0.01      0.03       348\n           2       0.47      0.99      0.63       396\n           3       0.00      0.00      0.00         1\n           4       0.00      0.00      0.00         3\n\n    accuracy                           0.47       856\n   macro avg       0.20      0.20      0.13       856\nweighted avg       0.44      0.47      0.30       856\n\nTotal : 0.1323922650315154\n/shared-libs/python3.7/py/lib/python3.7/site-packages/sklearn/metrics/_classification.py:1248: UndefinedMetricWarning: Precision and F-score are ill-defined and being set to 0.0 in labels with no predicted samples. Use `zero_division` parameter to control this behavior.\n  _warn_prf(average, modifier, msg_start, len(result))\n/shared-libs/python3.7/py/lib/python3.7/site-packages/sklearn/metrics/_classification.py:1248: UndefinedMetricWarning: Precision and F-score are ill-defined and being set to 0.0 in labels with no predicted samples. Use `zero_division` parameter to control this behavior.\n  _warn_prf(average, modifier, msg_start, len(result))\n/shared-libs/python3.7/py/lib/python3.7/site-packages/sklearn/metrics/_classification.py:1248: UndefinedMetricWarning: Precision and F-score are ill-defined and being set to 0.0 in labels with no predicted samples. Use `zero_division` parameter to control this behavior.\n  _warn_prf(average, modifier, msg_start, len(result))\n",
     "output_type": "stream"
    }
   ]
  },
  {
   "cell_type": "code",
   "metadata": {
    "tags": [],
    "deepnote_to_be_reexecuted": false,
    "source_hash": "38cf9257",
    "execution_start": 1622911524204,
    "execution_millis": 12,
    "cell_id": "00079-ae0dbb31-e09a-4418-90b1-18a24b93aab1",
    "deepnote_cell_type": "code"
   },
   "source": "history_train",
   "execution_count": null,
   "outputs": [
    {
     "output_type": "execute_result",
     "execution_count": 59,
     "data": {
      "text/plain": "<tensorflow.python.keras.callbacks.History at 0x7fc6002e9d10>"
     },
     "metadata": {}
    }
   ]
  },
  {
   "cell_type": "code",
   "metadata": {
    "tags": [],
    "deepnote_to_be_reexecuted": false,
    "source_hash": "7fd4ac97",
    "execution_start": 1622911524258,
    "execution_millis": 556,
    "cell_id": "00080-047111fe-cebf-42f2-a58e-d83891116e31",
    "deepnote_cell_type": "code"
   },
   "source": "import matplotlib.pyplot as plt\n\nplt.plot(history_train.history['sparse_categorical_accuracy'])\n\nplt.title('model accuracy')\nplt.ylabel('accuracy')\nplt.xlabel('epoch')\nplt.legend(['train','test'], loc='upper left')\nplt.show()\n\nplt.plot(history_train.history['loss'])\n\nplt.title('model loss')\nplt.ylabel('loss')\nplt.xlabel('epoch')\nplt.legend(['train','test'], loc='upper left')\nplt.show()",
   "execution_count": null,
   "outputs": [
    {
     "data": {
      "text/plain": "<Figure size 432x288 with 1 Axes>",
      "image/png": "[encoded data removed]"
     },
     "metadata": {
      "needs_background": "light",
      "image/png": {
       "width": 398,
       "height": 278
      }
     },
     "output_type": "display_data"
    },
    {
     "data": {
      "text/plain": "<Figure size 432x288 with 1 Axes>",
      "image/png": "[encoded data removed]"
     },
     "metadata": {
      "needs_background": "light",
      "image/png": {
       "width": 398,
       "height": 278
      }
     },
     "output_type": "display_data"
    }
   ]
  },
  {
   "cell_type": "code",
   "metadata": {
    "tags": [],
    "deepnote_to_be_reexecuted": false,
    "source_hash": "d4d1d44b",
    "execution_start": 1622911524832,
    "execution_millis": 65086108,
    "cell_id": "00081-5c8bae51-eb4a-4fbd-8937-006af5413e9b",
    "deepnote_cell_type": "code"
   },
   "source": "cm_pred = np.argmax(y_pred, axis=1)\ncm_test = np.argmax(y_test, axis=0)",
   "execution_count": null,
   "outputs": []
  },
  {
   "cell_type": "code",
   "metadata": {
    "tags": [],
    "deepnote_to_be_reexecuted": false,
    "source_hash": "f7676328",
    "execution_start": 1622911524839,
    "execution_millis": 19,
    "cell_id": "00082-091c06e2-1453-4755-a79c-57ca40b066c7",
    "deepnote_cell_type": "code"
   },
   "source": "from sklearn.metrics import confusion_matrix\n\nmatrix = confusion_matrix(y_test, cm_pred)",
   "execution_count": null,
   "outputs": []
  },
  {
   "cell_type": "code",
   "metadata": {
    "tags": [],
    "deepnote_to_be_reexecuted": false,
    "source_hash": "9ba72e42",
    "execution_start": 1622911524878,
    "execution_millis": 2,
    "cell_id": "00083-262b584c-c2b8-42dd-a4cd-b946ccace44c",
    "deepnote_cell_type": "code"
   },
   "source": "print(matrix)",
   "execution_count": null,
   "outputs": [
    {
     "name": "stdout",
     "text": "[[  0   2 106   0   0]\n [  0   5 343   0   0]\n [  0   2 394   0   0]\n [  0   0   1   0   0]\n [  0   0   3   0   0]]\n",
     "output_type": "stream"
    }
   ]
  },
  {
   "cell_type": "code",
   "metadata": {
    "tags": [],
    "deepnote_to_be_reexecuted": false,
    "source_hash": "1f10963b",
    "execution_start": 1622911524946,
    "execution_millis": 2,
    "cell_id": "00084-8af95890-247d-41b9-89bf-b82b3bac77fb",
    "deepnote_cell_type": "code"
   },
   "source": "import numpy as np\n\n\ndef plot_confusion_matrix(cm,\n                          target_names,\n                          title='Confusion matrix',\n                          cmap=None,\n                          normalize=True):\n    \"\"\"\n    given a sklearn confusion matrix (cm), make a nice plot\n\n    Arguments\n    ---------\n    cm:           confusion matrix from sklearn.metrics.confusion_matrix\n\n    target_names: given classification classes such as [0, 1, 2]\n                  the class names, for example: ['high', 'medium', 'low']\n\n    title:        the text to display at the top of the matrix\n\n    cmap:         the gradient of the values displayed from matplotlib.pyplot.cm\n                  see http://matplotlib.org/examples/color/colormaps_reference.html\n                  plt.get_cmap('jet') or plt.cm.Blues\n\n    normalize:    If False, plot the raw numbers\n                  If True, plot the proportions\n\n    Usage\n    -----\n    plot_confusion_matrix(cm           = cm,                  # confusion matrix created by\n                                                              # sklearn.metrics.confusion_matrix\n                          normalize    = True,                # show proportions\n                          target_names = y_labels_vals,       # list of names of the classes\n                          title        = best_estimator_name) # title of graph\n\n    Citiation\n    ---------\n    http://scikit-learn.org/stable/auto_examples/model_selection/plot_confusion_matrix.html\n\n    \"\"\"\n    import matplotlib.pyplot as plt\n    import numpy as np\n    import itertools\n\n    accuracy = np.trace(cm) / float(np.sum(cm))\n    misclass = 1 - accuracy\n\n    if cmap is None:\n        cmap = plt.get_cmap('Purples')\n\n    plt.figure(figsize=(8, 6))\n    plt.imshow(cm, interpolation='nearest', cmap=cmap)\n    plt.title(title)\n    plt.colorbar()\n\n    if target_names is not None:\n        tick_marks = np.arange(len(target_names))\n        plt.xticks(tick_marks, target_names, rotation=45)\n        plt.yticks(tick_marks, target_names)\n\n    if normalize:\n        cm = cm.astype('float') / cm.sum(axis=1)[:, np.newaxis]\n\n\n    thresh = cm.max() / 1.5 if normalize else cm.max() / 2\n    for i, j in itertools.product(range(cm.shape[0]), range(cm.shape[1])):\n        if normalize:\n            plt.text(j, i, \"{:0.4f}\".format(cm[i, j]),\n                     horizontalalignment=\"center\",\n                     color=\"white\" if cm[i, j] > thresh else \"black\")\n        else:\n            plt.text(j, i, \"{:,}\".format(cm[i, j]),\n                     horizontalalignment=\"center\",\n                     color=\"white\" if cm[i, j] > thresh else \"black\")\n\n\n    plt.tight_layout()\n    plt.ylabel('Correct Class')\n    plt.xlabel('Predicted Class nAccuracy={:0.4f}'.format(accuracy))\n    plt.show()",
   "execution_count": null,
   "outputs": []
  },
  {
   "cell_type": "code",
   "metadata": {
    "tags": [],
    "deepnote_to_be_reexecuted": false,
    "source_hash": "5b6ac251",
    "execution_start": 1622911524990,
    "execution_millis": 453,
    "cell_id": "00085-98cfd985-9df0-4814-a0e1-9bfc69479a13",
    "deepnote_cell_type": "code"
   },
   "source": "plot_confusion_matrix(matrix, \n                      normalize    = False,\n                      target_names = ['0', '1', '2', '3', '4'],\n                      title        = \"Confusion Matrix\")\n",
   "execution_count": null,
   "outputs": [
    {
     "data": {
      "text/plain": "<Figure size 576x432 with 2 Axes>",
      "image/png": "[encoded data removed]"
     },
     "metadata": {
      "needs_background": "light",
      "image/png": {
       "width": 490,
       "height": 438
      }
     },
     "output_type": "display_data"
    }
   ]
  },
  {
   "cell_type": "code",
   "metadata": {
    "tags": [],
    "deepnote_to_be_reexecuted": false,
    "source_hash": "13b6d401",
    "execution_start": 1622911525452,
    "execution_millis": 225,
    "cell_id": "00086-8b85192f-4da1-424d-9b2c-df8c5256d032",
    "deepnote_cell_type": "code"
   },
   "source": "from keras.utils import plot_model\nplot_model(model, to_file='model_plot4a.png', show_shapes=True, show_layer_names=True)",
   "execution_count": null,
   "outputs": [
    {
     "output_type": "execute_result",
     "execution_count": 66,
     "data": {
      "image/png": "[encoded data removed]",
      "text/plain": "<IPython.core.display.Image object>"
     },
     "metadata": {
      "image/png": {
       "width": 667,
       "height": 848
      }
     }
    }
   ]
  },
  {
   "cell_type": "code",
   "metadata": {
    "tags": [],
    "deepnote_to_be_reexecuted": false,
    "source_hash": "b623e53d",
    "execution_start": 1622911525678,
    "execution_millis": 9,
    "cell_id": "00087-27e3952f-8770-4dc4-aeca-5f2ef6bd48af",
    "deepnote_cell_type": "code"
   },
   "source": "",
   "execution_count": null,
   "outputs": []
  },
  {
   "cell_type": "markdown",
   "source": "<a style='text-decoration:none;line-height:16px;display:flex;color:#5B5B62;padding:10px;justify-content:end;' href='https://deepnote.com?utm_source=created-in-deepnote-cell&projectId=c82c7d35-a90b-41fd-a2db-0e7ec7cbd041' target=\"_blank\">\n<img alt='Created in deepnote.com' style='display:inline;max-height:16px;margin:0px;margin-right:7.5px;' src='data:image/svg+xml;base64,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' > </img>\nCreated in <span style='font-weight:600;margin-left:4px;'>Deepnote</span></a>",
   "metadata": {
    "tags": [],
    "created_in_deepnote_cell": true,
    "deepnote_cell_type": "markdown"
   }
  }
 ],
 "nbformat": 4,
 "nbformat_minor": 2,
 "metadata": {
  "orig_nbformat": 2,
  "deepnote": {
   "is_reactive": false
  },
  "deepnote_notebook_id": "24abb170-0fbf-4b39-8f04-5c9909946b13",
  "deepnote_execution_queue": []
 }
}