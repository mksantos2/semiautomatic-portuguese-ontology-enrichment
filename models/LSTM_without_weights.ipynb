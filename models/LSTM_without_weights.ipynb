{
 "cells": [
  {
   "cell_type": "code",
   "metadata": {
    "tags": [],
    "cell_id": "00000-df797d43-5775-47ba-921d-f01bb5fe54ee",
    "deepnote_to_be_reexecuted": false,
    "source_hash": "f7d68797",
    "execution_start": 1622897554805,
    "execution_millis": 3154,
    "deepnote_cell_type": "code"
   },
   "source": "import pandas as pd\nimport re\nfrom sqlalchemy import create_engine\nimport nltk\nfrom nltk.corpus import stopwords\nfrom nltk.stem.wordnet import WordNetLemmatizer\nfrom nltk.tokenize import word_tokenize\nfrom sklearn.pipeline import Pipeline, FeatureUnion\nfrom sklearn.feature_extraction.text import CountVectorizer\nfrom sklearn.feature_extraction.text import TfidfTransformer\nfrom sklearn.multioutput import MultiOutputClassifier\nfrom sklearn.ensemble import RandomForestClassifier\nfrom sklearn.model_selection import train_test_split\nfrom sklearn.metrics import classification_report, accuracy_score, f1_score\nimport matplotlib.pyplot as plt\nimport numpy as np\nfrom sklearn.utils.class_weight import compute_class_weight\nfrom sklearn.model_selection import GridSearchCV",
   "execution_count": null,
   "outputs": []
  },
  {
   "cell_type": "code",
   "metadata": {
    "tags": [],
    "cell_id": "00001-09a04463-5f97-41fd-ae96-c701caa22a35",
    "deepnote_to_be_reexecuted": false,
    "source_hash": "952463f8",
    "execution_start": 1622897557966,
    "execution_millis": 4485,
    "deepnote_cell_type": "code"
   },
   "source": "import keras.metrics as metrics",
   "execution_count": null,
   "outputs": []
  },
  {
   "cell_type": "code",
   "metadata": {
    "tags": [],
    "cell_id": "00001-5b711d4f-0bf1-41f1-b458-dd94cf765d22",
    "deepnote_to_be_reexecuted": false,
    "source_hash": "a42581fa",
    "execution_start": 1622897562465,
    "execution_millis": 8,
    "deepnote_cell_type": "code"
   },
   "source": "from keras.preprocessing.text import Tokenizer\nfrom keras.preprocessing.sequence import pad_sequences",
   "execution_count": null,
   "outputs": []
  },
  {
   "cell_type": "code",
   "metadata": {
    "tags": [],
    "cell_id": "00002-bd1e0a9b-50a0-4bd4-b00d-80e915d7d9e7",
    "deepnote_to_be_reexecuted": false,
    "source_hash": "6c86e368",
    "execution_start": 1622897562484,
    "execution_millis": 3,
    "deepnote_cell_type": "code"
   },
   "source": "from keras.models import Sequential\nfrom keras.models import Model\nfrom keras.layers import Dense, Flatten, LSTM, Conv1D, MaxPooling1D, Dropout, Activation, Input\nfrom keras.layers.embeddings import Embedding",
   "execution_count": null,
   "outputs": []
  },
  {
   "cell_type": "markdown",
   "source": "### Input Data",
   "metadata": {
    "tags": [],
    "cell_id": "00000-5f146b5b-bb7b-4472-ae61-af9a0772d5c8",
    "deepnote_cell_type": "text-cell-h3"
   }
  },
  {
   "cell_type": "code",
   "metadata": {
    "tags": [],
    "cell_id": "00000-9d2e1088-fa9f-448f-bd94-ad465a073418",
    "deepnote_to_be_reexecuted": false,
    "source_hash": "5739c994",
    "execution_start": 1622897562494,
    "execution_millis": 13,
    "deepnote_cell_type": "code"
   },
   "source": "data = pd.read_csv('/work/undergrad-thesis-project/datasets/dataset.csv' )",
   "execution_count": null,
   "outputs": []
  },
  {
   "cell_type": "code",
   "metadata": {
    "tags": [],
    "cell_id": "00005-c0132921-e62e-4ed3-8934-35e1b35e21d4",
    "deepnote_to_be_reexecuted": false,
    "source_hash": "41313cfa",
    "execution_start": 1622897562531,
    "execution_millis": 63,
    "deepnote_cell_type": "code"
   },
   "source": "data.head()",
   "execution_count": null,
   "outputs": [
    {
     "output_type": "execute_result",
     "execution_count": 6,
     "data": {
      "application/vnd.deepnote.dataframe.v2+json": {
       "row_count": 5,
       "column_count": 3,
       "columns": [
        {
         "name": "term1",
         "dtype": "object",
         "stats": {
          "unique_count": 5,
          "nan_count": 0,
          "categories": [
           {
            "name": "Casa de Hóspedes",
            "count": 1
           },
           {
            "name": "Hostal",
            "count": 1
           },
           {
            "name": "3 others",
            "count": 3
           }
          ]
         }
        },
        {
         "name": "term2",
         "dtype": "object",
         "stats": {
          "unique_count": 1,
          "nan_count": 0,
          "categories": [
           {
            "name": "Alojamento",
            "count": 5
           }
          ]
         }
        },
        {
         "name": "relation",
         "dtype": "object",
         "stats": {
          "unique_count": 1,
          "nan_count": 0,
          "categories": [
           {
            "name": "hypo",
            "count": 5
           }
          ]
         }
        },
        {
         "name": "_deepnote_index_column",
         "dtype": "int64"
        }
       ],
       "rows_top": [
        {
         "term1": "Casa de Hóspedes",
         "term2": "Alojamento",
         "relation": "hypo",
         "_deepnote_index_column": 0
        },
        {
         "term1": "Hostal",
         "term2": "Alojamento",
         "relation": "hypo",
         "_deepnote_index_column": 1
        },
        {
         "term1": "Albergue",
         "term2": "Alojamento",
         "relation": "hypo",
         "_deepnote_index_column": 2
        },
        {
         "term1": "Pousada",
         "term2": "Alojamento",
         "relation": "hypo",
         "_deepnote_index_column": 3
        },
        {
         "term1": "Acomodação",
         "term2": "Alojamento",
         "relation": "hypo",
         "_deepnote_index_column": 4
        }
       ],
       "rows_bottom": null
      },
      "text/plain": "              term1       term2 relation\n0  Casa de Hóspedes  Alojamento     hypo\n1            Hostal  Alojamento     hypo\n2          Albergue  Alojamento     hypo\n3           Pousada  Alojamento     hypo\n4        Acomodação  Alojamento     hypo",
      "text/html": "<div>\n<style scoped>\n    .dataframe tbody tr th:only-of-type {\n        vertical-align: middle;\n    }\n\n    .dataframe tbody tr th {\n        vertical-align: top;\n    }\n\n    .dataframe thead th {\n        text-align: right;\n    }\n</style>\n<table border=\"1\" class=\"dataframe\">\n  <thead>\n    <tr style=\"text-align: right;\">\n      <th></th>\n      <th>term1</th>\n      <th>term2</th>\n      <th>relation</th>\n    </tr>\n  </thead>\n  <tbody>\n    <tr>\n      <th>0</th>\n      <td>Casa de Hóspedes</td>\n      <td>Alojamento</td>\n      <td>hypo</td>\n    </tr>\n    <tr>\n      <th>1</th>\n      <td>Hostal</td>\n      <td>Alojamento</td>\n      <td>hypo</td>\n    </tr>\n    <tr>\n      <th>2</th>\n      <td>Albergue</td>\n      <td>Alojamento</td>\n      <td>hypo</td>\n    </tr>\n    <tr>\n      <th>3</th>\n      <td>Pousada</td>\n      <td>Alojamento</td>\n      <td>hypo</td>\n    </tr>\n    <tr>\n      <th>4</th>\n      <td>Acomodação</td>\n      <td>Alojamento</td>\n      <td>hypo</td>\n    </tr>\n  </tbody>\n</table>\n</div>"
     },
     "metadata": {}
    }
   ]
  },
  {
   "cell_type": "code",
   "metadata": {
    "tags": [],
    "cell_id": "00002-1a4d9608-f8c8-4465-8641-9a09f6524738",
    "deepnote_to_be_reexecuted": false,
    "source_hash": "e1f23c9d",
    "execution_start": 1622897562587,
    "execution_millis": 0,
    "deepnote_cell_type": "code"
   },
   "source": "data[\"text\"] = data[\"term1\"] +\" \" + data[\"term2\"]",
   "execution_count": null,
   "outputs": []
  },
  {
   "cell_type": "code",
   "metadata": {
    "tags": [],
    "cell_id": "00002-e068762c-dd95-4fdd-86ef-b1a3353456b2",
    "deepnote_to_be_reexecuted": false,
    "source_hash": "ab4a6d3f",
    "execution_start": 1622897562588,
    "execution_millis": 441,
    "deepnote_cell_type": "code"
   },
   "source": "data['relation'].hist(figsize=(20,7));",
   "execution_count": null,
   "outputs": [
    {
     "data": {
      "text/plain": "<Figure size 1440x504 with 1 Axes>",
      "image/png": "[encoded data removed]"
     },
     "metadata": {
      "needs_background": "light",
      "image/png": {
       "width": 1162,
       "height": 412
      }
     },
     "output_type": "display_data"
    }
   ]
  },
  {
   "cell_type": "code",
   "metadata": {
    "tags": [],
    "cell_id": "00002-749f6268-6d7c-4ff9-9c13-658599757ce7",
    "deepnote_to_be_reexecuted": false,
    "source_hash": "178d160b",
    "execution_start": 1622897563032,
    "execution_millis": 2,
    "deepnote_cell_type": "code"
   },
   "source": "old_labels = ['hypo', 'hyper', 'synonym', 'temCategoria', 'none']\nnew_labels = [  0,         1,         2,             3,       4]",
   "execution_count": null,
   "outputs": []
  },
  {
   "cell_type": "code",
   "metadata": {
    "tags": [],
    "cell_id": "00003-4c1c8638-02b9-4715-8697-ec8f1202400d",
    "deepnote_to_be_reexecuted": false,
    "source_hash": "86fbcc56",
    "execution_start": 1622897563046,
    "execution_millis": 978,
    "deepnote_cell_type": "code"
   },
   "source": "for i, row in data.iterrows():\n    if(str(row['relation']) == old_labels[0]):\n        row['relation'] = new_labels[0]\n    elif(str(row['relation']) == old_labels[1]):\n        row['relation'] = new_labels[1]\n    elif(str(row['relation']) == old_labels[2]):\n        row['relation'] = new_labels[2]\n    elif(str(row['relation']) == old_labels[3]):\n        row['relation'] = new_labels[3]\n    else:\n        row['relation'] = new_labels[4]\n    #print(type(str(row['term1'])))",
   "execution_count": null,
   "outputs": []
  },
  {
   "cell_type": "code",
   "metadata": {
    "tags": [],
    "cell_id": "00004-7a2ace98-4e5f-48a6-8627-333ca5df8e07",
    "deepnote_to_be_reexecuted": false,
    "source_hash": "a944ee38",
    "execution_start": 1622897564035,
    "execution_millis": 839889,
    "deepnote_cell_type": "code"
   },
   "source": "data[\"relation\"] = pd.to_numeric(data[\"relation\"])",
   "execution_count": null,
   "outputs": []
  },
  {
   "cell_type": "code",
   "metadata": {
    "tags": [],
    "cell_id": "00005-a442d322-0f17-4a7b-9453-4d3c613b3080",
    "deepnote_to_be_reexecuted": false,
    "source_hash": "606727a5",
    "execution_start": 1622897564058,
    "execution_millis": 839883,
    "deepnote_cell_type": "code"
   },
   "source": "print(data[\"relation\"])",
   "execution_count": null,
   "outputs": [
    {
     "name": "stdout",
     "text": "0       0\n1       0\n2       0\n3       0\n4       0\n       ..\n5701    2\n5702    2\n5703    2\n5704    2\n5705    2\nName: relation, Length: 5706, dtype: int64\n",
     "output_type": "stream"
    }
   ]
  },
  {
   "cell_type": "code",
   "metadata": {
    "tags": [],
    "cell_id": "00005-255cace4-4a9f-4bae-9a25-c02f96ee9300",
    "deepnote_to_be_reexecuted": false,
    "source_hash": "2e104389",
    "execution_start": 1622897564074,
    "execution_millis": 241,
    "deepnote_cell_type": "code"
   },
   "source": "data['relation'].hist(figsize=(4,4));",
   "execution_count": null,
   "outputs": [
    {
     "data": {
      "text/plain": "<Figure size 288x288 with 1 Axes>",
      "image/png": "[encoded data removed]"
     },
     "metadata": {
      "needs_background": "light",
      "image/png": {
       "width": 269,
       "height": 248
      }
     },
     "output_type": "display_data"
    }
   ]
  },
  {
   "cell_type": "code",
   "metadata": {
    "tags": [],
    "cell_id": "00008-69f50cd9-7544-4a40-b3d6-bac624b86133",
    "deepnote_to_be_reexecuted": false,
    "source_hash": "27d9e668",
    "execution_start": 1622897564334,
    "execution_millis": 839965,
    "deepnote_cell_type": "code"
   },
   "source": "len(data)",
   "execution_count": null,
   "outputs": [
    {
     "output_type": "execute_result",
     "execution_count": 14,
     "data": {
      "text/plain": "5706"
     },
     "metadata": {}
    }
   ]
  },
  {
   "cell_type": "markdown",
   "source": "### Data Preparation",
   "metadata": {
    "tags": [],
    "cell_id": "00010-bee36f23-7750-49f6-aac1-e2533e148bff",
    "deepnote_cell_type": "text-cell-h3"
   }
  },
  {
   "cell_type": "code",
   "metadata": {
    "tags": [],
    "cell_id": "00001-fcde2edb-217c-4821-be0c-3f85119021f5",
    "deepnote_to_be_reexecuted": false,
    "source_hash": "2aa10925",
    "execution_start": 1622897564343,
    "execution_millis": 38,
    "deepnote_cell_type": "code"
   },
   "source": "nltk.download('stopwords')\nstop_words = stopwords.words(\"portuguese\")\nlemmatizer = WordNetLemmatizer()",
   "execution_count": null,
   "outputs": [
    {
     "name": "stderr",
     "text": "[nltk_data] Downloading package stopwords to /root/nltk_data...\n[nltk_data]   Package stopwords is already up-to-date!\n",
     "output_type": "stream"
    }
   ]
  },
  {
   "cell_type": "code",
   "metadata": {
    "tags": [],
    "cell_id": "00002-a6cd14ef-074d-4846-8927-34f1ee2d17dd",
    "deepnote_to_be_reexecuted": false,
    "source_hash": "ba5d7323",
    "execution_start": 1622897564378,
    "execution_millis": 21,
    "deepnote_cell_type": "code"
   },
   "source": "def clean_text(text):\n    text = text.lower()\n    \n    # '@' mention. Even tough @ adds some information to the message, \n    # this information doesn't add value build the classifcation model\n    text = re.sub(r'@[A-Za-z0-9_]+','', text)\n    \n    # Dealing with URL links\n    url_regex = 'http[s]?://(?:[a-zA-Z]|[0-9]|[$-_@.&+]|[!*\\(\\),]|(?:%[0-9a-fA-F][0-9a-fA-F]))+'\n    text = re.sub(url_regex,'urlplaceholder', text)\n    # A lot of url are write as follows: http bit.ly. Apply Regex for these cases\n    utl_regex_2 = 'http [a-zA-Z]+\\.[a-zA-Z]+'\n    text = re.sub(utl_regex_2,'urlplaceholder', text)\n    # Other formats: http : //t.co/ihW64e8Z\n    utl_regex_3 = 'http \\: //[a-zA-Z]\\.(co|com|pt|ly)/[A-Za-z0-9_]+'\n    text = re.sub(utl_regex_3,'urlplaceholder', text)\n    \n    # Hashtags can provide useful informations. Removing only ``#``\n    text = re.sub('#',' ', text)\n    \n    # Contractions\n    text = re.sub(r\"what's\", 'what is ', text)\n    text = re.sub(r\"can't\", 'cannot', text)\n    text = re.sub(r\"\\'s\",' ', text)\n    text = re.sub(r\"\\'ve\", ' have ', text)\n    text = re.sub(r\"n't\", ' not ', text)\n    text = re.sub(r\"im\", 'i am ', text)\n    text = re.sub(r\"i'm\", 'i am ', text)\n    text = re.sub(r\"\\'re\", ' are ', text)\n    text = re.sub(r\"\\'d\", ' would ', text)\n    text = re.sub(r\"\\'ll\", ' will ', text)\n                  \n    # Operations and special words           \n    text = re.sub(r\",\", \" \", text)\n    text = re.sub(r\"\\.\", \" \", text)\n    text = re.sub(r\"!\", \" ! \", text)\n    text = re.sub(r\"\\/\", \" \", text)\n    text = re.sub(r\"\\^\", \" ^ \", text)\n    text = re.sub(r\"\\+\", \" + \", text)\n    text = re.sub(r\"\\-\", \" - \", text)\n    text = re.sub(r\"\\=\", \" = \", text)\n    text = re.sub('foof', 'food', text)\n    text = re.sub('msg', 'message', text)\n    text = re.sub(' u ', 'you', text)\n    \n    # Ponctuation Removal\n    text = re.sub(r'[^a-zA-Z0-9]', ' ', text)\n    \n    text = text.split()\n    stop_words = stopwords.words(\"english\")\n    text = [tok for tok in text if tok not in stop_words]\n    lemmatizer = WordNetLemmatizer()\n    text = [lemmatizer.lemmatize(w) for w in text]\n    return ' '.join(text)\n    ",
   "execution_count": null,
   "outputs": []
  },
  {
   "cell_type": "code",
   "metadata": {
    "tags": [],
    "cell_id": "00008-ca81e61e-d9b1-43ae-a58d-d4cca858975d",
    "deepnote_to_be_reexecuted": false,
    "source_hash": "b623e53d",
    "execution_start": 1622897564403,
    "execution_millis": 2,
    "deepnote_cell_type": "code"
   },
   "source": "",
   "execution_count": null,
   "outputs": []
  },
  {
   "cell_type": "markdown",
   "source": "### Tokenize and Create Sentence",
   "metadata": {
    "tags": [],
    "cell_id": "00017-f0c6e119-d9d9-4fb3-aeb3-ddcccf9a3722",
    "deepnote_cell_type": "text-cell-h3"
   }
  },
  {
   "cell_type": "code",
   "metadata": {
    "tags": [],
    "cell_id": "00018-7d19bba8-12a7-411b-a735-2e7ed7ee5e62",
    "deepnote_to_be_reexecuted": false,
    "source_hash": "1c74b9d1",
    "execution_start": 1622897564408,
    "execution_millis": 5,
    "deepnote_cell_type": "code"
   },
   "source": "data['text'] = data['text'].astype(str)",
   "execution_count": null,
   "outputs": []
  },
  {
   "cell_type": "code",
   "metadata": {
    "tags": [],
    "cell_id": "00018-8cd692e4-bddf-42f2-9c0c-aed4cf574adb",
    "deepnote_to_be_reexecuted": false,
    "source_hash": "80ce1aba",
    "execution_start": 1622897564417,
    "execution_millis": 3986,
    "deepnote_cell_type": "code"
   },
   "source": "# Cleaning Text\nnltk.download('wordnet')\ndata['text'] = data['text'].map(lambda x: clean_text(x))",
   "execution_count": null,
   "outputs": [
    {
     "name": "stderr",
     "text": "[nltk_data] Downloading package wordnet to /root/nltk_data...\n[nltk_data]   Package wordnet is already up-to-date!\n",
     "output_type": "stream"
    }
   ]
  },
  {
   "cell_type": "markdown",
   "source": "### Chossing size of vocabulary",
   "metadata": {
    "tags": [],
    "cell_id": "00019-0e2698c8-0da8-4c63-ba01-12ffcbfbd469",
    "deepnote_cell_type": "text-cell-h3"
   }
  },
  {
   "cell_type": "code",
   "metadata": {
    "tags": [],
    "cell_id": "00020-fba307eb-4775-4af1-bbb7-4441d1f4358e",
    "deepnote_to_be_reexecuted": false,
    "source_hash": "e6561c31",
    "execution_start": 1622897568411,
    "execution_millis": 4,
    "deepnote_cell_type": "code"
   },
   "source": "vocabulary_size = 20000",
   "execution_count": null,
   "outputs": []
  },
  {
   "cell_type": "code",
   "metadata": {
    "tags": [],
    "cell_id": "00021-f06a23ee-f57f-467d-8e66-26b9f0caf1de",
    "deepnote_to_be_reexecuted": false,
    "source_hash": "cffc6e23",
    "execution_start": 1622897568421,
    "execution_millis": 9,
    "deepnote_cell_type": "code"
   },
   "source": "tokenizer = Tokenizer(num_words=vocabulary_size)",
   "execution_count": null,
   "outputs": []
  },
  {
   "cell_type": "code",
   "metadata": {
    "tags": [],
    "cell_id": "00022-0b15b0b1-a614-4a3c-a9f0-d58536722ac2",
    "deepnote_to_be_reexecuted": false,
    "source_hash": "d6bc7e21",
    "execution_start": 1622897568435,
    "execution_millis": 75,
    "deepnote_cell_type": "code"
   },
   "source": "tokenizer.fit_on_texts(data['text'])",
   "execution_count": null,
   "outputs": []
  },
  {
   "cell_type": "code",
   "metadata": {
    "tags": [],
    "cell_id": "00023-4cab8ed1-8125-4194-81b6-98d13fc31130",
    "deepnote_to_be_reexecuted": false,
    "source_hash": "ca7e8940",
    "execution_start": 1622897568520,
    "execution_millis": 65,
    "deepnote_cell_type": "code"
   },
   "source": "sequences = tokenizer.texts_to_sequences(data['text'])",
   "execution_count": null,
   "outputs": []
  },
  {
   "cell_type": "code",
   "metadata": {
    "tags": [],
    "cell_id": "00025-6031998e-4a3a-45a2-8acf-ab184930c382",
    "deepnote_to_be_reexecuted": false,
    "source_hash": "caced965",
    "execution_start": 1622897568602,
    "execution_millis": 19,
    "deepnote_cell_type": "code"
   },
   "source": "print(sequences)",
   "execution_count": null,
   "outputs": [
    {
     "name": "stdout",
     "text": "[[202, 3, 79, 727, 11], [17, 11], [12, 11], [20, 11], [8, 11], [24, 11], [728, 52, 729, 11], [9, 730, 11], [6, 11], [731, 134, 11], [221, 52, 182, 66, 285, 11], [11, 3, 154, 592, 11], [9, 11], [5, 11], [359, 35], [42, 414, 732, 35], [155, 35], [35, 35], [27, 35], [18, 18], [286, 66, 202, 3, 74, 18], [32, 47, 18], [286, 7, 18], [360, 183, 733, 18], [32, 82, 18], [31, 18], [76, 1, 184, 76, 1], [76, 1, 92, 76, 1], [76, 1, 66, 185, 82, 76, 1], [76, 1, 66, 185, 488, 76, 1], [76, 1, 76, 1], [15, 62, 3, 63], [60, 593, 62, 3, 63], [734, 3, 735, 62, 3, 63], [62, 3, 63, 62, 3, 63], [48, 62, 3, 63], [50, 62, 3, 63], [44, 62, 3, 63], [60, 415, 736, 62, 3, 63], [49, 62, 3, 63], [737, 3, 738, 62, 3, 63], [33, 62, 3, 63], [45, 62, 3, 63], [53, 62, 3, 63], [51, 61, 62, 3, 63], [361, 415, 739, 62, 3, 63], [60, 66, 359, 62, 3, 63], [156, 62, 3, 63], [34, 62, 3, 63], [59, 59], [59, 7, 59], [59, 30, 59], [59, 182, 59], [59, 66, 362, 59], [59, 37, 59], [59, 184, 59], [59, 363, 59], [59, 182, 66, 285, 59], [41, 26, 89, 3, 64, 1], [64, 1, 66, 740, 89, 3, 64, 1], [2, 89, 3, 64, 1], [64, 1, 66, 489, 3, 144, 89, 3, 64, 1], [64, 1, 363, 89, 3, 64, 1], [64, 1, 66, 287, 364, 89, 3, 64, 1], [741, 742, 89, 3, 64, 1], [64, 1, 184, 89, 3, 64, 1], [64, 1, 66, 490, 89, 3, 64, 1], [64, 1, 66, 185, 89, 3, 64, 1], [89, 3, 64, 1, 89, 3, 64, 1], [7, 3, 9, 7], [77, 3, 7, 83, 491, 7], [7, 3, 12, 7], [7, 7], [21, 21], [182, 66, 285, 21], [13, 21], [492, 21], [203, 3, 287, 364, 25], [39, 25], [97], [2, 25], [203, 3, 42, 743, 25], [203, 3, 7, 25], [117, 3, 326, 25], [203, 3, 287, 364, 744, 25], [182, 66, 285, 7, 25], [67, 25], [365, 183, 745, 3, 594, 25], [493, 3, 494, 25], [117, 3, 746, 25], [203, 3, 747, 25], [252, 183, 53, 25], [40, 126, 3, 79, 127], [56, 43, 126, 3, 79, 127], [748, 3, 416, 126, 3, 79, 127], [253, 749, 126, 3, 79, 127], [750, 3, 751, 126, 3, 79, 127], [253, 3, 366, 54, 126, 3, 79, 127], [126, 3, 79, 127, 126, 3, 79, 127], [11, 202, 3, 79, 727], [11, 17], [11, 12], [11, 20], [11, 8], [11, 24], [11, 728, 52, 729], [11, 9, 730], [11, 6], [11, 731, 134], [11, 221, 52, 182, 66, 285], [11, 11, 3, 154, 592], [11, 9], [11, 5], [35, 359], [35, 42, 414, 732], [35, 155], [35, 35], [35, 27], [18, 18], [18, 286, 66, 202, 3, 74], [18, 32, 47], [18, 286, 7], [18, 360, 183, 733], [18, 32, 82], [18, 31], [76, 1, 76, 1, 184], [76, 1, 76, 1, 92], [76, 1, 76, 1, 66, 185, 82], [76, 1, 76, 1, 66, 185, 488], [76, 1, 76, 1], [62, 3, 63, 15], [62, 3, 63, 60, 593], [62, 3, 63, 734, 3, 735], [62, 3, 63, 62, 3, 63], [62, 3, 63, 48], [62, 3, 63, 50], [62, 3, 63, 44], [62, 3, 63, 60, 415, 736], [62, 3, 63, 49], [62, 3, 63, 737, 3, 738], [62, 3, 63, 33], [62, 3, 63, 45], [62, 3, 63, 53], [62, 3, 63, 51, 61], [62, 3, 63, 361, 415, 739], [62, 3, 63, 60, 66, 359], [62, 3, 63, 156], [62, 3, 63, 34], [59, 59], [59, 59, 7], [59, 59, 30], [59, 59, 182], [59, 59, 66, 362], [59, 59, 37], [59, 59, 184], [59, 59, 363], [59, 59, 182, 66, 285], [89, 3, 64, 1, 41, 26], [89, 3, 64, 1, 64, 1, 66, 740], [89, 3, 64, 1, 2], [89, 3, 64, 1, 64, 1, 66, 489, 3, 144], [89, 3, 64, 1, 64, 1, 363], [89, 3, 64, 1, 64, 1, 66, 287, 364], [89, 3, 64, 1, 741, 742], [89, 3, 64, 1, 64, 1, 184], [89, 3, 64, 1, 64, 1, 66, 490], [89, 3, 64, 1, 64, 1, 66, 185], [89, 3, 64, 1, 89, 3, 64, 1], [7, 7, 3, 9], [7, 77, 3, 7, 83, 491], [7, 7, 3, 12], [7, 7], [21, 21], [21, 182, 66, 285], [21, 13], [21, 492], [25, 203, 3, 287, 364], [25, 39], [97], [25, 2], [25, 203, 3, 42, 743], [25, 203, 3, 7], [25, 117, 3, 326], [25, 203, 3, 287, 364, 744], [25, 182, 66, 285, 7], [25, 67], [25, 365, 183, 745, 3, 594], [25, 493, 3, 494], [25, 117, 3, 746], [25, 203, 3, 747], [25, 252, 183, 53], [126, 3, 79, 127, 40], [126, 3, 79, 127, 56, 43], [126, 3, 79, 127, 748, 3, 416], [126, 3, 79, 127, 253, 749], [126, 3, 79, 127, 750, 3, 751], [126, 3, 79, 127, 253, 3, 366, 54], [126, 3, 79, 127, 126, 3, 79, 127], [9, 42, 752, 9], [9, 202, 66, 753, 9], [9, 3, 754, 9], [9, 755, 9], [9, 9], [9, 756, 327, 9], [9, 757, 9], [222, 3, 495, 18, 7], [221, 18, 7], [595, 18, 7], [254, 18, 7], [118, 18, 7], [758, 18, 7], [36, 18, 7], [759, 3, 367, 288, 18, 7], [760, 18, 7], [761, 18, 7], [762, 18, 7], [496, 18, 7], [763, 18, 7], [764, 3, 182, 18, 7], [286, 7, 18, 7], [490, 18, 7], [38, 18, 7], [765, 288, 18, 7], [223, 18, 7], [766, 18, 7], [289, 368, 255, 18, 7], [497, 18, 75], [4, 1, 18, 75], [14, 18, 75], [16, 18, 75], [417, 18, 75], [286, 66, 202, 3, 74, 18, 75], [767, 3, 256, 18, 75], [165, 18, 75], [290, 18, 75], [768, 18, 75], [202, 3, 74, 18, 75], [30, 32, 82], [498, 32, 82], [32, 82, 32, 82], [769, 32, 82], [360, 362, 32, 82], [289, 368, 255, 32, 82], [224, 499, 32, 82], [186, 32, 82], [363, 66, 185, 32, 82], [185, 499, 32, 82], [30, 32, 47], [770, 183, 771, 32, 47], [60, 3, 92, 32, 47], [75, 32, 47], [225, 3, 772, 32, 47], [773, 32, 47], [186, 32, 47], [774, 32, 47], [500, 32, 47], [22, 32, 47], [775, 3, 776, 32, 47], [225, 3, 777, 32, 47], [37, 32, 47], [328, 32, 47], [291, 3, 778, 32, 47], [225, 3, 779, 32, 47], [33, 596, 32, 47], [489, 3, 780, 32, 47], [781, 3, 782, 46, 32, 47], [501, 32, 47], [225, 3, 783, 784, 32, 47], [184, 32, 47], [185, 488, 32, 47], [360, 362, 32, 47], [257, 32, 47], [289, 368, 255, 32, 47], [785, 32, 47], [786, 32, 47], [32, 47, 32, 47], [291, 3, 418, 32, 47], [7, 226, 58, 502, 78, 7, 3, 12], [7, 227, 58, 503, 78, 7, 3, 12], [7, 227, 58, 502, 78, 7, 3, 12], [7, 227, 58, 504, 78, 7, 3, 12], [7, 227, 58, 505, 78, 7, 3, 12], [7, 226, 58, 506, 78, 7, 3, 12], [7, 227, 58, 506, 78, 7, 3, 12], [7, 226, 58, 505, 78, 7, 3, 12], [7, 3, 12, 7, 3, 12], [7, 226, 58, 504, 78, 7, 3, 12], [7, 226, 58, 503, 78, 7, 3, 12], [507, 787, 58, 75, 788, 7, 3, 12], [7, 508, 7, 3, 9], [7, 3, 23, 7, 3, 9], [7, 3, 40, 7, 3, 9], [7, 3, 145, 7, 3, 9], [55, 7, 3, 9], [7, 112, 7, 3, 9], [28, 29, 7, 3, 9], [7, 3, 9, 7, 3, 9], [7, 509, 7, 3, 9], [6, 789, 58, 510, 78, 77, 3, 7, 83, 6], [6, 58, 790, 78, 77, 3, 7, 83, 6], [77, 3, 7, 83, 491, 77, 3, 7, 83, 6], [6, 791, 77, 3, 7, 83, 6], [7, 112, 77, 3, 7, 83, 6], [510, 78, 58, 72, 77, 3, 7, 83, 6], [7, 507, 3, 23, 77, 3, 7, 83, 6], [6, 3, 23, 77, 3, 7, 83, 6], [7, 55, 3, 23, 77, 3, 7, 83, 6], [6, 58, 221, 792, 77, 3, 7, 83, 6], [6, 58, 793, 78, 77, 3, 7, 83, 6], [40, 511, 40], [40, 40], [40, 794, 40], [56, 43, 56, 43], [56, 43, 58, 512, 513, 795, 56, 43], [56, 43, 58, 512, 513, 796, 56, 43], [56, 43, 797, 56, 43], [9, 9, 42, 752], [9, 9, 202, 66, 753], [9, 9, 3, 754], [9, 9, 755], [9, 9], [9, 9, 756, 327], [9, 9, 757], [18, 7, 222, 3, 495], [18, 7, 221], [18, 7, 595], [18, 7, 254], [18, 7, 118], [18, 7, 758], [18, 7, 36], [18, 7, 759, 3, 367, 288], [18, 7, 760], [18, 7, 761], [18, 7, 762], [18, 7, 496], [18, 7, 763], [18, 7, 764, 3, 182], [18, 7, 286, 7], [18, 7, 490], [18, 7, 38], [18, 7, 765, 288], [18, 7, 223], [18, 7, 766], [18, 7, 289, 368, 255], [18, 75, 497], [18, 75, 4, 1], [18, 75, 14], [18, 75, 16], [18, 75, 417], [18, 75, 286, 66, 202, 3, 74], [18, 75, 767, 3, 256], [18, 75, 165], [18, 75, 290], [18, 75, 768], [18, 75, 202, 3, 74], [32, 82, 30], [32, 82, 498], [32, 82, 32, 82], [32, 82, 769], [32, 82, 360, 362], [32, 82, 289, 368, 255], [32, 82, 224, 499], [32, 82, 186], [32, 82, 363, 66, 185], [32, 82, 185, 499], [32, 47, 30], [32, 47, 770, 183, 771], [32, 47, 60, 3, 92], [32, 47, 75], [32, 47, 225, 3, 772], [32, 47, 773], [32, 47, 186], [32, 47, 774], [32, 47, 500], [32, 47, 22], [32, 47, 775, 3, 776], [32, 47, 225, 3, 777], [32, 47, 37], [32, 47, 328], [32, 47, 291, 3, 778], [32, 47, 225, 3, 779], [32, 47, 33, 596], [32, 47, 489, 3, 780], [32, 47, 781, 3, 782, 46], [32, 47, 501], [32, 47, 225, 3, 783, 784], [32, 47, 184], [32, 47, 185, 488], [32, 47, 360, 362], [32, 47, 257], [32, 47, 289, 368, 255], [32, 47, 785], [32, 47, 786], [32, 47, 32, 47], [32, 47, 291, 3, 418], [7, 3, 12, 7, 226, 58, 502, 78], [7, 3, 12, 7, 227, 58, 503, 78], [7, 3, 12, 7, 227, 58, 502, 78], [7, 3, 12, 7, 227, 58, 504, 78], [7, 3, 12, 7, 227, 58, 505, 78], [7, 3, 12, 7, 226, 58, 506, 78], [7, 3, 12, 7, 227, 58, 506, 78], [7, 3, 12, 7, 226, 58, 505, 78], [7, 3, 12, 7, 3, 12], [7, 3, 12, 7, 226, 58, 504, 78], [7, 3, 12, 7, 226, 58, 503, 78], [7, 3, 12, 507, 787, 58, 75, 788], [7, 3, 9, 7, 508], [7, 3, 9, 7, 3, 23], [7, 3, 9, 7, 3, 40], [7, 3, 9, 7, 3, 145], [7, 3, 9, 55], [7, 3, 9, 7, 112], [7, 3, 9, 28, 29], [7, 3, 9, 7, 3, 9], [7, 3, 9, 7, 509], [77, 3, 7, 83, 6, 6, 789, 58, 510, 78], [77, 3, 7, 83, 6, 6, 58, 790, 78], [77, 3, 7, 83, 6, 77, 3, 7, 83, 491], [77, 3, 7, 83, 6, 6, 791], [77, 3, 7, 83, 6, 7, 112], [77, 3, 7, 83, 6, 510, 78, 58, 72], [77, 3, 7, 83, 6, 7, 507, 3, 23], [77, 3, 7, 83, 6, 6, 3, 23], [77, 3, 7, 83, 6, 7, 55, 3, 23], [77, 3, 7, 83, 6, 6, 58, 221, 792], [77, 3, 7, 83, 6, 6, 58, 793, 78], [40, 40, 511], [40, 40], [40, 40, 794], [56, 43, 56, 43], [56, 43, 56, 43, 58, 512, 513, 795], [56, 43, 56, 43, 58, 512, 513, 796], [56, 43, 56, 43, 797], [223, 223], [514, 798, 799, 223], [514, 800, 223], [222, 3, 495, 222, 3, 367, 288], [222, 801, 222, 3, 367, 288], [802, 3, 154, 803, 186], [804, 3, 805, 186], [186, 186], [369, 806, 60, 3, 92], [19, 60, 3, 92], [807, 808, 60, 3, 92], [60, 3, 92, 60, 3, 92], [809, 60, 3, 92], [810, 811, 60, 3, 92], [74, 812, 60, 3, 92], [813, 3, 814, 22], [815, 3, 816, 22], [22, 22], [225, 3, 817, 257], [257, 257], [597, 3, 84, 65, 3, 84], [258, 65, 3, 84], [10, 228, 65, 3, 84], [10, 419, 228, 65, 3, 84], [370, 65, 3, 84], [818, 819, 419, 65, 3, 84], [10, 65, 3, 84], [23, 65, 3, 84], [258, 228, 65, 3, 84], [370, 228, 65, 3, 84], [23, 228, 65, 3, 84], [365, 112, 113, 820, 58, 515, 183, 420, 7, 112], [7, 112, 7, 112], [365, 112, 58, 515, 183, 420, 7, 112], [7, 112, 58, 496, 7, 112], [223, 223], [223, 514, 798, 799], [223, 514, 800], [222, 3, 367, 288, 222, 3, 495], [222, 3, 367, 288, 222, 801], [186, 802, 3, 154, 803], [186, 804, 3, 805], [186, 186], [60, 3, 92, 369, 806], [60, 3, 92, 19], [60, 3, 92, 807, 808], [60, 3, 92, 60, 3, 92], [60, 3, 92, 809], [60, 3, 92, 810, 811], [60, 3, 92, 74, 812], [22, 813, 3, 814], [22, 815, 3, 816], [22, 22], [257, 225, 3, 817], [257, 257], [65, 3, 84, 597, 3, 84], [65, 3, 84, 258], [65, 3, 84, 10, 228], [65, 3, 84, 10, 419, 228], [65, 3, 84, 370], [65, 3, 84, 818, 819, 419], [65, 3, 84, 10], [65, 3, 84, 23], [65, 3, 84, 258, 228], [65, 3, 84, 370, 228], [65, 3, 84, 23, 228], [7, 112, 365, 112, 113, 820, 58, 515, 183, 420], [7, 112, 7, 112], [7, 112, 365, 112, 58, 515, 183, 420], [7, 112, 7, 112, 58, 496], [9, 597, 3, 821], [9, 289, 3, 821], [126, 3, 79, 127], [134, 62, 3, 63], [134, 993], [9, 7, 3, 9], [134, 9], [9, 257], [494, 370], [994, 3, 421, 822, 54, 421, 822, 54], [292, 64, 1], [995, 135], [598, 4, 1], [32, 52, 422, 592, 98], [599, 76, 1], [65, 52, 229, 46], [65, 58, 996, 229, 46], [65, 516, 3, 517, 12], [65, 77, 3, 84, 12], [65, 518, 997, 5], [65, 516, 3, 517, 5], [65, 77, 3, 84, 5], [65, 423, 52, 39], [65, 416, 998, 166, 39], [65, 999, 596, 39], [65, 423, 52, 1000], [65, 423, 52, 135], [65, 423, 52, 1001, 58, 1002, 31], [65, 423, 52, 2], [1003, 46, 823, 26], [60, 3, 1004, 229, 46], [76, 1, 593, 229, 46], [1005, 229, 46, 229, 46], [1006, 229, 46], [1007, 229, 46], [1008, 1, 229, 46], [1009, 229, 46], [9, 12], [20, 146, 12], [824, 600, 1010, 12], [157, 12], [824, 12], [1011, 12], [20, 3, 1012, 12], [1013, 3, 1014, 12], [146, 12], [1015, 12], [1016, 1017, 1, 12], [1018, 3, 1019, 12], [516, 3, 517, 12], [1020, 5], [9, 5], [157, 5], [519, 187, 1021, 5], [221, 5], [1022, 5], [146, 5], [516, 3, 517, 5], [1023, 5], [825, 5], [595, 5], [1024, 5], [12, 24], [329, 1025, 24], [202, 3, 24, 24], [16, 52, 16], [1026, 3, 1027, 290], [1028, 290], [1029, 3, 1030, 1031, 290], [1032, 290], [1033, 1034, 39], [1035, 3, 31, 31], [1036, 31], [31, 520, 327, 31], [1037, 3, 1038, 2], [25], [9, 11], [9, 9], [9, 9], [97], [601, 18], [59, 59], [59, 59], [330, 18], [330, 25], [330, 8], [330, 28, 29], [136, 56, 43], [136, 56, 43], [521, 18], [7, 7], [7, 7], [826, 35], [826, 34], [602, 2], [603, 15], [15, 12], [15, 20], [15, 9], [15, 15], [15, 48], [15, 50], [15, 44], [15, 33], [15, 53], [15, 51, 61], [1039, 26, 18], [604, 11], [99, 17], [99, 12], [99, 20], [99, 6], [99, 9], [99, 5], [99, 15], [99, 48], [99, 44], [99, 33], [99, 45], [99, 53], [99, 2], [99, 28, 29], [1040, 39], [522, 55], [1041, 523, 7], [827, 39], [828, 35], [605, 25], [605, 17], [829, 12], [18, 18], [18, 18], [606, 56, 43], [606, 56, 43], [830, 17], [607, 18], [607, 8], [6, 11], [6, 35], [6, 7], [6, 39], [6, 2], [6, 40], [6, 28, 29], [6, 40], [187, 166, 11], [187, 166, 20], [187, 166, 9], [187, 166, 15], [187, 166, 48], [187, 166, 33], [187, 166, 53], [187, 166, 34], [1042, 26, 18], [259, 12], [259, 20], [259, 6], [259, 5], [259, 2], [524, 21], [524, 9], [608, 371, 18], [608, 371, 8], [831, 17], [831, 34], [609, 2], [203, 25], [56, 43, 56, 43], [56, 43, 56, 43], [610, 6], [832, 24], [1043, 35], [424, 21], [1044, 18], [73, 7], [73, 21], [73, 17], [73, 12], [73, 20], [73, 6], [73, 9], [73, 5], [73, 2], [73, 40], [73, 28, 29], [73, 40], [73, 22], [73, 22], [425, 21], [1045, 17], [1046, 45], [32, 11], [32, 20], [32, 8], [32, 67], [230, 15], [230, 48], [230, 44], [230, 49], [230, 33], [230, 45], [230, 53], [230, 51, 61], [230, 34], [1047, 7], [1048, 18], [293, 6], [293, 2], [21, 21], [21, 21], [21, 13], [21, 492], [1049, 21], [833, 25], [1050, 260, 7], [231, 18], [231, 8], [231, 39], [231, 2], [231, 67], [7], [1051, 7], [232, 12], [232, 20], [232, 6], [232, 9], [232, 5], [232, 39], [232, 28, 29], [361, 15], [361, 33], [426, 17], [426, 39], [97], [426, 2], [834, 8], [1052, 20], [233, 21], [233, 12], [233, 9], [233, 5], [233, 44], [233, 28, 29], [234, 46, 11], [234, 46, 12], [234, 46, 8], [234, 46, 24], [234, 46, 67], [31, 5], [31, 39], [31, 2], [1053, 35], [525, 526, 49], [525, 526, 45], [525, 526, 51, 61], [256, 11], [256, 8], [427, 35], [427, 33], [427, 34], [835, 67], [204, 21], [204, 12], [204, 20], [204, 9], [204, 28, 29], [167, 103, 17], [167, 103, 20], [167, 103, 15], [167, 103, 50], [167, 103, 44], [167, 103, 39], [167, 103, 2], [836, 17], [836, 45], [76, 1, 76, 1], [76, 1, 76, 1], [11, 11], [11, 21], [11, 12], [11, 20], [11, 8], [11, 24], [11, 6], [11, 9], [527, 44], [527, 34], [611, 17], [611, 2], [235, 261, 5], [235, 261, 39], [235, 261, 2], [1054, 18], [92, 12], [92, 9], [612, 11], [612, 67], [1055, 39], [262, 21], [262, 9], [262, 28, 29], [262, 22], [262, 22], [90, 17], [90, 12], [90, 20], [90, 6], [90, 9], [90, 5], [90, 2], [90, 28, 29], [90, 22], [90, 22], [294, 17], [294, 12], [294, 9], [294, 15], [294, 33], [294, 34], [137, 45], [137, 28, 29], [144, 11], [144, 12], [144, 20], [144, 8], [144, 44], [144, 33], [144, 34], [528, 18], [528, 8], [30, 11], [30, 2], [135, 12], [135, 20], [135, 6], [135, 9], [135, 5], [135, 39], [135, 2], [613, 35], [613, 2], [428, 529, 11], [428, 529, 25], [263, 18], [263, 21], [263, 17], [263, 20], [264, 21], [264, 17], [264, 39], [264, 2], [837, 33], [837, 34], [331, 21], [331, 8], [205, 11], [205, 8], [205, 24], [205, 9], [205, 67], [614, 11], [614, 24], [1056, 35], [236, 21], [236, 8], [236, 44], [236, 33], [236, 34], [838, 49], [28, 29, 11], [28, 29, 12], [28, 29, 20], [28, 29, 8], [28, 29, 6], [28, 29, 9], [28, 29, 44], [28, 29, 28, 29], [839, 35], [839, 8], [372, 49], [372, 33], [372, 45], [372, 51, 61], [372, 34], [237, 17], [237, 12], [237, 9], [237, 48], [237, 49], [237, 33], [237, 45], [840, 49], [840, 45], [615, 67], [1057, 35], [841, 24], [429, 6], [429, 9], [429, 5], [842, 21], [265, 69, 48], [265, 69, 49], [265, 69, 45], [206, 20], [206, 9], [206, 15], [206, 48], [206, 44], [206, 33], [206, 53], [206, 34], [207, 12], [207, 6], [207, 9], [207, 5], [207, 2], [8, 11], [8, 21], [8, 12], [8, 8], [530, 104, 8], [291, 2], [418, 34], [519, 49], [519, 33], [265, 326, 44], [265, 326, 49], [265, 326, 45], [265, 326, 28, 29], [616, 18], [616, 24], [55, 7], [55, 55], [42, 414, 35], [42, 414, 25], [617, 26, 25], [1058, 1059, 18], [238, 8], [238, 9], [238, 5], [531, 18], [531, 15], [843, 18], [91, 21], [91, 12], [91, 20], [91, 24], [91, 6], [91, 9], [91, 5], [91, 39], [91, 2], [91, 40], [91, 28, 29], [91, 40], [168, 169, 21], [168, 169, 12], [168, 169, 9], [168, 169, 5], [168, 169, 39], [168, 169, 2], [168, 169, 22], [168, 169, 22], [430, 44], [618, 619, 8], [266, 25], [266, 17], [266, 9], [266, 5], [266, 45], [97], [266, 28, 29], [295, 21], [295, 22], [295, 22], [844, 21], [844, 50], [620, 20], [620, 44], [373, 1, 11], [1060, 18], [374, 11], [374, 35], [374, 33], [374, 53], [374, 51, 61], [296, 260, 11], [296, 260, 21], [296, 260, 12], [296, 260, 9], [296, 260, 28, 29], [621, 25], [621, 28, 29], [415, 137, 48], [157, 11], [157, 17], [157, 12], [157, 20], [157, 9], [157, 5], [157, 2], [297, 9], [297, 15], [297, 48], [297, 33], [297, 51, 61], [845, 25], [622, 9], [622, 48], [622, 45], [623, 24], [624, 17], [624, 50], [625, 35], [625, 25], [626, 24], [523, 7], [523, 24], [146, 11], [146, 12], [146, 20], [146, 9], [146, 33], [146, 34], [329, 11], [329, 12], [329, 8], [627, 18], [627, 8], [1061, 51, 61], [1062, 21], [846, 21], [375, 24], [375, 56, 43], [375, 56, 43], [298, 17], [298, 20], [298, 8], [40, 40], [40, 40], [188, 21], [188, 17], [188, 20], [188, 9], [188, 15], [188, 50], [188, 33], [188, 45], [188, 34], [628, 25], [628, 9], [520, 327, 55], [431, 21], [431, 48], [431, 45], [431, 34], [117, 11], [117, 12], [117, 8], [117, 24], [117, 6], [117, 5], [117, 39], [117, 2], [69, 53], [267, 11], [267, 18], [267, 21], [267, 12], [267, 8], [432, 5], [432, 2], [532, 18], [532, 8], [268, 21], [268, 17], [268, 50], [268, 49], [268, 34], [1063, 18], [105, 11], [105, 17], [105, 12], [105, 20], [105, 6], [105, 9], [105, 5], [105, 40], [105, 28, 29], [105, 40], [533, 17], [1064, 26, 18], [534, 2], [1065, 7], [123, 54, 17], [123, 54, 12], [123, 54, 20], [123, 54, 6], [123, 54, 9], [123, 54, 15], [123, 54, 48], [123, 54, 50], [123, 54, 44], [123, 54, 33], [123, 54, 45], [123, 54, 53], [123, 54, 51, 61], [123, 54, 28, 29], [629, 55], [332, 189, 2], [376, 21], [376, 20], [376, 15], [630, 28, 29], [847, 8], [848, 18], [377, 104, 21], [377, 104, 44], [535, 17], [535, 34], [849, 850, 24], [147, 12], [147, 20], [147, 6], [147, 9], [147, 5], [147, 2], [147, 28, 29], [1066, 17], [97], [433, 17], [433, 50], [851, 25], [333, 11], [333, 8], [333, 53], [1067, 18], [434, 1068, 17], [119, 21], [119, 20], [119, 6], [119, 9], [119, 5], [119, 2], [119, 28, 29], [119, 22], [119, 22], [852, 2], [334, 15], [334, 48], [334, 49], [334, 33], [170, 21], [170, 2], [435, 53], [148, 11], [148, 12], [148, 20], [148, 8], [148, 9], [148, 33], [148, 34], [148, 2], [148, 28, 29], [93, 35], [93, 7], [93, 17], [93, 12], [93, 20], [93, 8], [93, 6], [93, 9], [93, 5], [93, 2], [93, 28, 29], [93, 22], [93, 22], [420, 34], [120, 12], [120, 20], [120, 6], [120, 9], [120, 5], [120, 39], [120, 2], [120, 28, 29], [1069, 18], [1070, 8], [158, 21], [158, 12], [158, 20], [158, 6], [158, 9], [158, 5], [158, 39], [158, 2], [436, 8], [853, 18], [536, 17], [536, 48], [536, 45], [536, 39], [631, 35], [299, 103, 35], [299, 103, 55], [299, 103, 28, 29], [138, 159, 11], [138, 159, 12], [138, 159, 8], [138, 159, 6], [138, 159, 9], [632, 15], [632, 53], [378, 379, 21], [378, 379, 5], [1071, 34], [854, 17], [1072, 17], [1073, 39], [855, 18], [537, 18], [537, 8], [139, 26, 11], [139, 26, 35], [139, 26, 7], [139, 26, 12], [139, 26, 20], [139, 26, 24], [139, 26, 6], [139, 26, 9], [139, 26, 50], [139, 26, 44], [139, 26, 53], [139, 26, 67], [633, 7], [633, 55], [22, 39], [22, 2], [22, 22], [22, 22], [253, 21], [253, 12], [253, 2], [1074, 25], [856, 8], [857, 26, 67], [208, 6], [208, 5], [208, 39], [208, 2], [858, 8], [335, 11], [335, 8], [634, 371, 8], [634, 371, 24], [154, 137, 17], [171, 12], [171, 20], [171, 9], [171, 5], [171, 48], [171, 44], [171, 33], [171, 28, 29], [269, 6], [269, 5], [269, 39], [269, 2], [635, 48], [635, 156], [635, 28, 29], [511, 39], [1075, 33], [508, 25], [1076, 34], [172, 21], [172, 12], [172, 6], [172, 5], [172, 39], [172, 2], [859, 8], [437, 6], [437, 5], [437, 39], [538, 50], [538, 34], [538, 2], [173, 11], [173, 21], [173, 12], [173, 8], [173, 39], [860, 25], [861, 17], [114, 11], [114, 21], [114, 12], [114, 20], [114, 8], [114, 9], [114, 5], [114, 44], [114, 34], [114, 2], [114, 22], [114, 22], [209, 17], [209, 6], [209, 15], [209, 50], [209, 44], [636, 1, 9], [636, 1, 33], [636, 1, 45], [270, 8], [270, 15], [270, 50], [270, 44], [539, 21], [539, 6], [300, 17], [300, 20], [1077, 21], [438, 2], [301, 20], [301, 28, 29], [434, 862, 35], [434, 862, 7], [863, 18], [637, 49], [637, 55], [380, 6], [380, 39], [380, 56, 43], [380, 56, 43], [439, 17], [439, 40], [439, 40], [35], [25], [17], [50], [45], [2], [540, 24], [149, 21], [149, 12], [149, 20], [149, 6], [149, 9], [149, 5], [149, 39], [149, 28, 29], [440, 21], [440, 156], [239, 15], [239, 49], [239, 33], [239, 53], [239, 34], [638, 21], [224, 22], [224, 22], [1078, 7], [541, 26, 8], [441, 35], [441, 53], [600, 34], [864, 44], [128, 25], [128, 12], [128, 20], [128, 6], [128, 9], [128, 5], [128, 48], [128, 44], [128, 49], [128, 33], [128, 45], [128, 51, 61], [128, 28, 29], [51, 61, 7], [51, 61, 6], [51, 61, 9], [51, 61, 5], [51, 61, 28, 29], [639, 40], [639, 40], [42, 598, 35], [42, 598, 67], [640, 11], [1079, 26, 18], [641, 35], [641, 6], [865, 9], [866, 6], [542, 24], [154, 302, 12], [154, 302, 9], [154, 302, 15], [154, 302, 48], [154, 302, 33], [154, 302, 45], [150, 151, 21], [150, 151, 12], [150, 151, 20], [150, 151, 6], [150, 151, 9], [150, 151, 34], [150, 151, 28, 29], [1080, 18], [381, 5], [381, 39], [381, 2], [642, 8], [867, 44], [37, 17], [643, 33], [643, 34], [868, 25], [869, 18], [9], [870, 8], [51, 174, 20], [51, 174, 15], [51, 174, 48], [51, 174, 50], [51, 174, 44], [51, 174, 33], [51, 174, 51, 61], [51, 174, 34], [49, 9], [49, 49], [49, 33], [49, 51, 61], [871, 26, 18], [1081, 18], [872, 160, 53], [872, 160, 34], [336, 35], [336, 25], [336, 28, 29], [240, 873, 18], [175, 17], [175, 12], [175, 20], [175, 9], [175, 15], [175, 48], [175, 50], [175, 44], [175, 33], [175, 34], [121, 54, 35], [121, 54, 17], [121, 54, 12], [121, 54, 20], [121, 54, 6], [121, 54, 9], [121, 54, 15], [121, 54, 48], [121, 54, 50], [121, 54, 44], [121, 54, 33], [121, 54, 45], [121, 54, 53], [121, 54, 51, 61], [121, 54, 2], [543, 39], [874, 25], [25, 25], [875, 7], [382, 6], [382, 9], [382, 5], [421, 11], [303, 20], [303, 9], [303, 15], [303, 44], [303, 33], [303, 53], [644, 25], [644, 9], [1082, 18], [383, 22], [383, 22], [876, 55], [384, 17], [384, 12], [384, 2], [54, 7], [54, 67], [877, 878, 17], [544, 11], [544, 24], [879, 8], [645, 21], [1083, 17], [880, 25], [881, 17], [442, 35], [442, 8], [1084, 18], [882, 25], [883, 12], [1085, 34], [646, 17], [646, 50], [304, 21], [304, 12], [304, 20], [304, 24], [304, 2], [337, 45], [190, 21], [190, 5], [190, 39], [190, 22], [190, 22], [16, 2], [16, 22], [16, 22], [385, 80, 5], [385, 80, 45], [385, 80, 39], [305, 6], [305, 9], [305, 22], [305, 22], [106, 11], [106, 21], [106, 12], [106, 20], [106, 8], [106, 6], [106, 9], [106, 5], [106, 28, 29], [1086, 35], [1087, 28, 29], [884, 53], [884, 34], [647, 17], [647, 5], [145, 20], [145, 6], [145, 9], [145, 5], [145, 39], [145, 2], [145, 40], [145, 40], [210, 11], [210, 12], [210, 8], [210, 9], [210, 48], [210, 44], [648, 2], [1088, 17], [885, 5], [443, 22], [443, 22], [649, 21], [444, 445, 21], [886, 50], [191, 35], [191, 12], [191, 20], [191, 6], [191, 9], [191, 48], [191, 50], [191, 45], [191, 156], [887, 45], [271, 7], [271, 2], [306, 35], [306, 17], [306, 24], [306, 15], [306, 50], [306, 53], [72, 7], [72, 17], [72, 12], [72, 20], [72, 6], [72, 9], [72, 5], [72, 15], [72, 48], [72, 44], [72, 33], [72, 45], [72, 51, 61], [72, 34], [72, 2], [72, 28, 29], [650, 26, 18], [650, 26, 8], [52, 6], [52, 39], [52, 56, 43], [52, 56, 43], [1089, 53], [13, 21], [13, 12], [13, 20], [13, 6], [13, 9], [13, 5], [888, 15], [1090, 39], [338, 21], [74, 11], [74, 7], [74, 21], [74, 12], [74, 20], [74, 6], [74, 9], [74, 5], [74, 40], [74, 40], [252, 11], [252, 8], [252, 53], [252, 67], [386, 6], [386, 5], [386, 2], [1091, 18], [889, 8], [272, 21], [272, 17], [272, 20], [13, 17], [41, 26, 2], [446, 21], [1092, 17], [241, 17], [241, 2], [241, 40], [241, 40], [307, 11], [651, 39], [240, 17], [240, 12], [240, 9], [240, 44], [240, 33], [240, 34], [339, 8], [339, 9], [339, 34], [545, 189, 24], [1093, 44], [447, 17], [890, 8], [546, 369, 22], [546, 369, 22], [192, 12], [192, 20], [192, 6], [192, 9], [192, 5], [192, 15], [192, 53], [192, 34], [308, 5], [308, 39], [308, 22], [308, 22], [161, 17], [161, 12], [161, 20], [161, 6], [161, 9], [161, 15], [161, 48], [161, 50], [161, 44], [161, 33], [161, 45], [161, 34], [387, 6], [388, 6], [388, 5], [340, 46, 11], [340, 46, 35], [340, 46, 7], [340, 46, 12], [340, 46, 53], [1094, 35], [1095, 18], [1096, 39], [389, 15], [389, 48], [389, 44], [389, 45], [389, 156], [891, 24], [23, 6], [23, 9], [23, 5], [98, 21], [98, 12], [98, 8], [98, 6], [98, 9], [98, 5], [98, 2], [98, 28, 29], [309, 1, 35], [309, 1, 20], [309, 1, 6], [309, 1, 2], [448, 2], [652, 12], [653, 2], [547, 17], [547, 2], [211, 21], [211, 20], [211, 9], [211, 5], [211, 39], [211, 22], [211, 22], [654, 21], [449, 18], [449, 8], [449, 67], [134, 11], [134, 21], [134, 12], [134, 8], [134, 67], [655, 21], [655, 20], [176, 11], [176, 21], [176, 12], [176, 9], [176, 5], [176, 53], [176, 51, 61], [656, 21], [892, 35], [100, 43, 11], [100, 43, 12], [100, 43, 20], [100, 43, 8], [100, 43, 6], [100, 43, 9], [100, 43, 2], [100, 43, 28, 29], [100, 43, 22], [100, 43, 22], [86, 7], [86, 21], [86, 17], [86, 12], [86, 20], [86, 8], [86, 9], [86, 5], [86, 15], [86, 48], [86, 44], [86, 49], [86, 33], [86, 45], [86, 53], [86, 34], [273, 11], [273, 8], [177, 17], [177, 12], [177, 20], [177, 9], [177, 15], [177, 48], [177, 44], [177, 33], [177, 34], [193, 17], [193, 12], [193, 6], [193, 9], [193, 48], [193, 44], [193, 45], [193, 51, 61], [193, 2], [390, 5], [657, 8], [450, 2], [14, 21], [14, 20], [14, 2], [274, 20], [274, 6], [274, 5], [274, 28, 29], [893, 24], [212, 35], [212, 21], [212, 24], [212, 6], [212, 9], [212, 53], [212, 2], [894, 33], [894, 53], [451, 2], [895, 8], [658, 18], [548, 17], [548, 15], [548, 50], [549, 17], [549, 2], [550, 15], [550, 48], [1097, 18], [896, 11], [897, 25], [1098, 50], [68, 57, 17], [68, 57, 12], [68, 57, 20], [68, 57, 6], [68, 57, 9], [68, 57, 5], [68, 57, 15], [68, 57, 48], [68, 57, 44], [68, 57, 33], [68, 57, 45], [68, 57, 53], [68, 57, 51, 61], [68, 57, 34], [68, 57, 2], [68, 57, 22], [68, 57, 22], [275, 21], [275, 20], [275, 8], [275, 53], [275, 34], [551, 2], [213, 6], [213, 2], [213, 22], [213, 22], [1099, 17], [19, 11], [19, 21], [19, 12], [19, 20], [19, 8], [19, 9], [19, 5], [19, 2], [19, 28, 29], [19, 22], [19, 22], [898, 25], [493, 7], [493, 9], [42, 70, 11], [42, 70, 7], [42, 70, 12], [42, 70, 20], [42, 70, 8], [42, 70, 24], [42, 70, 6], [42, 70, 9], [42, 70, 5], [42, 70, 2], [42, 70, 40], [42, 70, 28, 29], [42, 70, 40], [42, 70, 22], [42, 70, 22], [42, 107, 7], [42, 107, 12], [42, 107, 20], [42, 107, 6], [42, 107, 9], [42, 107, 5], [42, 107, 2], [42, 107, 40], [42, 107, 40], [1100, 35], [1101, 35], [659, 7], [659, 55], [1102, 11], [178, 194, 11], [178, 194, 8], [178, 194, 9], [178, 194, 28, 29], [1103, 7], [660, 8], [214, 21], [214, 17], [214, 20], [214, 39], [214, 28, 29], [391, 20], [391, 5], [391, 39], [97], [391, 2], [452, 17], [276, 17], [276, 20], [276, 9], [276, 15], [276, 48], [276, 50], [276, 156], [899, 17], [899, 39], [97], [661, 24], [453, 454, 20], [453, 454, 56, 43], [453, 454, 56, 43], [662, 39], [662, 2], [1104, 17], [1105, 21], [392, 160, 15], [392, 160, 33], [392, 160, 53], [392, 160, 51, 61], [1106, 45], [1107, 21], [900, 24], [455, 35], [455, 25], [455, 9], [455, 28, 29], [393, 21], [393, 17], [393, 12], [393, 39], [1108, 17], [456, 21], [394, 2], [394, 40], [394, 40], [277, 12], [277, 9], [277, 48], [277, 33], [277, 45], [277, 53], [277, 51, 61], [277, 34], [108, 17], [108, 12], [108, 20], [108, 6], [108, 9], [108, 15], [108, 50], [108, 44], [108, 33], [108, 34], [108, 2], [108, 28, 29], [1109, 7], [1110, 7], [663, 1, 35], [663, 1, 28, 29], [901, 17], [901, 39], [97], [457, 20], [457, 50], [457, 33], [457, 34], [242, 80, 21], [242, 80, 17], [242, 80, 12], [242, 80, 20], [195, 6], [195, 5], [195, 39], [195, 2], [140, 1, 35], [140, 1, 7], [140, 1, 12], [140, 1, 20], [140, 1, 6], [140, 1, 9], [140, 1, 5], [140, 1, 2], [140, 1, 28, 29], [395, 6], [395, 39], [395, 2], [902, 35], [664, 18], [903, 55], [396, 18], [396, 8], [396, 28, 29], [904, 55], [97], [905, 24], [665, 8], [666, 46, 45], [667, 5], [667, 39], [552, 11], [552, 24], [668, 35], [668, 24], [458, 35], [458, 24], [458, 2], [594, 21], [906, 21], [553, 17], [553, 45], [599, 21], [669, 25], [670, 20], [670, 8], [459, 21], [459, 24], [671, 46, 8], [460, 25], [460, 9], [460, 5], [1111, 18], [136, 17], [136, 12], [136, 20], [136, 6], [136, 9], [136, 5], [136, 2], [461, 8], [672, 9], [129, 17], [129, 12], [129, 20], [129, 9], [129, 5], [129, 34], [129, 39], [129, 2], [554, 44], [554, 33], [341, 21], [341, 20], [907, 2], [908, 46, 67], [310, 311, 35], [310, 311, 12], [310, 311, 24], [310, 311, 67], [909, 24], [312, 6], [312, 5], [312, 2], [342, 11], [342, 18], [342, 8], [109, 21], [109, 12], [109, 20], [109, 6], [109, 9], [109, 5], [109, 34], [109, 39], [109, 2], [109, 28, 29], [109, 22], [109, 22], [673, 8], [343, 35], [343, 25], [343, 67], [910, 21], [235, 911, 55], [462, 35], [462, 24], [674, 17], [674, 50], [674, 45], [555, 8], [555, 67], [416, 11], [1112, 7], [912, 48], [1113, 8], [913, 25], [675, 17], [556, 15], [556, 48], [556, 45], [17], [463, 39], [463, 2], [1114, 35], [557, 21], [557, 9], [557, 34], [914, 44], [914, 33], [915, 5], [464, 11], [464, 2], [79, 22], [79, 22], [916, 45], [916, 34], [465, 18], [465, 44], [196, 18], [196, 7], [196, 17], [196, 12], [196, 8], [558, 5], [558, 45], [917, 67], [60, 17], [60, 12], [60, 20], [60, 9], [60, 15], [60, 48], [60, 33], [60, 45], [60, 53], [60, 51, 61], [1115, 18], [1116, 35], [344, 2], [559, 9], [559, 5], [559, 33], [42, 676, 5], [560, 21], [560, 2], [677, 678, 53], [397, 5], [397, 2], [97], [243, 11], [243, 8], [243, 44], [243, 67], [466, 48], [466, 33], [466, 53], [918, 35], [918, 53], [27, 35], [27, 12], [27, 20], [27, 6], [27, 9], [27, 5], [27, 50], [27, 44], [27, 33], [27, 45], [27, 51, 61], [27, 34], [27, 2], [85, 25], [85, 17], [85, 12], [85, 20], [85, 6], [85, 9], [85, 5], [85, 15], [85, 48], [85, 44], [85, 49], [85, 33], [85, 45], [85, 53], [85, 34], [85, 2], [85, 28, 29], [679, 21], [679, 17], [919, 45], [101, 1, 17], [101, 1, 12], [101, 1, 20], [101, 1, 6], [101, 1, 9], [101, 1, 5], [101, 1, 15], [101, 1, 48], [101, 1, 50], [101, 1, 44], [101, 1, 33], [101, 1, 45], [101, 1, 53], [101, 1, 51, 61], [101, 1, 34], [1117, 17], [215, 5], [215, 2], [215, 40], [215, 40], [313, 52, 15], [313, 52, 48], [313, 52, 44], [313, 52, 33], [313, 52, 45], [313, 52, 34], [509, 55], [920, 55], [1118, 35], [921, 35], [314, 39], [314, 2], [314, 40], [314, 40], [398, 6], [398, 5], [244, 11], [244, 12], [244, 20], [244, 8], [244, 48], [244, 44], [244, 33], [680, 5], [315, 39], [315, 2], [130, 21], [130, 12], [130, 20], [130, 24], [130, 6], [130, 39], [130, 2], [130, 40], [130, 56, 43], [130, 40], [130, 56, 43], [922, 25], [97], [1119, 17], [399, 6], [399, 44], [399, 34], [923, 17], [467, 17], [467, 48], [467, 44], [428, 17], [97], [162, 25], [162, 20], [162, 8], [162, 9], [162, 5], [162, 28, 29], [278, 21], [278, 22], [278, 22], [561, 17], [561, 50], [561, 39], [924, 160, 35], [1120, 45], [287, 1121, 18], [1122, 18], [925, 17], [400, 17], [400, 12], [400, 20], [400, 39], [163, 12], [163, 6], [163, 9], [163, 5], [926, 17], [197, 21], [197, 17], [197, 12], [197, 5], [197, 2], [345, 8], [346, 11], [346, 35], [346, 21], [131, 12], [131, 20], [131, 6], [131, 9], [131, 5], [131, 2], [131, 22], [131, 22], [316, 2], [316, 22], [316, 22], [24, 11], [24, 21], [24, 12], [24, 20], [24, 24], [24, 6], [24, 9], [24, 28, 29], [292, 11], [292, 24], [292, 2], [468, 8], [468, 15], [468, 50], [138, 12], [681, 18], [681, 8], [10, 11], [10, 12], [10, 8], [1123, 17], [469, 160, 35], [469, 160, 2], [470, 21], [470, 39], [245, 17], [245, 12], [245, 20], [245, 8], [245, 15], [245, 50], [216, 12], [216, 6], [1124, 33], [124, 69, 7], [124, 69, 17], [124, 69, 12], [124, 69, 6], [124, 69, 9], [124, 69, 5], [124, 69, 2], [124, 69, 22], [124, 69, 22], [927, 327, 45], [97], [682, 35], [682, 55], [928, 24], [198, 17], [198, 12], [198, 6], [198, 9], [198, 50], [198, 33], [198, 53], [198, 2], [5, 7], [5, 12], [5, 20], [5, 6], [5, 9], [5, 5], [5, 53], [5, 34], [5, 39], [5, 2], [5, 28, 29], [562, 11], [562, 24], [347, 11], [347, 21], [347, 8], [347, 67], [1125, 67], [217, 12], [217, 8], [217, 9], [217, 33], [217, 45], [217, 51, 61], [217, 67], [17], [20], [15], [50], [156], [246, 17], [246, 15], [246, 44], [246, 2], [348, 104, 9], [348, 104, 33], [348, 104, 51, 61], [683, 7], [683, 55], [115, 24], [1126, 35], [929, 12], [929, 44], [684, 21], [930, 8], [317, 18], [317, 21], [317, 8], [4, 1, 7], [4, 1, 21], [4, 1, 17], [4, 1, 12], [4, 1, 20], [4, 1, 6], [4, 1, 9], [4, 1, 5], [4, 1, 2], [4, 1, 28, 29], [422, 1, 11], [422, 1, 12], [685, 21], [1127, 35], [141, 17], [141, 12], [141, 24], [141, 6], [141, 5], [141, 39], [141, 2], [401, 21], [401, 17], [401, 2], [199, 17], [199, 12], [199, 9], [199, 15], [199, 48], [199, 50], [199, 44], [199, 33], [199, 45], [199, 51, 61], [563, 35], [563, 24], [563, 67], [564, 35], [565, 8], [686, 35], [686, 6], [318, 20], [318, 15], [318, 48], [318, 44], [318, 33], [318, 34], [218, 12], [218, 20], [218, 5], [218, 50], [218, 44], [218, 33], [218, 34], [471, 26, 18], [687, 15], [687, 50], [472, 12], [472, 20], [472, 15], [472, 50], [71, 35], [71, 7], [71, 17], [71, 12], [71, 20], [71, 24], [71, 6], [71, 9], [71, 5], [71, 15], [71, 48], [71, 44], [71, 49], [71, 33], [71, 45], [71, 53], [71, 34], [71, 39], [71, 2], [132, 17], [132, 12], [132, 20], [132, 15], [132, 48], [132, 50], [132, 33], [132, 45], [132, 156], [132, 34], [132, 39], [132, 2], [566, 5], [688, 55], [1128, 28, 29], [152, 21], [152, 12], [152, 20], [152, 5], [152, 44], [152, 39], [152, 2], [931, 45], [133, 46, 11], [133, 46, 35], [133, 46, 21], [133, 46, 25], [133, 46, 12], [133, 46, 20], [133, 46, 8], [133, 46, 22], [133, 46, 22], [1129, 17], [116, 21], [116, 17], [116, 12], [116, 20], [116, 6], [116, 9], [116, 5], [116, 48], [116, 44], [116, 45], [116, 2], [116, 28, 29], [1130, 33], [567, 22], [567, 22], [87, 35], [87, 7], [87, 12], [87, 20], [87, 24], [87, 6], [87, 9], [87, 5], [87, 39], [87, 2], [87, 28, 29], [87, 22], [87, 22], [473, 21], [473, 20], [164, 17], [164, 12], [164, 20], [164, 9], [164, 15], [164, 50], [164, 44], [164, 33], [164, 34], [164, 2], [94, 52, 25], [94, 52, 17], [94, 52, 12], [94, 52, 20], [94, 52, 6], [94, 52, 9], [94, 52, 5], [94, 52, 15], [94, 52, 48], [94, 52, 44], [94, 52, 33], [94, 52, 45], [94, 52, 51, 61], [94, 52, 2], [94, 52, 28, 29], [689, 2], [402, 21], [110, 21], [110, 17], [110, 12], [110, 20], [110, 6], [110, 9], [110, 5], [110, 2], [110, 22], [110, 22], [153, 11], [153, 21], [153, 17], [153, 12], [153, 20], [153, 8], [153, 67], [1131, 18], [319, 80, 17], [319, 80, 20], [349, 22], [349, 22], [474, 690, 9], [474, 690, 2], [1132, 54, 17], [932, 17], [932, 33], [475, 26, 11], [475, 26, 21], [475, 26, 24], [691, 21], [933, 33], [350, 11], [350, 18], [350, 8], [1133, 39], [351, 6], [351, 5], [351, 28, 29], [934, 46, 15], [1134, 7], [692, 2], [154, 39], [279, 21], [279, 8], [279, 22], [279, 22], [935, 55], [693, 48], [693, 156], [1135, 7], [57, 35], [57, 12], [57, 20], [57, 6], [57, 9], [57, 5], [57, 15], [57, 48], [57, 44], [57, 33], [57, 34], [694, 8], [518, 8], [81, 35], [81, 7], [81, 17], [81, 12], [81, 20], [81, 6], [81, 9], [81, 5], [81, 2], [81, 40], [81, 28, 29], [81, 40], [403, 15], [403, 33], [403, 53], [403, 51, 61], [280, 17], [280, 12], [280, 20], [280, 15], [280, 50], [280, 44], [280, 33], [280, 34], [695, 11], [95, 11], [95, 17], [95, 12], [95, 20], [95, 6], [95, 9], [95, 15], [95, 48], [95, 44], [95, 49], [95, 33], [95, 45], [95, 53], [95, 51, 61], [95, 34], [320, 20], [320, 15], [320, 50], [320, 33], [320, 53], [320, 34], [1136, 21], [696, 8], [696, 67], [476, 11], [476, 8], [936, 104, 2], [404, 5], [404, 39], [404, 2], [179, 12], [179, 8], [179, 6], [179, 9], [179, 2], [281, 11], [281, 21], [281, 12], [281, 9], [937, 49], [938, 5], [939, 18], [122, 7], [122, 12], [122, 20], [122, 6], [122, 9], [122, 5], [122, 40], [122, 28, 29], [122, 40], [282, 6], [282, 5], [282, 2], [1137, 33], [180, 12], [180, 20], [180, 9], [180, 15], [180, 48], [180, 50], [180, 44], [180, 33], [180, 45], [180, 156], [180, 28, 29], [1138, 20], [477, 5], [477, 2], [1139, 17], [405, 11], [405, 24], [405, 67], [568, 18], [568, 67], [406, 21], [406, 17], [406, 2], [940, 24], [478, 21], [478, 17], [125, 12], [125, 20], [125, 6], [125, 9], [125, 5], [125, 50], [125, 34], [125, 39], [125, 2], [125, 22], [125, 22], [1140, 17], [697, 8], [479, 35], [479, 2], [941, 17], [941, 156], [97], [942, 35], [942, 67], [352, 55], [943, 33], [698, 2], [944, 8], [111, 21], [111, 12], [111, 20], [111, 24], [111, 6], [111, 9], [111, 5], [111, 50], [111, 34], [111, 39], [111, 2], [444, 17], [353, 8], [353, 24], [353, 50], [247, 20], [247, 6], [247, 2], [7], [17], [12], [20], [6], [9], [5], [48], [44], [33], [45], [39], [2], [28, 29], [283, 35], [283, 6], [283, 9], [283, 5], [283, 2], [407, 25], [407, 17], [407, 9], [407, 48], [407, 45], [284, 17], [284, 12], [284, 20], [284, 6], [284, 34], [354, 22], [354, 22], [699, 53], [569, 17], [569, 2], [408, 21], [408, 17], [408, 20], [570, 11], [570, 8], [1141, 7], [181, 17], [181, 12], [181, 5], [181, 45], [181, 2], [142, 35], [142, 25], [142, 6], [142, 5], [142, 2], [142, 28, 29], [200, 17], [200, 12], [200, 9], [200, 15], [200, 33], [200, 53], [200, 2], [1142, 17], [355, 21], [355, 2], [102, 7], [102, 17], [102, 12], [102, 20], [102, 6], [102, 9], [102, 5], [102, 2], [102, 40], [102, 40], [1143, 189, 45], [571, 21], [219, 6], [219, 5], [572, 18], [572, 8], [945, 54, 21], [1144, 17], [1145, 17], [220, 137, 20], [220, 137, 2], [220, 137, 28, 29], [573, 21], [356, 21], [356, 39], [356, 2], [574, 46, 25], [574, 46, 22], [574, 46, 22], [700, 9], [700, 5], [701, 2], [946, 24], [248, 20], [248, 2], [575, 2], [702, 15], [702, 45], [96, 11], [96, 35], [96, 7], [96, 17], [96, 12], [96, 20], [96, 8], [96, 24], [96, 6], [96, 9], [96, 5], [96, 2], [143, 6], [143, 9], [143, 5], [143, 49], [143, 33], [143, 45], [143, 53], [143, 51, 61], [249, 20], [249, 2], [249, 22], [249, 22], [576, 25], [576, 17], [576, 44], [97], [409, 21], [409, 17], [409, 2], [480, 2], [42, 337, 22], [42, 337, 22], [357, 21], [357, 20], [357, 8], [357, 9], [2, 17], [2, 12], [2, 20], [2, 6], [2, 9], [2, 5], [2, 39], [2, 2], [577, 578, 15], [577, 578, 48], [577, 578, 33], [201, 17], [201, 20], [201, 2], [410, 35], [410, 25], [410, 2], [481, 15], [481, 50], [481, 44], [321, 21], [321, 6], [321, 9], [321, 5], [250, 21], [250, 17], [250, 12], [250, 9], [250, 5], [250, 2], [1146, 137, 39], [322, 17], [322, 8], [322, 50], [322, 49], [322, 156], [947, 48], [947, 45], [235, 79, 35], [323, 25], [323, 17], [323, 9], [323, 5], [323, 49], [97], [324, 20], [324, 9], [324, 34], [324, 2], [579, 17], [579, 39], [579, 2], [325, 17], [325, 12], [325, 15], [325, 48], [325, 50], [97], [580, 25], [580, 24], [1147, 17], [522, 51, 61], [522, 34], [411, 35], [411, 17], [411, 2], [88, 35], [88, 12], [88, 20], [88, 6], [88, 9], [88, 5], [88, 15], [88, 48], [88, 44], [88, 33], [88, 45], [88, 51, 61], [88, 34], [88, 2], [482, 50], [482, 56, 43], [482, 56, 43], [948, 55], [581, 17], [581, 50], [582, 25], [582, 17], [582, 156], [97], [97], [1148, 67], [1149, 17], [97], [251, 21], [251, 17], [251, 12], [251, 20], [251, 50], [251, 2], [113, 115, 35], [113, 115, 25], [113, 115, 20], [113, 115, 6], [113, 115, 9], [113, 115, 5], [113, 115, 33], [113, 115, 39], [97], [113, 115, 2], [113, 115, 28, 29], [25], [9, 9], [601, 13], [601, 10], [59, 59], [1150, 37], [1151, 155], [28, 29, 24], [28, 29, 6], [28, 29, 4, 1], [28, 29, 28, 29], [28, 29, 19], [483, 4, 1], [483, 16], [483, 28, 29], [483, 19], [483, 23], [330, 8], [330, 25], [330, 10], [136, 56, 43], [521, 13], [521, 10], [521, 23], [7, 7], [1152, 23], [1153, 4, 1], [184, 184], [602, 41, 26], [602, 2], [1154, 37], [1155, 1, 13], [359, 359], [603, 15], [603, 13], [15, 15], [287, 924, 118], [604, 4, 1], [604, 10], [99, 6], [99, 5], [99, 27], [99, 15], [99, 2], [99, 4, 1], [99, 30], [99, 23], [522, 55], [67, 67], [827, 19], [828, 27], [33, 33], [1156, 4, 1], [605, 25], [75, 497], [75, 75], [1157, 36], [829, 10], [18, 18], [949, 19], [949, 10], [606, 56, 43], [498, 498], [830, 13], [607, 8], [1158, 37], [950, 50], [950, 33], [6, 24], [6, 6], [6, 5], [6, 27], [6, 2], [6, 13], [6, 40], [6, 4, 1], [6, 28, 29], [6, 23], [500, 500], [1159, 184], [187, 166, 15], [187, 166, 11], [187, 166, 30], [259, 5], [259, 27], [259, 31], [259, 2], [524, 13], [524, 19], [608, 371, 8], [1160, 10], [609, 41, 26], [609, 2], [56, 43, 56, 43], [610, 10], [610, 23], [832, 24], [424, 2], [424, 13], [424, 37], [424, 10], [1161, 10], [73, 6], [73, 5], [73, 27], [73, 34], [73, 2], [73, 13], [73, 40], [73, 36], [73, 38], [73, 4, 1], [73, 14], [73, 16], [73, 22], [73, 37], [73, 28, 29], [73, 19], [535, 1162, 2], [425, 13], [425, 19], [425, 10], [425, 23], [951, 4, 1], [951, 14], [1163, 19], [32, 8], [32, 11], [230, 15], [952, 15], [952, 13], [953, 49], [953, 13], [293, 6], [293, 2], [293, 38], [293, 4, 1], [293, 14], [293, 23], [21, 21], [1164, 10], [1165, 16], [833, 25], [954, 14], [954, 16], [231, 8], [231, 41, 26], [231, 2], [231, 13], [231, 10], [232, 5], [232, 19], [232, 23], [434, 104, 258], [1166, 41, 26], [48, 48], [361, 15], [361, 30], [426, 27], [426, 2], [221, 221], [221, 497], [825, 1167, 254], [834, 8], [290, 290], [233, 5], [233, 30], [233, 19], [233, 23], [234, 46, 8], [234, 46, 24], [234, 46, 11], [234, 46, 30], [234, 46, 10], [258, 258], [955, 41, 26], [955, 10], [31, 5], [31, 31], [31, 2], [31, 30], [525, 526, 49], [256, 8], [256, 41, 26], [256, 11], [256, 4, 1], [256, 10], [419, 23], [427, 27], [427, 30], [835, 13], [1168, 55], [204, 13], [204, 4, 1], [204, 14], [204, 16], [204, 28, 29], [204, 19], [167, 103, 15], [167, 103, 2], [167, 103, 13], [167, 103, 4, 1], [167, 103, 37], [167, 103, 10], [956, 37], [956, 10], [76, 1, 76, 1], [11, 8], [11, 24], [11, 11], [11, 19], [11, 10], [957, 38], [957, 14], [527, 10], [527, 23], [611, 2], [235, 261, 5], [235, 261, 31], [235, 261, 2], [235, 261, 19], [958, 27], [958, 13], [92, 19], [612, 11], [1169, 155], [1170, 13], [328, 328], [262, 13], [262, 16], [262, 22], [262, 19], [90, 6], [90, 5], [90, 2], [90, 13], [90, 36], [90, 38], [90, 4, 1], [90, 14], [90, 16], [90, 22], [90, 37], [90, 28, 29], [90, 19], [90, 10], [959, 25], [959, 30], [1171, 30], [294, 27], [294, 15], [144, 8], [144, 11], [144, 30], [144, 19], [144, 10], [144, 23], [1172, 4, 1], [1173, 16], [528, 8], [528, 10], [30, 5], [30, 27], [30, 31], [30, 49], [30, 30], [30, 19], [30, 10], [135, 6], [135, 5], [135, 31], [135, 2], [135, 4, 1], [135, 30], [135, 10], [1174, 2], [613, 2], [254, 254], [254, 118], [960, 36], [960, 55], [428, 529, 11], [428, 529, 25], [155, 155], [1175, 41, 26], [263, 27], [263, 13], [263, 4, 1], [263, 14], [263, 37], [1176, 14], [264, 2], [264, 13], [264, 4, 1], [264, 14], [264, 23], [703, 36], [703, 10], [703, 23], [331, 8], [331, 4, 1], [331, 16], [331, 19], [331, 10], [205, 8], [205, 24], [205, 41, 26], [205, 11], [205, 30], [205, 23], [614, 11], [236, 8], [236, 328], [236, 19], [236, 10], [236, 23], [838, 49], [28, 29, 8], [28, 29, 6], [28, 29, 11], [28, 29, 4, 1], [28, 29, 30], [28, 29, 19], [28, 29, 10], [28, 29, 23], [372, 328], [237, 27], [237, 49], [237, 37], [615, 41, 26], [615, 13], [841, 24], [429, 5], [429, 49], [842, 492], [265, 69, 49], [206, 15], [206, 4, 1], [206, 30], [207, 6], [207, 5], [207, 2], [207, 19], [207, 10], [207, 23], [501, 501], [1177, 34], [8, 8], [8, 11], [8, 19], [8, 10], [530, 104, 8], [530, 104, 10], [530, 104, 23], [291, 34], [291, 4, 1], [291, 16], [418, 10], [418, 23], [519, 49], [961, 13], [961, 37], [704, 118], [704, 36], [704, 16], [1178, 46, 10], [1179, 23], [1180, 55], [265, 326, 49], [962, 41, 26], [962, 258], [616, 24], [55, 55], [42, 414, 25], [617, 26, 41, 26], [617, 26, 25], [366, 54, 155], [366, 54, 41, 26], [366, 54, 13], [366, 54, 23], [583, 4, 1], [583, 14], [583, 10], [583, 23], [238, 8], [238, 5], [238, 49], [238, 30], [238, 19], [238, 10], [238, 23], [531, 15], [531, 10], [843, 10], [91, 24], [91, 6], [91, 5], [91, 31], [91, 2], [91, 13], [91, 40], [91, 36], [91, 4, 1], [91, 16], [91, 28, 29], [91, 19], [168, 169, 5], [168, 169, 2], [168, 169, 13], [168, 169, 22], [168, 169, 23], [430, 27], [430, 30], [430, 19], [430, 23], [705, 4, 1], [705, 14], [705, 19], [618, 619, 8], [618, 619, 10], [266, 5], [266, 25], [266, 19], [295, 13], [295, 4, 1], [295, 22], [295, 19], [295, 23], [620, 38], [373, 1, 11], [373, 1, 4, 1], [373, 1, 30], [373, 1, 10], [373, 1, 23], [1181, 16], [374, 155], [296, 260, 13], [296, 260, 11], [296, 260, 19], [621, 25], [157, 5], [157, 2], [157, 11], [157, 30], [157, 23], [297, 15], [297, 30], [297, 328], [845, 25], [623, 24], [623, 10], [584, 31], [584, 4, 1], [584, 14], [584, 30], [624, 37], [625, 25], [626, 24], [626, 14], [523, 24], [146, 41, 26], [146, 13], [146, 11], [146, 30], [146, 19], [146, 23], [329, 8], [329, 11], [329, 10], [627, 8], [846, 41, 26], [375, 24], [375, 56, 43], [375, 23], [298, 8], [298, 36], [298, 38], [298, 4, 1], [298, 37], [40, 6], [40, 40], [188, 27], [188, 15], [188, 13], [628, 25], [358, 13], [358, 36], [358, 38], [358, 4, 1], [358, 14], [358, 16], [358, 37], [963, 36], [963, 4, 1], [520, 327, 55], [520, 327, 10], [431, 13], [117, 8], [117, 24], [117, 5], [117, 2], [117, 11], [117, 30], [117, 23], [69, 31], [69, 30], [69, 10], [267, 8], [267, 11], [267, 10], [267, 23], [432, 5], [432, 31], [432, 2], [532, 8], [532, 10], [268, 27], [268, 49], [268, 13], [268, 38], [1182, 41, 26], [105, 6], [105, 5], [105, 13], [105, 40], [105, 11], [105, 4, 1], [105, 16], [105, 28, 29], [105, 19], [105, 10], [105, 23], [1183, 23], [1184, 41, 26], [533, 38], [533, 4, 1], [533, 14], [1185, 13], [336, 1, 36], [336, 1, 16], [336, 1, 165], [534, 2], [534, 13], [534, 14], [1186, 36], [123, 54, 27], [123, 54, 15], [123, 54, 13], [123, 54, 4, 1], [629, 37], [629, 55], [417, 417], [1187, 10], [332, 189, 31], [332, 189, 2], [332, 189, 36], [332, 189, 4, 1], [332, 189, 14], [332, 189, 16], [1188, 41, 26], [376, 15], [376, 4, 1], [376, 37], [630, 4, 1], [630, 28, 29], [847, 8], [848, 10], [377, 104, 13], [377, 104, 19], [377, 104, 10], [377, 104, 23], [535, 16], [79, 564, 4, 1], [79, 564, 16], [849, 850, 24], [147, 6], [147, 5], [147, 27], [147, 49], [147, 2], [147, 13], [147, 4, 1], [147, 16], [433, 4, 1], [433, 37], [433, 10], [851, 25], [1189, 14], [118, 254], [118, 118], [118, 36], [118, 16], [333, 8], [333, 11], [333, 30], [333, 10], [1190, 417], [1191, 165], [1192, 15], [1193, 41, 26], [119, 5], [119, 13], [119, 36], [119, 38], [119, 4, 1], [119, 16], [119, 22], [119, 28, 29], [119, 19], [119, 10], [42, 1194, 16], [852, 2], [334, 15], [334, 49], [334, 13], [170, 24], [170, 6], [170, 5], [170, 31], [170, 2], [170, 13], [170, 36], [170, 38], [170, 4, 1], [170, 14], [170, 16], [706, 36], [706, 16], [706, 165], [36, 34], [36, 118], [36, 36], [36, 38], [36, 4, 1], [36, 14], [36, 16], [36, 165], [435, 27], [435, 31], [435, 30], [435, 10], [148, 8], [148, 2], [148, 11], [148, 4, 1], [148, 30], [148, 19], [93, 8], [93, 6], [93, 5], [93, 27], [93, 2], [93, 36], [93, 4, 1], [93, 22], [93, 28, 29], [93, 19], [707, 118], [707, 4, 1], [707, 16], [484, 13], [484, 14], [484, 16], [484, 19], [484, 10], [964, 49], [964, 13], [120, 6], [120, 5], [120, 27], [120, 31], [120, 49], [120, 41, 26], [120, 2], [120, 4, 1], [120, 14], [120, 30], [120, 19], [158, 5], [158, 27], [158, 13], [158, 4, 1], [158, 14], [158, 19], [436, 8], [436, 37], [436, 10], [436, 23], [853, 10], [631, 31], [631, 36], [299, 103, 36], [299, 103, 4, 1], [299, 103, 55], [299, 103, 10], [299, 103, 23], [138, 159, 8], [138, 159, 6], [138, 159, 11], [138, 159, 36], [138, 159, 4, 1], [138, 159, 16], [138, 159, 19], [138, 159, 10], [138, 159, 23], [1195, 80, 23], [632, 15], [378, 379, 5], [378, 379, 13], [378, 379, 4, 1], [378, 379, 19], [1196, 30], [854, 37], [855, 10], [537, 8], [537, 10], [178, 10], [139, 26, 24], [139, 26, 6], [139, 26, 11], [139, 26, 30], [1197, 14], [1198, 26, 41, 26], [633, 55], [22, 16], [22, 22], [22, 19], [261, 49], [261, 13], [253, 31], [253, 2], [965, 10], [965, 23], [966, 4, 1], [966, 16], [856, 8], [857, 26, 41, 26], [208, 6], [208, 5], [208, 31], [208, 2], [208, 4, 1], [208, 16], [208, 37], [858, 8], [335, 41, 26], [335, 11], [335, 4, 1], [335, 14], [335, 10], [1199, 4, 1], [1200, 13], [634, 371, 11], [171, 5], [171, 27], [171, 4, 1], [171, 30], [171, 19], [269, 6], [269, 5], [269, 31], [269, 2], [269, 19], [511, 31], [508, 25], [172, 6], [172, 5], [172, 2], [172, 13], [172, 38], [172, 14], [172, 19], [859, 41, 26], [1201, 254], [437, 6], [437, 5], [538, 27], [173, 8], [173, 13], [173, 11], [173, 4, 1], [173, 14], [173, 19], [173, 10], [173, 23], [860, 25], [289, 41, 26], [967, 10], [967, 23], [861, 4, 1], [114, 8], [114, 5], [114, 2], [114, 11], [114, 30], [114, 22], [114, 19], [114, 10], [209, 6], [209, 27], [209, 15], [209, 38], [209, 4, 1], [209, 30], [1202, 13], [270, 8], [270, 15], [270, 4, 1], [270, 10], [270, 23], [539, 6], [539, 4, 1], [300, 27], [300, 34], [300, 13], [300, 36], [300, 38], [300, 4, 1], [708, 36], [708, 38], [708, 4, 1], [438, 2], [438, 38], [438, 4, 1], [438, 14], [1203, 445, 184], [301, 36], [301, 38], [301, 4, 1], [301, 16], [301, 37], [301, 28, 29], [1204, 36], [1205, 31], [863, 10], [709, 13], [709, 4, 1], [709, 16], [637, 49], [1206, 14], [380, 6], [380, 56, 43], [439, 13], [439, 40], [2], [13], [25], [14], [540, 24], [540, 4, 1], [540, 14], [968, 46, 4, 1], [968, 46, 10], [149, 6], [149, 5], [149, 13], [149, 4, 1], [149, 16], [149, 28, 29], [149, 19], [440, 4, 1], [440, 14], [440, 10], [239, 27], [239, 15], [239, 49], [239, 38], [239, 30], [638, 13], [638, 14], [1207, 41, 26], [224, 34], [224, 36], [224, 16], [224, 165], [224, 22], [224, 28, 29], [541, 26, 8], [541, 26, 10], [541, 26, 23], [441, 31], [441, 13], [441, 30], [600, 155], [1208, 36], [1209, 13], [864, 37], [1210, 23], [1211, 41, 26], [494, 370], [128, 5], [128, 49], [128, 25], [128, 19], [51, 61, 6], [51, 61, 5], [51, 61, 28, 29], [639, 40], [1212, 49], [640, 11], [640, 10], [1213, 10], [641, 6], [865, 31], [866, 6], [542, 24], [542, 31], [542, 41, 26], [154, 302, 15], [154, 302, 13], [150, 151, 6], [150, 151, 27], [150, 151, 38], [150, 151, 4, 1], [150, 151, 14], [150, 151, 16], [150, 151, 19], [150, 151, 23], [1214, 27], [381, 5], [381, 2], [381, 38], [642, 8], [642, 41, 26], [710, 36], [710, 38], [710, 4, 1], [585, 118], [585, 36], [585, 38], [585, 4, 1], [867, 4, 1], [37, 4, 1], [37, 37], [643, 155], [868, 25], [969, 30], [969, 10], [869, 10], [4, 1], [1215, 38], [711, 4, 1], [711, 14], [711, 16], [870, 8], [51, 174, 27], [51, 174, 15], [51, 174, 38], [51, 174, 4, 1], [51, 174, 37], [49, 49], [49, 30], [871, 26, 10], [336, 25], [1216, 23], [240, 873, 10], [175, 27], [175, 15], [175, 38], [121, 54, 27], [121, 54, 15], [121, 54, 2], [121, 54, 4, 1], [543, 4, 1], [543, 14], [543, 16], [485, 118], [485, 36], [485, 4, 1], [485, 14], [485, 16], [874, 25], [25, 25], [875, 41, 26], [1217, 13], [382, 6], [382, 5], [382, 31], [823, 26, 10], [421, 11], [421, 10], [303, 15], [303, 30], [1218, 41, 26], [712, 31], [712, 4, 1], [712, 14], [412, 6], [412, 36], [412, 38], [412, 4, 1], [412, 14], [412, 16], [34, 34], [34, 36], [644, 25], [383, 4, 1], [383, 14], [383, 22], [383, 19], [1219, 23], [876, 55], [384, 2], [384, 4, 1], [384, 10], [877, 878, 4, 1], [544, 24], [544, 11], [879, 8], [645, 13], [645, 16], [880, 25], [881, 36], [442, 8], [442, 30], [442, 10], [882, 25], [883, 4, 1], [713, 4, 1], [713, 14], [713, 16], [970, 37], [970, 10], [646, 37], [304, 24], [304, 2], [304, 23], [337, 23], [190, 5], [190, 13], [190, 4, 1], [190, 14], [190, 16], [190, 22], [190, 19], [16, 118], [16, 36], [16, 38], [16, 4, 1], [16, 14], [16, 16], [16, 22], [16, 19], [16, 23], [385, 80, 5], [385, 80, 16], [385, 80, 19], [305, 15], [305, 4, 1], [305, 14], [305, 22], [106, 8], [106, 6], [106, 5], [106, 34], [106, 11], [106, 4, 1], [106, 14], [106, 16], [106, 28, 29], [106, 19], [106, 10], [106, 23], [647, 5], [145, 6], [145, 5], [145, 2], [145, 40], [145, 19], [1220, 15], [1221, 31], [1222, 46, 13], [210, 8], [210, 11], [210, 4, 1], [210, 37], [210, 10], [648, 41, 26], [648, 2], [50, 50], [1223, 33], [885, 5], [443, 4, 1], [443, 14], [443, 22], [649, 13], [649, 10], [444, 445, 13], [444, 445, 4, 1], [444, 445, 19], [886, 27], [191, 6], [191, 27], [191, 13], [971, 4, 1], [971, 16], [887, 41, 26], [271, 2], [271, 13], [271, 4, 1], [271, 14], [271, 16], [271, 10], [271, 23], [306, 24], [306, 15], [72, 6], [72, 5], [72, 27], [72, 15], [72, 2], [72, 13], [72, 38], [72, 4, 1], [72, 30], [72, 37], [72, 19], [72, 10], [1224, 27], [650, 26, 8], [1225, 13], [972, 38], [972, 4, 1], [52, 6], [52, 31], [52, 56, 43], [52, 37], [13, 6], [13, 5], [13, 13], [13, 4, 1], [13, 19], [888, 15], [1226, 41, 26], [973, 38], [973, 14], [974, 4, 1], [974, 14], [338, 13], [338, 118], [338, 4, 1], [338, 14], [338, 16], [338, 23], [74, 6], [74, 5], [74, 13], [74, 40], [74, 11], [74, 4, 1], [74, 14], [74, 16], [74, 19], [74, 10], [74, 23], [252, 8], [252, 11], [252, 30], [386, 5], [386, 31], [386, 2], [889, 8], [272, 13], [272, 4, 1], [272, 14], [272, 16], [272, 10], [272, 23], [41, 26, 41, 26], [41, 26, 2], [446, 13], [446, 38], [446, 4, 1], [446, 14], [241, 2], [241, 40], [241, 36], [241, 4, 1], [241, 16], [241, 37], [307, 11], [307, 36], [307, 4, 1], [307, 14], [307, 16], [307, 19], [307, 10], [651, 4, 1], [651, 16], [240, 37], [240, 23], [339, 8], [339, 19], [339, 10], [339, 23], [545, 189, 24], [545, 189, 10], [545, 189, 23], [975, 976, 254], [975, 976, 118], [447, 4, 1], [447, 16], [447, 10], [447, 23], [890, 8], [546, 369, 41, 26], [546, 369, 22], [192, 5], [192, 31], [192, 15], [192, 13], [1227, 10], [1228, 10], [308, 5], [308, 14], [308, 16], [308, 22], [161, 27], [161, 15], [1229, 23], [714, 258], [714, 10], [714, 23], [387, 6], [387, 38], [387, 4, 1], [387, 16], [387, 37], [388, 6], [388, 5], [388, 38], [388, 4, 1], [715, 4, 1], [715, 10], [715, 23], [340, 46, 11], [340, 46, 30], [389, 15], [1230, 10], [1231, 41, 26], [891, 24], [23, 6], [23, 5], [23, 4, 1], [23, 16], [23, 10], [23, 23], [1232, 10], [98, 8], [98, 6], [98, 5], [98, 2], [98, 13], [98, 36], [98, 4, 1], [98, 14], [98, 16], [98, 28, 29], [98, 19], [98, 10], [98, 23], [309, 1, 6], [309, 1, 31], [309, 1, 41, 26], [309, 1, 2], [448, 31], [448, 2], [448, 4, 1], [448, 14], [1233, 27], [652, 36], [652, 4, 1], [653, 2], [653, 23], [547, 41, 26], [547, 2], [211, 5], [211, 13], [211, 22], [211, 19], [654, 14], [654, 16], [449, 8], [449, 10], [134, 8], [134, 13], [134, 11], [134, 19], [134, 10], [134, 23], [655, 30], [176, 5], [176, 27], [176, 31], [176, 13], [176, 11], [176, 30], [656, 13], [656, 14], [892, 155], [100, 43, 6], [100, 43, 11], [100, 43, 118], [100, 43, 36], [100, 43, 4, 1], [100, 43, 14], [100, 43, 16], [100, 43, 22], [100, 43, 28, 29], [100, 43, 19], [100, 43, 10], [100, 43, 23], [86, 8], [86, 5], [86, 27], [86, 15], [86, 49], [86, 13], [86, 30], [86, 37], [86, 10], [273, 8], [273, 11], [273, 38], [273, 4, 1], [273, 14], [273, 19], [273, 10], [1234, 38], [177, 15], [177, 4, 1], [177, 10], [177, 23], [193, 27], [193, 2], [193, 4, 1], [390, 5], [390, 36], [390, 38], [390, 4, 1], [390, 16], [657, 8], [657, 10], [450, 2], [450, 4, 1], [450, 14], [450, 16], [14, 2], [14, 36], [14, 38], [14, 4, 1], [14, 14], [14, 16], [14, 19], [977, 13], [977, 10], [274, 6], [274, 5], [274, 31], [274, 4, 1], [274, 14], [434, 27], [893, 24], [212, 24], [212, 31], [212, 2], [212, 30], [451, 31], [451, 41, 26], [451, 2], [451, 23], [895, 8], [658, 41, 26], [658, 10], [548, 15], [549, 2], [549, 4, 1], [550, 15], [550, 37], [1235, 41, 26], [896, 11], [897, 25], [68, 57, 6], [68, 57, 5], [68, 57, 27], [68, 57, 15], [68, 57, 2], [68, 57, 13], [68, 57, 36], [68, 57, 38], [68, 57, 4, 1], [68, 57, 14], [68, 57, 30], [68, 57, 22], [68, 57, 37], [68, 57, 19], [275, 8], [275, 27], [275, 4, 1], [275, 30], [551, 2], [551, 4, 1], [551, 14], [213, 6], [213, 2], [213, 4, 1], [213, 16], [213, 22], [213, 10], [213, 23], [1236, 41, 26], [978, 36], [978, 16], [19, 8], [19, 5], [19, 2], [19, 13], [19, 11], [19, 4, 1], [19, 14], [19, 16], [19, 30], [19, 22], [19, 28, 29], [19, 19], [19, 10], [898, 25], [1237, 41, 26], [1238, 30], [42, 70, 8], [42, 70, 24], [42, 70, 6], [42, 70, 5], [42, 70, 27], [42, 70, 2], [42, 70, 40], [42, 70, 11], [42, 70, 4, 1], [42, 70, 14], [42, 70, 16], [42, 70, 22], [42, 70, 28, 29], [42, 70, 19], [42, 70, 10], [42, 70, 23], [42, 107, 6], [42, 107, 5], [42, 107, 27], [42, 107, 2], [42, 107, 40], [42, 107, 36], [42, 107, 4, 1], [42, 107, 14], [42, 107, 16], [42, 107, 19], [979, 31], [979, 37], [659, 55], [178, 194, 8], [178, 194, 41, 26], [178, 194, 11], [178, 194, 4, 1], [178, 194, 14], [178, 194, 28, 29], [178, 194, 19], [178, 194, 10], [660, 8], [660, 10], [214, 4, 1], [214, 14], [214, 16], [214, 19], [214, 10], [214, 23], [1239, 118], [391, 5], [391, 2], [452, 36], [452, 4, 1], [452, 16], [452, 37], [276, 27], [276, 15], [716, 38], [716, 4, 1], [716, 14], [717, 38], [717, 4, 1], [717, 14], [661, 24], [661, 14], [453, 454, 27], [453, 454, 56, 43], [662, 2], [392, 160, 15], [392, 160, 30], [1240, 14], [900, 24], [1241, 36], [718, 36], [718, 4, 1], [718, 16], [719, 4, 1], [719, 14], [719, 19], [455, 25], [393, 13], [393, 16], [720, 36], [720, 4, 1], [720, 16], [456, 13], [456, 4, 1], [456, 14], [456, 16], [1242, 16], [394, 31], [394, 2], [394, 40], [277, 30], [108, 6], [108, 27], [108, 15], [108, 2], [108, 38], [108, 4, 1], [108, 14], [108, 30], [108, 19], [663, 1, 31], [1243, 41, 26], [1244, 4, 1], [1245, 13], [457, 27], [242, 80, 13], [242, 80, 4, 1], [242, 80, 14], [242, 80, 37], [242, 80, 10], [242, 80, 23], [195, 6], [195, 5], [195, 2], [195, 13], [195, 36], [195, 4, 1], [195, 16], [195, 19], [140, 1, 6], [140, 1, 5], [140, 1, 41, 26], [140, 1, 2], [140, 1, 13], [140, 1, 4, 1], [140, 1, 28, 29], [395, 6], [395, 31], [395, 2], [980, 38], [980, 4, 1], [1246, 16], [902, 10], [664, 4, 1], [664, 10], [721, 4, 1], [721, 14], [721, 16], [903, 55], [396, 8], [396, 41, 26], [396, 28, 29], [1247, 10], [165, 36], [165, 165], [904, 55], [905, 24], [665, 8], [665, 41, 26], [666, 46, 10], [666, 46, 23], [667, 5], [981, 27], [981, 34], [552, 24], [552, 11], [668, 24], [458, 24], [458, 2], [1248, 4, 1], [906, 4, 1], [1249, 14], [553, 4, 1], [553, 37], [599, 13], [1250, 10], [669, 41, 26], [669, 25], [670, 8], [459, 24], [459, 41, 26], [459, 10], [671, 46, 8], [671, 46, 10], [460, 5], [460, 25], [136, 5], [136, 27], [136, 15], [136, 2], [136, 4, 1], [136, 37], [474, 107, 16], [474, 107, 10], [461, 8], [461, 4, 1], [461, 10], [461, 23], [672, 155], [672, 27], [1251, 14], [1252, 14], [129, 5], [129, 27], [129, 31], [129, 2], [129, 13], [129, 38], [129, 4, 1], [129, 14], [129, 37], [554, 10], [554, 23], [982, 49], [982, 13], [341, 13], [341, 4, 1], [341, 14], [341, 16], [341, 19], [907, 2], [908, 46, 41, 26], [310, 311, 24], [310, 311, 4, 1], [310, 311, 14], [310, 311, 30], [909, 24], [312, 6], [312, 5], [312, 2], [312, 4, 1], [312, 14], [255, 36], [255, 38], [255, 16], [586, 38], [586, 4, 1], [586, 14], [586, 16], [342, 8], [342, 11], [342, 30], [342, 10], [927, 1253, 24], [983, 36], [983, 16], [109, 5], [109, 27], [109, 31], [109, 2], [109, 13], [109, 14], [109, 30], [109, 22], [109, 19], [673, 8], [673, 10], [343, 25], [343, 4, 1], [343, 14], [343, 30], [910, 10], [235, 911, 55], [462, 24], [462, 31], [462, 30], [69, 27], [69, 2], [69, 38], [69, 4, 1], [69, 37], [555, 8], [555, 30], [416, 11], [912, 13], [722, 4, 1], [722, 16], [722, 23], [1254, 16], [913, 25], [675, 4, 1], [675, 23], [556, 15], [4, 1], [37], [463, 31], [463, 2], [463, 4, 1], [557, 13], [915, 5], [464, 2], [464, 11], [464, 30], [79, 22], [79, 23], [465, 4, 1], [465, 10], [465, 23], [196, 8], [196, 31], [196, 13], [196, 4, 1], [196, 37], [196, 10], [196, 23], [984, 13], [984, 19], [558, 5], [558, 27], [917, 30], [60, 155], [60, 27], [60, 15], [60, 30], [60, 37], [344, 2], [344, 36], [344, 4, 1], [344, 14], [344, 16], [344, 19], [68, 4, 1], [68, 14], [68, 16], [559, 5], [42, 676, 5], [42, 676, 31], [560, 2], [560, 14], [677, 678, 31], [677, 678, 30], [397, 5], [397, 31], [397, 2], [397, 23], [243, 8], [243, 11], [243, 4, 1], [243, 14], [243, 30], [243, 10], [1255, 31], [466, 41, 26], [466, 30], [27, 6], [27, 5], [27, 27], [27, 2], [27, 30], [85, 5], [85, 27], [85, 15], [85, 49], [85, 2], [85, 13], [85, 25], [85, 19], [85, 23], [679, 13], [1256, 31], [919, 37], [101, 1, 6], [101, 1, 5], [101, 1, 27], [101, 1, 15], [101, 1, 4, 1], [101, 1, 30], [101, 1, 37], [215, 5], [215, 31], [215, 2], [215, 40], [215, 4, 1], [215, 30], [215, 10], [313, 52, 27], [313, 52, 15], [509, 55], [920, 55], [921, 41, 26], [413, 36], [413, 38], [413, 4, 1], [413, 14], [413, 16], [413, 10], [314, 31], [314, 2], [314, 40], [314, 37], [1257, 1258, 27], [398, 6], [398, 5], [398, 31], [398, 41, 26], [244, 8], [244, 11], [244, 30], [680, 5], [680, 37], [315, 2], [315, 13], [315, 4, 1], [315, 14], [315, 16], [315, 19], [1259, 104, 4, 1], [723, 4, 1], [723, 14], [723, 16], [130, 24], [130, 6], [130, 2], [130, 40], [130, 56, 43], [130, 4, 1], [922, 25], [1260, 165], [399, 27], [399, 30], [399, 37], [923, 23], [467, 4, 1], [467, 37], [162, 8], [162, 5], [162, 27], [162, 49], [162, 25], [162, 19], [162, 10], [162, 23], [724, 15], [724, 13], [724, 4, 1], [1261, 23], [278, 13], [278, 4, 1], [278, 14], [278, 16], [278, 22], [278, 19], [561, 37], [1262, 166, 4, 1], [925, 27], [400, 4, 1], [400, 37], [163, 6], [163, 5], [163, 13], [163, 36], [163, 38], [163, 4, 1], [163, 14], [163, 16], [163, 37], [163, 19], [926, 23], [197, 5], [197, 31], [197, 2], [197, 13], [197, 4, 1], [197, 37], [197, 23], [345, 8], [345, 27], [345, 38], [345, 4, 1], [345, 14], [345, 19], [346, 11], [346, 36], [346, 16], [346, 10], [131, 5], [131, 34], [131, 13], [131, 36], [131, 38], [131, 4, 1], [131, 14], [131, 16], [131, 22], [316, 38], [316, 4, 1], [316, 22], [316, 19], [316, 10], [24, 24], [24, 6], [24, 11], [24, 28, 29], [292, 24], [292, 31], [292, 2], [292, 11], [587, 4, 1], [587, 14], [587, 16], [587, 19], [468, 8], [468, 15], [138, 10], [588, 4, 1], [588, 14], [588, 30], [588, 19], [681, 8], [10, 8], [10, 11], [10, 4, 1], [10, 30], [10, 19], [10, 10], [10, 23], [469, 160, 31], [469, 160, 2], [469, 160, 30], [470, 13], [470, 16], [470, 19], [245, 8], [245, 15], [245, 37], [245, 10], [216, 6], [216, 31], [216, 36], [216, 38], [216, 4, 1], [216, 14], [216, 16], [216, 19], [216, 10], [124, 69, 6], [124, 69, 5], [124, 69, 2], [124, 69, 36], [124, 69, 4, 1], [124, 69, 14], [124, 69, 16], [124, 69, 22], [124, 69, 19], [69, 37], [682, 55], [1263, 38], [725, 36], [725, 4, 1], [725, 16], [928, 24], [1264, 10], [198, 6], [198, 27], [198, 2], [198, 37], [5, 6], [5, 5], [5, 27], [5, 31], [5, 2], [5, 13], [5, 4, 1], [5, 30], [5, 19], [5, 23], [562, 24], [562, 11], [347, 8], [347, 13], [347, 11], [217, 8], [217, 30], [217, 19], [217, 10], [27], [15], [246, 15], [246, 2], [246, 38], [246, 4, 1], [246, 30], [246, 37], [348, 104, 31], [348, 104, 30], [348, 104, 10], [348, 104, 23], [683, 55], [115, 24], [684, 13], [684, 19], [1265, 37], [486, 36], [486, 38], [486, 4, 1], [486, 14], [486, 16], [930, 8], [1266, 14], [317, 8], [317, 13], [317, 14], [317, 19], [317, 10], [4, 1, 6], [4, 1, 5], [4, 1, 2], [4, 1, 13], [4, 1, 36], [4, 1, 38], [4, 1, 4, 1], [4, 1, 14], [4, 1, 16], [4, 1, 37], [4, 1, 28, 29], [4, 1, 19], [4, 1, 10], [4, 1, 23], [422, 1, 11], [422, 1, 4, 1], [685, 4, 1], [685, 14], [141, 24], [141, 6], [141, 5], [141, 27], [141, 31], [141, 2], [141, 4, 1], [141, 16], [141, 23], [589, 4, 1], [589, 14], [589, 16], [589, 19], [401, 2], [401, 4, 1], [401, 14], [199, 15], [199, 37], [563, 24], [564, 14], [565, 8], [565, 31], [565, 30], [686, 6], [318, 15], [318, 38], [985, 38], [985, 4, 1], [218, 5], [218, 27], [218, 13], [218, 30], [471, 26, 4, 1], [471, 26, 16], [471, 26, 10], [471, 26, 23], [687, 15], [472, 15], [71, 24], [71, 6], [71, 5], [71, 27], [71, 31], [71, 15], [71, 49], [71, 2], [71, 13], [71, 4, 1], [71, 16], [71, 30], [132, 27], [132, 31], [132, 15], [132, 41, 26], [132, 2], [566, 5], [566, 16], [566, 19], [688, 16], [688, 55], [152, 5], [152, 2], [152, 13], [152, 4, 1], [152, 14], [152, 16], [152, 19], [152, 10], [931, 37], [133, 46, 8], [133, 46, 31], [133, 46, 41, 26], [133, 46, 11], [133, 46, 25], [133, 46, 4, 1], [133, 46, 22], [133, 46, 10], [116, 6], [116, 5], [116, 27], [116, 2], [116, 13], [116, 4, 1], [116, 19], [116, 23], [567, 165], [567, 22], [87, 24], [87, 6], [87, 5], [87, 27], [87, 34], [87, 2], [87, 4, 1], [87, 16], [87, 22], [87, 28, 29], [87, 19], [87, 23], [590, 31], [590, 4, 1], [590, 14], [590, 10], [473, 13], [473, 4, 1], [473, 10], [164, 27], [164, 15], [164, 2], [164, 30], [94, 52, 5], [94, 52, 27], [94, 52, 15], [94, 52, 2], [94, 52, 13], [94, 52, 25], [94, 52, 30], [94, 52, 23], [689, 31], [689, 2], [402, 13], [402, 4, 1], [402, 14], [402, 16], [402, 19], [110, 5], [110, 27], [110, 31], [110, 15], [110, 41, 26], [110, 2], [110, 13], [110, 4, 1], [110, 14], [110, 22], [110, 10], [153, 8], [153, 13], [153, 11], [153, 4, 1], [153, 14], [153, 16], [153, 19], [153, 10], [1267, 38], [319, 80, 27], [319, 80, 15], [319, 80, 38], [319, 80, 4, 1], [319, 80, 16], [319, 80, 37], [349, 36], [349, 4, 1], [349, 16], [349, 22], [349, 10], [474, 690, 2], [475, 26, 24], [475, 26, 11], [691, 4, 1], [691, 14], [933, 27], [350, 8], [350, 11], [350, 30], [350, 10], [351, 6], [351, 5], [351, 4, 1], [351, 28, 29], [934, 46, 15], [692, 31], [692, 2], [279, 8], [279, 41, 26], [279, 4, 1], [279, 14], [279, 22], [935, 55], [1268, 38], [693, 41, 26], [1269, 13], [1270, 16], [57, 6], [57, 5], [57, 15], [1271, 37], [694, 8], [694, 10], [518, 8], [518, 10], [1272, 13], [81, 6], [81, 5], [81, 27], [81, 31], [81, 34], [81, 41, 26], [81, 2], [81, 13], [81, 40], [81, 36], [81, 38], [81, 4, 1], [81, 14], [81, 16], [81, 28, 29], [403, 15], [403, 33], [280, 15], [591, 36], [591, 4, 1], [591, 14], [591, 16], [695, 41, 26], [695, 11], [95, 6], [95, 27], [95, 15], [95, 49], [95, 11], [95, 4, 1], [95, 30], [95, 19], [320, 27], [320, 15], [986, 4, 1], [986, 14], [696, 8], [476, 8], [476, 31], [476, 11], [936, 104, 2], [404, 5], [404, 31], [404, 2], [179, 8], [179, 6], [179, 15], [179, 2], [179, 4, 1], [179, 30], [179, 19], [179, 10], [281, 13], [281, 11], [281, 4, 1], [281, 16], [281, 19], [987, 31], [987, 4, 1], [937, 49], [938, 5], [939, 10], [122, 6], [122, 5], [122, 13], [122, 40], [122, 36], [122, 4, 1], [122, 14], [122, 16], [122, 28, 29], [122, 19], [282, 6], [282, 5], [282, 27], [282, 31], [282, 2], [282, 4, 1], [180, 27], [180, 15], [988, 10], [988, 23], [477, 5], [477, 31], [477, 2], [405, 24], [405, 41, 26], [405, 11], [568, 13], [568, 10], [1273, 41, 26], [406, 2], [406, 13], [406, 16], [1274, 13], [940, 24], [1275, 10], [478, 4, 1], [478, 14], [478, 16], [487, 31], [487, 38], [487, 4, 1], [487, 14], [487, 30], [125, 6], [125, 5], [125, 27], [125, 2], [125, 14], [125, 22], [125, 19], [1276, 23], [1277, 4, 1], [1278, 10], [1279, 10], [697, 8], [697, 10], [479, 31], [479, 41, 26], [479, 2], [352, 31], [352, 38], [352, 4, 1], [352, 30], [352, 55], [352, 10], [943, 10], [989, 4, 1], [989, 37], [1280, 80, 37], [698, 31], [698, 2], [944, 8], [111, 24], [111, 5], [111, 27], [111, 31], [111, 2], [111, 13], [111, 4, 1], [111, 14], [111, 19], [111, 23], [353, 8], [353, 24], [353, 30], [353, 10], [247, 6], [247, 27], [247, 2], [247, 38], [247, 4, 1], [247, 14], [247, 16], [1281, 16], [38, 36], [38, 38], [38, 4, 1], [38, 14], [38, 16], [726, 4, 1], [726, 14], [726, 16], [6], [5], [27], [2], [38], [4, 1], [14], [30], [37], [19], [283, 6], [283, 5], [283, 2], [283, 13], [407, 25], [284, 6], [284, 4, 1], [284, 16], [284, 37], [354, 4, 1], [354, 14], [354, 16], [354, 165], [354, 22], [699, 31], [699, 30], [569, 41, 26], [569, 2], [408, 13], [408, 4, 1], [408, 14], [990, 41, 26], [990, 30], [570, 8], [570, 11], [991, 10], [991, 23], [181, 5], [181, 27], [181, 2], [181, 13], [181, 4, 1], [181, 37], [181, 10], [181, 23], [142, 6], [142, 5], [142, 31], [142, 2], [142, 25], [142, 4, 1], [142, 14], [142, 16], [142, 30], [142, 10], [200, 27], [200, 15], [200, 2], [200, 4, 1], [200, 30], [355, 31], [355, 2], [355, 13], [355, 4, 1], [355, 14], [102, 6], [102, 5], [102, 27], [102, 2], [102, 13], [102, 40], [102, 36], [102, 38], [102, 4, 1], [102, 14], [102, 16], [102, 10], [571, 13], [571, 14], [571, 19], [219, 6], [219, 5], [219, 34], [219, 13], [219, 36], [219, 4, 1], [219, 14], [219, 16], [219, 37], [572, 8], [572, 10], [945, 54, 10], [220, 137, 2], [220, 137, 36], [220, 137, 38], [220, 137, 4, 1], [220, 137, 14], [220, 137, 16], [220, 137, 28, 29], [220, 137, 19], [573, 4, 1], [573, 14], [573, 16], [356, 2], [356, 13], [356, 4, 1], [356, 14], [80, 14], [574, 46, 22], [700, 5], [701, 2], [701, 36], [946, 24], [248, 27], [248, 34], [248, 2], [248, 36], [248, 38], [248, 4, 1], [248, 14], [248, 16], [575, 2], [575, 36], [575, 16], [702, 15], [96, 8], [96, 24], [96, 5], [96, 27], [96, 41, 26], [96, 2], [96, 13], [96, 11], [96, 4, 1], [96, 10], [96, 23], [143, 6], [143, 5], [143, 27], [143, 49], [143, 38], [143, 4, 1], [143, 30], [143, 37], [1282, 1, 155], [249, 2], [249, 38], [249, 4, 1], [249, 14], [249, 16], [249, 22], [576, 25], [992, 13], [992, 4, 1], [409, 2], [409, 4, 1], [409, 23], [480, 27], [480, 31], [480, 2], [480, 14], [42, 337, 36], [42, 337, 16], [42, 337, 22], [357, 8], [357, 13], [357, 19], [1283, 4, 1], [79, 37], [2, 6], [2, 5], [2, 27], [2, 31], [2, 41, 26], [2, 2], [2, 4, 1], [2, 14], [2, 19], [577, 578, 15], [201, 31], [201, 2], [201, 13], [201, 36], [201, 38], [201, 4, 1], [201, 14], [201, 16], [201, 37], [410, 41, 26], [410, 2], [410, 25], [481, 15], [481, 50], [321, 6], [321, 5], [321, 13], [321, 19], [250, 13], [250, 4, 1], [250, 16], [250, 19], [1284, 16], [322, 8], [322, 49], [322, 25], [323, 5], [323, 49], [323, 25], [324, 27], [324, 2], [324, 4, 1], [324, 14], [579, 2], [325, 15], [325, 4, 1], [325, 37], [580, 24], [580, 25], [411, 27], [411, 2], [411, 37], [88, 6], [88, 5], [88, 27], [88, 15], [88, 2], [88, 13], [88, 4, 1], [88, 16], [88, 30], [88, 19], [88, 10], [482, 56, 43], [482, 37], [948, 55], [581, 4, 1], [581, 14], [582, 25], [1285, 4, 1], [251, 2], [251, 13], [251, 4, 1], [251, 16], [113, 115, 6], [113, 115, 5], [113, 115, 27], [113, 115, 41, 26], [113, 115, 2], [113, 115, 25], [113, 115, 30], [113, 115, 23]]\n",
     "output_type": "stream"
    }
   ]
  },
  {
   "cell_type": "code",
   "metadata": {
    "tags": [],
    "cell_id": "00027-02e15c52-153f-477a-9ead-914fbe44ac49",
    "deepnote_to_be_reexecuted": false,
    "source_hash": "daf832c6",
    "execution_start": 1622897568654,
    "execution_millis": 8,
    "deepnote_cell_type": "code"
   },
   "source": "sequences.pop(0)",
   "execution_count": null,
   "outputs": [
    {
     "output_type": "execute_result",
     "execution_count": 24,
     "data": {
      "text/plain": "[202, 3, 79, 727, 11]"
     },
     "metadata": {}
    }
   ]
  },
  {
   "cell_type": "code",
   "metadata": {
    "tags": [],
    "cell_id": "00029-0d79e78b-71ac-48d7-9b3b-71697c8c4a29",
    "deepnote_to_be_reexecuted": false,
    "source_hash": "7791a8a9",
    "execution_start": 1622897568655,
    "execution_millis": 8,
    "deepnote_cell_type": "code"
   },
   "source": "len(sequences)",
   "execution_count": null,
   "outputs": [
    {
     "output_type": "execute_result",
     "execution_count": 25,
     "data": {
      "text/plain": "5705"
     },
     "metadata": {}
    }
   ]
  },
  {
   "cell_type": "markdown",
   "source": "### Pads sequences to the same length: MAXLEN",
   "metadata": {
    "tags": [],
    "cell_id": "00024-6298aa57-0283-4c58-92ad-b4d7b81589d9",
    "deepnote_cell_type": "text-cell-h3"
   }
  },
  {
   "cell_type": "code",
   "metadata": {
    "tags": [],
    "cell_id": "00025-f19987f2-74d7-4447-bd12-54757db96aba",
    "deepnote_to_be_reexecuted": false,
    "source_hash": "c440fd31",
    "execution_start": 1622897568656,
    "execution_millis": 43,
    "deepnote_cell_type": "code"
   },
   "source": "MAXLEN = 300\nX = pad_sequences(sequences, maxlen=MAXLEN)",
   "execution_count": null,
   "outputs": []
  },
  {
   "cell_type": "code",
   "metadata": {
    "tags": [],
    "cell_id": "00026-d730c38f-9ee3-499c-a346-6acfdb6ebd37",
    "deepnote_to_be_reexecuted": false,
    "source_hash": "992ec6db",
    "execution_start": 1622897568699,
    "execution_millis": 0,
    "deepnote_cell_type": "code"
   },
   "source": "output_columns_all = ['relation']\ny = data['relation']\n",
   "execution_count": null,
   "outputs": []
  },
  {
   "cell_type": "code",
   "metadata": {
    "tags": [],
    "cell_id": "00033-c3adb7f3-4ab7-4d36-ad79-f07015e2540e",
    "deepnote_to_be_reexecuted": false,
    "source_hash": "18ee8163",
    "execution_start": 1622897667265,
    "execution_millis": 9,
    "deepnote_cell_type": "code"
   },
   "source": "y.pop(0)",
   "execution_count": null,
   "outputs": [
    {
     "output_type": "execute_result",
     "execution_count": 33,
     "data": {
      "text/plain": "0"
     },
     "metadata": {}
    }
   ]
  },
  {
   "cell_type": "code",
   "metadata": {
    "tags": [],
    "cell_id": "00027-6d6d1897-99db-4df2-af07-4d3d17ab5cfe",
    "deepnote_to_be_reexecuted": false,
    "source_hash": "2eaeb5b2",
    "execution_start": 1622897673198,
    "execution_millis": 104493,
    "deepnote_cell_type": "code"
   },
   "source": "X_train, X_test, y_train, y_test = train_test_split(X, y, test_size=0.15, random_state = 42)",
   "execution_count": null,
   "outputs": []
  },
  {
   "cell_type": "code",
   "metadata": {
    "tags": [],
    "cell_id": "00033-a951387d-e6a3-4de7-a9f1-b3db286c8a04",
    "deepnote_to_be_reexecuted": false,
    "source_hash": "aa5260d0",
    "execution_start": 1622897673203,
    "execution_millis": 21,
    "deepnote_cell_type": "code"
   },
   "source": "print(len(X_train),len(X_test))",
   "execution_count": null,
   "outputs": [
    {
     "name": "stdout",
     "text": "4849 856\n",
     "output_type": "stream"
    }
   ]
  },
  {
   "cell_type": "markdown",
   "source": "### Creating RNN",
   "metadata": {
    "tags": [],
    "cell_id": "00033-32dcbef3-01fe-4e7e-b5e4-34a4fff54a45",
    "deepnote_cell_type": "text-cell-h3"
   }
  },
  {
   "cell_type": "markdown",
   "source": "The majority of the classes are binary, but one of them has 5 different classes. Because of that, the model will be divided into two different types of outputs: - binary - sparse category: The output has integer targets, and differently from catergorical crossentropy, the target doens't need to be one-hot encoded",
   "metadata": {
    "tags": [],
    "cell_id": "00034-8ab64e2b-774e-4399-a358-907673000560",
    "deepnote_cell_type": "text-cell-p"
   }
  },
  {
   "cell_type": "markdown",
   "source": "Since the dataset is highly imblanced, I applied a class weight in order to try to balance the model prediction. Keras contains the class_weight paramater, but as related into this&nbsp;issue&nbsp;on Keras, I came into the same bug. When you apply the class_weight paramter for a Multi Label Classification problem, keras throws the following error:",
   "metadata": {
    "tags": [],
    "cell_id": "00035-042cdf05-4fe2-4b2a-adff-a783f8fe4e9c",
    "deepnote_cell_type": "text-cell-p"
   }
  },
  {
   "cell_type": "markdown",
   "source": "560 if sample_weight_mode is None:",
   "metadata": {
    "tags": [],
    "cell_id": "00036-cb8cd09b-711a-4af9-a65c-b4de9aaa7532",
    "deepnote_cell_type": "text-cell-p"
   }
  },
  {
   "cell_type": "markdown",
   "source": "ValueError:&nbsp;class_weight&nbsp;must contain all classes in the data. The classes {1, 2, 3, 4, 5, 6, 7, 8, 9, 10, 11, 12, 13, 14, 15, 16, 17, 18, 19, 20, 23, 30, 31, 32, 33, 34, 35, 36} exist in the data but not in&nbsp;class_weight.",
   "metadata": {
    "tags": [],
    "cell_id": "00037-4ca224d6-103e-43da-bbae-5a384ddf6864",
    "deepnote_cell_type": "text-cell-p"
   }
  },
  {
   "cell_type": "markdown",
   "source": "The solution that I came up with was to create multiple outputs, one for every binary class, and another for the sparse category class.",
   "metadata": {
    "tags": [],
    "cell_id": "00038-af9a890a-4f5f-4683-89b5-d80bd2c77b20",
    "deepnote_cell_type": "text-cell-p"
   }
  },
  {
   "cell_type": "code",
   "metadata": {
    "tags": [],
    "cell_id": "00033-bf327f53-f9c9-4adc-97f7-6d2984ea185d",
    "deepnote_to_be_reexecuted": false,
    "source_hash": "3181f533",
    "execution_start": 1622897673229,
    "execution_millis": 0,
    "deepnote_cell_type": "code"
   },
   "source": "output_columns_categorical = ['relation']",
   "execution_count": null,
   "outputs": []
  },
  {
   "cell_type": "markdown",
   "source": "### Model",
   "metadata": {
    "tags": [],
    "cell_id": "00040-b0bd9c96-858e-4f4d-90a0-0b4532d8c18b",
    "deepnote_cell_type": "text-cell-h3"
   }
  },
  {
   "cell_type": "code",
   "metadata": {
    "tags": [],
    "cell_id": "00041-e627dde3-68f3-4a33-876d-3096806504f2",
    "deepnote_to_be_reexecuted": false,
    "source_hash": "bfa91852",
    "execution_start": 1622897673235,
    "execution_millis": 6,
    "deepnote_cell_type": "code"
   },
   "source": "main_input = Input(shape=(MAXLEN,), dtype='int32', name='main_input')",
   "execution_count": null,
   "outputs": []
  },
  {
   "cell_type": "code",
   "metadata": {
    "tags": [],
    "cell_id": "00042-ad4325cd-4deb-4a3b-9279-61a826deb0ce",
    "deepnote_to_be_reexecuted": false,
    "source_hash": "44513ea2",
    "execution_start": 1622897673290,
    "execution_millis": 45,
    "deepnote_cell_type": "code"
   },
   "source": "x = Embedding(vocabulary_size, 50, input_length=MAXLEN)(main_input)",
   "execution_count": null,
   "outputs": []
  },
  {
   "cell_type": "code",
   "metadata": {
    "tags": [],
    "cell_id": "00043-a84f7e95-299a-4614-b606-acb9a6812247",
    "deepnote_to_be_reexecuted": false,
    "source_hash": "2ffe34a4",
    "execution_start": 1622897673336,
    "execution_millis": 0,
    "deepnote_cell_type": "code"
   },
   "source": "x = Dropout(0.3)(x)",
   "execution_count": null,
   "outputs": []
  },
  {
   "cell_type": "code",
   "metadata": {
    "tags": [],
    "cell_id": "00044-4944f3e5-a2c2-4123-9996-6d2e95b927ee",
    "deepnote_to_be_reexecuted": false,
    "source_hash": "b3d359cf",
    "execution_start": 1622897673337,
    "execution_millis": 42,
    "deepnote_cell_type": "code"
   },
   "source": "x = Conv1D(64, 5, activation='relu')(x)",
   "execution_count": null,
   "outputs": []
  },
  {
   "cell_type": "code",
   "metadata": {
    "tags": [],
    "cell_id": "00045-87e6621c-be5e-48cb-9053-d4336b3b29d4",
    "deepnote_to_be_reexecuted": false,
    "source_hash": "df7084bc",
    "execution_start": 1622897673379,
    "execution_millis": 0,
    "deepnote_cell_type": "code"
   },
   "source": "x = MaxPooling1D(pool_size=4)(x)",
   "execution_count": null,
   "outputs": []
  },
  {
   "cell_type": "code",
   "metadata": {
    "tags": [],
    "cell_id": "00046-69f83836-a7ba-46a6-91e4-50e7fa30566f",
    "deepnote_to_be_reexecuted": false,
    "source_hash": "944fab77",
    "execution_start": 1622897673380,
    "execution_millis": 266,
    "deepnote_cell_type": "code"
   },
   "source": "x = LSTM(100)(x)",
   "execution_count": null,
   "outputs": []
  },
  {
   "cell_type": "code",
   "metadata": {
    "tags": [],
    "cell_id": "00047-0df90783-6af7-4d5a-a23c-43bb906caa50",
    "deepnote_to_be_reexecuted": false,
    "source_hash": "2ffe34a4",
    "execution_start": 1622897673672,
    "execution_millis": 0,
    "deepnote_cell_type": "code"
   },
   "source": "x = Dropout(0.3)(x)",
   "execution_count": null,
   "outputs": []
  },
  {
   "cell_type": "markdown",
   "source": "### Model output",
   "metadata": {
    "tags": [],
    "cell_id": "00048-cebca9ed-7631-464d-9733-6ca221e9c36a",
    "deepnote_cell_type": "text-cell-h3"
   }
  },
  {
   "cell_type": "markdown",
   "source": "A Dense layer will be create for each of ouput. The corresponding metrics and losses for each output will also be stored into dictionaries.\n\nFor the binary classes the metric used will be the binary_accuracy with the corresponding binary_crossentropy. Since there is only two possible class for each output (0 or 1), the sigmoid function will be used as the activation function.\n\nFor the categorical classes the metric used will be the sparse_categorical_accuracy with the corresponding sparse_categorical_crossentropy. For this output there are 3 possibles outputs: 0, 1 and 2, this way the softmax activation function will be used.",
   "metadata": {
    "tags": [],
    "cell_id": "00049-c3923667-2624-4465-9f07-2f735bc76c96",
    "deepnote_cell_type": "markdown"
   }
  },
  {
   "cell_type": "code",
   "metadata": {
    "tags": [],
    "cell_id": "00048-daa53be9-189f-4e21-a034-206a72852203",
    "deepnote_to_be_reexecuted": false,
    "source_hash": "fd8afef2",
    "execution_start": 1622897673679,
    "execution_millis": 5,
    "deepnote_cell_type": "code"
   },
   "source": "output_array = []\nmetrics_array = {}\nloss_array = {}\n\ncategorical_output = Dense(5, activation='softmax', name='categorical_output')(x)\n#output_array.append(categorical_output)\nmetrics_array['categorical_output'] = 'categorical_accuracy'\nloss_array['categorical_output'] = 'categorical_crossentropy'",
   "execution_count": null,
   "outputs": []
  },
  {
   "cell_type": "code",
   "metadata": {
    "tags": [],
    "cell_id": "00048-9966670d-5a04-490d-8cba-6dbb9f505613",
    "deepnote_to_be_reexecuted": false,
    "source_hash": "56e86cc9",
    "execution_start": 1622897673693,
    "execution_millis": 7,
    "deepnote_cell_type": "code"
   },
   "source": "# model = Model(main_input, outputs=[binary_output, categorical_ouput])\nmodel = Model(inputs=main_input, outputs=categorical_output)",
   "execution_count": null,
   "outputs": []
  },
  {
   "cell_type": "code",
   "metadata": {
    "tags": [],
    "cell_id": "00052-c6ee054b-836e-4d04-9a8b-4f09fc45bead",
    "deepnote_to_be_reexecuted": false,
    "source_hash": "2a71221d",
    "execution_start": 1622897673713,
    "execution_millis": 10,
    "deepnote_cell_type": "code"
   },
   "source": "model.compile(optimizer='adadelta',\n              loss='sparse_categorical_crossentropy',\n              metrics = 'categorical_accuracy')",
   "execution_count": null,
   "outputs": []
  },
  {
   "cell_type": "code",
   "metadata": {
    "tags": [],
    "cell_id": "00053-35f8b41b-3463-46a8-a8a4-ecf0c1238d2d",
    "deepnote_to_be_reexecuted": false,
    "source_hash": "e21f93e6",
    "execution_start": 1622897673751,
    "execution_millis": 0,
    "deepnote_cell_type": "code"
   },
   "source": "print(y_train)",
   "execution_count": null,
   "outputs": [
    {
     "name": "stdout",
     "text": "1644    1\n110     1\n4396    2\n1074    1\n4789    2\n       ..\n3773    2\n5192    2\n5227    2\n5391    2\n861     1\nName: relation, Length: 4849, dtype: int64\n",
     "output_type": "stream"
    }
   ]
  },
  {
   "cell_type": "code",
   "metadata": {
    "tags": [],
    "cell_id": "00054-4e6b221f-3451-414d-a039-8b4a9ef9c39f",
    "deepnote_to_be_reexecuted": false,
    "source_hash": "363e857e",
    "execution_start": 1622897673752,
    "execution_millis": 25,
    "deepnote_cell_type": "code"
   },
   "source": "type(y_train)",
   "execution_count": null,
   "outputs": [
    {
     "output_type": "execute_result",
     "execution_count": 48,
     "data": {
      "text/plain": "pandas.core.series.Series"
     },
     "metadata": {}
    }
   ]
  },
  {
   "cell_type": "code",
   "metadata": {
    "tags": [],
    "cell_id": "00053-82fb4667-5ccb-45ee-87fd-92a3e4b0d420",
    "deepnote_to_be_reexecuted": false,
    "source_hash": "3205a1c3",
    "execution_start": 1622897673752,
    "execution_millis": 2,
    "deepnote_cell_type": "code"
   },
   "source": "y_train_output = []\n\n\ny_train_output.append(y_train)",
   "execution_count": null,
   "outputs": []
  },
  {
   "cell_type": "code",
   "metadata": {
    "tags": [],
    "cell_id": "00056-f4d5ab7e-d53f-4c76-9ef1-7df5b7b27db0",
    "deepnote_to_be_reexecuted": false,
    "source_hash": "abbaef86",
    "execution_start": 1622897673762,
    "execution_millis": 15,
    "deepnote_cell_type": "code"
   },
   "source": "y_train_output",
   "execution_count": null,
   "outputs": [
    {
     "output_type": "execute_result",
     "execution_count": 50,
     "data": {
      "text/plain": "[1644    1\n 110     1\n 4396    2\n 1074    1\n 4789    2\n        ..\n 3773    2\n 5192    2\n 5227    2\n 5391    2\n 861     1\n Name: relation, Length: 4849, dtype: int64]"
     },
     "metadata": {}
    }
   ]
  },
  {
   "cell_type": "code",
   "metadata": {
    "tags": [],
    "cell_id": "00054-6a45c0ee-b9a9-4867-ae60-7e7eee621db6",
    "deepnote_to_be_reexecuted": false,
    "source_hash": "c0d5cca5",
    "execution_start": 1622897673770,
    "execution_millis": 0,
    "deepnote_cell_type": "code"
   },
   "source": "weight_categorical = {0: 5, 1: 5, 2: 4, 3: 1.2, 4: 0.45}",
   "execution_count": null,
   "outputs": []
  },
  {
   "cell_type": "code",
   "metadata": {
    "tags": [],
    "cell_id": "00058-bff08784-7166-4567-b57c-8b5c7b1d4108",
    "deepnote_to_be_reexecuted": false,
    "source_hash": "8607a98",
    "execution_start": 1622897673805,
    "execution_millis": 15,
    "deepnote_cell_type": "code"
   },
   "source": "from sklearn.utils import class_weight \nclass_weights = class_weight.compute_class_weight('balanced',\n                                                 np.unique(y_train),\n                                                 y_train)",
   "execution_count": null,
   "outputs": [
    {
     "name": "stderr",
     "text": "/shared-libs/python3.7/py/lib/python3.7/site-packages/sklearn/utils/validation.py:72: FutureWarning: Pass classes=[0 1 2 3 4], y=1644    1\n110     1\n4396    2\n1074    1\n4789    2\n       ..\n3773    2\n5192    2\n5227    2\n5391    2\n861     1\nName: relation, Length: 4849, dtype: int64 as keyword args. From version 1.0 (renaming of 0.25) passing these as positional arguments will result in an error\n  \"will result in an error\", FutureWarning)\n",
     "output_type": "stream"
    }
   ]
  },
  {
   "cell_type": "code",
   "metadata": {
    "tags": [],
    "cell_id": "00059-e40bc1bf-6030-492b-bd52-24dc3b2a1f8c",
    "deepnote_to_be_reexecuted": false,
    "source_hash": "469b36d0",
    "execution_start": 1622897673806,
    "execution_millis": 0,
    "deepnote_cell_type": "code"
   },
   "source": "w = class_weights.tolist()",
   "execution_count": null,
   "outputs": []
  },
  {
   "cell_type": "code",
   "metadata": {
    "tags": [],
    "cell_id": "00061-94336cf3-314a-4498-b41c-b23cbc0785e3",
    "deepnote_to_be_reexecuted": false,
    "source_hash": "2db518b4",
    "execution_start": 1622897673806,
    "execution_millis": 14,
    "deepnote_cell_type": "code"
   },
   "source": "w",
   "execution_count": null,
   "outputs": [
    {
     "output_type": "execute_result",
     "execution_count": 54,
     "data": {
      "text/plain": "[1.5105919003115265,\n 0.510958904109589,\n 0.42703654777631,\n 69.27142857142857,\n 40.40833333333333]"
     },
     "metadata": {}
    }
   ]
  },
  {
   "cell_type": "markdown",
   "source": "**>>precisa botar os pesos por classe<<**",
   "metadata": {
    "tags": [],
    "cell_id": "00060-21a7adf0-6639-4f33-85a7-ddf8d269132f",
    "deepnote_cell_type": "markdown"
   }
  },
  {
   "cell_type": "code",
   "metadata": {
    "tags": [],
    "cell_id": "00062-0d9b411d-134c-449b-aff1-2693d015b371",
    "deepnote_to_be_reexecuted": false,
    "source_hash": "9e35980d",
    "execution_start": 1622897673810,
    "execution_millis": 685250,
    "output_cleared": false,
    "deepnote_cell_type": "code"
   },
   "source": "history_train = model.fit(X_train, y_train_output,\n          epochs=40, batch_size=512, verbose=0);",
   "execution_count": null,
   "outputs": []
  },
  {
   "cell_type": "code",
   "metadata": {
    "tags": [],
    "cell_id": "00060-b948c69e-2a36-4f0b-addd-dcfeeb6ed4d3",
    "deepnote_to_be_reexecuted": false,
    "source_hash": "4a64524d",
    "execution_start": 1622898359099,
    "execution_millis": 0,
    "output_cleared": true,
    "deepnote_cell_type": "code"
   },
   "source": "#model.fit(X_train, y_train_output,\n#          epochs=20, batch_size=512, verbose=0);",
   "execution_count": null,
   "outputs": []
  },
  {
   "cell_type": "code",
   "metadata": {
    "tags": [],
    "cell_id": "00062-dbff98cd-2d02-4bef-bdc4-cd79645f5a87",
    "deepnote_to_be_reexecuted": false,
    "source_hash": "4e6a3b95",
    "execution_start": 1622898359100,
    "execution_millis": 10,
    "deepnote_cell_type": "code"
   },
   "source": "model.summary()",
   "execution_count": null,
   "outputs": [
    {
     "name": "stdout",
     "text": "Model: \"model\"\n_________________________________________________________________\nLayer (type)                 Output Shape              Param #   \n=================================================================\nmain_input (InputLayer)      [(None, 300)]             0         \n_________________________________________________________________\nembedding (Embedding)        (None, 300, 50)           1000000   \n_________________________________________________________________\ndropout (Dropout)            (None, 300, 50)           0         \n_________________________________________________________________\nconv1d (Conv1D)              (None, 296, 64)           16064     \n_________________________________________________________________\nmax_pooling1d (MaxPooling1D) (None, 74, 64)            0         \n_________________________________________________________________\nlstm (LSTM)                  (None, 100)               66000     \n_________________________________________________________________\ndropout_1 (Dropout)          (None, 100)               0         \n_________________________________________________________________\ncategorical_output (Dense)   (None, 5)                 505       \n=================================================================\nTotal params: 1,082,569\nTrainable params: 1,082,569\nNon-trainable params: 0\n_________________________________________________________________\n",
     "output_type": "stream"
    }
   ]
  },
  {
   "cell_type": "markdown",
   "source": "### Model Evaluation",
   "metadata": {
    "tags": [],
    "cell_id": "00063-c6d480cb-b878-494c-bbab-7552e682b1fc",
    "deepnote_cell_type": "text-cell-h3"
   }
  },
  {
   "cell_type": "markdown",
   "source": "Since the dataset is quite imbalanced, we'll use the F1 score to evaluate the model performance, since this metric takes into account both precision and recall.\n\nThe precision explains how accurate our model is: for those predicted positive, how many of them are actual positive. The recall calculates how many of the actual positives our model capture through labeling it as positive, an important metric for an imbalanced dataset.\n\n",
   "metadata": {
    "tags": [],
    "cell_id": "00064-6a4f44d4-3422-4eeb-96e0-a0f3938127a3",
    "deepnote_cell_type": "markdown"
   }
  },
  {
   "cell_type": "markdown",
   "source": "### Test",
   "metadata": {
    "tags": [],
    "cell_id": "00062-6691398a-f93f-4d7c-8f94-5c67a2f3220e",
    "deepnote_cell_type": "text-cell-h3"
   }
  },
  {
   "cell_type": "code",
   "metadata": {
    "tags": [],
    "cell_id": "00061-7b54cb72-4d35-412b-a630-be4c25e83110",
    "deepnote_to_be_reexecuted": false,
    "source_hash": "1febaa2d",
    "execution_start": 1622898359101,
    "execution_millis": 1424,
    "deepnote_cell_type": "code"
   },
   "source": "y_pred = model.predict(X_test)",
   "execution_count": null,
   "outputs": []
  },
  {
   "cell_type": "code",
   "metadata": {
    "tags": [],
    "cell_id": "00062-10133b83-47a7-48f1-a6db-e85296966a23",
    "deepnote_to_be_reexecuted": false,
    "source_hash": "bdbeb017",
    "execution_start": 1622898360552,
    "execution_millis": 4,
    "deepnote_cell_type": "code"
   },
   "source": "THRESHOLD = 0.5 # threshold between classes",
   "execution_count": null,
   "outputs": []
  },
  {
   "cell_type": "code",
   "metadata": {
    "tags": [],
    "cell_id": "00070-95d9c739-e7f5-42d9-bd91-69e66f653a70",
    "deepnote_to_be_reexecuted": false,
    "source_hash": "e0545b4d",
    "execution_start": 1622898360567,
    "execution_millis": 16,
    "deepnote_cell_type": "code"
   },
   "source": "len(y_test)",
   "execution_count": null,
   "outputs": [
    {
     "output_type": "execute_result",
     "execution_count": 60,
     "data": {
      "text/plain": "856"
     },
     "metadata": {}
    }
   ]
  },
  {
   "cell_type": "code",
   "metadata": {
    "tags": [],
    "cell_id": "00069-9d9fecc8-8bd9-44f9-aa12-fcbea929bf3e",
    "deepnote_to_be_reexecuted": false,
    "source_hash": "54fb44c6",
    "execution_start": 1622898360575,
    "execution_millis": 14,
    "deepnote_cell_type": "code"
   },
   "source": "len(y_pred)",
   "execution_count": null,
   "outputs": [
    {
     "output_type": "execute_result",
     "execution_count": 61,
     "data": {
      "text/plain": "856"
     },
     "metadata": {}
    }
   ]
  },
  {
   "cell_type": "code",
   "metadata": {
    "tags": [],
    "cell_id": "00069-19741cf4-782b-4fc2-a216-690e27775fc9",
    "deepnote_to_be_reexecuted": false,
    "source_hash": "fc7b184f",
    "execution_start": 1622898360607,
    "execution_millis": 12,
    "deepnote_cell_type": "code"
   },
   "source": "y_pred_2 = np.argmax(y_pred[-1], axis=-1)\ny_pred_2",
   "execution_count": null,
   "outputs": [
    {
     "output_type": "execute_result",
     "execution_count": 62,
     "data": {
      "text/plain": "2"
     },
     "metadata": {}
    }
   ]
  },
  {
   "cell_type": "code",
   "metadata": {
    "tags": [],
    "cell_id": "00068-f4402ff6-565e-472d-b0cc-7eb9c6056352",
    "deepnote_to_be_reexecuted": false,
    "source_hash": "26acbc88",
    "execution_start": 1622898360655,
    "execution_millis": 9,
    "deepnote_cell_type": "code"
   },
   "source": "f1_score_results = []\n#for col_idx, col in enumerate(output_columns_categorical):\n\nprint(f'Relation accuracy \\n')\n\n# Select class with higher probability from the softmax output: 0, 1 or 2\ny_pred_2 = np.argmax(y_pred, axis=-1)\nf1_score_results.append(f1_score(y_test, y_pred_2, average='macro'))\nprint(classification_report(y_test, y_pred_2))\nprint('Total :',np.sum(f1_score_results))",
   "execution_count": null,
   "outputs": [
    {
     "name": "stdout",
     "text": "Relation accuracy \n\n              precision    recall  f1-score   support\n\n           0       0.00      0.00      0.00       108\n           1       0.00      0.00      0.00       348\n           2       0.46      1.00      0.63       396\n           3       0.00      0.00      0.00         1\n           4       0.00      0.00      0.00         3\n\n    accuracy                           0.46       856\n   macro avg       0.09      0.20      0.13       856\nweighted avg       0.21      0.46      0.29       856\n\nTotal : 0.12651757188498403\n/shared-libs/python3.7/py/lib/python3.7/site-packages/sklearn/metrics/_classification.py:1248: UndefinedMetricWarning: Precision and F-score are ill-defined and being set to 0.0 in labels with no predicted samples. Use `zero_division` parameter to control this behavior.\n  _warn_prf(average, modifier, msg_start, len(result))\n/shared-libs/python3.7/py/lib/python3.7/site-packages/sklearn/metrics/_classification.py:1248: UndefinedMetricWarning: Precision and F-score are ill-defined and being set to 0.0 in labels with no predicted samples. Use `zero_division` parameter to control this behavior.\n  _warn_prf(average, modifier, msg_start, len(result))\n/shared-libs/python3.7/py/lib/python3.7/site-packages/sklearn/metrics/_classification.py:1248: UndefinedMetricWarning: Precision and F-score are ill-defined and being set to 0.0 in labels with no predicted samples. Use `zero_division` parameter to control this behavior.\n  _warn_prf(average, modifier, msg_start, len(result))\n",
     "output_type": "stream"
    }
   ]
  },
  {
   "cell_type": "code",
   "metadata": {
    "tags": [],
    "cell_id": "00069-881ce20c-0c8e-413c-808d-b61cbc62a455",
    "deepnote_to_be_reexecuted": false,
    "source_hash": "b623e53d",
    "execution_start": 1622898360656,
    "execution_millis": 0,
    "deepnote_cell_type": "code"
   },
   "source": "",
   "execution_count": null,
   "outputs": []
  },
  {
   "cell_type": "markdown",
   "source": "### Train",
   "metadata": {
    "tags": [],
    "cell_id": "00073-5e7bff7d-191a-4d97-bf55-dea9e88d0bc4",
    "deepnote_cell_type": "text-cell-h3"
   }
  },
  {
   "cell_type": "markdown",
   "source": "In order to check for overfitting, the model was also evaluated in the training set",
   "metadata": {
    "tags": [],
    "cell_id": "00074-665fd914-5e1f-487b-a067-1e78ec3fe5d7",
    "deepnote_cell_type": "markdown"
   }
  },
  {
   "cell_type": "code",
   "metadata": {
    "tags": [],
    "cell_id": "00075-e3f007c3-8128-47bb-8b7c-f221d1e06224",
    "deepnote_to_be_reexecuted": false,
    "source_hash": "f9e5236",
    "execution_start": 1622898360660,
    "execution_millis": 5596,
    "deepnote_cell_type": "code"
   },
   "source": "y_pred_train = model.predict(X_train)",
   "execution_count": null,
   "outputs": []
  },
  {
   "cell_type": "code",
   "metadata": {
    "tags": [],
    "cell_id": "00076-f4ffe6e0-2e3e-44b7-9679-3b1f68030ab8",
    "deepnote_to_be_reexecuted": false,
    "source_hash": "2e14d28c",
    "execution_start": 1622898366269,
    "execution_millis": 51,
    "deepnote_cell_type": "code"
   },
   "source": "\nprint(f'Relation accuracy \\n')\n\n# Select class with higher probability from the softmax output: 0, 1 or 2\ny_pred_2 = np.argmax(y_pred_train, axis=-1)\nf1_score_results.append(f1_score(y_train, y_pred_2, average='macro'))\nprint(classification_report(y_train, y_pred_2))\nprint('Total :',np.sum(f1_score_results))",
   "execution_count": null,
   "outputs": [
    {
     "name": "stdout",
     "text": "Relation accuracy \n\n              precision    recall  f1-score   support\n\n           0       0.00      0.00      0.00       642\n           1       0.00      0.00      0.00      1898\n           2       0.47      1.00      0.64      2271\n           3       0.00      0.00      0.00        14\n           4       0.00      0.00      0.00        24\n\n    accuracy                           0.47      4849\n   macro avg       0.09      0.20      0.13      4849\nweighted avg       0.22      0.47      0.30      4849\n\nTotal : 0.2541018415479054\n/shared-libs/python3.7/py/lib/python3.7/site-packages/sklearn/metrics/_classification.py:1248: UndefinedMetricWarning: Precision and F-score are ill-defined and being set to 0.0 in labels with no predicted samples. Use `zero_division` parameter to control this behavior.\n  _warn_prf(average, modifier, msg_start, len(result))\n/shared-libs/python3.7/py/lib/python3.7/site-packages/sklearn/metrics/_classification.py:1248: UndefinedMetricWarning: Precision and F-score are ill-defined and being set to 0.0 in labels with no predicted samples. Use `zero_division` parameter to control this behavior.\n  _warn_prf(average, modifier, msg_start, len(result))\n/shared-libs/python3.7/py/lib/python3.7/site-packages/sklearn/metrics/_classification.py:1248: UndefinedMetricWarning: Precision and F-score are ill-defined and being set to 0.0 in labels with no predicted samples. Use `zero_division` parameter to control this behavior.\n  _warn_prf(average, modifier, msg_start, len(result))\n",
     "output_type": "stream"
    }
   ]
  },
  {
   "cell_type": "code",
   "metadata": {
    "tags": [],
    "cell_id": "00077-e67d091e-c7cf-4565-aae9-2f5dfc4401ea",
    "deepnote_to_be_reexecuted": false,
    "source_hash": "b623e53d",
    "execution_start": 1622898366294,
    "execution_millis": 2,
    "deepnote_cell_type": "code"
   },
   "source": "",
   "execution_count": null,
   "outputs": []
  },
  {
   "cell_type": "markdown",
   "source": "## Word Embeddings&nbsp;Test",
   "metadata": {
    "tags": [],
    "cell_id": "00078-78672736-d84b-46f4-b561-e7f5a9f17097",
    "deepnote_cell_type": "text-cell-h2"
   }
  },
  {
   "cell_type": "markdown",
   "source": "The embedding size will be the same as before: MAXLEN=50",
   "metadata": {
    "tags": [],
    "cell_id": "00079-4a0f3276-3c5c-4425-94ef-bd4565c28e81",
    "deepnote_cell_type": "markdown"
   }
  },
  {
   "cell_type": "code",
   "metadata": {
    "tags": [],
    "cell_id": "00080-d1377b85-1770-45f9-b15e-b96a8ee60ac2",
    "deepnote_to_be_reexecuted": false,
    "source_hash": "3accccd2",
    "execution_start": 1622898366315,
    "execution_millis": 959732,
    "deepnote_cell_type": "code"
   },
   "source": "MAXLEN2 = 50",
   "execution_count": null,
   "outputs": []
  },
  {
   "cell_type": "code",
   "metadata": {
    "tags": [],
    "cell_id": "00081-4f9c6b46-1af2-4780-95c5-5ac18a15f311",
    "deepnote_to_be_reexecuted": false,
    "source_hash": "9dc06dc1",
    "execution_start": 1622898366370,
    "execution_millis": 260,
    "deepnote_cell_type": "code"
   },
   "source": "!ls /datasets/moni-drive/WE/wang2vec_cbow_s50.txt",
   "execution_count": null,
   "outputs": [
    {
     "name": "stdout",
     "text": "/datasets/moni-drive/WE/wang2vec_cbow_s50.txt\r\n",
     "output_type": "stream"
    }
   ]
  },
  {
   "cell_type": "code",
   "metadata": {
    "tags": [],
    "cell_id": "00079-a2ccfc32-18c8-426b-9162-e1a0a6c9cdc9",
    "deepnote_to_be_reexecuted": false,
    "source_hash": "66251954",
    "execution_start": 1622898366667,
    "execution_millis": 1328,
    "deepnote_cell_type": "code"
   },
   "source": "embeddings_index = dict()\nf = open('/work/undergrad-thesis-project/models/teste.txt')\nfor line in f:\n    values = line.split()\n    word = values[0]\n    for n, i in enumerate(values[1:]):\n        values[n] = values[n].replace(',', '.')\n        if \"%\" in values[n]: \n            values.pop(n)\n    try:\n        coefs = np.asarray((values[1:]), dtype='float32')\n        embeddings_index[word] = coefs\n    except:\n        continue\nf.close()\n    ",
   "execution_count": null,
   "outputs": []
  },
  {
   "cell_type": "code",
   "metadata": {
    "tags": [],
    "cell_id": "00081-831ee590-9865-4157-8e19-08a0c88459e0",
    "deepnote_to_be_reexecuted": false,
    "source_hash": "92b5566c",
    "execution_start": 1622898368003,
    "execution_millis": 6,
    "deepnote_cell_type": "code"
   },
   "source": "embedding_matrix = np.zeros((vocabulary_size, MAXLEN))\nfor word, index in tokenizer.word_index.items():\n    embedding_vector = embeddings_index.get(word)\n    \n    if index > vocabulary_size - 1:\n        break\n    \n    else:\n        embedding_vector = embeddings_index.get(word)\n        if embedding_vector is not None:\n            #print(embedding_matrix[index].shape)\n            if (embedding_vector.shape != (51,)):\n                embedding_matrix[index] = embedding_vector\n            #break\n            ",
   "execution_count": null,
   "outputs": []
  },
  {
   "cell_type": "code",
   "metadata": {
    "tags": [],
    "cell_id": "00082-87de5672-1761-4c98-91f0-87bef3ae5db5",
    "deepnote_to_be_reexecuted": false,
    "source_hash": "d8fdb0e0",
    "execution_start": 1622898368020,
    "execution_millis": 1,
    "deepnote_cell_type": "code"
   },
   "source": "main_input = Input(shape=(MAXLEN,), dtype='int32', name='main_input')\n",
   "execution_count": null,
   "outputs": []
  },
  {
   "cell_type": "code",
   "metadata": {
    "tags": [],
    "cell_id": "00088-64070ecf-42b6-4c5a-b4e3-53614b2637b1",
    "deepnote_to_be_reexecuted": false,
    "source_hash": "972669a9",
    "execution_start": 1622898368028,
    "execution_millis": 3737,
    "deepnote_cell_type": "code"
   },
   "source": "!pip install gensim==4.0.1",
   "execution_count": null,
   "outputs": [
    {
     "name": "stdout",
     "text": "Requirement already satisfied: gensim==4.0.1 in /root/venv/lib/python3.7/site-packages (4.0.1)\nRequirement already satisfied: scipy>=0.18.1 in /shared-libs/python3.7/py/lib/python3.7/site-packages (from gensim==4.0.1) (1.6.3)\nRequirement already satisfied: numpy>=1.11.3 in /shared-libs/python3.7/py/lib/python3.7/site-packages (from gensim==4.0.1) (1.19.5)\nRequirement already satisfied: smart-open>=1.8.1 in /shared-libs/python3.7/py/lib/python3.7/site-packages (from gensim==4.0.1) (3.0.0)\nRequirement already satisfied: requests in /shared-libs/python3.7/py/lib/python3.7/site-packages (from smart-open>=1.8.1->gensim==4.0.1) (2.25.1)\nRequirement already satisfied: urllib3<1.27,>=1.21.1 in /shared-libs/python3.7/py/lib/python3.7/site-packages (from requests->smart-open>=1.8.1->gensim==4.0.1) (1.26.5)\nRequirement already satisfied: certifi>=2017.4.17 in /shared-libs/python3.7/py/lib/python3.7/site-packages (from requests->smart-open>=1.8.1->gensim==4.0.1) (2021.5.30)\nRequirement already satisfied: chardet<5,>=3.0.2 in /shared-libs/python3.7/py/lib/python3.7/site-packages (from requests->smart-open>=1.8.1->gensim==4.0.1) (3.0.4)\nRequirement already satisfied: idna<3,>=2.5 in /shared-libs/python3.7/py/lib/python3.7/site-packages (from requests->smart-open>=1.8.1->gensim==4.0.1) (2.10)\n",
     "output_type": "stream"
    }
   ]
  },
  {
   "cell_type": "code",
   "metadata": {
    "tags": [],
    "cell_id": "00088-f20f6d57-9e33-4a32-8d15-c937a407cddf",
    "deepnote_to_be_reexecuted": false,
    "source_hash": "ad786ea0",
    "execution_start": 1622898371775,
    "execution_millis": 672,
    "deepnote_cell_type": "code"
   },
   "source": "\nimport gensim.models.keyedvectors as word2vec\nwang_model = word2vec.KeyedVectors.load_word2vec_format('/work/undergrad-thesis-project/tripAdvisor/models/wang2vec-cwindow.model', binary=True, encoding='utf-8')\n\n",
   "execution_count": null,
   "outputs": [
    {
     "name": "stderr",
     "text": "/root/venv/lib/python3.7/site-packages/gensim/similarities/__init__.py:15: UserWarning: The gensim.similarities.levenshtein submodule is disabled, because the optional Levenshtein package <https://pypi.org/project/python-Levenshtein/> is unavailable. Install Levenhstein (e.g. `pip install python-Levenshtein`) to suppress this warning.\n  warnings.warn(msg)\n",
     "output_type": "stream"
    }
   ]
  },
  {
   "cell_type": "code",
   "metadata": {
    "tags": [],
    "cell_id": "00090-dfc76ddf-267e-4378-be12-105e07d71431",
    "deepnote_to_be_reexecuted": false,
    "source_hash": "8835c835",
    "execution_start": 1622898372435,
    "execution_millis": 4,
    "deepnote_cell_type": "code"
   },
   "source": "#x = wang_model.save_word2vec_format('teste.txt')",
   "execution_count": null,
   "outputs": []
  },
  {
   "cell_type": "code",
   "metadata": {
    "tags": [],
    "cell_id": "00083-ea5e02d2-68fe-47c0-8279-6a6aade7ca57",
    "deepnote_to_be_reexecuted": false,
    "source_hash": "6b75e646",
    "execution_start": 1622898372442,
    "execution_millis": 105,
    "deepnote_cell_type": "code"
   },
   "source": "x = Embedding(vocabulary_size, MAXLEN, weights=[embedding_matrix], input_length=MAXLEN, trainable=False)(main_input)",
   "execution_count": null,
   "outputs": []
  },
  {
   "cell_type": "code",
   "metadata": {
    "tags": [],
    "cell_id": "00084-0f064b71-8af6-4367-94c8-55150c4e244a",
    "deepnote_to_be_reexecuted": false,
    "source_hash": "19a8ed92",
    "execution_start": 1622898372549,
    "execution_millis": 21,
    "deepnote_cell_type": "code"
   },
   "source": "x = Dropout(0.5)(x)",
   "execution_count": null,
   "outputs": []
  },
  {
   "cell_type": "code",
   "metadata": {
    "tags": [],
    "cell_id": "00085-0aec3921-bb46-4e2a-90d9-a1ae12684a7a",
    "deepnote_to_be_reexecuted": false,
    "source_hash": "b3d359cf",
    "execution_start": 1622898372581,
    "execution_millis": 46,
    "deepnote_cell_type": "code"
   },
   "source": "x = Conv1D(64, 5, activation='relu')(x)",
   "execution_count": null,
   "outputs": []
  },
  {
   "cell_type": "code",
   "metadata": {
    "tags": [],
    "cell_id": "00086-ff95edb1-e7ed-4222-8f47-955a63dbff17",
    "deepnote_to_be_reexecuted": false,
    "source_hash": "df7084bc",
    "execution_start": 1622898372628,
    "execution_millis": 0,
    "deepnote_cell_type": "code"
   },
   "source": "x = MaxPooling1D(pool_size=4)(x)",
   "execution_count": null,
   "outputs": []
  },
  {
   "cell_type": "code",
   "metadata": {
    "tags": [],
    "cell_id": "00087-c0a07e8f-51b2-4812-956a-b7076195eb71",
    "deepnote_to_be_reexecuted": false,
    "source_hash": "944fab77",
    "execution_start": 1622898372666,
    "execution_millis": 232,
    "deepnote_cell_type": "code"
   },
   "source": "x = LSTM(100)(x)",
   "execution_count": null,
   "outputs": []
  },
  {
   "cell_type": "code",
   "metadata": {
    "tags": [],
    "cell_id": "00088-da813381-38ca-4129-be3f-e7d217983717",
    "deepnote_to_be_reexecuted": false,
    "source_hash": "19a8ed92",
    "execution_start": 1622898372910,
    "execution_millis": 3,
    "deepnote_cell_type": "code"
   },
   "source": "x = Dropout(0.5)(x)",
   "execution_count": null,
   "outputs": []
  },
  {
   "cell_type": "code",
   "metadata": {
    "tags": [],
    "cell_id": "00089-e1782159-5c9d-4aab-bb35-beeed468bbd3",
    "deepnote_to_be_reexecuted": false,
    "source_hash": "b3e4eba7",
    "execution_start": 1622898372930,
    "execution_millis": 4,
    "deepnote_cell_type": "code"
   },
   "source": "#output\ncategorical_output = Dense(5, activation='softmax', name='categorical_output')(x)\noutput_array.append(categorical_output)\nmetrics_array['categorical_output'] = 'sparse_categorical_accuracy'\nloss_array['categorical_output'] = 'sparse_categorical_crossentropy'",
   "execution_count": null,
   "outputs": []
  },
  {
   "cell_type": "code",
   "metadata": {
    "tags": [],
    "cell_id": "00090-0d3b274e-2a3f-4a14-b858-50cfed856469",
    "deepnote_to_be_reexecuted": false,
    "source_hash": "8f99f418",
    "execution_start": 1622898372943,
    "execution_millis": 2,
    "deepnote_cell_type": "code"
   },
   "source": "model = Model(inputs=main_input, outputs=categorical_output)",
   "execution_count": null,
   "outputs": []
  },
  {
   "cell_type": "code",
   "metadata": {
    "tags": [],
    "cell_id": "00091-b198ba40-64eb-4c03-a9d9-09c2578d470b",
    "deepnote_to_be_reexecuted": false,
    "source_hash": "352c5b7a",
    "execution_start": 1622898372952,
    "execution_millis": 12,
    "deepnote_cell_type": "code"
   },
   "source": "model.compile(optimizer='adadelta',\n              loss=loss_array,\n              metrics=metrics_array)",
   "execution_count": null,
   "outputs": []
  },
  {
   "cell_type": "code",
   "metadata": {
    "tags": [],
    "cell_id": "00092-366ac8da-7f56-457c-9b1a-3b340d83c52d",
    "deepnote_to_be_reexecuted": false,
    "source_hash": "3205a1c3",
    "execution_start": 1622898373007,
    "execution_millis": 0,
    "deepnote_cell_type": "code"
   },
   "source": "y_train_output = []\n\n\ny_train_output.append(y_train)",
   "execution_count": null,
   "outputs": []
  },
  {
   "cell_type": "code",
   "metadata": {
    "tags": [],
    "cell_id": "00094-ec78edb4-3287-4101-8bea-1a9ebcd4d54b",
    "deepnote_to_be_reexecuted": false,
    "source_hash": "9e35980d",
    "execution_start": 1622898373007,
    "execution_millis": 1649982,
    "deepnote_cell_type": "code"
   },
   "source": "history_train = model.fit(X_train, y_train_output,\n          epochs=40, batch_size=512, verbose=0);",
   "execution_count": null,
   "outputs": []
  },
  {
   "cell_type": "code",
   "metadata": {
    "tags": [],
    "cell_id": "00096-2d6271fa-2b06-4dc4-99be-f243dbc3d0a6",
    "deepnote_to_be_reexecuted": false,
    "source_hash": "b623e53d",
    "execution_start": 1622900023031,
    "execution_millis": 0,
    "deepnote_cell_type": "code"
   },
   "source": "",
   "execution_count": null,
   "outputs": []
  },
  {
   "cell_type": "markdown",
   "source": "## Evaluation: Accuracy and Loss",
   "metadata": {
    "tags": [],
    "cell_id": "00100-e9d8a8c3-c62e-4219-9e5a-08d005b46d90",
    "deepnote_cell_type": "text-cell-h2"
   }
  },
  {
   "cell_type": "code",
   "metadata": {
    "tags": [],
    "cell_id": "00101-973dd5bd-e235-4466-8743-3a1d7546edbe",
    "deepnote_to_be_reexecuted": false,
    "source_hash": "ae0cee87",
    "execution_start": 1622900023032,
    "execution_millis": 3218,
    "deepnote_cell_type": "code"
   },
   "source": "history_test =  model.evaluate(X_test, y_test, batch_size=128)\n",
   "execution_count": null,
   "outputs": [
    {
     "name": "stdout",
     "text": "7/7 [==============================] - 3s 378ms/step - loss: 1.6054 - sparse_categorical_accuracy: 0.4276\n",
     "output_type": "stream"
    }
   ]
  },
  {
   "cell_type": "code",
   "metadata": {
    "tags": [],
    "cell_id": "00102-910bcee0-a3ec-4016-943e-b89490ccbf04",
    "deepnote_to_be_reexecuted": false,
    "source_hash": "dacb1b29",
    "execution_start": 1622900026259,
    "execution_millis": 10,
    "deepnote_cell_type": "code"
   },
   "source": "history_test",
   "execution_count": null,
   "outputs": [
    {
     "output_type": "execute_result",
     "execution_count": 86,
     "data": {
      "text/plain": "[1.605371117591858, 0.427570104598999]"
     },
     "metadata": {}
    }
   ]
  },
  {
   "cell_type": "markdown",
   "source": "### Model Evaluation",
   "metadata": {
    "tags": [],
    "cell_id": "00097-53587c71-42cc-4cd9-a7be-2f3ee9df30ac",
    "deepnote_cell_type": "text-cell-h3"
   }
  },
  {
   "cell_type": "markdown",
   "source": "### Test",
   "metadata": {
    "tags": [],
    "cell_id": "00098-159657f1-e7f3-4a78-b805-2e602e68f690",
    "deepnote_cell_type": "text-cell-h3"
   }
  },
  {
   "cell_type": "code",
   "metadata": {
    "tags": [],
    "cell_id": "00110-d625d3e9-007d-4d8a-8d5e-36279a714c1e",
    "deepnote_to_be_reexecuted": false,
    "source_hash": "251bcee5",
    "execution_start": 1622901450616,
    "execution_millis": 14,
    "deepnote_cell_type": "code"
   },
   "source": "X_test.shape",
   "execution_count": null,
   "outputs": [
    {
     "output_type": "execute_result",
     "execution_count": 113,
     "data": {
      "text/plain": "(856, 300)"
     },
     "metadata": {}
    }
   ]
  },
  {
   "cell_type": "code",
   "metadata": {
    "tags": [],
    "cell_id": "00099-c23a7f8a-016e-4093-ab29-542e4f73ba5a",
    "deepnote_to_be_reexecuted": false,
    "source_hash": "3b76792d",
    "execution_start": 1622900026283,
    "execution_millis": 3120,
    "deepnote_cell_type": "code"
   },
   "source": "\ny_pred = model.predict(X_test)",
   "execution_count": null,
   "outputs": []
  },
  {
   "cell_type": "code",
   "metadata": {
    "tags": [],
    "cell_id": "00112-ee061b6f-b77e-4927-bf96-e051cd0e702c",
    "deepnote_to_be_reexecuted": false,
    "source_hash": "f860dca0",
    "execution_start": 1622901942610,
    "execution_millis": 7,
    "deepnote_cell_type": "code"
   },
   "source": "wrong_predictions = X_test[y_pred != y_test]",
   "execution_count": null,
   "outputs": []
  },
  {
   "cell_type": "code",
   "metadata": {
    "tags": [],
    "cell_id": "00113-11cb7cb1-e488-404f-9379-418913a98d20",
    "deepnote_to_be_reexecuted": false,
    "source_hash": "5d449375",
    "execution_start": 1622901949147,
    "execution_millis": 18,
    "deepnote_cell_type": "code"
   },
   "source": "wrong_predictions",
   "execution_count": null,
   "outputs": [
    {
     "output_type": "execute_result",
     "execution_count": 118,
     "data": {
      "text/plain": "array([[   0,    0,    0, ...,    0,  467,   48],\n       [   0,    0,    0, ..., 1064,   26,   18],\n       [   0,    0,    0, ...,    0,  604,   10],\n       ...,\n       [   0,    0,    0, ...,    0,  251,    2],\n       [   0,    0,    0, ...,    0,  500,  500],\n       [   0,    0,    0, ...,  168,  169,   22]], dtype=int32)"
     },
     "metadata": {}
    }
   ]
  },
  {
   "cell_type": "code",
   "metadata": {
    "tags": [],
    "cell_id": "00100-bc50f33f-fab0-45fc-b573-c804d336eadb",
    "deepnote_to_be_reexecuted": false,
    "source_hash": "d4159908",
    "execution_start": 1622900029410,
    "execution_millis": 3,
    "deepnote_cell_type": "code"
   },
   "source": "THRESHOLD = 0.9 # threshold between classes",
   "execution_count": null,
   "outputs": []
  },
  {
   "cell_type": "code",
   "metadata": {
    "tags": [],
    "cell_id": "00101-2c04e0c5-55be-4273-89ff-9fb8c512afe5",
    "deepnote_to_be_reexecuted": false,
    "source_hash": "26acbc88",
    "execution_start": 1622900029417,
    "execution_millis": 36,
    "deepnote_cell_type": "code"
   },
   "source": "f1_score_results = []\n#for col_idx, col in enumerate(output_columns_categorical):\n\nprint(f'Relation accuracy \\n')\n\n# Select class with higher probability from the softmax output: 0, 1 or 2\ny_pred_2 = np.argmax(y_pred, axis=-1)\nf1_score_results.append(f1_score(y_test, y_pred_2, average='macro'))\nprint(classification_report(y_test, y_pred_2))\nprint('Total :',np.sum(f1_score_results))",
   "execution_count": null,
   "outputs": [
    {
     "name": "stdout",
     "text": "Relation accuracy \n\n              precision    recall  f1-score   support\n\n           0       0.08      0.01      0.02       108\n           1       0.34      0.23      0.27       348\n           2       0.48      0.72      0.58       396\n           3       0.00      0.00      0.00         1\n           4       0.00      0.00      0.00         3\n\n    accuracy                           0.43       856\n   macro avg       0.18      0.19      0.17       856\nweighted avg       0.37      0.43      0.38       856\n\nTotal : 0.17325715891277643\n",
     "output_type": "stream"
    }
   ]
  },
  {
   "cell_type": "code",
   "metadata": {
    "tags": [],
    "cell_id": "00108-00fb8ede-ef7a-42a6-953e-3ca3d39c970d",
    "deepnote_to_be_reexecuted": false,
    "source_hash": "adb0a6c4",
    "execution_start": 1622901863134,
    "execution_millis": 8,
    "deepnote_cell_type": "code"
   },
   "source": "prediction = np.round(y_pred)\nprediction",
   "execution_count": null,
   "outputs": [
    {
     "output_type": "execute_result",
     "execution_count": 116,
     "data": {
      "text/plain": "array([[0., 0., 0., 0., 0.],\n       [0., 0., 0., 0., 0.],\n       [0., 0., 0., 0., 0.],\n       ...,\n       [0., 0., 0., 0., 0.],\n       [0., 0., 0., 0., 0.],\n       [0., 0., 0., 0., 0.]], dtype=float32)"
     },
     "metadata": {}
    }
   ]
  },
  {
   "cell_type": "code",
   "metadata": {
    "tags": [],
    "cell_id": "00109-4ea50692-3f44-4d5e-a024-ab8d958d9df3",
    "deepnote_to_be_reexecuted": false,
    "source_hash": "7fd4ac97",
    "execution_start": 1622900029448,
    "execution_millis": 464,
    "deepnote_cell_type": "code"
   },
   "source": "import matplotlib.pyplot as plt\n\nplt.plot(history_train.history['sparse_categorical_accuracy'])\n\nplt.title('model accuracy')\nplt.ylabel('accuracy')\nplt.xlabel('epoch')\nplt.legend(['train','test'], loc='upper left')\nplt.show()\n\nplt.plot(history_train.history['loss'])\n\nplt.title('model loss')\nplt.ylabel('loss')\nplt.xlabel('epoch')\nplt.legend(['train','test'], loc='upper left')\nplt.show()",
   "execution_count": null,
   "outputs": [
    {
     "data": {
      "text/plain": "<Figure size 432x288 with 1 Axes>",
      "image/png": "[encoded data removed]"
     },
     "metadata": {
      "needs_background": "light",
      "image/png": {
       "width": 392,
       "height": 278
      }
     },
     "output_type": "display_data"
    },
    {
     "data": {
      "text/plain": "<Figure size 432x288 with 1 Axes>",
      "image/png": "[encoded data removed]"
     },
     "metadata": {
      "needs_background": "light",
      "image/png": {
       "width": 398,
       "height": 278
      }
     },
     "output_type": "display_data"
    }
   ]
  },
  {
   "cell_type": "code",
   "metadata": {
    "tags": [],
    "cell_id": "00103-7af7dd75-0208-4c50-9107-cc6204d0c6f0",
    "deepnote_to_be_reexecuted": false,
    "source_hash": "d4d1d44b",
    "execution_start": 1622900029919,
    "execution_millis": 3,
    "deepnote_cell_type": "code"
   },
   "source": "cm_pred = np.argmax(y_pred, axis=1)\ncm_test = np.argmax(y_test, axis=0)",
   "execution_count": null,
   "outputs": []
  },
  {
   "cell_type": "code",
   "metadata": {
    "tags": [],
    "cell_id": "00102-bd98698f-017b-4413-be73-67be3b5e3222",
    "deepnote_to_be_reexecuted": false,
    "source_hash": "f7676328",
    "execution_start": 1622900029931,
    "execution_millis": 0,
    "deepnote_cell_type": "code"
   },
   "source": "from sklearn.metrics import confusion_matrix\n\nmatrix = confusion_matrix(y_test, cm_pred)",
   "execution_count": null,
   "outputs": []
  },
  {
   "cell_type": "code",
   "metadata": {
    "tags": [],
    "cell_id": "00103-252c5a75-e6b1-45c8-84bd-4f483af74afa",
    "deepnote_to_be_reexecuted": false,
    "source_hash": "9ba72e42",
    "execution_start": 1622900029944,
    "execution_millis": 0,
    "deepnote_cell_type": "code"
   },
   "source": "print(matrix)",
   "execution_count": null,
   "outputs": [
    {
     "name": "stdout",
     "text": "[[  1  43  58   4   2]\n [ 11  80 250   2   5]\n [  0 111 285   0   0]\n [  0   0   0   0   1]\n [  0   1   2   0   0]]\n",
     "output_type": "stream"
    }
   ]
  },
  {
   "cell_type": "code",
   "metadata": {
    "tags": [],
    "cell_id": "00106-7296fad4-e545-4dfb-8731-5c775cda8ef0",
    "deepnote_to_be_reexecuted": false,
    "source_hash": "ccd3bc45",
    "execution_start": 1622901287434,
    "execution_millis": 1,
    "deepnote_cell_type": "code"
   },
   "source": "import numpy as np\n\n\ndef plot_confusion_matrix(cm,\n                          target_names,\n                          title='Matriz de Confusão',\n                          cmap=None,\n                          normalize=True):\n    \"\"\"\n    given a sklearn confusion matrix (cm), make a nice plot\n\n    Arguments\n    ---------\n    cm:           confusion matrix from sklearn.metrics.confusion_matrix\n\n    target_names: given classification classes such as [0, 1, 2]\n                  the class names, for example: ['high', 'medium', 'low']\n\n    title:        the text to display at the top of the matrix\n\n    cmap:         the gradient of the values displayed from matplotlib.pyplot.cm\n                  see http://matplotlib.org/examples/color/colormaps_reference.html\n                  plt.get_cmap('jet') or plt.cm.Blues\n\n    normalize:    If False, plot the raw numbers\n                  If True, plot the proportions\n\n    Usage\n    -----\n    plot_confusion_matrix(cm           = cm,                  # confusion matrix created by\n                                                              # sklearn.metrics.confusion_matrix\n                          normalize    = True,                # show proportions\n                          target_names = y_labels_vals,       # list of names of the classes\n                          title        = best_estimator_name) # title of graph\n\n    Citiation\n    ---------\n    http://scikit-learn.org/stable/auto_examples/model_selection/plot_confusion_matrix.html\n\n    \"\"\"\n    import matplotlib.pyplot as plt\n    import numpy as np\n    import itertools\n\n    accuracy = np.trace(cm) / float(np.sum(cm))\n    misclass = 1 - accuracy\n\n    if cmap is None:\n        cmap = plt.get_cmap('Blues')\n\n    plt.figure(figsize=(8, 6))\n    plt.imshow(cm, interpolation='nearest', cmap=cmap)\n    plt.title(title)\n    plt.colorbar()\n\n    if target_names is not None:\n        tick_marks = np.arange(len(target_names))\n        plt.xticks(tick_marks, target_names, rotation=45)\n        plt.yticks(tick_marks, target_names)\n\n    if normalize:\n        cm = cm.astype('float') / cm.sum(axis=1)[:, np.newaxis]\n\n\n    thresh = cm.max() / 1.5 if normalize else cm.max() / 2\n    for i, j in itertools.product(range(cm.shape[0]), range(cm.shape[1])):\n        if normalize:\n            plt.text(j, i, \"{:0.4f}\".format(cm[i, j]),\n                     horizontalalignment=\"center\",\n                     color=\"white\" if cm[i, j] > thresh else \"black\")\n        else:\n            plt.text(j, i, \"{:,}\".format(cm[i, j]),\n                     horizontalalignment=\"center\",\n                     color=\"white\" if cm[i, j] > thresh else \"black\")\n\n\n    plt.tight_layout()\n    plt.ylabel('Classe Correta')\n    plt.xlabel('Classe Predita'.format(accuracy))\n    #nAccuracy={:0.4f}\n    plt.show()",
   "execution_count": null,
   "outputs": []
  },
  {
   "cell_type": "code",
   "metadata": {
    "tags": [],
    "cell_id": "00107-6f9d1579-fcca-4936-b918-4cefbe4a4abe",
    "deepnote_to_be_reexecuted": false,
    "source_hash": "89f90b71",
    "execution_start": 1622901305172,
    "execution_millis": 414,
    "deepnote_cell_type": "code"
   },
   "source": "plot_confusion_matrix(matrix, \n                      normalize    = False,\n                      target_names = ['Hiponímia', 'Hiperonímia', 'Sinonímia', 'temCategoria', 'sem-relação'],\n                      title        = \"Matriz de Confusão\")\n",
   "execution_count": null,
   "outputs": [
    {
     "data": {
      "text/plain": "<Figure size 576x432 with 2 Axes>",
      "image/png": "[encoded data removed]"
     },
     "metadata": {
      "needs_background": "light",
      "image/png": {
       "width": 503,
       "height": 438
      }
     },
     "output_type": "display_data"
    }
   ]
  },
  {
   "cell_type": "code",
   "metadata": {
    "tags": [],
    "cell_id": "00108-d13ac724-9ba0-4d47-a58f-9867e60e784d",
    "deepnote_to_be_reexecuted": false,
    "source_hash": "13b6d401",
    "execution_start": 1622900030466,
    "execution_millis": 204,
    "deepnote_cell_type": "code"
   },
   "source": "from keras.utils import plot_model\nplot_model(model, to_file='model_plot4a.png', show_shapes=True, show_layer_names=True)",
   "execution_count": null,
   "outputs": [
    {
     "output_type": "execute_result",
     "execution_count": 96,
     "data": {
      "image/png": "[encoded data removed]",
      "text/plain": "<IPython.core.display.Image object>"
     },
     "metadata": {
      "image/png": {
       "width": 611,
       "height": 848
      }
     }
    }
   ]
  },
  {
   "cell_type": "code",
   "metadata": {
    "tags": [],
    "cell_id": "00111-bc197006-5aef-4cb9-9e45-e57f66ec312c",
    "deepnote_to_be_reexecuted": false,
    "source_hash": "b623e53d",
    "execution_start": 1622900030664,
    "execution_millis": 5,
    "deepnote_cell_type": "code"
   },
   "source": "",
   "execution_count": null,
   "outputs": []
  },
  {
   "cell_type": "markdown",
   "source": "<a style='text-decoration:none;line-height:16px;display:flex;color:#5B5B62;padding:10px;justify-content:end;' href='https://deepnote.com?utm_source=created-in-deepnote-cell&projectId=c82c7d35-a90b-41fd-a2db-0e7ec7cbd041' target=\"_blank\">\n<img alt='Created in deepnote.com' style='display:inline;max-height:16px;margin:0px;margin-right:7.5px;' src='data:image/svg+xml;base64,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' > </img>\nCreated in <span style='font-weight:600;margin-left:4px;'>Deepnote</span></a>",
   "metadata": {
    "tags": [],
    "created_in_deepnote_cell": true,
    "deepnote_cell_type": "markdown"
   }
  }
 ],
 "nbformat": 4,
 "nbformat_minor": 2,
 "metadata": {
  "orig_nbformat": 2,
  "deepnote": {
   "is_reactive": false
  },
  "deepnote_notebook_id": "25fbacda-f298-4c7c-b8d9-a64de3e2f9b3",
  "deepnote_execution_queue": []
 }
}